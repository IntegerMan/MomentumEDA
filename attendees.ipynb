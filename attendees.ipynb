{
 "cells": [
  {
   "cell_type": "markdown",
   "metadata": {},
   "source": [
    "# Momentum 23 Attendee Analyis"
   ]
  },
  {
   "cell_type": "code",
   "execution_count": 525,
   "metadata": {},
   "outputs": [
    {
     "data": {
      "text/html": [
       "<div>\n",
       "<style scoped>\n",
       "    .dataframe tbody tr th:only-of-type {\n",
       "        vertical-align: middle;\n",
       "    }\n",
       "\n",
       "    .dataframe tbody tr th {\n",
       "        vertical-align: top;\n",
       "    }\n",
       "\n",
       "    .dataframe thead th {\n",
       "        text-align: right;\n",
       "    }\n",
       "</style>\n",
       "<table border=\"1\" class=\"dataframe\">\n",
       "  <thead>\n",
       "    <tr style=\"text-align: right;\">\n",
       "      <th></th>\n",
       "      <th>Number</th>\n",
       "      <th>Ticket</th>\n",
       "      <th>Void Status</th>\n",
       "      <th>Price</th>\n",
       "      <th>Tags</th>\n",
       "      <th>Order Reference</th>\n",
       "      <th>Order Discount Code</th>\n",
       "      <th>Order Created Date (+00:00 UTC)</th>\n",
       "      <th>Source</th>\n",
       "      <th>What is your favorite Cincinnati pizza place?</th>\n",
       "      <th>Job title</th>\n",
       "      <th>Do you have any dietary restrictions?</th>\n",
       "      <th>T-shirt size</th>\n",
       "      <th>What school are you attending?</th>\n",
       "      <th>Check-ins: Registration</th>\n",
       "      <th>Check-ins: T-shirts</th>\n",
       "    </tr>\n",
       "  </thead>\n",
       "  <tbody>\n",
       "    <tr>\n",
       "      <th>0</th>\n",
       "      <td>3</td>\n",
       "      <td>Early Bird</td>\n",
       "      <td>NaN</td>\n",
       "      <td>149.0</td>\n",
       "      <td>NaN</td>\n",
       "      <td>GPDT</td>\n",
       "      <td>NaN</td>\n",
       "      <td>2023-06-28 20:49:38 UTC</td>\n",
       "      <td>NaN</td>\n",
       "      <td>LaRosa's</td>\n",
       "      <td>Senior Developer</td>\n",
       "      <td>NaN</td>\n",
       "      <td>Unisex - 2XL</td>\n",
       "      <td>NaN</td>\n",
       "      <td>1.0</td>\n",
       "      <td>NaN</td>\n",
       "    </tr>\n",
       "    <tr>\n",
       "      <th>1</th>\n",
       "      <td>2</td>\n",
       "      <td>Content Reviewer</td>\n",
       "      <td>NaN</td>\n",
       "      <td>0.0</td>\n",
       "      <td>NaN</td>\n",
       "      <td>MEHE</td>\n",
       "      <td>NaN</td>\n",
       "      <td>2023-07-02 13:03:48 UTC</td>\n",
       "      <td>NaN</td>\n",
       "      <td>Goodfellas</td>\n",
       "      <td>Software Engineer</td>\n",
       "      <td>NaN</td>\n",
       "      <td>Unisex - L</td>\n",
       "      <td>NaN</td>\n",
       "      <td>1.0</td>\n",
       "      <td>NaN</td>\n",
       "    </tr>\n",
       "    <tr>\n",
       "      <th>2</th>\n",
       "      <td>3</td>\n",
       "      <td>Content Reviewer</td>\n",
       "      <td>NaN</td>\n",
       "      <td>0.0</td>\n",
       "      <td>NaN</td>\n",
       "      <td>9HDJ</td>\n",
       "      <td>NaN</td>\n",
       "      <td>2023-07-02 13:04:18 UTC</td>\n",
       "      <td>NaN</td>\n",
       "      <td>NaN</td>\n",
       "      <td>Engineering Thaumaturgist</td>\n",
       "      <td>NaN</td>\n",
       "      <td>Unisex - M</td>\n",
       "      <td>NaN</td>\n",
       "      <td>1.0</td>\n",
       "      <td>NaN</td>\n",
       "    </tr>\n",
       "    <tr>\n",
       "      <th>3</th>\n",
       "      <td>4</td>\n",
       "      <td>Content Reviewer</td>\n",
       "      <td>NaN</td>\n",
       "      <td>0.0</td>\n",
       "      <td>NaN</td>\n",
       "      <td>EQAC</td>\n",
       "      <td>NaN</td>\n",
       "      <td>2023-07-02 13:04:51 UTC</td>\n",
       "      <td>NaN</td>\n",
       "      <td>NaN</td>\n",
       "      <td>NaN</td>\n",
       "      <td>NaN</td>\n",
       "      <td>NaN</td>\n",
       "      <td>NaN</td>\n",
       "      <td>NaN</td>\n",
       "      <td>NaN</td>\n",
       "    </tr>\n",
       "    <tr>\n",
       "      <th>4</th>\n",
       "      <td>5</td>\n",
       "      <td>Content Reviewer</td>\n",
       "      <td>NaN</td>\n",
       "      <td>0.0</td>\n",
       "      <td>NaN</td>\n",
       "      <td>LB9M</td>\n",
       "      <td>NaN</td>\n",
       "      <td>2023-07-02 13:05:17 UTC</td>\n",
       "      <td>NaN</td>\n",
       "      <td>NaN</td>\n",
       "      <td>NaN</td>\n",
       "      <td>NaN</td>\n",
       "      <td>NaN</td>\n",
       "      <td>NaN</td>\n",
       "      <td>NaN</td>\n",
       "      <td>NaN</td>\n",
       "    </tr>\n",
       "  </tbody>\n",
       "</table>\n",
       "</div>"
      ],
      "text/plain": [
       "   Number            Ticket Void Status  Price Tags Order Reference  \\\n",
       "0       3        Early Bird         NaN  149.0  NaN            GPDT   \n",
       "1       2  Content Reviewer         NaN    0.0  NaN            MEHE   \n",
       "2       3  Content Reviewer         NaN    0.0  NaN            9HDJ   \n",
       "3       4  Content Reviewer         NaN    0.0  NaN            EQAC   \n",
       "4       5  Content Reviewer         NaN    0.0  NaN            LB9M   \n",
       "\n",
       "  Order Discount Code Order Created Date (+00:00 UTC) Source  \\\n",
       "0                 NaN         2023-06-28 20:49:38 UTC    NaN   \n",
       "1                 NaN         2023-07-02 13:03:48 UTC    NaN   \n",
       "2                 NaN         2023-07-02 13:04:18 UTC    NaN   \n",
       "3                 NaN         2023-07-02 13:04:51 UTC    NaN   \n",
       "4                 NaN         2023-07-02 13:05:17 UTC    NaN   \n",
       "\n",
       "  What is your favorite Cincinnati pizza place?                  Job title  \\\n",
       "0                                      LaRosa's           Senior Developer   \n",
       "1                                    Goodfellas          Software Engineer   \n",
       "2                                           NaN  Engineering Thaumaturgist   \n",
       "3                                           NaN                        NaN   \n",
       "4                                           NaN                        NaN   \n",
       "\n",
       "  Do you have any dietary restrictions?  T-shirt size  \\\n",
       "0                                   NaN  Unisex - 2XL   \n",
       "1                                   NaN    Unisex - L   \n",
       "2                                   NaN    Unisex - M   \n",
       "3                                   NaN           NaN   \n",
       "4                                   NaN           NaN   \n",
       "\n",
       "  What school are you attending?  Check-ins: Registration  Check-ins: T-shirts  \n",
       "0                            NaN                      1.0                  NaN  \n",
       "1                            NaN                      1.0                  NaN  \n",
       "2                            NaN                      1.0                  NaN  \n",
       "3                            NaN                      NaN                  NaN  \n",
       "4                            NaN                      NaN                  NaN  "
      ]
     },
     "execution_count": 525,
     "metadata": {},
     "output_type": "execute_result"
    }
   ],
   "source": [
    "import pandas as pd\n",
    "import numpy as np\n",
    "\n",
    "df23 = pd.read_csv('data/momentum23attendees.csv')\n",
    "df23.drop(columns=['Ticket Email', 'Ticket Full Name', 'Discount Status', 'Ticket Company Name', 'Ticket Job Title', 'Event', 'Unique Ticket URL', 'Unique Order URL', 'Ticket Phone Number', 'Order Name', 'Order Email', \n",
    "                   'Order Phone Number', 'Unique Order URL', 'Ticket First Name', 'Ticket Last Name', 'Ticket Reference', 'Source Type', 'Check-ins: Test', 'Order Amount', 'Order Amount Refunded', 'Order Paid With', \n",
    "                   'Order Completed Date (+00:00 UTC)', 'I will be at least 21 years old on October 19th','Momentum 2023', 'Payment Reference', 'Ticket Created Date (+00:00 UTC)', 'Ticket Last Updated Date (+00:00 UTC)', 'Order IP'], inplace=True)\n",
    "df23.head()"
   ]
  },
  {
   "cell_type": "code",
   "execution_count": 526,
   "metadata": {},
   "outputs": [
    {
     "data": {
      "text/html": [
       "<div>\n",
       "<style scoped>\n",
       "    .dataframe tbody tr th:only-of-type {\n",
       "        vertical-align: middle;\n",
       "    }\n",
       "\n",
       "    .dataframe tbody tr th {\n",
       "        vertical-align: top;\n",
       "    }\n",
       "\n",
       "    .dataframe thead th {\n",
       "        text-align: right;\n",
       "    }\n",
       "</style>\n",
       "<table border=\"1\" class=\"dataframe\">\n",
       "  <thead>\n",
       "    <tr style=\"text-align: right;\">\n",
       "      <th></th>\n",
       "      <th>Number</th>\n",
       "      <th>Ticket</th>\n",
       "      <th>Void Status</th>\n",
       "      <th>Price</th>\n",
       "      <th>Tags</th>\n",
       "      <th>Order Reference</th>\n",
       "      <th>Order Discount Code</th>\n",
       "      <th>Order Created Date (+00:00 UTC)</th>\n",
       "      <th>Source</th>\n",
       "      <th>What is your favorite Cincinnati pizza place?</th>\n",
       "      <th>Job title</th>\n",
       "      <th>Do you have any dietary restrictions?</th>\n",
       "      <th>T-shirt size</th>\n",
       "      <th>What school are you attending?</th>\n",
       "      <th>Check-ins: Registration</th>\n",
       "      <th>Check-ins: T-shirts</th>\n",
       "    </tr>\n",
       "  </thead>\n",
       "  <tbody>\n",
       "    <tr>\n",
       "      <th>0</th>\n",
       "      <td>3</td>\n",
       "      <td>Early Bird</td>\n",
       "      <td>None</td>\n",
       "      <td>149.0</td>\n",
       "      <td>None</td>\n",
       "      <td>GPDT</td>\n",
       "      <td>None</td>\n",
       "      <td>2023-06-28 20:49:38 UTC</td>\n",
       "      <td>None</td>\n",
       "      <td>LaRosa's</td>\n",
       "      <td>Senior Developer</td>\n",
       "      <td>None</td>\n",
       "      <td>Unisex - 2XL</td>\n",
       "      <td>None</td>\n",
       "      <td>1.0</td>\n",
       "      <td>None</td>\n",
       "    </tr>\n",
       "    <tr>\n",
       "      <th>1</th>\n",
       "      <td>2</td>\n",
       "      <td>Content Reviewer</td>\n",
       "      <td>None</td>\n",
       "      <td>0.0</td>\n",
       "      <td>None</td>\n",
       "      <td>MEHE</td>\n",
       "      <td>None</td>\n",
       "      <td>2023-07-02 13:03:48 UTC</td>\n",
       "      <td>None</td>\n",
       "      <td>Goodfellas</td>\n",
       "      <td>Software Engineer</td>\n",
       "      <td>None</td>\n",
       "      <td>Unisex - L</td>\n",
       "      <td>None</td>\n",
       "      <td>1.0</td>\n",
       "      <td>None</td>\n",
       "    </tr>\n",
       "    <tr>\n",
       "      <th>2</th>\n",
       "      <td>3</td>\n",
       "      <td>Content Reviewer</td>\n",
       "      <td>None</td>\n",
       "      <td>0.0</td>\n",
       "      <td>None</td>\n",
       "      <td>9HDJ</td>\n",
       "      <td>None</td>\n",
       "      <td>2023-07-02 13:04:18 UTC</td>\n",
       "      <td>None</td>\n",
       "      <td>None</td>\n",
       "      <td>Engineering Thaumaturgist</td>\n",
       "      <td>None</td>\n",
       "      <td>Unisex - M</td>\n",
       "      <td>None</td>\n",
       "      <td>1.0</td>\n",
       "      <td>None</td>\n",
       "    </tr>\n",
       "    <tr>\n",
       "      <th>3</th>\n",
       "      <td>4</td>\n",
       "      <td>Content Reviewer</td>\n",
       "      <td>None</td>\n",
       "      <td>0.0</td>\n",
       "      <td>None</td>\n",
       "      <td>EQAC</td>\n",
       "      <td>None</td>\n",
       "      <td>2023-07-02 13:04:51 UTC</td>\n",
       "      <td>None</td>\n",
       "      <td>None</td>\n",
       "      <td>None</td>\n",
       "      <td>None</td>\n",
       "      <td>None</td>\n",
       "      <td>None</td>\n",
       "      <td>None</td>\n",
       "      <td>None</td>\n",
       "    </tr>\n",
       "    <tr>\n",
       "      <th>4</th>\n",
       "      <td>5</td>\n",
       "      <td>Content Reviewer</td>\n",
       "      <td>None</td>\n",
       "      <td>0.0</td>\n",
       "      <td>None</td>\n",
       "      <td>LB9M</td>\n",
       "      <td>None</td>\n",
       "      <td>2023-07-02 13:05:17 UTC</td>\n",
       "      <td>None</td>\n",
       "      <td>None</td>\n",
       "      <td>None</td>\n",
       "      <td>None</td>\n",
       "      <td>None</td>\n",
       "      <td>None</td>\n",
       "      <td>None</td>\n",
       "      <td>None</td>\n",
       "    </tr>\n",
       "  </tbody>\n",
       "</table>\n",
       "</div>"
      ],
      "text/plain": [
       "   Number            Ticket Void Status  Price  Tags Order Reference  \\\n",
       "0       3        Early Bird        None  149.0  None            GPDT   \n",
       "1       2  Content Reviewer        None    0.0  None            MEHE   \n",
       "2       3  Content Reviewer        None    0.0  None            9HDJ   \n",
       "3       4  Content Reviewer        None    0.0  None            EQAC   \n",
       "4       5  Content Reviewer        None    0.0  None            LB9M   \n",
       "\n",
       "  Order Discount Code Order Created Date (+00:00 UTC) Source  \\\n",
       "0                None         2023-06-28 20:49:38 UTC   None   \n",
       "1                None         2023-07-02 13:03:48 UTC   None   \n",
       "2                None         2023-07-02 13:04:18 UTC   None   \n",
       "3                None         2023-07-02 13:04:51 UTC   None   \n",
       "4                None         2023-07-02 13:05:17 UTC   None   \n",
       "\n",
       "  What is your favorite Cincinnati pizza place?                  Job title  \\\n",
       "0                                      LaRosa's           Senior Developer   \n",
       "1                                    Goodfellas          Software Engineer   \n",
       "2                                          None  Engineering Thaumaturgist   \n",
       "3                                          None                       None   \n",
       "4                                          None                       None   \n",
       "\n",
       "  Do you have any dietary restrictions?  T-shirt size  \\\n",
       "0                                  None  Unisex - 2XL   \n",
       "1                                  None    Unisex - L   \n",
       "2                                  None    Unisex - M   \n",
       "3                                  None          None   \n",
       "4                                  None          None   \n",
       "\n",
       "  What school are you attending? Check-ins: Registration Check-ins: T-shirts  \n",
       "0                           None                     1.0                None  \n",
       "1                           None                     1.0                None  \n",
       "2                           None                     1.0                None  \n",
       "3                           None                    None                None  \n",
       "4                           None                    None                None  "
      ]
     },
     "execution_count": 526,
     "metadata": {},
     "output_type": "execute_result"
    }
   ],
   "source": [
    "df23.replace(np.nan, None, inplace=True)\n",
    "df23.head()"
   ]
  },
  {
   "cell_type": "code",
   "execution_count": 527,
   "metadata": {},
   "outputs": [
    {
     "data": {
      "text/plain": [
       "Index(['Number', 'Ticket', 'Void Status', 'Price', 'Tags', 'Order Reference',\n",
       "       'Order Discount Code', 'Order Created Date (+00:00 UTC)', 'Source',\n",
       "       'What is your favorite Cincinnati pizza place?', 'Job title',\n",
       "       'Do you have any dietary restrictions?', 'T-shirt size',\n",
       "       'What school are you attending?', 'Check-ins: Registration',\n",
       "       'Check-ins: T-shirts'],\n",
       "      dtype='object')"
      ]
     },
     "execution_count": 527,
     "metadata": {},
     "output_type": "execute_result"
    }
   ],
   "source": [
    "df23.columns"
   ]
  },
  {
   "cell_type": "code",
   "execution_count": 528,
   "metadata": {},
   "outputs": [],
   "source": [
    "# Ensure the numeric columns are treated as such\n",
    "df23['Price'] = pd.to_numeric(df23['Price'], errors='coerce')\n",
    "df23['Check-ins: Registration'] = pd.to_numeric(df23['Price'], errors='coerce')"
   ]
  },
  {
   "cell_type": "code",
   "execution_count": 529,
   "metadata": {},
   "outputs": [
    {
     "data": {
      "text/plain": [
       "Index(['Number', 'Ticket', 'Void Status', 'Price', 'Tags', 'Order Reference',\n",
       "       'Order Discount Code', 'Order Date', 'Source', 'Favorite Pizza',\n",
       "       'Job title', 'Dietary Restrictions', 'T-shirt size', 'School',\n",
       "       'Check-ins: Registration', 'Check-ins: T-shirts'],\n",
       "      dtype='object')"
      ]
     },
     "execution_count": 529,
     "metadata": {},
     "output_type": "execute_result"
    }
   ],
   "source": [
    "df23.rename(columns={'Order Created Date (+00:00 UTC)': 'Order Date', \n",
    "                     'What school are you attending?': 'School',\n",
    "                     'Do you have any dietary restrictions?' : 'Dietary Restrictions',\n",
    "                     'What is your favorite Cincinnati pizza place?': 'Favorite Pizza',\n",
    "                     }, inplace=True)\n",
    "\n",
    "# Ensure the Order Date column is in datetime format\n",
    "df23['Order Date'] = pd.to_datetime(df23['Order Date'])\n",
    "\n",
    "df23.columns"
   ]
  },
  {
   "cell_type": "code",
   "execution_count": 530,
   "metadata": {},
   "outputs": [
    {
     "data": {
      "text/html": [
       "<div>\n",
       "<style scoped>\n",
       "    .dataframe tbody tr th:only-of-type {\n",
       "        vertical-align: middle;\n",
       "    }\n",
       "\n",
       "    .dataframe tbody tr th {\n",
       "        vertical-align: top;\n",
       "    }\n",
       "\n",
       "    .dataframe thead th {\n",
       "        text-align: right;\n",
       "    }\n",
       "</style>\n",
       "<table border=\"1\" class=\"dataframe\">\n",
       "  <thead>\n",
       "    <tr style=\"text-align: right;\">\n",
       "      <th></th>\n",
       "      <th>Number</th>\n",
       "      <th>Price</th>\n",
       "      <th>Check-ins: Registration</th>\n",
       "    </tr>\n",
       "  </thead>\n",
       "  <tbody>\n",
       "    <tr>\n",
       "      <th>count</th>\n",
       "      <td>502.000000</td>\n",
       "      <td>501.000000</td>\n",
       "      <td>501.000000</td>\n",
       "    </tr>\n",
       "    <tr>\n",
       "      <th>mean</th>\n",
       "      <td>253.386454</td>\n",
       "      <td>113.666667</td>\n",
       "      <td>113.666667</td>\n",
       "    </tr>\n",
       "    <tr>\n",
       "      <th>std</th>\n",
       "      <td>145.404117</td>\n",
       "      <td>78.161082</td>\n",
       "      <td>78.161082</td>\n",
       "    </tr>\n",
       "    <tr>\n",
       "      <th>min</th>\n",
       "      <td>2.000000</td>\n",
       "      <td>0.000000</td>\n",
       "      <td>0.000000</td>\n",
       "    </tr>\n",
       "    <tr>\n",
       "      <th>25%</th>\n",
       "      <td>128.250000</td>\n",
       "      <td>0.000000</td>\n",
       "      <td>0.000000</td>\n",
       "    </tr>\n",
       "    <tr>\n",
       "      <th>50%</th>\n",
       "      <td>253.500000</td>\n",
       "      <td>149.000000</td>\n",
       "      <td>149.000000</td>\n",
       "    </tr>\n",
       "    <tr>\n",
       "      <th>75%</th>\n",
       "      <td>379.750000</td>\n",
       "      <td>149.000000</td>\n",
       "      <td>149.000000</td>\n",
       "    </tr>\n",
       "    <tr>\n",
       "      <th>max</th>\n",
       "      <td>505.000000</td>\n",
       "      <td>239.000000</td>\n",
       "      <td>239.000000</td>\n",
       "    </tr>\n",
       "  </tbody>\n",
       "</table>\n",
       "</div>"
      ],
      "text/plain": [
       "           Number       Price  Check-ins: Registration\n",
       "count  502.000000  501.000000               501.000000\n",
       "mean   253.386454  113.666667               113.666667\n",
       "std    145.404117   78.161082                78.161082\n",
       "min      2.000000    0.000000                 0.000000\n",
       "25%    128.250000    0.000000                 0.000000\n",
       "50%    253.500000  149.000000               149.000000\n",
       "75%    379.750000  149.000000               149.000000\n",
       "max    505.000000  239.000000               239.000000"
      ]
     },
     "execution_count": 530,
     "metadata": {},
     "output_type": "execute_result"
    }
   ],
   "source": [
    "df23.describe()"
   ]
  },
  {
   "cell_type": "code",
   "execution_count": 531,
   "metadata": {},
   "outputs": [
    {
     "data": {
      "text/plain": [
       "count    502.000000\n",
       "mean     113.440239\n",
       "std       78.247671\n",
       "min        0.000000\n",
       "25%        0.000000\n",
       "50%      149.000000\n",
       "75%      149.000000\n",
       "max      239.000000\n",
       "Name: Check-ins: Registration, dtype: float64"
      ]
     },
     "execution_count": 531,
     "metadata": {},
     "output_type": "execute_result"
    }
   ],
   "source": [
    "df23['Check-ins: Registration'].fillna(0, inplace=True)\n",
    "df23['Check-ins: Registration'].describe()"
   ]
  },
  {
   "cell_type": "code",
   "execution_count": 532,
   "metadata": {},
   "outputs": [
    {
     "data": {
      "text/plain": [
       "Ticket\n",
       "Early Bird                225\n",
       "Sponsor                    66\n",
       "Regular Price              50\n",
       "Speaker                    37\n",
       "Late Registration          34\n",
       "Procrastinator Pricing     24\n",
       "Content Reviewer           18\n",
       "Student                    17\n",
       "Volunteer                  13\n",
       "Organizer                   8\n",
       "VIP                         7\n",
       "Early Student               3\n",
       "Name: count, dtype: int64"
      ]
     },
     "execution_count": 532,
     "metadata": {},
     "output_type": "execute_result"
    }
   ],
   "source": [
    "df23['Ticket'].value_counts()"
   ]
  },
  {
   "cell_type": "code",
   "execution_count": 533,
   "metadata": {},
   "outputs": [],
   "source": [
    "import plotly.express as px\n",
    "\n",
    "# Specify defaults for Plotly settings\n",
    "px.defaults.color_continuous_scale = px.colors.sequential.Agsunset\n",
    "px.defaults.color_discrete_sequence = px.colors.qualitative.Prism\n",
    "px.defaults.template = 'plotly_dark'"
   ]
  },
  {
   "cell_type": "markdown",
   "metadata": {},
   "source": [
    "## Attendee Sources"
   ]
  },
  {
   "cell_type": "code",
   "execution_count": 534,
   "metadata": {},
   "outputs": [],
   "source": [
    "df23['Source'].replace('cta-widget', 'Call to Action', inplace=True)\n",
    "df23['Source'].replace('tickets-page-widget', 'Tickets Page', inplace=True)\n",
    "df23['Source'].fillna('Unknown', inplace=True)"
   ]
  },
  {
   "cell_type": "code",
   "execution_count": 535,
   "metadata": {},
   "outputs": [
    {
     "data": {
      "application/vnd.plotly.v1+json": {
       "config": {
        "plotlyServerURL": "https://plot.ly"
       },
       "data": [
        {
         "alignmentgroup": "True",
         "bingroup": "x",
         "hovertemplate": "Source=%{x}<br>count=%{y}<extra></extra>",
         "legendgroup": "Unknown",
         "marker": {
          "color": "rgb(95, 70, 144)",
          "pattern": {
           "shape": ""
          }
         },
         "name": "Unknown",
         "offsetgroup": "Unknown",
         "orientation": "v",
         "showlegend": true,
         "type": "histogram",
         "x": [
          "Unknown",
          "Unknown",
          "Unknown",
          "Unknown",
          "Unknown",
          "Unknown",
          "Unknown",
          "Unknown",
          "Unknown",
          "Unknown",
          "Unknown",
          "Unknown",
          "Unknown",
          "Unknown",
          "Unknown",
          "Unknown",
          "Unknown",
          "Unknown",
          "Unknown",
          "Unknown",
          "Unknown",
          "Unknown",
          "Unknown",
          "Unknown",
          "Unknown",
          "Unknown",
          "Unknown",
          "Unknown",
          "Unknown",
          "Unknown",
          "Unknown",
          "Unknown",
          "Unknown",
          "Unknown",
          "Unknown",
          "Unknown",
          "Unknown",
          "Unknown",
          "Unknown",
          "Unknown",
          "Unknown",
          "Unknown",
          "Unknown",
          "Unknown",
          "Unknown",
          "Unknown",
          "Unknown",
          "Unknown",
          "Unknown",
          "Unknown",
          "Unknown",
          "Unknown",
          "Unknown",
          "Unknown",
          "Unknown",
          "Unknown",
          "Unknown",
          "Unknown",
          "Unknown",
          "Unknown",
          "Unknown",
          "Unknown",
          "Unknown",
          "Unknown",
          "Unknown",
          "Unknown",
          "Unknown",
          "Unknown",
          "Unknown",
          "Unknown",
          "Unknown",
          "Unknown",
          "Unknown",
          "Unknown",
          "Unknown",
          "Unknown",
          "Unknown",
          "Unknown",
          "Unknown",
          "Unknown",
          "Unknown",
          "Unknown",
          "Unknown",
          "Unknown",
          "Unknown",
          "Unknown",
          "Unknown",
          "Unknown",
          "Unknown",
          "Unknown",
          "Unknown",
          "Unknown",
          "Unknown",
          "Unknown",
          "Unknown",
          "Unknown",
          "Unknown",
          "Unknown",
          "Unknown",
          "Unknown",
          "Unknown",
          "Unknown",
          "Unknown",
          "Unknown",
          "Unknown",
          "Unknown",
          "Unknown",
          "Unknown",
          "Unknown",
          "Unknown",
          "Unknown",
          "Unknown",
          "Unknown",
          "Unknown",
          "Unknown",
          "Unknown",
          "Unknown",
          "Unknown",
          "Unknown",
          "Unknown",
          "Unknown",
          "Unknown",
          "Unknown",
          "Unknown",
          "Unknown",
          "Unknown",
          "Unknown",
          "Unknown",
          "Unknown",
          "Unknown",
          "Unknown",
          "Unknown",
          "Unknown",
          "Unknown",
          "Unknown",
          "Unknown",
          "Unknown",
          "Unknown",
          "Unknown",
          "Unknown",
          "Unknown",
          "Unknown",
          "Unknown",
          "Unknown",
          "Unknown",
          "Unknown",
          "Unknown",
          "Unknown",
          "Unknown",
          "Unknown",
          "Unknown",
          "Unknown",
          "Unknown"
         ],
         "xaxis": "x",
         "yaxis": "y"
        },
        {
         "alignmentgroup": "True",
         "bingroup": "x",
         "hovertemplate": "Source=%{x}<br>count=%{y}<extra></extra>",
         "legendgroup": "Call to Action",
         "marker": {
          "color": "rgb(29, 105, 150)",
          "pattern": {
           "shape": ""
          }
         },
         "name": "Call to Action",
         "offsetgroup": "Call to Action",
         "orientation": "v",
         "showlegend": true,
         "type": "histogram",
         "x": [
          "Call to Action",
          "Call to Action",
          "Call to Action",
          "Call to Action",
          "Call to Action",
          "Call to Action",
          "Call to Action",
          "Call to Action",
          "Call to Action",
          "Call to Action",
          "Call to Action",
          "Call to Action",
          "Call to Action",
          "Call to Action",
          "Call to Action",
          "Call to Action",
          "Call to Action",
          "Call to Action",
          "Call to Action",
          "Call to Action",
          "Call to Action",
          "Call to Action",
          "Call to Action",
          "Call to Action",
          "Call to Action",
          "Call to Action",
          "Call to Action",
          "Call to Action",
          "Call to Action",
          "Call to Action",
          "Call to Action",
          "Call to Action",
          "Call to Action",
          "Call to Action",
          "Call to Action",
          "Call to Action",
          "Call to Action",
          "Call to Action",
          "Call to Action",
          "Call to Action",
          "Call to Action",
          "Call to Action",
          "Call to Action",
          "Call to Action",
          "Call to Action",
          "Call to Action",
          "Call to Action",
          "Call to Action",
          "Call to Action",
          "Call to Action",
          "Call to Action",
          "Call to Action",
          "Call to Action",
          "Call to Action",
          "Call to Action",
          "Call to Action",
          "Call to Action",
          "Call to Action",
          "Call to Action",
          "Call to Action",
          "Call to Action",
          "Call to Action",
          "Call to Action",
          "Call to Action",
          "Call to Action",
          "Call to Action",
          "Call to Action",
          "Call to Action",
          "Call to Action",
          "Call to Action",
          "Call to Action",
          "Call to Action",
          "Call to Action",
          "Call to Action",
          "Call to Action",
          "Call to Action",
          "Call to Action",
          "Call to Action",
          "Call to Action",
          "Call to Action",
          "Call to Action",
          "Call to Action",
          "Call to Action",
          "Call to Action",
          "Call to Action",
          "Call to Action",
          "Call to Action",
          "Call to Action",
          "Call to Action",
          "Call to Action",
          "Call to Action",
          "Call to Action",
          "Call to Action",
          "Call to Action",
          "Call to Action",
          "Call to Action",
          "Call to Action",
          "Call to Action",
          "Call to Action",
          "Call to Action",
          "Call to Action",
          "Call to Action",
          "Call to Action",
          "Call to Action",
          "Call to Action",
          "Call to Action",
          "Call to Action",
          "Call to Action",
          "Call to Action",
          "Call to Action",
          "Call to Action",
          "Call to Action",
          "Call to Action",
          "Call to Action",
          "Call to Action",
          "Call to Action",
          "Call to Action",
          "Call to Action",
          "Call to Action",
          "Call to Action",
          "Call to Action",
          "Call to Action",
          "Call to Action",
          "Call to Action",
          "Call to Action",
          "Call to Action",
          "Call to Action",
          "Call to Action",
          "Call to Action",
          "Call to Action",
          "Call to Action",
          "Call to Action",
          "Call to Action",
          "Call to Action",
          "Call to Action",
          "Call to Action",
          "Call to Action",
          "Call to Action",
          "Call to Action",
          "Call to Action",
          "Call to Action",
          "Call to Action",
          "Call to Action",
          "Call to Action",
          "Call to Action",
          "Call to Action",
          "Call to Action",
          "Call to Action",
          "Call to Action",
          "Call to Action",
          "Call to Action",
          "Call to Action",
          "Call to Action",
          "Call to Action",
          "Call to Action",
          "Call to Action",
          "Call to Action",
          "Call to Action",
          "Call to Action",
          "Call to Action",
          "Call to Action",
          "Call to Action",
          "Call to Action"
         ],
         "xaxis": "x",
         "yaxis": "y"
        },
        {
         "alignmentgroup": "True",
         "bingroup": "x",
         "hovertemplate": "Source=%{x}<br>count=%{y}<extra></extra>",
         "legendgroup": "Tickets Page",
         "marker": {
          "color": "rgb(56, 166, 165)",
          "pattern": {
           "shape": ""
          }
         },
         "name": "Tickets Page",
         "offsetgroup": "Tickets Page",
         "orientation": "v",
         "showlegend": true,
         "type": "histogram",
         "x": [
          "Tickets Page",
          "Tickets Page",
          "Tickets Page",
          "Tickets Page",
          "Tickets Page",
          "Tickets Page",
          "Tickets Page",
          "Tickets Page",
          "Tickets Page",
          "Tickets Page",
          "Tickets Page",
          "Tickets Page",
          "Tickets Page",
          "Tickets Page",
          "Tickets Page",
          "Tickets Page",
          "Tickets Page",
          "Tickets Page",
          "Tickets Page",
          "Tickets Page",
          "Tickets Page",
          "Tickets Page",
          "Tickets Page",
          "Tickets Page",
          "Tickets Page",
          "Tickets Page",
          "Tickets Page",
          "Tickets Page",
          "Tickets Page",
          "Tickets Page",
          "Tickets Page",
          "Tickets Page",
          "Tickets Page",
          "Tickets Page",
          "Tickets Page",
          "Tickets Page",
          "Tickets Page"
         ],
         "xaxis": "x",
         "yaxis": "y"
        }
       ],
       "layout": {
        "barmode": "relative",
        "legend": {
         "title": {
          "text": "Source"
         },
         "tracegroupgap": 0
        },
        "template": {
         "data": {
          "bar": [
           {
            "error_x": {
             "color": "#f2f5fa"
            },
            "error_y": {
             "color": "#f2f5fa"
            },
            "marker": {
             "line": {
              "color": "rgb(17,17,17)",
              "width": 0.5
             },
             "pattern": {
              "fillmode": "overlay",
              "size": 10,
              "solidity": 0.2
             }
            },
            "type": "bar"
           }
          ],
          "barpolar": [
           {
            "marker": {
             "line": {
              "color": "rgb(17,17,17)",
              "width": 0.5
             },
             "pattern": {
              "fillmode": "overlay",
              "size": 10,
              "solidity": 0.2
             }
            },
            "type": "barpolar"
           }
          ],
          "carpet": [
           {
            "aaxis": {
             "endlinecolor": "#A2B1C6",
             "gridcolor": "#506784",
             "linecolor": "#506784",
             "minorgridcolor": "#506784",
             "startlinecolor": "#A2B1C6"
            },
            "baxis": {
             "endlinecolor": "#A2B1C6",
             "gridcolor": "#506784",
             "linecolor": "#506784",
             "minorgridcolor": "#506784",
             "startlinecolor": "#A2B1C6"
            },
            "type": "carpet"
           }
          ],
          "choropleth": [
           {
            "colorbar": {
             "outlinewidth": 0,
             "ticks": ""
            },
            "type": "choropleth"
           }
          ],
          "contour": [
           {
            "colorbar": {
             "outlinewidth": 0,
             "ticks": ""
            },
            "colorscale": [
             [
              0,
              "#0d0887"
             ],
             [
              0.1111111111111111,
              "#46039f"
             ],
             [
              0.2222222222222222,
              "#7201a8"
             ],
             [
              0.3333333333333333,
              "#9c179e"
             ],
             [
              0.4444444444444444,
              "#bd3786"
             ],
             [
              0.5555555555555556,
              "#d8576b"
             ],
             [
              0.6666666666666666,
              "#ed7953"
             ],
             [
              0.7777777777777778,
              "#fb9f3a"
             ],
             [
              0.8888888888888888,
              "#fdca26"
             ],
             [
              1,
              "#f0f921"
             ]
            ],
            "type": "contour"
           }
          ],
          "contourcarpet": [
           {
            "colorbar": {
             "outlinewidth": 0,
             "ticks": ""
            },
            "type": "contourcarpet"
           }
          ],
          "heatmap": [
           {
            "colorbar": {
             "outlinewidth": 0,
             "ticks": ""
            },
            "colorscale": [
             [
              0,
              "#0d0887"
             ],
             [
              0.1111111111111111,
              "#46039f"
             ],
             [
              0.2222222222222222,
              "#7201a8"
             ],
             [
              0.3333333333333333,
              "#9c179e"
             ],
             [
              0.4444444444444444,
              "#bd3786"
             ],
             [
              0.5555555555555556,
              "#d8576b"
             ],
             [
              0.6666666666666666,
              "#ed7953"
             ],
             [
              0.7777777777777778,
              "#fb9f3a"
             ],
             [
              0.8888888888888888,
              "#fdca26"
             ],
             [
              1,
              "#f0f921"
             ]
            ],
            "type": "heatmap"
           }
          ],
          "heatmapgl": [
           {
            "colorbar": {
             "outlinewidth": 0,
             "ticks": ""
            },
            "colorscale": [
             [
              0,
              "#0d0887"
             ],
             [
              0.1111111111111111,
              "#46039f"
             ],
             [
              0.2222222222222222,
              "#7201a8"
             ],
             [
              0.3333333333333333,
              "#9c179e"
             ],
             [
              0.4444444444444444,
              "#bd3786"
             ],
             [
              0.5555555555555556,
              "#d8576b"
             ],
             [
              0.6666666666666666,
              "#ed7953"
             ],
             [
              0.7777777777777778,
              "#fb9f3a"
             ],
             [
              0.8888888888888888,
              "#fdca26"
             ],
             [
              1,
              "#f0f921"
             ]
            ],
            "type": "heatmapgl"
           }
          ],
          "histogram": [
           {
            "marker": {
             "pattern": {
              "fillmode": "overlay",
              "size": 10,
              "solidity": 0.2
             }
            },
            "type": "histogram"
           }
          ],
          "histogram2d": [
           {
            "colorbar": {
             "outlinewidth": 0,
             "ticks": ""
            },
            "colorscale": [
             [
              0,
              "#0d0887"
             ],
             [
              0.1111111111111111,
              "#46039f"
             ],
             [
              0.2222222222222222,
              "#7201a8"
             ],
             [
              0.3333333333333333,
              "#9c179e"
             ],
             [
              0.4444444444444444,
              "#bd3786"
             ],
             [
              0.5555555555555556,
              "#d8576b"
             ],
             [
              0.6666666666666666,
              "#ed7953"
             ],
             [
              0.7777777777777778,
              "#fb9f3a"
             ],
             [
              0.8888888888888888,
              "#fdca26"
             ],
             [
              1,
              "#f0f921"
             ]
            ],
            "type": "histogram2d"
           }
          ],
          "histogram2dcontour": [
           {
            "colorbar": {
             "outlinewidth": 0,
             "ticks": ""
            },
            "colorscale": [
             [
              0,
              "#0d0887"
             ],
             [
              0.1111111111111111,
              "#46039f"
             ],
             [
              0.2222222222222222,
              "#7201a8"
             ],
             [
              0.3333333333333333,
              "#9c179e"
             ],
             [
              0.4444444444444444,
              "#bd3786"
             ],
             [
              0.5555555555555556,
              "#d8576b"
             ],
             [
              0.6666666666666666,
              "#ed7953"
             ],
             [
              0.7777777777777778,
              "#fb9f3a"
             ],
             [
              0.8888888888888888,
              "#fdca26"
             ],
             [
              1,
              "#f0f921"
             ]
            ],
            "type": "histogram2dcontour"
           }
          ],
          "mesh3d": [
           {
            "colorbar": {
             "outlinewidth": 0,
             "ticks": ""
            },
            "type": "mesh3d"
           }
          ],
          "parcoords": [
           {
            "line": {
             "colorbar": {
              "outlinewidth": 0,
              "ticks": ""
             }
            },
            "type": "parcoords"
           }
          ],
          "pie": [
           {
            "automargin": true,
            "type": "pie"
           }
          ],
          "scatter": [
           {
            "marker": {
             "line": {
              "color": "#283442"
             }
            },
            "type": "scatter"
           }
          ],
          "scatter3d": [
           {
            "line": {
             "colorbar": {
              "outlinewidth": 0,
              "ticks": ""
             }
            },
            "marker": {
             "colorbar": {
              "outlinewidth": 0,
              "ticks": ""
             }
            },
            "type": "scatter3d"
           }
          ],
          "scattercarpet": [
           {
            "marker": {
             "colorbar": {
              "outlinewidth": 0,
              "ticks": ""
             }
            },
            "type": "scattercarpet"
           }
          ],
          "scattergeo": [
           {
            "marker": {
             "colorbar": {
              "outlinewidth": 0,
              "ticks": ""
             }
            },
            "type": "scattergeo"
           }
          ],
          "scattergl": [
           {
            "marker": {
             "line": {
              "color": "#283442"
             }
            },
            "type": "scattergl"
           }
          ],
          "scattermapbox": [
           {
            "marker": {
             "colorbar": {
              "outlinewidth": 0,
              "ticks": ""
             }
            },
            "type": "scattermapbox"
           }
          ],
          "scatterpolar": [
           {
            "marker": {
             "colorbar": {
              "outlinewidth": 0,
              "ticks": ""
             }
            },
            "type": "scatterpolar"
           }
          ],
          "scatterpolargl": [
           {
            "marker": {
             "colorbar": {
              "outlinewidth": 0,
              "ticks": ""
             }
            },
            "type": "scatterpolargl"
           }
          ],
          "scatterternary": [
           {
            "marker": {
             "colorbar": {
              "outlinewidth": 0,
              "ticks": ""
             }
            },
            "type": "scatterternary"
           }
          ],
          "surface": [
           {
            "colorbar": {
             "outlinewidth": 0,
             "ticks": ""
            },
            "colorscale": [
             [
              0,
              "#0d0887"
             ],
             [
              0.1111111111111111,
              "#46039f"
             ],
             [
              0.2222222222222222,
              "#7201a8"
             ],
             [
              0.3333333333333333,
              "#9c179e"
             ],
             [
              0.4444444444444444,
              "#bd3786"
             ],
             [
              0.5555555555555556,
              "#d8576b"
             ],
             [
              0.6666666666666666,
              "#ed7953"
             ],
             [
              0.7777777777777778,
              "#fb9f3a"
             ],
             [
              0.8888888888888888,
              "#fdca26"
             ],
             [
              1,
              "#f0f921"
             ]
            ],
            "type": "surface"
           }
          ],
          "table": [
           {
            "cells": {
             "fill": {
              "color": "#506784"
             },
             "line": {
              "color": "rgb(17,17,17)"
             }
            },
            "header": {
             "fill": {
              "color": "#2a3f5f"
             },
             "line": {
              "color": "rgb(17,17,17)"
             }
            },
            "type": "table"
           }
          ]
         },
         "layout": {
          "annotationdefaults": {
           "arrowcolor": "#f2f5fa",
           "arrowhead": 0,
           "arrowwidth": 1
          },
          "autotypenumbers": "strict",
          "coloraxis": {
           "colorbar": {
            "outlinewidth": 0,
            "ticks": ""
           }
          },
          "colorscale": {
           "diverging": [
            [
             0,
             "#8e0152"
            ],
            [
             0.1,
             "#c51b7d"
            ],
            [
             0.2,
             "#de77ae"
            ],
            [
             0.3,
             "#f1b6da"
            ],
            [
             0.4,
             "#fde0ef"
            ],
            [
             0.5,
             "#f7f7f7"
            ],
            [
             0.6,
             "#e6f5d0"
            ],
            [
             0.7,
             "#b8e186"
            ],
            [
             0.8,
             "#7fbc41"
            ],
            [
             0.9,
             "#4d9221"
            ],
            [
             1,
             "#276419"
            ]
           ],
           "sequential": [
            [
             0,
             "#0d0887"
            ],
            [
             0.1111111111111111,
             "#46039f"
            ],
            [
             0.2222222222222222,
             "#7201a8"
            ],
            [
             0.3333333333333333,
             "#9c179e"
            ],
            [
             0.4444444444444444,
             "#bd3786"
            ],
            [
             0.5555555555555556,
             "#d8576b"
            ],
            [
             0.6666666666666666,
             "#ed7953"
            ],
            [
             0.7777777777777778,
             "#fb9f3a"
            ],
            [
             0.8888888888888888,
             "#fdca26"
            ],
            [
             1,
             "#f0f921"
            ]
           ],
           "sequentialminus": [
            [
             0,
             "#0d0887"
            ],
            [
             0.1111111111111111,
             "#46039f"
            ],
            [
             0.2222222222222222,
             "#7201a8"
            ],
            [
             0.3333333333333333,
             "#9c179e"
            ],
            [
             0.4444444444444444,
             "#bd3786"
            ],
            [
             0.5555555555555556,
             "#d8576b"
            ],
            [
             0.6666666666666666,
             "#ed7953"
            ],
            [
             0.7777777777777778,
             "#fb9f3a"
            ],
            [
             0.8888888888888888,
             "#fdca26"
            ],
            [
             1,
             "#f0f921"
            ]
           ]
          },
          "colorway": [
           "#636efa",
           "#EF553B",
           "#00cc96",
           "#ab63fa",
           "#FFA15A",
           "#19d3f3",
           "#FF6692",
           "#B6E880",
           "#FF97FF",
           "#FECB52"
          ],
          "font": {
           "color": "#f2f5fa"
          },
          "geo": {
           "bgcolor": "rgb(17,17,17)",
           "lakecolor": "rgb(17,17,17)",
           "landcolor": "rgb(17,17,17)",
           "showlakes": true,
           "showland": true,
           "subunitcolor": "#506784"
          },
          "hoverlabel": {
           "align": "left"
          },
          "hovermode": "closest",
          "mapbox": {
           "style": "dark"
          },
          "paper_bgcolor": "rgb(17,17,17)",
          "plot_bgcolor": "rgb(17,17,17)",
          "polar": {
           "angularaxis": {
            "gridcolor": "#506784",
            "linecolor": "#506784",
            "ticks": ""
           },
           "bgcolor": "rgb(17,17,17)",
           "radialaxis": {
            "gridcolor": "#506784",
            "linecolor": "#506784",
            "ticks": ""
           }
          },
          "scene": {
           "xaxis": {
            "backgroundcolor": "rgb(17,17,17)",
            "gridcolor": "#506784",
            "gridwidth": 2,
            "linecolor": "#506784",
            "showbackground": true,
            "ticks": "",
            "zerolinecolor": "#C8D4E3"
           },
           "yaxis": {
            "backgroundcolor": "rgb(17,17,17)",
            "gridcolor": "#506784",
            "gridwidth": 2,
            "linecolor": "#506784",
            "showbackground": true,
            "ticks": "",
            "zerolinecolor": "#C8D4E3"
           },
           "zaxis": {
            "backgroundcolor": "rgb(17,17,17)",
            "gridcolor": "#506784",
            "gridwidth": 2,
            "linecolor": "#506784",
            "showbackground": true,
            "ticks": "",
            "zerolinecolor": "#C8D4E3"
           }
          },
          "shapedefaults": {
           "line": {
            "color": "#f2f5fa"
           }
          },
          "sliderdefaults": {
           "bgcolor": "#C8D4E3",
           "bordercolor": "rgb(17,17,17)",
           "borderwidth": 1,
           "tickwidth": 0
          },
          "ternary": {
           "aaxis": {
            "gridcolor": "#506784",
            "linecolor": "#506784",
            "ticks": ""
           },
           "baxis": {
            "gridcolor": "#506784",
            "linecolor": "#506784",
            "ticks": ""
           },
           "bgcolor": "rgb(17,17,17)",
           "caxis": {
            "gridcolor": "#506784",
            "linecolor": "#506784",
            "ticks": ""
           }
          },
          "title": {
           "x": 0.05
          },
          "updatemenudefaults": {
           "bgcolor": "#506784",
           "borderwidth": 0
          },
          "xaxis": {
           "automargin": true,
           "gridcolor": "#283442",
           "linecolor": "#506784",
           "ticks": "",
           "title": {
            "standoff": 15
           },
           "zerolinecolor": "#283442",
           "zerolinewidth": 2
          },
          "yaxis": {
           "automargin": true,
           "gridcolor": "#283442",
           "linecolor": "#506784",
           "ticks": "",
           "title": {
            "standoff": 15
           },
           "zerolinecolor": "#283442",
           "zerolinewidth": 2
          }
         }
        },
        "title": {
         "text": "Momentum 23 Paid Attendees by Source"
        },
        "xaxis": {
         "anchor": "y",
         "categoryarray": [
          "Unknown",
          "Call to Action",
          "Tickets Page"
         ],
         "categoryorder": "total descending",
         "domain": [
          0,
          1
         ],
         "title": {
          "text": "Source"
         }
        },
        "yaxis": {
         "anchor": "x",
         "domain": [
          0,
          1
         ],
         "title": {
          "text": "count"
         }
        }
       }
      }
     },
     "metadata": {},
     "output_type": "display_data"
    }
   ],
   "source": [
    "px.histogram(df23[df23['Price'] > 0], color='Source', x='Source', title='Momentum 23 Paid Attendees by Source').update_xaxes(categoryorder='total descending')"
   ]
  },
  {
   "cell_type": "markdown",
   "metadata": {},
   "source": [
    "## Ticket Types and Order Dates"
   ]
  },
  {
   "cell_type": "code",
   "execution_count": 536,
   "metadata": {},
   "outputs": [
    {
     "data": {
      "application/vnd.plotly.v1+json": {
       "config": {
        "plotlyServerURL": "https://plot.ly"
       },
       "data": [
        {
         "alignmentgroup": "True",
         "bingroup": "x",
         "hovertemplate": "Ticket=%{x}<br>count=%{y}<extra></extra>",
         "legendgroup": "Early Bird",
         "marker": {
          "color": "rgb(95, 70, 144)",
          "pattern": {
           "shape": ""
          }
         },
         "name": "Early Bird",
         "offsetgroup": "Early Bird",
         "orientation": "v",
         "showlegend": true,
         "type": "histogram",
         "x": [
          "Early Bird",
          "Early Bird",
          "Early Bird",
          "Early Bird",
          "Early Bird",
          "Early Bird",
          "Early Bird",
          "Early Bird",
          "Early Bird",
          "Early Bird",
          "Early Bird",
          "Early Bird",
          "Early Bird",
          "Early Bird",
          "Early Bird",
          "Early Bird",
          "Early Bird",
          "Early Bird",
          "Early Bird",
          "Early Bird",
          "Early Bird",
          "Early Bird",
          "Early Bird",
          "Early Bird",
          "Early Bird",
          "Early Bird",
          "Early Bird",
          "Early Bird",
          "Early Bird",
          "Early Bird",
          "Early Bird",
          "Early Bird",
          "Early Bird",
          "Early Bird",
          "Early Bird",
          "Early Bird",
          "Early Bird",
          "Early Bird",
          "Early Bird",
          "Early Bird",
          "Early Bird",
          "Early Bird",
          "Early Bird",
          "Early Bird",
          "Early Bird",
          "Early Bird",
          "Early Bird",
          "Early Bird",
          "Early Bird",
          "Early Bird",
          "Early Bird",
          "Early Bird",
          "Early Bird",
          "Early Bird",
          "Early Bird",
          "Early Bird",
          "Early Bird",
          "Early Bird",
          "Early Bird",
          "Early Bird",
          "Early Bird",
          "Early Bird",
          "Early Bird",
          "Early Bird",
          "Early Bird",
          "Early Bird",
          "Early Bird",
          "Early Bird",
          "Early Bird",
          "Early Bird",
          "Early Bird",
          "Early Bird",
          "Early Bird",
          "Early Bird",
          "Early Bird",
          "Early Bird",
          "Early Bird",
          "Early Bird",
          "Early Bird",
          "Early Bird",
          "Early Bird",
          "Early Bird",
          "Early Bird",
          "Early Bird",
          "Early Bird",
          "Early Bird",
          "Early Bird",
          "Early Bird",
          "Early Bird",
          "Early Bird",
          "Early Bird",
          "Early Bird",
          "Early Bird",
          "Early Bird",
          "Early Bird",
          "Early Bird",
          "Early Bird",
          "Early Bird",
          "Early Bird",
          "Early Bird",
          "Early Bird",
          "Early Bird",
          "Early Bird",
          "Early Bird",
          "Early Bird",
          "Early Bird",
          "Early Bird",
          "Early Bird",
          "Early Bird",
          "Early Bird",
          "Early Bird",
          "Early Bird",
          "Early Bird",
          "Early Bird",
          "Early Bird",
          "Early Bird",
          "Early Bird",
          "Early Bird",
          "Early Bird",
          "Early Bird",
          "Early Bird",
          "Early Bird",
          "Early Bird",
          "Early Bird",
          "Early Bird",
          "Early Bird",
          "Early Bird",
          "Early Bird",
          "Early Bird",
          "Early Bird",
          "Early Bird",
          "Early Bird",
          "Early Bird",
          "Early Bird",
          "Early Bird",
          "Early Bird",
          "Early Bird",
          "Early Bird",
          "Early Bird",
          "Early Bird",
          "Early Bird",
          "Early Bird",
          "Early Bird",
          "Early Bird",
          "Early Bird",
          "Early Bird",
          "Early Bird",
          "Early Bird",
          "Early Bird",
          "Early Bird",
          "Early Bird",
          "Early Bird",
          "Early Bird",
          "Early Bird",
          "Early Bird",
          "Early Bird",
          "Early Bird",
          "Early Bird",
          "Early Bird",
          "Early Bird",
          "Early Bird",
          "Early Bird",
          "Early Bird",
          "Early Bird",
          "Early Bird",
          "Early Bird",
          "Early Bird",
          "Early Bird",
          "Early Bird",
          "Early Bird",
          "Early Bird",
          "Early Bird",
          "Early Bird",
          "Early Bird",
          "Early Bird",
          "Early Bird",
          "Early Bird",
          "Early Bird",
          "Early Bird",
          "Early Bird",
          "Early Bird",
          "Early Bird",
          "Early Bird",
          "Early Bird",
          "Early Bird",
          "Early Bird",
          "Early Bird",
          "Early Bird",
          "Early Bird",
          "Early Bird",
          "Early Bird",
          "Early Bird",
          "Early Bird",
          "Early Bird",
          "Early Bird",
          "Early Bird",
          "Early Bird",
          "Early Bird",
          "Early Bird",
          "Early Bird",
          "Early Bird",
          "Early Bird",
          "Early Bird",
          "Early Bird",
          "Early Bird",
          "Early Bird",
          "Early Bird",
          "Early Bird",
          "Early Bird",
          "Early Bird",
          "Early Bird",
          "Early Bird",
          "Early Bird",
          "Early Bird",
          "Early Bird",
          "Early Bird",
          "Early Bird",
          "Early Bird",
          "Early Bird",
          "Early Bird",
          "Early Bird",
          "Early Bird",
          "Early Bird",
          "Early Bird",
          "Early Bird"
         ],
         "xaxis": "x",
         "yaxis": "y"
        },
        {
         "alignmentgroup": "True",
         "bingroup": "x",
         "hovertemplate": "Ticket=%{x}<br>count=%{y}<extra></extra>",
         "legendgroup": "Early Student",
         "marker": {
          "color": "rgb(29, 105, 150)",
          "pattern": {
           "shape": ""
          }
         },
         "name": "Early Student",
         "offsetgroup": "Early Student",
         "orientation": "v",
         "showlegend": true,
         "type": "histogram",
         "x": [
          "Early Student",
          "Early Student",
          "Early Student"
         ],
         "xaxis": "x",
         "yaxis": "y"
        },
        {
         "alignmentgroup": "True",
         "bingroup": "x",
         "hovertemplate": "Ticket=%{x}<br>count=%{y}<extra></extra>",
         "legendgroup": "Regular Price",
         "marker": {
          "color": "rgb(56, 166, 165)",
          "pattern": {
           "shape": ""
          }
         },
         "name": "Regular Price",
         "offsetgroup": "Regular Price",
         "orientation": "v",
         "showlegend": true,
         "type": "histogram",
         "x": [
          "Regular Price",
          "Regular Price",
          "Regular Price",
          "Regular Price",
          "Regular Price",
          "Regular Price",
          "Regular Price",
          "Regular Price",
          "Regular Price",
          "Regular Price",
          "Regular Price",
          "Regular Price",
          "Regular Price",
          "Regular Price",
          "Regular Price",
          "Regular Price",
          "Regular Price",
          "Regular Price",
          "Regular Price",
          "Regular Price",
          "Regular Price",
          "Regular Price",
          "Regular Price",
          "Regular Price",
          "Regular Price",
          "Regular Price",
          "Regular Price",
          "Regular Price",
          "Regular Price",
          "Regular Price",
          "Regular Price",
          "Regular Price",
          "Regular Price",
          "Regular Price",
          "Regular Price",
          "Regular Price",
          "Regular Price",
          "Regular Price",
          "Regular Price",
          "Regular Price",
          "Regular Price",
          "Regular Price",
          "Regular Price",
          "Regular Price",
          "Regular Price",
          "Regular Price",
          "Regular Price",
          "Regular Price",
          "Regular Price",
          "Regular Price"
         ],
         "xaxis": "x",
         "yaxis": "y"
        },
        {
         "alignmentgroup": "True",
         "bingroup": "x",
         "hovertemplate": "Ticket=%{x}<br>count=%{y}<extra></extra>",
         "legendgroup": "Student",
         "marker": {
          "color": "rgb(15, 133, 84)",
          "pattern": {
           "shape": ""
          }
         },
         "name": "Student",
         "offsetgroup": "Student",
         "orientation": "v",
         "showlegend": true,
         "type": "histogram",
         "x": [
          "Student",
          "Student",
          "Student",
          "Student",
          "Student",
          "Student",
          "Student",
          "Student",
          "Student",
          "Student",
          "Student",
          "Student",
          "Student",
          "Student",
          "Student",
          "Student",
          "Student"
         ],
         "xaxis": "x",
         "yaxis": "y"
        },
        {
         "alignmentgroup": "True",
         "bingroup": "x",
         "hovertemplate": "Ticket=%{x}<br>count=%{y}<extra></extra>",
         "legendgroup": "Late Registration",
         "marker": {
          "color": "rgb(115, 175, 72)",
          "pattern": {
           "shape": ""
          }
         },
         "name": "Late Registration",
         "offsetgroup": "Late Registration",
         "orientation": "v",
         "showlegend": true,
         "type": "histogram",
         "x": [
          "Late Registration",
          "Late Registration",
          "Late Registration",
          "Late Registration",
          "Late Registration",
          "Late Registration",
          "Late Registration",
          "Late Registration",
          "Late Registration",
          "Late Registration",
          "Late Registration",
          "Late Registration",
          "Late Registration",
          "Late Registration",
          "Late Registration",
          "Late Registration",
          "Late Registration",
          "Late Registration",
          "Late Registration",
          "Late Registration",
          "Late Registration",
          "Late Registration",
          "Late Registration",
          "Late Registration",
          "Late Registration",
          "Late Registration",
          "Late Registration",
          "Late Registration",
          "Late Registration",
          "Late Registration",
          "Late Registration",
          "Late Registration",
          "Late Registration",
          "Late Registration"
         ],
         "xaxis": "x",
         "yaxis": "y"
        },
        {
         "alignmentgroup": "True",
         "bingroup": "x",
         "hovertemplate": "Ticket=%{x}<br>count=%{y}<extra></extra>",
         "legendgroup": "Procrastinator Pricing",
         "marker": {
          "color": "rgb(237, 173, 8)",
          "pattern": {
           "shape": ""
          }
         },
         "name": "Procrastinator Pricing",
         "offsetgroup": "Procrastinator Pricing",
         "orientation": "v",
         "showlegend": true,
         "type": "histogram",
         "x": [
          "Procrastinator Pricing",
          "Procrastinator Pricing",
          "Procrastinator Pricing",
          "Procrastinator Pricing",
          "Procrastinator Pricing",
          "Procrastinator Pricing",
          "Procrastinator Pricing",
          "Procrastinator Pricing",
          "Procrastinator Pricing",
          "Procrastinator Pricing",
          "Procrastinator Pricing",
          "Procrastinator Pricing",
          "Procrastinator Pricing",
          "Procrastinator Pricing",
          "Procrastinator Pricing",
          "Procrastinator Pricing",
          "Procrastinator Pricing",
          "Procrastinator Pricing",
          "Procrastinator Pricing",
          "Procrastinator Pricing",
          "Procrastinator Pricing",
          "Procrastinator Pricing",
          "Procrastinator Pricing",
          "Procrastinator Pricing"
         ],
         "xaxis": "x",
         "yaxis": "y"
        }
       ],
       "layout": {
        "barmode": "relative",
        "legend": {
         "title": {
          "text": "Ticket"
         },
         "tracegroupgap": 0
        },
        "template": {
         "data": {
          "bar": [
           {
            "error_x": {
             "color": "#f2f5fa"
            },
            "error_y": {
             "color": "#f2f5fa"
            },
            "marker": {
             "line": {
              "color": "rgb(17,17,17)",
              "width": 0.5
             },
             "pattern": {
              "fillmode": "overlay",
              "size": 10,
              "solidity": 0.2
             }
            },
            "type": "bar"
           }
          ],
          "barpolar": [
           {
            "marker": {
             "line": {
              "color": "rgb(17,17,17)",
              "width": 0.5
             },
             "pattern": {
              "fillmode": "overlay",
              "size": 10,
              "solidity": 0.2
             }
            },
            "type": "barpolar"
           }
          ],
          "carpet": [
           {
            "aaxis": {
             "endlinecolor": "#A2B1C6",
             "gridcolor": "#506784",
             "linecolor": "#506784",
             "minorgridcolor": "#506784",
             "startlinecolor": "#A2B1C6"
            },
            "baxis": {
             "endlinecolor": "#A2B1C6",
             "gridcolor": "#506784",
             "linecolor": "#506784",
             "minorgridcolor": "#506784",
             "startlinecolor": "#A2B1C6"
            },
            "type": "carpet"
           }
          ],
          "choropleth": [
           {
            "colorbar": {
             "outlinewidth": 0,
             "ticks": ""
            },
            "type": "choropleth"
           }
          ],
          "contour": [
           {
            "colorbar": {
             "outlinewidth": 0,
             "ticks": ""
            },
            "colorscale": [
             [
              0,
              "#0d0887"
             ],
             [
              0.1111111111111111,
              "#46039f"
             ],
             [
              0.2222222222222222,
              "#7201a8"
             ],
             [
              0.3333333333333333,
              "#9c179e"
             ],
             [
              0.4444444444444444,
              "#bd3786"
             ],
             [
              0.5555555555555556,
              "#d8576b"
             ],
             [
              0.6666666666666666,
              "#ed7953"
             ],
             [
              0.7777777777777778,
              "#fb9f3a"
             ],
             [
              0.8888888888888888,
              "#fdca26"
             ],
             [
              1,
              "#f0f921"
             ]
            ],
            "type": "contour"
           }
          ],
          "contourcarpet": [
           {
            "colorbar": {
             "outlinewidth": 0,
             "ticks": ""
            },
            "type": "contourcarpet"
           }
          ],
          "heatmap": [
           {
            "colorbar": {
             "outlinewidth": 0,
             "ticks": ""
            },
            "colorscale": [
             [
              0,
              "#0d0887"
             ],
             [
              0.1111111111111111,
              "#46039f"
             ],
             [
              0.2222222222222222,
              "#7201a8"
             ],
             [
              0.3333333333333333,
              "#9c179e"
             ],
             [
              0.4444444444444444,
              "#bd3786"
             ],
             [
              0.5555555555555556,
              "#d8576b"
             ],
             [
              0.6666666666666666,
              "#ed7953"
             ],
             [
              0.7777777777777778,
              "#fb9f3a"
             ],
             [
              0.8888888888888888,
              "#fdca26"
             ],
             [
              1,
              "#f0f921"
             ]
            ],
            "type": "heatmap"
           }
          ],
          "heatmapgl": [
           {
            "colorbar": {
             "outlinewidth": 0,
             "ticks": ""
            },
            "colorscale": [
             [
              0,
              "#0d0887"
             ],
             [
              0.1111111111111111,
              "#46039f"
             ],
             [
              0.2222222222222222,
              "#7201a8"
             ],
             [
              0.3333333333333333,
              "#9c179e"
             ],
             [
              0.4444444444444444,
              "#bd3786"
             ],
             [
              0.5555555555555556,
              "#d8576b"
             ],
             [
              0.6666666666666666,
              "#ed7953"
             ],
             [
              0.7777777777777778,
              "#fb9f3a"
             ],
             [
              0.8888888888888888,
              "#fdca26"
             ],
             [
              1,
              "#f0f921"
             ]
            ],
            "type": "heatmapgl"
           }
          ],
          "histogram": [
           {
            "marker": {
             "pattern": {
              "fillmode": "overlay",
              "size": 10,
              "solidity": 0.2
             }
            },
            "type": "histogram"
           }
          ],
          "histogram2d": [
           {
            "colorbar": {
             "outlinewidth": 0,
             "ticks": ""
            },
            "colorscale": [
             [
              0,
              "#0d0887"
             ],
             [
              0.1111111111111111,
              "#46039f"
             ],
             [
              0.2222222222222222,
              "#7201a8"
             ],
             [
              0.3333333333333333,
              "#9c179e"
             ],
             [
              0.4444444444444444,
              "#bd3786"
             ],
             [
              0.5555555555555556,
              "#d8576b"
             ],
             [
              0.6666666666666666,
              "#ed7953"
             ],
             [
              0.7777777777777778,
              "#fb9f3a"
             ],
             [
              0.8888888888888888,
              "#fdca26"
             ],
             [
              1,
              "#f0f921"
             ]
            ],
            "type": "histogram2d"
           }
          ],
          "histogram2dcontour": [
           {
            "colorbar": {
             "outlinewidth": 0,
             "ticks": ""
            },
            "colorscale": [
             [
              0,
              "#0d0887"
             ],
             [
              0.1111111111111111,
              "#46039f"
             ],
             [
              0.2222222222222222,
              "#7201a8"
             ],
             [
              0.3333333333333333,
              "#9c179e"
             ],
             [
              0.4444444444444444,
              "#bd3786"
             ],
             [
              0.5555555555555556,
              "#d8576b"
             ],
             [
              0.6666666666666666,
              "#ed7953"
             ],
             [
              0.7777777777777778,
              "#fb9f3a"
             ],
             [
              0.8888888888888888,
              "#fdca26"
             ],
             [
              1,
              "#f0f921"
             ]
            ],
            "type": "histogram2dcontour"
           }
          ],
          "mesh3d": [
           {
            "colorbar": {
             "outlinewidth": 0,
             "ticks": ""
            },
            "type": "mesh3d"
           }
          ],
          "parcoords": [
           {
            "line": {
             "colorbar": {
              "outlinewidth": 0,
              "ticks": ""
             }
            },
            "type": "parcoords"
           }
          ],
          "pie": [
           {
            "automargin": true,
            "type": "pie"
           }
          ],
          "scatter": [
           {
            "marker": {
             "line": {
              "color": "#283442"
             }
            },
            "type": "scatter"
           }
          ],
          "scatter3d": [
           {
            "line": {
             "colorbar": {
              "outlinewidth": 0,
              "ticks": ""
             }
            },
            "marker": {
             "colorbar": {
              "outlinewidth": 0,
              "ticks": ""
             }
            },
            "type": "scatter3d"
           }
          ],
          "scattercarpet": [
           {
            "marker": {
             "colorbar": {
              "outlinewidth": 0,
              "ticks": ""
             }
            },
            "type": "scattercarpet"
           }
          ],
          "scattergeo": [
           {
            "marker": {
             "colorbar": {
              "outlinewidth": 0,
              "ticks": ""
             }
            },
            "type": "scattergeo"
           }
          ],
          "scattergl": [
           {
            "marker": {
             "line": {
              "color": "#283442"
             }
            },
            "type": "scattergl"
           }
          ],
          "scattermapbox": [
           {
            "marker": {
             "colorbar": {
              "outlinewidth": 0,
              "ticks": ""
             }
            },
            "type": "scattermapbox"
           }
          ],
          "scatterpolar": [
           {
            "marker": {
             "colorbar": {
              "outlinewidth": 0,
              "ticks": ""
             }
            },
            "type": "scatterpolar"
           }
          ],
          "scatterpolargl": [
           {
            "marker": {
             "colorbar": {
              "outlinewidth": 0,
              "ticks": ""
             }
            },
            "type": "scatterpolargl"
           }
          ],
          "scatterternary": [
           {
            "marker": {
             "colorbar": {
              "outlinewidth": 0,
              "ticks": ""
             }
            },
            "type": "scatterternary"
           }
          ],
          "surface": [
           {
            "colorbar": {
             "outlinewidth": 0,
             "ticks": ""
            },
            "colorscale": [
             [
              0,
              "#0d0887"
             ],
             [
              0.1111111111111111,
              "#46039f"
             ],
             [
              0.2222222222222222,
              "#7201a8"
             ],
             [
              0.3333333333333333,
              "#9c179e"
             ],
             [
              0.4444444444444444,
              "#bd3786"
             ],
             [
              0.5555555555555556,
              "#d8576b"
             ],
             [
              0.6666666666666666,
              "#ed7953"
             ],
             [
              0.7777777777777778,
              "#fb9f3a"
             ],
             [
              0.8888888888888888,
              "#fdca26"
             ],
             [
              1,
              "#f0f921"
             ]
            ],
            "type": "surface"
           }
          ],
          "table": [
           {
            "cells": {
             "fill": {
              "color": "#506784"
             },
             "line": {
              "color": "rgb(17,17,17)"
             }
            },
            "header": {
             "fill": {
              "color": "#2a3f5f"
             },
             "line": {
              "color": "rgb(17,17,17)"
             }
            },
            "type": "table"
           }
          ]
         },
         "layout": {
          "annotationdefaults": {
           "arrowcolor": "#f2f5fa",
           "arrowhead": 0,
           "arrowwidth": 1
          },
          "autotypenumbers": "strict",
          "coloraxis": {
           "colorbar": {
            "outlinewidth": 0,
            "ticks": ""
           }
          },
          "colorscale": {
           "diverging": [
            [
             0,
             "#8e0152"
            ],
            [
             0.1,
             "#c51b7d"
            ],
            [
             0.2,
             "#de77ae"
            ],
            [
             0.3,
             "#f1b6da"
            ],
            [
             0.4,
             "#fde0ef"
            ],
            [
             0.5,
             "#f7f7f7"
            ],
            [
             0.6,
             "#e6f5d0"
            ],
            [
             0.7,
             "#b8e186"
            ],
            [
             0.8,
             "#7fbc41"
            ],
            [
             0.9,
             "#4d9221"
            ],
            [
             1,
             "#276419"
            ]
           ],
           "sequential": [
            [
             0,
             "#0d0887"
            ],
            [
             0.1111111111111111,
             "#46039f"
            ],
            [
             0.2222222222222222,
             "#7201a8"
            ],
            [
             0.3333333333333333,
             "#9c179e"
            ],
            [
             0.4444444444444444,
             "#bd3786"
            ],
            [
             0.5555555555555556,
             "#d8576b"
            ],
            [
             0.6666666666666666,
             "#ed7953"
            ],
            [
             0.7777777777777778,
             "#fb9f3a"
            ],
            [
             0.8888888888888888,
             "#fdca26"
            ],
            [
             1,
             "#f0f921"
            ]
           ],
           "sequentialminus": [
            [
             0,
             "#0d0887"
            ],
            [
             0.1111111111111111,
             "#46039f"
            ],
            [
             0.2222222222222222,
             "#7201a8"
            ],
            [
             0.3333333333333333,
             "#9c179e"
            ],
            [
             0.4444444444444444,
             "#bd3786"
            ],
            [
             0.5555555555555556,
             "#d8576b"
            ],
            [
             0.6666666666666666,
             "#ed7953"
            ],
            [
             0.7777777777777778,
             "#fb9f3a"
            ],
            [
             0.8888888888888888,
             "#fdca26"
            ],
            [
             1,
             "#f0f921"
            ]
           ]
          },
          "colorway": [
           "#636efa",
           "#EF553B",
           "#00cc96",
           "#ab63fa",
           "#FFA15A",
           "#19d3f3",
           "#FF6692",
           "#B6E880",
           "#FF97FF",
           "#FECB52"
          ],
          "font": {
           "color": "#f2f5fa"
          },
          "geo": {
           "bgcolor": "rgb(17,17,17)",
           "lakecolor": "rgb(17,17,17)",
           "landcolor": "rgb(17,17,17)",
           "showlakes": true,
           "showland": true,
           "subunitcolor": "#506784"
          },
          "hoverlabel": {
           "align": "left"
          },
          "hovermode": "closest",
          "mapbox": {
           "style": "dark"
          },
          "paper_bgcolor": "rgb(17,17,17)",
          "plot_bgcolor": "rgb(17,17,17)",
          "polar": {
           "angularaxis": {
            "gridcolor": "#506784",
            "linecolor": "#506784",
            "ticks": ""
           },
           "bgcolor": "rgb(17,17,17)",
           "radialaxis": {
            "gridcolor": "#506784",
            "linecolor": "#506784",
            "ticks": ""
           }
          },
          "scene": {
           "xaxis": {
            "backgroundcolor": "rgb(17,17,17)",
            "gridcolor": "#506784",
            "gridwidth": 2,
            "linecolor": "#506784",
            "showbackground": true,
            "ticks": "",
            "zerolinecolor": "#C8D4E3"
           },
           "yaxis": {
            "backgroundcolor": "rgb(17,17,17)",
            "gridcolor": "#506784",
            "gridwidth": 2,
            "linecolor": "#506784",
            "showbackground": true,
            "ticks": "",
            "zerolinecolor": "#C8D4E3"
           },
           "zaxis": {
            "backgroundcolor": "rgb(17,17,17)",
            "gridcolor": "#506784",
            "gridwidth": 2,
            "linecolor": "#506784",
            "showbackground": true,
            "ticks": "",
            "zerolinecolor": "#C8D4E3"
           }
          },
          "shapedefaults": {
           "line": {
            "color": "#f2f5fa"
           }
          },
          "sliderdefaults": {
           "bgcolor": "#C8D4E3",
           "bordercolor": "rgb(17,17,17)",
           "borderwidth": 1,
           "tickwidth": 0
          },
          "ternary": {
           "aaxis": {
            "gridcolor": "#506784",
            "linecolor": "#506784",
            "ticks": ""
           },
           "baxis": {
            "gridcolor": "#506784",
            "linecolor": "#506784",
            "ticks": ""
           },
           "bgcolor": "rgb(17,17,17)",
           "caxis": {
            "gridcolor": "#506784",
            "linecolor": "#506784",
            "ticks": ""
           }
          },
          "title": {
           "x": 0.05
          },
          "updatemenudefaults": {
           "bgcolor": "#506784",
           "borderwidth": 0
          },
          "xaxis": {
           "automargin": true,
           "gridcolor": "#283442",
           "linecolor": "#506784",
           "ticks": "",
           "title": {
            "standoff": 15
           },
           "zerolinecolor": "#283442",
           "zerolinewidth": 2
          },
          "yaxis": {
           "automargin": true,
           "gridcolor": "#283442",
           "linecolor": "#506784",
           "ticks": "",
           "title": {
            "standoff": 15
           },
           "zerolinecolor": "#283442",
           "zerolinewidth": 2
          }
         }
        },
        "title": {
         "text": "Momentum 23 Paid Attendees by Ticket Type"
        },
        "xaxis": {
         "anchor": "y",
         "categoryarray": [
          "Early Bird",
          "Early Student",
          "Regular Price",
          "Student",
          "Late Registration",
          "Procrastinator Pricing"
         ],
         "categoryorder": "total descending",
         "domain": [
          0,
          1
         ],
         "title": {
          "text": "Ticket"
         }
        },
        "yaxis": {
         "anchor": "x",
         "domain": [
          0,
          1
         ],
         "title": {
          "text": "count"
         }
        }
       }
      }
     },
     "metadata": {},
     "output_type": "display_data"
    }
   ],
   "source": [
    "px.histogram(df23[df23['Price'] > 0], color='Ticket', x='Ticket', title='Momentum 23 Paid Attendees by Ticket Type').update_xaxes(categoryorder='total descending')"
   ]
  },
  {
   "cell_type": "code",
   "execution_count": 537,
   "metadata": {},
   "outputs": [
    {
     "name": "stderr",
     "output_type": "stream",
     "text": [
      "/home/matteland/anaconda3/lib/python3.11/site-packages/_plotly_utils/basevalidators.py:106: FutureWarning:\n",
      "\n",
      "The behavior of DatetimeProperties.to_pydatetime is deprecated, in a future version this will return a Series containing python datetime objects instead of an ndarray. To retain the old behavior, call `np.array` on the result\n",
      "\n"
     ]
    },
    {
     "data": {
      "application/vnd.plotly.v1+json": {
       "config": {
        "plotlyServerURL": "https://plot.ly"
       },
       "data": [
        {
         "hovertemplate": "Ticket=Early Student<br>Order Date=%{x}<br>Price=%{y}<extra></extra>",
         "legendgroup": "Early Student",
         "marker": {
          "color": "rgb(237, 217, 163)",
          "symbol": "circle"
         },
         "mode": "markers",
         "name": "Early Student",
         "orientation": "v",
         "showlegend": true,
         "type": "scatter",
         "x": [
          "2023-08-15T16:31:19+00:00",
          "2023-08-13T11:46:08+00:00",
          "2023-08-15T19:14:37+00:00"
         ],
         "xaxis": "x",
         "y": [
          79,
          79,
          79
         ],
         "yaxis": "y"
        },
        {
         "hovertemplate": "Ticket=Student<br>Order Date=%{x}<br>Price=%{y}<extra></extra>",
         "legendgroup": "Student",
         "marker": {
          "color": "rgb(246, 169, 122)",
          "symbol": "circle"
         },
         "mode": "markers",
         "name": "Student",
         "orientation": "v",
         "showlegend": true,
         "type": "scatter",
         "x": [
          "2023-09-22T12:59:25+00:00",
          "2023-09-08T15:40:00+00:00",
          "2023-09-18T01:31:15+00:00",
          "2023-09-19T01:33:05+00:00",
          "2023-09-21T23:15:51+00:00",
          "2023-09-22T11:22:39+00:00",
          "2023-09-22T19:14:53+00:00",
          "2023-09-22T20:43:35+00:00",
          "2023-09-22T20:47:43+00:00",
          "2023-09-22T21:10:26+00:00",
          "2023-09-22T21:09:46+00:00",
          "2023-09-23T01:13:51+00:00",
          "2023-09-25T16:58:16+00:00",
          "2023-09-29T17:41:39+00:00",
          "2023-10-06T01:11:03+00:00",
          "2023-10-17T15:17:09+00:00",
          "2023-09-22T21:10:10+00:00"
         ],
         "xaxis": "x",
         "y": [
          99,
          99,
          99,
          99,
          99,
          99,
          99,
          99,
          99,
          99,
          99,
          99,
          99,
          99,
          99,
          99,
          99
         ],
         "yaxis": "y"
        },
        {
         "hovertemplate": "Ticket=Early Bird<br>Order Date=%{x}<br>Price=%{y}<extra></extra>",
         "legendgroup": "Early Bird",
         "marker": {
          "color": "rgb(250, 120, 118)",
          "symbol": "circle"
         },
         "mode": "markers",
         "name": "Early Bird",
         "orientation": "v",
         "showlegend": true,
         "type": "scatter",
         "x": [
          "2023-08-14T19:27:47+00:00",
          "2023-08-14T19:27:47+00:00",
          "2023-08-14T19:27:47+00:00",
          "2023-06-28T20:49:38+00:00",
          "2023-08-14T19:27:47+00:00",
          "2023-08-14T19:27:47+00:00",
          "2023-08-14T20:00:42+00:00",
          "2023-08-14T19:27:47+00:00",
          "2023-08-14T19:27:47+00:00",
          "2023-08-14T20:59:21+00:00",
          "2023-08-14T23:17:04+00:00",
          "2023-08-14T20:59:21+00:00",
          "2023-08-11T20:17:48+00:00",
          "2023-08-11T20:17:48+00:00",
          "2023-08-11T20:17:48+00:00",
          "2023-08-11T20:17:48+00:00",
          "2023-08-11T20:17:48+00:00",
          "2023-08-11T20:17:48+00:00",
          "2023-08-11T20:17:48+00:00",
          "2023-08-14T18:35:15+00:00",
          "2023-08-15T01:18:28+00:00",
          "2023-08-15T01:33:48+00:00",
          "2023-08-14T20:59:21+00:00",
          "2023-08-14T18:13:12+00:00",
          "2023-08-14T16:09:47+00:00",
          "2023-08-14T17:43:59+00:00",
          "2023-08-14T15:29:19+00:00",
          "2023-08-14T15:29:19+00:00",
          "2023-08-14T15:29:19+00:00",
          "2023-08-14T15:29:19+00:00",
          "2023-08-14T15:29:19+00:00",
          "2023-08-14T15:44:19+00:00",
          "2023-08-14T15:44:19+00:00",
          "2023-08-14T15:44:19+00:00",
          "2023-08-14T15:44:19+00:00",
          "2023-08-14T16:09:47+00:00",
          "2023-08-14T16:09:47+00:00",
          "2023-08-14T16:09:47+00:00",
          "2023-08-14T16:09:47+00:00",
          "2023-08-14T16:09:47+00:00",
          "2023-08-14T16:09:47+00:00",
          "2023-08-14T16:09:47+00:00",
          "2023-08-15T01:43:42+00:00",
          "2023-08-14T16:09:47+00:00",
          "2023-08-14T16:09:47+00:00",
          "2023-08-14T16:18:28+00:00",
          "2023-08-14T16:18:28+00:00",
          "2023-08-14T16:18:28+00:00",
          "2023-08-14T16:34:09+00:00",
          "2023-08-14T18:13:12+00:00",
          "2023-08-15T01:43:42+00:00",
          "2023-08-15T15:36:49+00:00",
          "2023-08-15T11:56:49+00:00",
          "2023-08-15T21:08:58+00:00",
          "2023-08-15T21:08:58+00:00",
          "2023-08-15T21:08:58+00:00",
          "2023-08-15T21:08:58+00:00",
          "2023-08-15T21:08:58+00:00",
          "2023-08-15T21:08:58+00:00",
          "2023-08-15T21:42:25+00:00",
          "2023-08-15T21:48:43+00:00",
          "2023-08-15T21:48:43+00:00",
          "2023-08-15T21:48:43+00:00",
          "2023-08-15T21:08:58+00:00",
          "2023-08-16T00:28:17+00:00",
          "2023-08-16T00:28:17+00:00",
          "2023-08-16T00:28:17+00:00",
          "2023-08-16T00:28:17+00:00",
          "2023-08-16T00:28:17+00:00",
          "2023-08-16T02:35:45+00:00",
          "2023-08-16T02:42:39+00:00",
          "2023-08-16T02:56:29+00:00",
          "2023-08-16T03:12:48+00:00",
          "2023-08-16T00:28:17+00:00",
          "2023-08-15T21:08:58+00:00",
          "2023-08-15T21:08:58+00:00",
          "2023-08-15T21:08:58+00:00",
          "2023-08-15T12:38:27+00:00",
          "2023-08-15T12:56:20+00:00",
          "2023-08-15T13:23:42+00:00",
          "2023-08-15T13:31:20+00:00",
          "2023-08-15T13:35:39+00:00",
          "2023-08-15T14:22:59+00:00",
          "2023-08-15T15:33:38+00:00",
          "2023-08-14T15:29:19+00:00",
          "2023-08-15T15:36:49+00:00",
          "2023-08-15T15:36:49+00:00",
          "2023-08-15T15:36:49+00:00",
          "2023-08-15T15:36:49+00:00",
          "2023-08-15T15:36:49+00:00",
          "2023-08-15T15:36:49+00:00",
          "2023-08-15T16:40:19+00:00",
          "2023-08-15T17:15:19+00:00",
          "2023-08-15T18:17:54+00:00",
          "2023-08-15T18:47:33+00:00",
          "2023-08-15T19:08:06+00:00",
          "2023-08-15T19:18:37+00:00",
          "2023-08-15T20:26:38+00:00",
          "2023-08-15T21:08:58+00:00",
          "2023-08-15T21:08:58+00:00",
          "2023-08-15T02:26:07+00:00",
          "2023-08-14T15:29:19+00:00",
          "2023-08-15T01:43:42+00:00",
          "2023-08-14T14:27:22+00:00",
          "2023-08-09T15:22:01+00:00",
          "2023-08-09T18:02:24+00:00",
          "2023-08-09T18:02:24+00:00",
          "2023-08-09T18:02:24+00:00",
          "2023-08-09T18:02:24+00:00",
          "2023-08-09T18:02:24+00:00",
          "2023-08-09T18:02:24+00:00",
          "2023-08-09T18:02:24+00:00",
          "2023-08-09T18:02:24+00:00",
          "2023-08-09T18:02:24+00:00",
          "2023-08-09T18:02:24+00:00",
          "2023-08-09T18:02:24+00:00",
          "2023-08-09T18:02:24+00:00",
          "2023-08-09T18:02:24+00:00",
          "2023-08-09T18:02:24+00:00",
          "2023-08-09T18:02:24+00:00",
          "2023-08-09T18:02:24+00:00",
          "2023-08-09T18:02:24+00:00",
          "2023-08-09T18:02:24+00:00",
          "2023-08-09T18:02:24+00:00",
          "2023-08-09T18:02:24+00:00",
          "2023-08-09T18:02:24+00:00",
          "2023-08-09T18:02:24+00:00",
          "2023-08-09T18:02:24+00:00",
          "2023-08-09T18:02:24+00:00",
          "2023-08-09T18:02:24+00:00",
          "2023-08-09T18:02:24+00:00",
          "2023-08-09T15:07:17+00:00",
          "2023-08-09T15:04:42+00:00",
          "2023-08-09T14:43:54+00:00",
          "2023-08-09T13:11:20+00:00",
          "2023-07-03T19:26:20+00:00",
          "2023-07-05T11:41:29+00:00",
          "2023-07-10T16:37:15+00:00",
          "2023-07-10T16:37:15+00:00",
          "2023-07-10T16:37:15+00:00",
          "2023-07-11T15:12:51+00:00",
          "2023-07-11T17:05:52+00:00",
          "2023-07-14T17:19:43+00:00",
          "2023-07-14T17:19:43+00:00",
          "2023-07-14T17:19:43+00:00",
          "2023-07-14T17:19:43+00:00",
          "2023-07-14T17:19:43+00:00",
          "2023-07-14T18:59:30+00:00",
          "2023-08-09T18:02:24+00:00",
          "2023-07-17T18:03:49+00:00",
          "2023-07-19T17:07:11+00:00",
          "2023-07-20T12:35:54+00:00",
          "2023-07-20T18:53:49+00:00",
          "2023-07-24T23:21:36+00:00",
          "2023-08-14T14:57:08+00:00",
          "2023-07-31T13:26:42+00:00",
          "2023-07-31T13:26:42+00:00",
          "2023-08-01T00:22:40+00:00",
          "2023-08-02T02:18:07+00:00",
          "2023-08-02T18:03:03+00:00",
          "2023-08-03T20:16:13+00:00",
          "2023-08-04T19:21:14+00:00",
          "2023-08-05T15:10:09+00:00",
          "2023-07-18T02:03:29+00:00",
          "2023-08-09T18:02:24+00:00",
          "2023-08-09T18:02:24+00:00",
          "2023-08-09T19:11:04+00:00",
          "2023-08-09T19:11:04+00:00",
          "2023-08-09T19:11:04+00:00",
          "2023-08-09T19:11:04+00:00",
          "2023-08-09T19:11:04+00:00",
          "2023-08-09T19:11:04+00:00",
          "2023-08-09T19:11:04+00:00",
          "2023-08-12T21:39:05+00:00",
          "2023-08-11T20:47:40+00:00",
          "2023-08-11T19:20:28+00:00",
          "2023-08-11T11:34:00+00:00",
          "2023-08-11T11:34:00+00:00",
          "2023-08-10T20:49:11+00:00",
          "2023-08-10T20:49:11+00:00",
          "2023-08-10T14:27:47+00:00",
          "2023-08-09T19:11:04+00:00",
          "2023-08-09T19:11:04+00:00",
          "2023-08-09T19:11:04+00:00",
          "2023-08-09T19:11:04+00:00",
          "2023-08-09T19:11:04+00:00",
          "2023-08-09T19:11:04+00:00",
          "2023-08-09T19:11:04+00:00",
          "2023-08-09T19:11:04+00:00",
          "2023-08-09T19:11:04+00:00",
          "2023-08-09T19:11:04+00:00",
          "2023-08-09T19:11:04+00:00",
          "2023-08-09T18:02:24+00:00",
          "2023-08-09T19:11:04+00:00",
          "2023-08-09T19:11:04+00:00",
          "2023-08-09T19:11:04+00:00",
          "2023-08-09T19:11:04+00:00",
          "2023-08-09T18:02:24+00:00",
          "2023-08-09T18:02:24+00:00",
          "2023-08-09T18:02:24+00:00",
          "2023-08-09T18:02:24+00:00",
          "2023-08-09T18:02:24+00:00",
          "2023-08-09T18:02:24+00:00",
          "2023-08-09T18:02:24+00:00",
          "2023-08-09T19:11:04+00:00",
          "2023-08-14T13:06:36+00:00",
          "2023-08-09T18:02:24+00:00",
          "2023-08-09T18:02:24+00:00",
          "2023-08-09T18:02:24+00:00",
          "2023-08-09T18:02:24+00:00",
          "2023-08-09T18:02:24+00:00",
          "2023-08-09T18:02:24+00:00",
          "2023-08-09T18:02:24+00:00",
          "2023-08-09T19:11:04+00:00",
          "2023-08-09T18:02:24+00:00",
          "2023-08-09T19:11:04+00:00",
          "2023-08-09T19:11:04+00:00",
          "2023-08-09T19:11:04+00:00",
          "2023-08-09T19:11:04+00:00",
          "2023-08-09T18:02:24+00:00",
          "2023-08-09T18:02:24+00:00",
          "2023-08-09T18:02:24+00:00",
          "2023-08-09T18:02:24+00:00",
          "2023-08-09T18:02:24+00:00",
          "2023-08-09T19:11:04+00:00"
         ],
         "xaxis": "x",
         "y": [
          149,
          149,
          149,
          149,
          149,
          149,
          149,
          149,
          149,
          149,
          149,
          149,
          149,
          149,
          149,
          149,
          149,
          149,
          149,
          149,
          149,
          149,
          149,
          149,
          149,
          149,
          149,
          149,
          149,
          149,
          149,
          149,
          149,
          149,
          149,
          149,
          149,
          149,
          149,
          149,
          149,
          149,
          149,
          149,
          149,
          149,
          149,
          149,
          149,
          149,
          149,
          149,
          149,
          149,
          149,
          149,
          149,
          149,
          149,
          149,
          149,
          149,
          149,
          149,
          149,
          149,
          149,
          149,
          149,
          149,
          149,
          149,
          149,
          149,
          149,
          149,
          149,
          149,
          149,
          149,
          149,
          149,
          149,
          149,
          149,
          149,
          149,
          149,
          149,
          149,
          149,
          149,
          149,
          149,
          149,
          149,
          149,
          149,
          149,
          149,
          149,
          149,
          149,
          149,
          149,
          149,
          149,
          149,
          149,
          149,
          149,
          149,
          149,
          149,
          149,
          149,
          149,
          149,
          149,
          149,
          149,
          149,
          149,
          149,
          149,
          149,
          149,
          149,
          149,
          149,
          149,
          149,
          149,
          149,
          149,
          149,
          149,
          149,
          149,
          149,
          149,
          149,
          149,
          149,
          149,
          149,
          149,
          149,
          149,
          149,
          149,
          149,
          149,
          149,
          149,
          149,
          149,
          149,
          149,
          149,
          149,
          149,
          149,
          149,
          149,
          149,
          149,
          149,
          149,
          149,
          149,
          149,
          149,
          149,
          149,
          149,
          149,
          149,
          149,
          149,
          149,
          149,
          149,
          149,
          149,
          149,
          149,
          149,
          149,
          149,
          149,
          149,
          149,
          149,
          149,
          149,
          149,
          149,
          149,
          149,
          149,
          149,
          149,
          149,
          149,
          149,
          149,
          149,
          149,
          149,
          149,
          149,
          149,
          149,
          149,
          149,
          149,
          149,
          149,
          149,
          149,
          149,
          149,
          149,
          149
         ],
         "yaxis": "y"
        },
        {
         "hovertemplate": "Ticket=Late Registration<br>Order Date=%{x}<br>Price=%{y}<extra></extra>",
         "legendgroup": "Late Registration",
         "marker": {
          "color": "rgb(234, 79, 136)",
          "symbol": "circle"
         },
         "mode": "markers",
         "name": "Late Registration",
         "orientation": "v",
         "showlegend": true,
         "type": "scatter",
         "x": [
          "2023-10-03T13:22:04+00:00",
          "2023-10-03T13:22:04+00:00",
          "2023-10-06T21:47:00+00:00",
          "2023-09-17T02:23:28+00:00",
          "2023-09-22T18:57:13+00:00",
          "2023-10-03T11:26:52+00:00",
          "2023-09-18T13:00:29+00:00",
          "2023-10-04T15:40:44+00:00",
          "2023-10-04T17:46:29+00:00",
          "2023-10-04T19:03:10+00:00",
          "2023-10-04T19:55:06+00:00",
          "2023-09-22T18:57:13+00:00",
          "2023-09-18T20:08:07+00:00",
          "2023-10-06T02:39:45+00:00",
          "2023-10-06T13:02:29+00:00",
          "2023-09-20T13:02:19+00:00",
          "2023-09-28T20:19:57+00:00",
          "2023-10-06T00:31:15+00:00",
          "2023-09-28T13:27:25+00:00",
          "2023-09-22T18:57:13+00:00",
          "2023-09-28T18:06:22+00:00",
          "2023-09-22T18:57:13+00:00",
          "2023-09-22T18:57:13+00:00",
          "2023-09-22T18:57:13+00:00",
          "2023-09-22T18:57:13+00:00",
          "2023-09-22T18:57:13+00:00",
          "2023-09-18T15:15:36+00:00",
          "2023-09-22T18:57:13+00:00",
          "2023-09-22T18:57:13+00:00",
          "2023-09-20T22:09:20+00:00",
          "2023-09-25T14:15:18+00:00",
          "2023-09-25T15:19:04+00:00",
          "2023-09-20T21:26:37+00:00",
          "2023-09-22T20:04:25+00:00"
         ],
         "xaxis": "x",
         "y": [
          149,
          149,
          199,
          199,
          209,
          209,
          209,
          209,
          209,
          209,
          209,
          209,
          209,
          209,
          209,
          209,
          209,
          209,
          209,
          209,
          209,
          209,
          209,
          209,
          209,
          209,
          209,
          209,
          209,
          209,
          209,
          209,
          209,
          209
         ],
         "yaxis": "y"
        },
        {
         "hovertemplate": "Ticket=Procrastinator Pricing<br>Order Date=%{x}<br>Price=%{y}<extra></extra>",
         "legendgroup": "Procrastinator Pricing",
         "marker": {
          "color": "rgb(192, 54, 157)",
          "symbol": "circle"
         },
         "mode": "markers",
         "name": "Procrastinator Pricing",
         "orientation": "v",
         "showlegend": true,
         "type": "scatter",
         "x": [
          "2023-10-19T15:11:26+00:00",
          "2023-10-19T12:13:46+00:00",
          "2023-10-18T16:05:07+00:00",
          "2023-10-18T20:53:53+00:00",
          "2023-10-18T20:32:20+00:00",
          "2023-10-18T17:50:24+00:00",
          "2023-10-18T17:10:20+00:00",
          "2023-10-18T15:48:47+00:00",
          "2023-10-18T13:40:16+00:00",
          "2023-10-17T18:20:32+00:00",
          "2023-10-17T00:11:34+00:00",
          "2023-10-13T16:04:44+00:00",
          "2023-10-13T17:26:53+00:00",
          "2023-10-13T02:14:04+00:00",
          "2023-10-12T19:03:57+00:00",
          "2023-10-12T16:19:21+00:00",
          "2023-10-12T15:31:07+00:00",
          "2023-10-11T15:03:24+00:00",
          "2023-10-10T17:50:36+00:00",
          "2023-10-09T19:00:31+00:00",
          "2023-10-09T14:41:33+00:00",
          "2023-10-08T17:50:40+00:00",
          "2023-10-16T22:53:26+00:00",
          "2023-10-12T15:31:07+00:00"
         ],
         "xaxis": "x",
         "y": [
          149,
          209,
          229,
          239,
          239,
          239,
          239,
          239,
          239,
          239,
          239,
          239,
          239,
          239,
          239,
          239,
          239,
          239,
          239,
          239,
          239,
          239,
          239,
          239
         ],
         "yaxis": "y"
        },
        {
         "hovertemplate": "Ticket=Regular Price<br>Order Date=%{x}<br>Price=%{y}<extra></extra>",
         "legendgroup": "Regular Price",
         "marker": {
          "color": "rgb(135, 44, 162)",
          "symbol": "circle"
         },
         "mode": "markers",
         "name": "Regular Price",
         "orientation": "v",
         "showlegend": true,
         "type": "scatter",
         "x": [
          "2023-09-15T19:03:09+00:00",
          "2023-09-15T19:03:09+00:00",
          "2023-09-15T01:04:13+00:00",
          "2023-09-15T01:04:13+00:00",
          "2023-09-15T01:04:13+00:00",
          "2023-09-15T01:04:13+00:00",
          "2023-09-15T01:04:13+00:00",
          "2023-09-15T15:40:28+00:00",
          "2023-09-15T01:04:13+00:00",
          "2023-09-15T01:04:13+00:00",
          "2023-09-15T01:04:13+00:00",
          "2023-09-15T01:04:13+00:00",
          "2023-09-15T00:11:38+00:00",
          "2023-09-15T01:04:13+00:00",
          "2023-09-14T18:44:40+00:00",
          "2023-09-15T01:04:13+00:00",
          "2023-09-14T12:43:41+00:00",
          "2023-09-05T14:51:22+00:00",
          "2023-09-01T19:27:53+00:00",
          "2023-09-01T15:45:26+00:00",
          "2023-09-01T15:28:55+00:00",
          "2023-09-01T15:28:55+00:00",
          "2023-09-01T15:28:55+00:00",
          "2023-09-05T14:51:22+00:00",
          "2023-08-31T15:10:31+00:00",
          "2023-09-14T18:27:34+00:00",
          "2023-08-23T18:09:45+00:00",
          "2023-08-23T13:45:47+00:00",
          "2023-08-22T14:15:51+00:00",
          "2023-08-22T13:46:41+00:00",
          "2023-08-16T17:38:37+00:00",
          "2023-08-31T13:38:08+00:00",
          "2023-09-05T14:51:22+00:00",
          "2023-08-23T19:22:18+00:00",
          "2023-09-13T18:18:42+00:00",
          "2023-09-14T10:36:53+00:00",
          "2023-09-14T01:22:06+00:00",
          "2023-09-13T14:08:59+00:00",
          "2023-09-12T19:15:05+00:00",
          "2023-09-12T17:42:56+00:00",
          "2023-09-12T16:29:34+00:00",
          "2023-09-12T12:31:43+00:00",
          "2023-09-11T13:57:36+00:00",
          "2023-09-11T13:57:36+00:00",
          "2023-09-08T20:53:22+00:00",
          "2023-09-07T13:09:20+00:00",
          "2023-09-01T15:28:55+00:00",
          "2023-09-05T14:51:22+00:00",
          "2023-09-05T14:51:22+00:00",
          "2023-09-05T14:31:20+00:00"
         ],
         "xaxis": "x",
         "y": [
          169,
          169,
          179,
          179,
          179,
          179,
          179,
          179,
          179,
          179,
          179,
          179,
          179,
          179,
          179,
          179,
          179,
          179,
          179,
          179,
          179,
          179,
          179,
          179,
          179,
          179,
          179,
          179,
          179,
          179,
          179,
          179,
          179,
          179,
          179,
          179,
          179,
          179,
          179,
          179,
          179,
          179,
          179,
          179,
          179,
          179,
          179,
          179,
          179,
          179
         ],
         "yaxis": "y"
        }
       ],
       "layout": {
        "legend": {
         "title": {
          "text": "Ticket"
         },
         "tracegroupgap": 0
        },
        "template": {
         "data": {
          "bar": [
           {
            "error_x": {
             "color": "#f2f5fa"
            },
            "error_y": {
             "color": "#f2f5fa"
            },
            "marker": {
             "line": {
              "color": "rgb(17,17,17)",
              "width": 0.5
             },
             "pattern": {
              "fillmode": "overlay",
              "size": 10,
              "solidity": 0.2
             }
            },
            "type": "bar"
           }
          ],
          "barpolar": [
           {
            "marker": {
             "line": {
              "color": "rgb(17,17,17)",
              "width": 0.5
             },
             "pattern": {
              "fillmode": "overlay",
              "size": 10,
              "solidity": 0.2
             }
            },
            "type": "barpolar"
           }
          ],
          "carpet": [
           {
            "aaxis": {
             "endlinecolor": "#A2B1C6",
             "gridcolor": "#506784",
             "linecolor": "#506784",
             "minorgridcolor": "#506784",
             "startlinecolor": "#A2B1C6"
            },
            "baxis": {
             "endlinecolor": "#A2B1C6",
             "gridcolor": "#506784",
             "linecolor": "#506784",
             "minorgridcolor": "#506784",
             "startlinecolor": "#A2B1C6"
            },
            "type": "carpet"
           }
          ],
          "choropleth": [
           {
            "colorbar": {
             "outlinewidth": 0,
             "ticks": ""
            },
            "type": "choropleth"
           }
          ],
          "contour": [
           {
            "colorbar": {
             "outlinewidth": 0,
             "ticks": ""
            },
            "colorscale": [
             [
              0,
              "#0d0887"
             ],
             [
              0.1111111111111111,
              "#46039f"
             ],
             [
              0.2222222222222222,
              "#7201a8"
             ],
             [
              0.3333333333333333,
              "#9c179e"
             ],
             [
              0.4444444444444444,
              "#bd3786"
             ],
             [
              0.5555555555555556,
              "#d8576b"
             ],
             [
              0.6666666666666666,
              "#ed7953"
             ],
             [
              0.7777777777777778,
              "#fb9f3a"
             ],
             [
              0.8888888888888888,
              "#fdca26"
             ],
             [
              1,
              "#f0f921"
             ]
            ],
            "type": "contour"
           }
          ],
          "contourcarpet": [
           {
            "colorbar": {
             "outlinewidth": 0,
             "ticks": ""
            },
            "type": "contourcarpet"
           }
          ],
          "heatmap": [
           {
            "colorbar": {
             "outlinewidth": 0,
             "ticks": ""
            },
            "colorscale": [
             [
              0,
              "#0d0887"
             ],
             [
              0.1111111111111111,
              "#46039f"
             ],
             [
              0.2222222222222222,
              "#7201a8"
             ],
             [
              0.3333333333333333,
              "#9c179e"
             ],
             [
              0.4444444444444444,
              "#bd3786"
             ],
             [
              0.5555555555555556,
              "#d8576b"
             ],
             [
              0.6666666666666666,
              "#ed7953"
             ],
             [
              0.7777777777777778,
              "#fb9f3a"
             ],
             [
              0.8888888888888888,
              "#fdca26"
             ],
             [
              1,
              "#f0f921"
             ]
            ],
            "type": "heatmap"
           }
          ],
          "heatmapgl": [
           {
            "colorbar": {
             "outlinewidth": 0,
             "ticks": ""
            },
            "colorscale": [
             [
              0,
              "#0d0887"
             ],
             [
              0.1111111111111111,
              "#46039f"
             ],
             [
              0.2222222222222222,
              "#7201a8"
             ],
             [
              0.3333333333333333,
              "#9c179e"
             ],
             [
              0.4444444444444444,
              "#bd3786"
             ],
             [
              0.5555555555555556,
              "#d8576b"
             ],
             [
              0.6666666666666666,
              "#ed7953"
             ],
             [
              0.7777777777777778,
              "#fb9f3a"
             ],
             [
              0.8888888888888888,
              "#fdca26"
             ],
             [
              1,
              "#f0f921"
             ]
            ],
            "type": "heatmapgl"
           }
          ],
          "histogram": [
           {
            "marker": {
             "pattern": {
              "fillmode": "overlay",
              "size": 10,
              "solidity": 0.2
             }
            },
            "type": "histogram"
           }
          ],
          "histogram2d": [
           {
            "colorbar": {
             "outlinewidth": 0,
             "ticks": ""
            },
            "colorscale": [
             [
              0,
              "#0d0887"
             ],
             [
              0.1111111111111111,
              "#46039f"
             ],
             [
              0.2222222222222222,
              "#7201a8"
             ],
             [
              0.3333333333333333,
              "#9c179e"
             ],
             [
              0.4444444444444444,
              "#bd3786"
             ],
             [
              0.5555555555555556,
              "#d8576b"
             ],
             [
              0.6666666666666666,
              "#ed7953"
             ],
             [
              0.7777777777777778,
              "#fb9f3a"
             ],
             [
              0.8888888888888888,
              "#fdca26"
             ],
             [
              1,
              "#f0f921"
             ]
            ],
            "type": "histogram2d"
           }
          ],
          "histogram2dcontour": [
           {
            "colorbar": {
             "outlinewidth": 0,
             "ticks": ""
            },
            "colorscale": [
             [
              0,
              "#0d0887"
             ],
             [
              0.1111111111111111,
              "#46039f"
             ],
             [
              0.2222222222222222,
              "#7201a8"
             ],
             [
              0.3333333333333333,
              "#9c179e"
             ],
             [
              0.4444444444444444,
              "#bd3786"
             ],
             [
              0.5555555555555556,
              "#d8576b"
             ],
             [
              0.6666666666666666,
              "#ed7953"
             ],
             [
              0.7777777777777778,
              "#fb9f3a"
             ],
             [
              0.8888888888888888,
              "#fdca26"
             ],
             [
              1,
              "#f0f921"
             ]
            ],
            "type": "histogram2dcontour"
           }
          ],
          "mesh3d": [
           {
            "colorbar": {
             "outlinewidth": 0,
             "ticks": ""
            },
            "type": "mesh3d"
           }
          ],
          "parcoords": [
           {
            "line": {
             "colorbar": {
              "outlinewidth": 0,
              "ticks": ""
             }
            },
            "type": "parcoords"
           }
          ],
          "pie": [
           {
            "automargin": true,
            "type": "pie"
           }
          ],
          "scatter": [
           {
            "marker": {
             "line": {
              "color": "#283442"
             }
            },
            "type": "scatter"
           }
          ],
          "scatter3d": [
           {
            "line": {
             "colorbar": {
              "outlinewidth": 0,
              "ticks": ""
             }
            },
            "marker": {
             "colorbar": {
              "outlinewidth": 0,
              "ticks": ""
             }
            },
            "type": "scatter3d"
           }
          ],
          "scattercarpet": [
           {
            "marker": {
             "colorbar": {
              "outlinewidth": 0,
              "ticks": ""
             }
            },
            "type": "scattercarpet"
           }
          ],
          "scattergeo": [
           {
            "marker": {
             "colorbar": {
              "outlinewidth": 0,
              "ticks": ""
             }
            },
            "type": "scattergeo"
           }
          ],
          "scattergl": [
           {
            "marker": {
             "line": {
              "color": "#283442"
             }
            },
            "type": "scattergl"
           }
          ],
          "scattermapbox": [
           {
            "marker": {
             "colorbar": {
              "outlinewidth": 0,
              "ticks": ""
             }
            },
            "type": "scattermapbox"
           }
          ],
          "scatterpolar": [
           {
            "marker": {
             "colorbar": {
              "outlinewidth": 0,
              "ticks": ""
             }
            },
            "type": "scatterpolar"
           }
          ],
          "scatterpolargl": [
           {
            "marker": {
             "colorbar": {
              "outlinewidth": 0,
              "ticks": ""
             }
            },
            "type": "scatterpolargl"
           }
          ],
          "scatterternary": [
           {
            "marker": {
             "colorbar": {
              "outlinewidth": 0,
              "ticks": ""
             }
            },
            "type": "scatterternary"
           }
          ],
          "surface": [
           {
            "colorbar": {
             "outlinewidth": 0,
             "ticks": ""
            },
            "colorscale": [
             [
              0,
              "#0d0887"
             ],
             [
              0.1111111111111111,
              "#46039f"
             ],
             [
              0.2222222222222222,
              "#7201a8"
             ],
             [
              0.3333333333333333,
              "#9c179e"
             ],
             [
              0.4444444444444444,
              "#bd3786"
             ],
             [
              0.5555555555555556,
              "#d8576b"
             ],
             [
              0.6666666666666666,
              "#ed7953"
             ],
             [
              0.7777777777777778,
              "#fb9f3a"
             ],
             [
              0.8888888888888888,
              "#fdca26"
             ],
             [
              1,
              "#f0f921"
             ]
            ],
            "type": "surface"
           }
          ],
          "table": [
           {
            "cells": {
             "fill": {
              "color": "#506784"
             },
             "line": {
              "color": "rgb(17,17,17)"
             }
            },
            "header": {
             "fill": {
              "color": "#2a3f5f"
             },
             "line": {
              "color": "rgb(17,17,17)"
             }
            },
            "type": "table"
           }
          ]
         },
         "layout": {
          "annotationdefaults": {
           "arrowcolor": "#f2f5fa",
           "arrowhead": 0,
           "arrowwidth": 1
          },
          "autotypenumbers": "strict",
          "coloraxis": {
           "colorbar": {
            "outlinewidth": 0,
            "ticks": ""
           }
          },
          "colorscale": {
           "diverging": [
            [
             0,
             "#8e0152"
            ],
            [
             0.1,
             "#c51b7d"
            ],
            [
             0.2,
             "#de77ae"
            ],
            [
             0.3,
             "#f1b6da"
            ],
            [
             0.4,
             "#fde0ef"
            ],
            [
             0.5,
             "#f7f7f7"
            ],
            [
             0.6,
             "#e6f5d0"
            ],
            [
             0.7,
             "#b8e186"
            ],
            [
             0.8,
             "#7fbc41"
            ],
            [
             0.9,
             "#4d9221"
            ],
            [
             1,
             "#276419"
            ]
           ],
           "sequential": [
            [
             0,
             "#0d0887"
            ],
            [
             0.1111111111111111,
             "#46039f"
            ],
            [
             0.2222222222222222,
             "#7201a8"
            ],
            [
             0.3333333333333333,
             "#9c179e"
            ],
            [
             0.4444444444444444,
             "#bd3786"
            ],
            [
             0.5555555555555556,
             "#d8576b"
            ],
            [
             0.6666666666666666,
             "#ed7953"
            ],
            [
             0.7777777777777778,
             "#fb9f3a"
            ],
            [
             0.8888888888888888,
             "#fdca26"
            ],
            [
             1,
             "#f0f921"
            ]
           ],
           "sequentialminus": [
            [
             0,
             "#0d0887"
            ],
            [
             0.1111111111111111,
             "#46039f"
            ],
            [
             0.2222222222222222,
             "#7201a8"
            ],
            [
             0.3333333333333333,
             "#9c179e"
            ],
            [
             0.4444444444444444,
             "#bd3786"
            ],
            [
             0.5555555555555556,
             "#d8576b"
            ],
            [
             0.6666666666666666,
             "#ed7953"
            ],
            [
             0.7777777777777778,
             "#fb9f3a"
            ],
            [
             0.8888888888888888,
             "#fdca26"
            ],
            [
             1,
             "#f0f921"
            ]
           ]
          },
          "colorway": [
           "#636efa",
           "#EF553B",
           "#00cc96",
           "#ab63fa",
           "#FFA15A",
           "#19d3f3",
           "#FF6692",
           "#B6E880",
           "#FF97FF",
           "#FECB52"
          ],
          "font": {
           "color": "#f2f5fa"
          },
          "geo": {
           "bgcolor": "rgb(17,17,17)",
           "lakecolor": "rgb(17,17,17)",
           "landcolor": "rgb(17,17,17)",
           "showlakes": true,
           "showland": true,
           "subunitcolor": "#506784"
          },
          "hoverlabel": {
           "align": "left"
          },
          "hovermode": "closest",
          "mapbox": {
           "style": "dark"
          },
          "paper_bgcolor": "rgb(17,17,17)",
          "plot_bgcolor": "rgb(17,17,17)",
          "polar": {
           "angularaxis": {
            "gridcolor": "#506784",
            "linecolor": "#506784",
            "ticks": ""
           },
           "bgcolor": "rgb(17,17,17)",
           "radialaxis": {
            "gridcolor": "#506784",
            "linecolor": "#506784",
            "ticks": ""
           }
          },
          "scene": {
           "xaxis": {
            "backgroundcolor": "rgb(17,17,17)",
            "gridcolor": "#506784",
            "gridwidth": 2,
            "linecolor": "#506784",
            "showbackground": true,
            "ticks": "",
            "zerolinecolor": "#C8D4E3"
           },
           "yaxis": {
            "backgroundcolor": "rgb(17,17,17)",
            "gridcolor": "#506784",
            "gridwidth": 2,
            "linecolor": "#506784",
            "showbackground": true,
            "ticks": "",
            "zerolinecolor": "#C8D4E3"
           },
           "zaxis": {
            "backgroundcolor": "rgb(17,17,17)",
            "gridcolor": "#506784",
            "gridwidth": 2,
            "linecolor": "#506784",
            "showbackground": true,
            "ticks": "",
            "zerolinecolor": "#C8D4E3"
           }
          },
          "shapedefaults": {
           "line": {
            "color": "#f2f5fa"
           }
          },
          "sliderdefaults": {
           "bgcolor": "#C8D4E3",
           "bordercolor": "rgb(17,17,17)",
           "borderwidth": 1,
           "tickwidth": 0
          },
          "ternary": {
           "aaxis": {
            "gridcolor": "#506784",
            "linecolor": "#506784",
            "ticks": ""
           },
           "baxis": {
            "gridcolor": "#506784",
            "linecolor": "#506784",
            "ticks": ""
           },
           "bgcolor": "rgb(17,17,17)",
           "caxis": {
            "gridcolor": "#506784",
            "linecolor": "#506784",
            "ticks": ""
           }
          },
          "title": {
           "x": 0.05
          },
          "updatemenudefaults": {
           "bgcolor": "#506784",
           "borderwidth": 0
          },
          "xaxis": {
           "automargin": true,
           "gridcolor": "#283442",
           "linecolor": "#506784",
           "ticks": "",
           "title": {
            "standoff": 15
           },
           "zerolinecolor": "#283442",
           "zerolinewidth": 2
          },
          "yaxis": {
           "automargin": true,
           "gridcolor": "#283442",
           "linecolor": "#506784",
           "ticks": "",
           "title": {
            "standoff": 15
           },
           "zerolinecolor": "#283442",
           "zerolinewidth": 2
          }
         }
        },
        "title": {
         "text": "Momentum 23 Order Price by Date & Ticket Type"
        },
        "xaxis": {
         "anchor": "y",
         "domain": [
          0,
          1
         ],
         "title": {
          "text": "Order Date"
         }
        },
        "yaxis": {
         "anchor": "x",
         "domain": [
          0,
          1
         ],
         "title": {
          "text": "Price"
         }
        }
       }
      }
     },
     "metadata": {},
     "output_type": "display_data"
    }
   ],
   "source": [
    "px.scatter(df23[df23['Price'] > 0].sort_values('Price'), x='Order Date', y='Price', color='Ticket', title='Momentum 23 Order Price by Date & Ticket Type', color_discrete_sequence=px.colors.sequential.Agsunset_r)"
   ]
  },
  {
   "cell_type": "code",
   "execution_count": 538,
   "metadata": {},
   "outputs": [
    {
     "name": "stderr",
     "output_type": "stream",
     "text": [
      "/home/matteland/anaconda3/lib/python3.11/site-packages/_plotly_utils/basevalidators.py:106: FutureWarning:\n",
      "\n",
      "The behavior of DatetimeProperties.to_pydatetime is deprecated, in a future version this will return a Series containing python datetime objects instead of an ndarray. To retain the old behavior, call `np.array` on the result\n",
      "\n"
     ]
    },
    {
     "data": {
      "application/vnd.plotly.v1+json": {
       "config": {
        "plotlyServerURL": "https://plot.ly"
       },
       "data": [
        {
         "coloraxis": "coloraxis",
         "hovertemplate": "Order Date=%{x}<br>Ticket=%{y}<br>count=%{z}<extra></extra>",
         "name": "",
         "type": "histogram2d",
         "x": [
          "2023-06-28T20:49:38+00:00",
          "2023-07-03T19:26:20+00:00",
          "2023-07-05T11:41:29+00:00",
          "2023-07-10T16:37:15+00:00",
          "2023-07-10T16:37:15+00:00",
          "2023-07-10T16:37:15+00:00",
          "2023-07-11T15:12:51+00:00",
          "2023-07-11T17:05:52+00:00",
          "2023-07-14T17:19:43+00:00",
          "2023-07-14T17:19:43+00:00",
          "2023-07-14T17:19:43+00:00",
          "2023-07-14T17:19:43+00:00",
          "2023-07-14T17:19:43+00:00",
          "2023-07-14T18:59:30+00:00",
          "2023-07-17T18:03:49+00:00",
          "2023-07-18T02:03:29+00:00",
          "2023-07-19T17:07:11+00:00",
          "2023-07-20T12:35:54+00:00",
          "2023-07-20T18:53:49+00:00",
          "2023-07-24T23:21:36+00:00",
          "2023-07-31T13:26:42+00:00",
          "2023-07-31T13:26:42+00:00",
          "2023-08-01T00:22:40+00:00",
          "2023-08-02T02:18:07+00:00",
          "2023-08-02T18:03:03+00:00",
          "2023-08-03T20:16:13+00:00",
          "2023-08-04T19:21:14+00:00",
          "2023-08-05T15:10:09+00:00",
          "2023-08-09T13:11:20+00:00",
          "2023-08-09T14:43:54+00:00",
          "2023-08-09T15:04:42+00:00",
          "2023-08-09T15:07:17+00:00",
          "2023-08-09T15:22:01+00:00",
          "2023-08-09T18:02:24+00:00",
          "2023-08-09T18:02:24+00:00",
          "2023-08-09T18:02:24+00:00",
          "2023-08-09T18:02:24+00:00",
          "2023-08-09T18:02:24+00:00",
          "2023-08-09T18:02:24+00:00",
          "2023-08-09T18:02:24+00:00",
          "2023-08-09T18:02:24+00:00",
          "2023-08-09T18:02:24+00:00",
          "2023-08-09T18:02:24+00:00",
          "2023-08-09T18:02:24+00:00",
          "2023-08-09T18:02:24+00:00",
          "2023-08-09T18:02:24+00:00",
          "2023-08-09T18:02:24+00:00",
          "2023-08-09T18:02:24+00:00",
          "2023-08-09T18:02:24+00:00",
          "2023-08-09T18:02:24+00:00",
          "2023-08-09T18:02:24+00:00",
          "2023-08-09T18:02:24+00:00",
          "2023-08-09T18:02:24+00:00",
          "2023-08-09T18:02:24+00:00",
          "2023-08-09T18:02:24+00:00",
          "2023-08-09T18:02:24+00:00",
          "2023-08-09T18:02:24+00:00",
          "2023-08-09T18:02:24+00:00",
          "2023-08-09T18:02:24+00:00",
          "2023-08-09T18:02:24+00:00",
          "2023-08-09T18:02:24+00:00",
          "2023-08-09T18:02:24+00:00",
          "2023-08-09T18:02:24+00:00",
          "2023-08-09T18:02:24+00:00",
          "2023-08-09T18:02:24+00:00",
          "2023-08-09T18:02:24+00:00",
          "2023-08-09T18:02:24+00:00",
          "2023-08-09T18:02:24+00:00",
          "2023-08-09T18:02:24+00:00",
          "2023-08-09T18:02:24+00:00",
          "2023-08-09T18:02:24+00:00",
          "2023-08-09T18:02:24+00:00",
          "2023-08-09T18:02:24+00:00",
          "2023-08-09T18:02:24+00:00",
          "2023-08-09T18:02:24+00:00",
          "2023-08-09T18:02:24+00:00",
          "2023-08-09T18:02:24+00:00",
          "2023-08-09T18:02:24+00:00",
          "2023-08-09T18:02:24+00:00",
          "2023-08-09T18:02:24+00:00",
          "2023-08-09T18:02:24+00:00",
          "2023-08-09T18:02:24+00:00",
          "2023-08-09T18:02:24+00:00",
          "2023-08-09T19:11:04+00:00",
          "2023-08-09T19:11:04+00:00",
          "2023-08-09T19:11:04+00:00",
          "2023-08-09T19:11:04+00:00",
          "2023-08-09T19:11:04+00:00",
          "2023-08-09T19:11:04+00:00",
          "2023-08-09T19:11:04+00:00",
          "2023-08-09T19:11:04+00:00",
          "2023-08-09T19:11:04+00:00",
          "2023-08-09T19:11:04+00:00",
          "2023-08-09T19:11:04+00:00",
          "2023-08-09T19:11:04+00:00",
          "2023-08-09T19:11:04+00:00",
          "2023-08-09T19:11:04+00:00",
          "2023-08-09T19:11:04+00:00",
          "2023-08-09T19:11:04+00:00",
          "2023-08-09T19:11:04+00:00",
          "2023-08-09T19:11:04+00:00",
          "2023-08-09T19:11:04+00:00",
          "2023-08-09T19:11:04+00:00",
          "2023-08-09T19:11:04+00:00",
          "2023-08-09T19:11:04+00:00",
          "2023-08-09T19:11:04+00:00",
          "2023-08-09T19:11:04+00:00",
          "2023-08-09T19:11:04+00:00",
          "2023-08-09T19:11:04+00:00",
          "2023-08-09T19:11:04+00:00",
          "2023-08-09T19:11:04+00:00",
          "2023-08-09T19:11:04+00:00",
          "2023-08-10T14:27:47+00:00",
          "2023-08-10T20:49:11+00:00",
          "2023-08-10T20:49:11+00:00",
          "2023-08-11T11:34:00+00:00",
          "2023-08-11T11:34:00+00:00",
          "2023-08-11T19:20:28+00:00",
          "2023-08-11T20:47:40+00:00",
          "2023-08-12T21:39:05+00:00",
          "2023-08-13T11:46:08+00:00",
          "2023-08-14T13:06:36+00:00",
          "2023-08-14T14:27:22+00:00",
          "2023-08-14T14:57:08+00:00",
          "2023-08-14T15:29:19+00:00",
          "2023-08-14T15:29:19+00:00",
          "2023-08-14T15:29:19+00:00",
          "2023-08-14T15:29:19+00:00",
          "2023-08-14T15:29:19+00:00",
          "2023-08-14T15:29:19+00:00",
          "2023-08-14T15:29:19+00:00",
          "2023-08-14T15:44:19+00:00",
          "2023-08-14T15:44:19+00:00",
          "2023-08-14T15:44:19+00:00",
          "2023-08-14T15:44:19+00:00",
          "2023-08-14T16:09:47+00:00",
          "2023-08-14T16:09:47+00:00",
          "2023-08-14T16:09:47+00:00",
          "2023-08-14T16:09:47+00:00",
          "2023-08-14T16:09:47+00:00",
          "2023-08-14T16:09:47+00:00",
          "2023-08-14T16:09:47+00:00",
          "2023-08-14T16:09:47+00:00",
          "2023-08-14T16:09:47+00:00",
          "2023-08-14T16:09:47+00:00",
          "2023-08-14T16:18:28+00:00",
          "2023-08-14T16:18:28+00:00",
          "2023-08-14T16:18:28+00:00",
          "2023-08-14T16:34:09+00:00",
          "2023-08-14T17:43:59+00:00",
          "2023-08-14T18:13:12+00:00",
          "2023-08-14T18:13:12+00:00",
          "2023-08-14T18:35:15+00:00",
          "2023-08-14T19:27:47+00:00",
          "2023-08-14T19:27:47+00:00",
          "2023-08-14T19:27:47+00:00",
          "2023-08-14T19:27:47+00:00",
          "2023-08-14T19:27:47+00:00",
          "2023-08-14T19:27:47+00:00",
          "2023-08-14T19:27:47+00:00",
          "2023-08-14T20:00:42+00:00",
          "2023-08-14T20:59:21+00:00",
          "2023-08-14T20:59:21+00:00",
          "2023-08-14T20:59:21+00:00",
          "2023-08-11T20:17:48+00:00",
          "2023-08-11T20:17:48+00:00",
          "2023-08-11T20:17:48+00:00",
          "2023-08-11T20:17:48+00:00",
          "2023-08-11T20:17:48+00:00",
          "2023-08-11T20:17:48+00:00",
          "2023-08-11T20:17:48+00:00",
          "2023-08-14T23:17:04+00:00",
          "2023-08-15T01:18:28+00:00",
          "2023-08-15T01:33:48+00:00",
          "2023-08-15T01:43:42+00:00",
          "2023-08-15T01:43:42+00:00",
          "2023-08-15T01:43:42+00:00",
          "2023-08-15T02:26:07+00:00",
          "2023-08-15T11:56:49+00:00",
          "2023-08-15T12:38:27+00:00",
          "2023-08-15T12:56:20+00:00",
          "2023-08-15T13:23:42+00:00",
          "2023-08-15T13:31:20+00:00",
          "2023-08-15T13:35:39+00:00",
          "2023-08-15T14:22:59+00:00",
          "2023-08-15T15:33:38+00:00",
          "2023-08-15T15:36:49+00:00",
          "2023-08-15T15:36:49+00:00",
          "2023-08-15T15:36:49+00:00",
          "2023-08-15T15:36:49+00:00",
          "2023-08-15T15:36:49+00:00",
          "2023-08-15T15:36:49+00:00",
          "2023-08-15T15:36:49+00:00",
          "2023-08-15T16:31:19+00:00",
          "2023-08-15T16:40:19+00:00",
          "2023-08-15T17:15:19+00:00",
          "2023-08-15T18:17:54+00:00",
          "2023-08-15T18:47:33+00:00",
          "2023-08-15T19:08:06+00:00",
          "2023-08-15T19:14:37+00:00",
          "2023-08-15T19:18:37+00:00",
          "2023-08-15T20:26:38+00:00",
          "2023-08-15T21:08:58+00:00",
          "2023-08-15T21:08:58+00:00",
          "2023-08-15T21:08:58+00:00",
          "2023-08-15T21:08:58+00:00",
          "2023-08-15T21:08:58+00:00",
          "2023-08-15T21:08:58+00:00",
          "2023-08-15T21:08:58+00:00",
          "2023-08-15T21:08:58+00:00",
          "2023-08-15T21:08:58+00:00",
          "2023-08-15T21:08:58+00:00",
          "2023-08-15T21:08:58+00:00",
          "2023-08-15T21:08:58+00:00",
          "2023-08-15T21:42:25+00:00",
          "2023-08-15T21:48:43+00:00",
          "2023-08-15T21:48:43+00:00",
          "2023-08-15T21:48:43+00:00",
          "2023-08-16T00:28:17+00:00",
          "2023-08-16T00:28:17+00:00",
          "2023-08-16T00:28:17+00:00",
          "2023-08-16T00:28:17+00:00",
          "2023-08-16T00:28:17+00:00",
          "2023-08-16T00:28:17+00:00",
          "2023-08-16T02:35:45+00:00",
          "2023-08-16T02:42:39+00:00",
          "2023-08-16T02:56:29+00:00",
          "2023-08-16T03:12:48+00:00",
          "2023-08-16T17:38:37+00:00",
          "2023-08-22T13:46:41+00:00",
          "2023-08-22T14:15:51+00:00",
          "2023-08-23T13:45:47+00:00",
          "2023-08-23T18:09:45+00:00",
          "2023-08-23T19:22:18+00:00",
          "2023-08-31T13:38:08+00:00",
          "2023-08-31T15:10:31+00:00",
          "2023-09-01T15:28:55+00:00",
          "2023-09-01T15:28:55+00:00",
          "2023-09-01T15:28:55+00:00",
          "2023-09-01T15:28:55+00:00",
          "2023-09-01T15:45:26+00:00",
          "2023-09-01T19:27:53+00:00",
          "2023-09-05T14:51:22+00:00",
          "2023-09-05T14:51:22+00:00",
          "2023-09-05T14:51:22+00:00",
          "2023-09-05T14:51:22+00:00",
          "2023-09-05T14:51:22+00:00",
          "2023-09-05T14:31:20+00:00",
          "2023-09-07T13:09:20+00:00",
          "2023-09-08T15:40:00+00:00",
          "2023-09-08T20:53:22+00:00",
          "2023-09-11T13:57:36+00:00",
          "2023-09-11T13:57:36+00:00",
          "2023-09-12T12:31:43+00:00",
          "2023-09-12T16:29:34+00:00",
          "2023-09-12T17:42:56+00:00",
          "2023-09-12T19:15:05+00:00",
          "2023-09-13T14:08:59+00:00",
          "2023-09-13T18:18:42+00:00",
          "2023-09-14T01:22:06+00:00",
          "2023-09-14T10:36:53+00:00",
          "2023-09-14T12:43:41+00:00",
          "2023-09-14T18:27:34+00:00",
          "2023-09-14T18:44:40+00:00",
          "2023-09-15T00:11:38+00:00",
          "2023-09-15T01:04:13+00:00",
          "2023-09-15T01:04:13+00:00",
          "2023-09-15T01:04:13+00:00",
          "2023-09-15T01:04:13+00:00",
          "2023-09-15T01:04:13+00:00",
          "2023-09-15T01:04:13+00:00",
          "2023-09-15T01:04:13+00:00",
          "2023-09-15T01:04:13+00:00",
          "2023-09-15T01:04:13+00:00",
          "2023-09-15T01:04:13+00:00",
          "2023-09-15T01:04:13+00:00",
          "2023-09-15T15:40:28+00:00",
          "2023-09-15T19:03:09+00:00",
          "2023-09-15T19:03:09+00:00",
          "2023-09-17T02:23:28+00:00",
          "2023-09-18T01:31:15+00:00",
          "2023-09-18T13:00:29+00:00",
          "2023-09-18T15:15:36+00:00",
          "2023-09-18T20:08:07+00:00",
          "2023-09-19T01:33:05+00:00",
          "2023-09-20T13:02:19+00:00",
          "2023-09-20T21:26:37+00:00",
          "2023-09-20T22:09:20+00:00",
          "2023-09-21T23:15:51+00:00",
          "2023-09-22T11:22:39+00:00",
          "2023-09-22T12:59:25+00:00",
          "2023-09-22T18:57:13+00:00",
          "2023-09-22T18:57:13+00:00",
          "2023-09-22T18:57:13+00:00",
          "2023-09-22T18:57:13+00:00",
          "2023-09-22T18:57:13+00:00",
          "2023-09-22T18:57:13+00:00",
          "2023-09-22T18:57:13+00:00",
          "2023-09-22T18:57:13+00:00",
          "2023-09-22T18:57:13+00:00",
          "2023-09-22T18:57:13+00:00",
          "2023-09-22T19:14:53+00:00",
          "2023-09-22T20:04:25+00:00",
          "2023-09-22T20:43:35+00:00",
          "2023-09-22T20:47:43+00:00",
          "2023-09-22T21:10:10+00:00",
          "2023-09-22T21:10:26+00:00",
          "2023-09-22T21:09:46+00:00",
          "2023-09-23T01:13:51+00:00",
          "2023-09-25T14:15:18+00:00",
          "2023-09-25T15:19:04+00:00",
          "2023-09-25T16:58:16+00:00",
          "2023-09-28T13:27:25+00:00",
          "2023-09-28T18:06:22+00:00",
          "2023-09-28T20:19:57+00:00",
          "2023-09-29T17:41:39+00:00",
          "2023-10-03T11:26:52+00:00",
          "2023-10-03T13:22:04+00:00",
          "2023-10-03T13:22:04+00:00",
          "2023-10-04T15:40:44+00:00",
          "2023-10-04T17:46:29+00:00",
          "2023-10-04T19:03:10+00:00",
          "2023-10-04T19:55:06+00:00",
          "2023-10-06T00:31:15+00:00",
          "2023-10-06T01:11:03+00:00",
          "2023-10-06T02:39:45+00:00",
          "2023-10-06T13:02:29+00:00",
          "2023-10-06T21:47:00+00:00",
          "2023-10-08T17:50:40+00:00",
          "2023-10-09T14:41:33+00:00",
          "2023-10-09T19:00:31+00:00",
          "2023-10-10T17:50:36+00:00",
          "2023-10-11T15:03:24+00:00",
          "2023-10-12T15:31:07+00:00",
          "2023-10-12T15:31:07+00:00",
          "2023-10-12T16:19:21+00:00",
          "2023-10-12T19:03:57+00:00",
          "2023-10-13T02:14:04+00:00",
          "2023-10-13T16:04:44+00:00",
          "2023-10-13T17:26:53+00:00",
          "2023-10-16T22:53:26+00:00",
          "2023-10-17T00:11:34+00:00",
          "2023-10-17T15:17:09+00:00",
          "2023-10-17T18:20:32+00:00",
          "2023-10-18T13:40:16+00:00",
          "2023-10-18T15:48:47+00:00",
          "2023-10-18T16:05:07+00:00",
          "2023-10-18T17:10:20+00:00",
          "2023-10-18T17:50:24+00:00",
          "2023-10-18T20:32:20+00:00",
          "2023-10-18T20:53:53+00:00",
          "2023-10-19T12:13:46+00:00",
          "2023-10-19T15:11:26+00:00"
         ],
         "xaxis": "x",
         "xbingroup": "x",
         "y": [
          "Early Bird",
          "Early Bird",
          "Early Bird",
          "Early Bird",
          "Early Bird",
          "Early Bird",
          "Early Bird",
          "Early Bird",
          "Early Bird",
          "Early Bird",
          "Early Bird",
          "Early Bird",
          "Early Bird",
          "Early Bird",
          "Early Bird",
          "Early Bird",
          "Early Bird",
          "Early Bird",
          "Early Bird",
          "Early Bird",
          "Early Bird",
          "Early Bird",
          "Early Bird",
          "Early Bird",
          "Early Bird",
          "Early Bird",
          "Early Bird",
          "Early Bird",
          "Early Bird",
          "Early Bird",
          "Early Bird",
          "Early Bird",
          "Early Bird",
          "Early Bird",
          "Early Bird",
          "Early Bird",
          "Early Bird",
          "Early Bird",
          "Early Bird",
          "Early Bird",
          "Early Bird",
          "Early Bird",
          "Early Bird",
          "Early Bird",
          "Early Bird",
          "Early Bird",
          "Early Bird",
          "Early Bird",
          "Early Bird",
          "Early Bird",
          "Early Bird",
          "Early Bird",
          "Early Bird",
          "Early Bird",
          "Early Bird",
          "Early Bird",
          "Early Bird",
          "Early Bird",
          "Early Bird",
          "Early Bird",
          "Early Bird",
          "Early Bird",
          "Early Bird",
          "Early Bird",
          "Early Bird",
          "Early Bird",
          "Early Bird",
          "Early Bird",
          "Early Bird",
          "Early Bird",
          "Early Bird",
          "Early Bird",
          "Early Bird",
          "Early Bird",
          "Early Bird",
          "Early Bird",
          "Early Bird",
          "Early Bird",
          "Early Bird",
          "Early Bird",
          "Early Bird",
          "Early Bird",
          "Early Bird",
          "Early Bird",
          "Early Bird",
          "Early Bird",
          "Early Bird",
          "Early Bird",
          "Early Bird",
          "Early Bird",
          "Early Bird",
          "Early Bird",
          "Early Bird",
          "Early Bird",
          "Early Bird",
          "Early Bird",
          "Early Bird",
          "Early Bird",
          "Early Bird",
          "Early Bird",
          "Early Bird",
          "Early Bird",
          "Early Bird",
          "Early Bird",
          "Early Bird",
          "Early Bird",
          "Early Bird",
          "Early Bird",
          "Early Bird",
          "Early Bird",
          "Early Bird",
          "Early Bird",
          "Early Bird",
          "Early Bird",
          "Early Bird",
          "Early Bird",
          "Early Bird",
          "Early Bird",
          "Early Bird",
          "Early Bird",
          "Early Student",
          "Early Bird",
          "Early Bird",
          "Early Bird",
          "Early Bird",
          "Early Bird",
          "Early Bird",
          "Early Bird",
          "Early Bird",
          "Early Bird",
          "Early Bird",
          "Early Bird",
          "Early Bird",
          "Early Bird",
          "Early Bird",
          "Early Bird",
          "Early Bird",
          "Early Bird",
          "Early Bird",
          "Early Bird",
          "Early Bird",
          "Early Bird",
          "Early Bird",
          "Early Bird",
          "Early Bird",
          "Early Bird",
          "Early Bird",
          "Early Bird",
          "Early Bird",
          "Early Bird",
          "Early Bird",
          "Early Bird",
          "Early Bird",
          "Early Bird",
          "Early Bird",
          "Early Bird",
          "Early Bird",
          "Early Bird",
          "Early Bird",
          "Early Bird",
          "Early Bird",
          "Early Bird",
          "Early Bird",
          "Early Bird",
          "Early Bird",
          "Early Bird",
          "Early Bird",
          "Early Bird",
          "Early Bird",
          "Early Bird",
          "Early Bird",
          "Early Bird",
          "Early Bird",
          "Early Bird",
          "Early Bird",
          "Early Bird",
          "Early Bird",
          "Early Bird",
          "Early Bird",
          "Early Bird",
          "Early Bird",
          "Early Bird",
          "Early Bird",
          "Early Bird",
          "Early Bird",
          "Early Bird",
          "Early Bird",
          "Early Bird",
          "Early Bird",
          "Early Bird",
          "Early Bird",
          "Early Bird",
          "Early Bird",
          "Early Student",
          "Early Bird",
          "Early Bird",
          "Early Bird",
          "Early Bird",
          "Early Bird",
          "Early Student",
          "Early Bird",
          "Early Bird",
          "Early Bird",
          "Early Bird",
          "Early Bird",
          "Early Bird",
          "Early Bird",
          "Early Bird",
          "Early Bird",
          "Early Bird",
          "Early Bird",
          "Early Bird",
          "Early Bird",
          "Early Bird",
          "Early Bird",
          "Early Bird",
          "Early Bird",
          "Early Bird",
          "Early Bird",
          "Early Bird",
          "Early Bird",
          "Early Bird",
          "Early Bird",
          "Early Bird",
          "Early Bird",
          "Early Bird",
          "Early Bird",
          "Early Bird",
          "Regular Price",
          "Regular Price",
          "Regular Price",
          "Regular Price",
          "Regular Price",
          "Regular Price",
          "Regular Price",
          "Regular Price",
          "Regular Price",
          "Regular Price",
          "Regular Price",
          "Regular Price",
          "Regular Price",
          "Regular Price",
          "Regular Price",
          "Regular Price",
          "Regular Price",
          "Regular Price",
          "Regular Price",
          "Regular Price",
          "Regular Price",
          "Student",
          "Regular Price",
          "Regular Price",
          "Regular Price",
          "Regular Price",
          "Regular Price",
          "Regular Price",
          "Regular Price",
          "Regular Price",
          "Regular Price",
          "Regular Price",
          "Regular Price",
          "Regular Price",
          "Regular Price",
          "Regular Price",
          "Regular Price",
          "Regular Price",
          "Regular Price",
          "Regular Price",
          "Regular Price",
          "Regular Price",
          "Regular Price",
          "Regular Price",
          "Regular Price",
          "Regular Price",
          "Regular Price",
          "Regular Price",
          "Regular Price",
          "Regular Price",
          "Regular Price",
          "Late Registration",
          "Student",
          "Late Registration",
          "Late Registration",
          "Late Registration",
          "Student",
          "Late Registration",
          "Late Registration",
          "Late Registration",
          "Student",
          "Student",
          "Student",
          "Late Registration",
          "Late Registration",
          "Late Registration",
          "Late Registration",
          "Late Registration",
          "Late Registration",
          "Late Registration",
          "Late Registration",
          "Late Registration",
          "Late Registration",
          "Student",
          "Late Registration",
          "Student",
          "Student",
          "Student",
          "Student",
          "Student",
          "Student",
          "Late Registration",
          "Late Registration",
          "Student",
          "Late Registration",
          "Late Registration",
          "Late Registration",
          "Student",
          "Late Registration",
          "Late Registration",
          "Late Registration",
          "Late Registration",
          "Late Registration",
          "Late Registration",
          "Late Registration",
          "Late Registration",
          "Student",
          "Late Registration",
          "Late Registration",
          "Late Registration",
          "Procrastinator Pricing",
          "Procrastinator Pricing",
          "Procrastinator Pricing",
          "Procrastinator Pricing",
          "Procrastinator Pricing",
          "Procrastinator Pricing",
          "Procrastinator Pricing",
          "Procrastinator Pricing",
          "Procrastinator Pricing",
          "Procrastinator Pricing",
          "Procrastinator Pricing",
          "Procrastinator Pricing",
          "Procrastinator Pricing",
          "Procrastinator Pricing",
          "Student",
          "Procrastinator Pricing",
          "Procrastinator Pricing",
          "Procrastinator Pricing",
          "Procrastinator Pricing",
          "Procrastinator Pricing",
          "Procrastinator Pricing",
          "Procrastinator Pricing",
          "Procrastinator Pricing",
          "Procrastinator Pricing",
          "Procrastinator Pricing"
         ],
         "yaxis": "y",
         "ybingroup": "y"
        }
       ],
       "layout": {
        "coloraxis": {
         "colorbar": {
          "title": {
           "text": "count"
          }
         },
         "colorscale": [
          [
           0,
           "rgb(75, 41, 145)"
          ],
          [
           0.16666666666666666,
           "rgb(135, 44, 162)"
          ],
          [
           0.3333333333333333,
           "rgb(192, 54, 157)"
          ],
          [
           0.5,
           "rgb(234, 79, 136)"
          ],
          [
           0.6666666666666666,
           "rgb(250, 120, 118)"
          ],
          [
           0.8333333333333334,
           "rgb(246, 169, 122)"
          ],
          [
           1,
           "rgb(237, 217, 163)"
          ]
         ]
        },
        "legend": {
         "tracegroupgap": 0
        },
        "template": {
         "data": {
          "bar": [
           {
            "error_x": {
             "color": "#f2f5fa"
            },
            "error_y": {
             "color": "#f2f5fa"
            },
            "marker": {
             "line": {
              "color": "rgb(17,17,17)",
              "width": 0.5
             },
             "pattern": {
              "fillmode": "overlay",
              "size": 10,
              "solidity": 0.2
             }
            },
            "type": "bar"
           }
          ],
          "barpolar": [
           {
            "marker": {
             "line": {
              "color": "rgb(17,17,17)",
              "width": 0.5
             },
             "pattern": {
              "fillmode": "overlay",
              "size": 10,
              "solidity": 0.2
             }
            },
            "type": "barpolar"
           }
          ],
          "carpet": [
           {
            "aaxis": {
             "endlinecolor": "#A2B1C6",
             "gridcolor": "#506784",
             "linecolor": "#506784",
             "minorgridcolor": "#506784",
             "startlinecolor": "#A2B1C6"
            },
            "baxis": {
             "endlinecolor": "#A2B1C6",
             "gridcolor": "#506784",
             "linecolor": "#506784",
             "minorgridcolor": "#506784",
             "startlinecolor": "#A2B1C6"
            },
            "type": "carpet"
           }
          ],
          "choropleth": [
           {
            "colorbar": {
             "outlinewidth": 0,
             "ticks": ""
            },
            "type": "choropleth"
           }
          ],
          "contour": [
           {
            "colorbar": {
             "outlinewidth": 0,
             "ticks": ""
            },
            "colorscale": [
             [
              0,
              "#0d0887"
             ],
             [
              0.1111111111111111,
              "#46039f"
             ],
             [
              0.2222222222222222,
              "#7201a8"
             ],
             [
              0.3333333333333333,
              "#9c179e"
             ],
             [
              0.4444444444444444,
              "#bd3786"
             ],
             [
              0.5555555555555556,
              "#d8576b"
             ],
             [
              0.6666666666666666,
              "#ed7953"
             ],
             [
              0.7777777777777778,
              "#fb9f3a"
             ],
             [
              0.8888888888888888,
              "#fdca26"
             ],
             [
              1,
              "#f0f921"
             ]
            ],
            "type": "contour"
           }
          ],
          "contourcarpet": [
           {
            "colorbar": {
             "outlinewidth": 0,
             "ticks": ""
            },
            "type": "contourcarpet"
           }
          ],
          "heatmap": [
           {
            "colorbar": {
             "outlinewidth": 0,
             "ticks": ""
            },
            "colorscale": [
             [
              0,
              "#0d0887"
             ],
             [
              0.1111111111111111,
              "#46039f"
             ],
             [
              0.2222222222222222,
              "#7201a8"
             ],
             [
              0.3333333333333333,
              "#9c179e"
             ],
             [
              0.4444444444444444,
              "#bd3786"
             ],
             [
              0.5555555555555556,
              "#d8576b"
             ],
             [
              0.6666666666666666,
              "#ed7953"
             ],
             [
              0.7777777777777778,
              "#fb9f3a"
             ],
             [
              0.8888888888888888,
              "#fdca26"
             ],
             [
              1,
              "#f0f921"
             ]
            ],
            "type": "heatmap"
           }
          ],
          "heatmapgl": [
           {
            "colorbar": {
             "outlinewidth": 0,
             "ticks": ""
            },
            "colorscale": [
             [
              0,
              "#0d0887"
             ],
             [
              0.1111111111111111,
              "#46039f"
             ],
             [
              0.2222222222222222,
              "#7201a8"
             ],
             [
              0.3333333333333333,
              "#9c179e"
             ],
             [
              0.4444444444444444,
              "#bd3786"
             ],
             [
              0.5555555555555556,
              "#d8576b"
             ],
             [
              0.6666666666666666,
              "#ed7953"
             ],
             [
              0.7777777777777778,
              "#fb9f3a"
             ],
             [
              0.8888888888888888,
              "#fdca26"
             ],
             [
              1,
              "#f0f921"
             ]
            ],
            "type": "heatmapgl"
           }
          ],
          "histogram": [
           {
            "marker": {
             "pattern": {
              "fillmode": "overlay",
              "size": 10,
              "solidity": 0.2
             }
            },
            "type": "histogram"
           }
          ],
          "histogram2d": [
           {
            "colorbar": {
             "outlinewidth": 0,
             "ticks": ""
            },
            "colorscale": [
             [
              0,
              "#0d0887"
             ],
             [
              0.1111111111111111,
              "#46039f"
             ],
             [
              0.2222222222222222,
              "#7201a8"
             ],
             [
              0.3333333333333333,
              "#9c179e"
             ],
             [
              0.4444444444444444,
              "#bd3786"
             ],
             [
              0.5555555555555556,
              "#d8576b"
             ],
             [
              0.6666666666666666,
              "#ed7953"
             ],
             [
              0.7777777777777778,
              "#fb9f3a"
             ],
             [
              0.8888888888888888,
              "#fdca26"
             ],
             [
              1,
              "#f0f921"
             ]
            ],
            "type": "histogram2d"
           }
          ],
          "histogram2dcontour": [
           {
            "colorbar": {
             "outlinewidth": 0,
             "ticks": ""
            },
            "colorscale": [
             [
              0,
              "#0d0887"
             ],
             [
              0.1111111111111111,
              "#46039f"
             ],
             [
              0.2222222222222222,
              "#7201a8"
             ],
             [
              0.3333333333333333,
              "#9c179e"
             ],
             [
              0.4444444444444444,
              "#bd3786"
             ],
             [
              0.5555555555555556,
              "#d8576b"
             ],
             [
              0.6666666666666666,
              "#ed7953"
             ],
             [
              0.7777777777777778,
              "#fb9f3a"
             ],
             [
              0.8888888888888888,
              "#fdca26"
             ],
             [
              1,
              "#f0f921"
             ]
            ],
            "type": "histogram2dcontour"
           }
          ],
          "mesh3d": [
           {
            "colorbar": {
             "outlinewidth": 0,
             "ticks": ""
            },
            "type": "mesh3d"
           }
          ],
          "parcoords": [
           {
            "line": {
             "colorbar": {
              "outlinewidth": 0,
              "ticks": ""
             }
            },
            "type": "parcoords"
           }
          ],
          "pie": [
           {
            "automargin": true,
            "type": "pie"
           }
          ],
          "scatter": [
           {
            "marker": {
             "line": {
              "color": "#283442"
             }
            },
            "type": "scatter"
           }
          ],
          "scatter3d": [
           {
            "line": {
             "colorbar": {
              "outlinewidth": 0,
              "ticks": ""
             }
            },
            "marker": {
             "colorbar": {
              "outlinewidth": 0,
              "ticks": ""
             }
            },
            "type": "scatter3d"
           }
          ],
          "scattercarpet": [
           {
            "marker": {
             "colorbar": {
              "outlinewidth": 0,
              "ticks": ""
             }
            },
            "type": "scattercarpet"
           }
          ],
          "scattergeo": [
           {
            "marker": {
             "colorbar": {
              "outlinewidth": 0,
              "ticks": ""
             }
            },
            "type": "scattergeo"
           }
          ],
          "scattergl": [
           {
            "marker": {
             "line": {
              "color": "#283442"
             }
            },
            "type": "scattergl"
           }
          ],
          "scattermapbox": [
           {
            "marker": {
             "colorbar": {
              "outlinewidth": 0,
              "ticks": ""
             }
            },
            "type": "scattermapbox"
           }
          ],
          "scatterpolar": [
           {
            "marker": {
             "colorbar": {
              "outlinewidth": 0,
              "ticks": ""
             }
            },
            "type": "scatterpolar"
           }
          ],
          "scatterpolargl": [
           {
            "marker": {
             "colorbar": {
              "outlinewidth": 0,
              "ticks": ""
             }
            },
            "type": "scatterpolargl"
           }
          ],
          "scatterternary": [
           {
            "marker": {
             "colorbar": {
              "outlinewidth": 0,
              "ticks": ""
             }
            },
            "type": "scatterternary"
           }
          ],
          "surface": [
           {
            "colorbar": {
             "outlinewidth": 0,
             "ticks": ""
            },
            "colorscale": [
             [
              0,
              "#0d0887"
             ],
             [
              0.1111111111111111,
              "#46039f"
             ],
             [
              0.2222222222222222,
              "#7201a8"
             ],
             [
              0.3333333333333333,
              "#9c179e"
             ],
             [
              0.4444444444444444,
              "#bd3786"
             ],
             [
              0.5555555555555556,
              "#d8576b"
             ],
             [
              0.6666666666666666,
              "#ed7953"
             ],
             [
              0.7777777777777778,
              "#fb9f3a"
             ],
             [
              0.8888888888888888,
              "#fdca26"
             ],
             [
              1,
              "#f0f921"
             ]
            ],
            "type": "surface"
           }
          ],
          "table": [
           {
            "cells": {
             "fill": {
              "color": "#506784"
             },
             "line": {
              "color": "rgb(17,17,17)"
             }
            },
            "header": {
             "fill": {
              "color": "#2a3f5f"
             },
             "line": {
              "color": "rgb(17,17,17)"
             }
            },
            "type": "table"
           }
          ]
         },
         "layout": {
          "annotationdefaults": {
           "arrowcolor": "#f2f5fa",
           "arrowhead": 0,
           "arrowwidth": 1
          },
          "autotypenumbers": "strict",
          "coloraxis": {
           "colorbar": {
            "outlinewidth": 0,
            "ticks": ""
           }
          },
          "colorscale": {
           "diverging": [
            [
             0,
             "#8e0152"
            ],
            [
             0.1,
             "#c51b7d"
            ],
            [
             0.2,
             "#de77ae"
            ],
            [
             0.3,
             "#f1b6da"
            ],
            [
             0.4,
             "#fde0ef"
            ],
            [
             0.5,
             "#f7f7f7"
            ],
            [
             0.6,
             "#e6f5d0"
            ],
            [
             0.7,
             "#b8e186"
            ],
            [
             0.8,
             "#7fbc41"
            ],
            [
             0.9,
             "#4d9221"
            ],
            [
             1,
             "#276419"
            ]
           ],
           "sequential": [
            [
             0,
             "#0d0887"
            ],
            [
             0.1111111111111111,
             "#46039f"
            ],
            [
             0.2222222222222222,
             "#7201a8"
            ],
            [
             0.3333333333333333,
             "#9c179e"
            ],
            [
             0.4444444444444444,
             "#bd3786"
            ],
            [
             0.5555555555555556,
             "#d8576b"
            ],
            [
             0.6666666666666666,
             "#ed7953"
            ],
            [
             0.7777777777777778,
             "#fb9f3a"
            ],
            [
             0.8888888888888888,
             "#fdca26"
            ],
            [
             1,
             "#f0f921"
            ]
           ],
           "sequentialminus": [
            [
             0,
             "#0d0887"
            ],
            [
             0.1111111111111111,
             "#46039f"
            ],
            [
             0.2222222222222222,
             "#7201a8"
            ],
            [
             0.3333333333333333,
             "#9c179e"
            ],
            [
             0.4444444444444444,
             "#bd3786"
            ],
            [
             0.5555555555555556,
             "#d8576b"
            ],
            [
             0.6666666666666666,
             "#ed7953"
            ],
            [
             0.7777777777777778,
             "#fb9f3a"
            ],
            [
             0.8888888888888888,
             "#fdca26"
            ],
            [
             1,
             "#f0f921"
            ]
           ]
          },
          "colorway": [
           "#636efa",
           "#EF553B",
           "#00cc96",
           "#ab63fa",
           "#FFA15A",
           "#19d3f3",
           "#FF6692",
           "#B6E880",
           "#FF97FF",
           "#FECB52"
          ],
          "font": {
           "color": "#f2f5fa"
          },
          "geo": {
           "bgcolor": "rgb(17,17,17)",
           "lakecolor": "rgb(17,17,17)",
           "landcolor": "rgb(17,17,17)",
           "showlakes": true,
           "showland": true,
           "subunitcolor": "#506784"
          },
          "hoverlabel": {
           "align": "left"
          },
          "hovermode": "closest",
          "mapbox": {
           "style": "dark"
          },
          "paper_bgcolor": "rgb(17,17,17)",
          "plot_bgcolor": "rgb(17,17,17)",
          "polar": {
           "angularaxis": {
            "gridcolor": "#506784",
            "linecolor": "#506784",
            "ticks": ""
           },
           "bgcolor": "rgb(17,17,17)",
           "radialaxis": {
            "gridcolor": "#506784",
            "linecolor": "#506784",
            "ticks": ""
           }
          },
          "scene": {
           "xaxis": {
            "backgroundcolor": "rgb(17,17,17)",
            "gridcolor": "#506784",
            "gridwidth": 2,
            "linecolor": "#506784",
            "showbackground": true,
            "ticks": "",
            "zerolinecolor": "#C8D4E3"
           },
           "yaxis": {
            "backgroundcolor": "rgb(17,17,17)",
            "gridcolor": "#506784",
            "gridwidth": 2,
            "linecolor": "#506784",
            "showbackground": true,
            "ticks": "",
            "zerolinecolor": "#C8D4E3"
           },
           "zaxis": {
            "backgroundcolor": "rgb(17,17,17)",
            "gridcolor": "#506784",
            "gridwidth": 2,
            "linecolor": "#506784",
            "showbackground": true,
            "ticks": "",
            "zerolinecolor": "#C8D4E3"
           }
          },
          "shapedefaults": {
           "line": {
            "color": "#f2f5fa"
           }
          },
          "sliderdefaults": {
           "bgcolor": "#C8D4E3",
           "bordercolor": "rgb(17,17,17)",
           "borderwidth": 1,
           "tickwidth": 0
          },
          "ternary": {
           "aaxis": {
            "gridcolor": "#506784",
            "linecolor": "#506784",
            "ticks": ""
           },
           "baxis": {
            "gridcolor": "#506784",
            "linecolor": "#506784",
            "ticks": ""
           },
           "bgcolor": "rgb(17,17,17)",
           "caxis": {
            "gridcolor": "#506784",
            "linecolor": "#506784",
            "ticks": ""
           }
          },
          "title": {
           "x": 0.05
          },
          "updatemenudefaults": {
           "bgcolor": "#506784",
           "borderwidth": 0
          },
          "xaxis": {
           "automargin": true,
           "gridcolor": "#283442",
           "linecolor": "#506784",
           "ticks": "",
           "title": {
            "standoff": 15
           },
           "zerolinecolor": "#283442",
           "zerolinewidth": 2
          },
          "yaxis": {
           "automargin": true,
           "gridcolor": "#283442",
           "linecolor": "#506784",
           "ticks": "",
           "title": {
            "standoff": 15
           },
           "zerolinecolor": "#283442",
           "zerolinewidth": 2
          }
         }
        },
        "title": {
         "text": "Momentum 23 Ticket Type by Date"
        },
        "xaxis": {
         "anchor": "y",
         "domain": [
          0,
          1
         ],
         "title": {
          "text": "Order Date"
         }
        },
        "yaxis": {
         "anchor": "x",
         "domain": [
          0,
          1
         ],
         "title": {
          "text": "Ticket"
         }
        }
       }
      }
     },
     "metadata": {},
     "output_type": "display_data"
    }
   ],
   "source": [
    "px.density_heatmap(df23[df23['Price'] > 0], x='Order Date', y='Ticket', title='Momentum 23 Ticket Type by Date')"
   ]
  },
  {
   "cell_type": "code",
   "execution_count": 539,
   "metadata": {},
   "outputs": [
    {
     "name": "stderr",
     "output_type": "stream",
     "text": [
      "/home/matteland/anaconda3/lib/python3.11/site-packages/_plotly_utils/basevalidators.py:106: FutureWarning:\n",
      "\n",
      "The behavior of DatetimeProperties.to_pydatetime is deprecated, in a future version this will return a Series containing python datetime objects instead of an ndarray. To retain the old behavior, call `np.array` on the result\n",
      "\n"
     ]
    },
    {
     "data": {
      "application/vnd.plotly.v1+json": {
       "config": {
        "plotlyServerURL": "https://plot.ly"
       },
       "data": [
        {
         "coloraxis": "coloraxis",
         "hovertemplate": "Order Date=%{x}<br>Price=%{y}<br>count=%{z}<extra></extra>",
         "name": "",
         "type": "histogram2d",
         "x": [
          "2023-06-28T20:49:38+00:00",
          "2023-07-03T19:26:20+00:00",
          "2023-07-05T11:41:29+00:00",
          "2023-07-10T16:37:15+00:00",
          "2023-07-10T16:37:15+00:00",
          "2023-07-10T16:37:15+00:00",
          "2023-07-11T15:12:51+00:00",
          "2023-07-11T17:05:52+00:00",
          "2023-07-14T17:19:43+00:00",
          "2023-07-14T17:19:43+00:00",
          "2023-07-14T17:19:43+00:00",
          "2023-07-14T17:19:43+00:00",
          "2023-07-14T17:19:43+00:00",
          "2023-07-14T18:59:30+00:00",
          "2023-07-17T18:03:49+00:00",
          "2023-07-18T02:03:29+00:00",
          "2023-07-19T17:07:11+00:00",
          "2023-07-20T12:35:54+00:00",
          "2023-07-20T18:53:49+00:00",
          "2023-07-24T23:21:36+00:00",
          "2023-07-31T13:26:42+00:00",
          "2023-07-31T13:26:42+00:00",
          "2023-08-01T00:22:40+00:00",
          "2023-08-02T02:18:07+00:00",
          "2023-08-02T18:03:03+00:00",
          "2023-08-03T20:16:13+00:00",
          "2023-08-04T19:21:14+00:00",
          "2023-08-05T15:10:09+00:00",
          "2023-08-09T13:11:20+00:00",
          "2023-08-09T14:43:54+00:00",
          "2023-08-09T15:04:42+00:00",
          "2023-08-09T15:07:17+00:00",
          "2023-08-09T15:22:01+00:00",
          "2023-08-09T18:02:24+00:00",
          "2023-08-09T18:02:24+00:00",
          "2023-08-09T18:02:24+00:00",
          "2023-08-09T18:02:24+00:00",
          "2023-08-09T18:02:24+00:00",
          "2023-08-09T18:02:24+00:00",
          "2023-08-09T18:02:24+00:00",
          "2023-08-09T18:02:24+00:00",
          "2023-08-09T18:02:24+00:00",
          "2023-08-09T18:02:24+00:00",
          "2023-08-09T18:02:24+00:00",
          "2023-08-09T18:02:24+00:00",
          "2023-08-09T18:02:24+00:00",
          "2023-08-09T18:02:24+00:00",
          "2023-08-09T18:02:24+00:00",
          "2023-08-09T18:02:24+00:00",
          "2023-08-09T18:02:24+00:00",
          "2023-08-09T18:02:24+00:00",
          "2023-08-09T18:02:24+00:00",
          "2023-08-09T18:02:24+00:00",
          "2023-08-09T18:02:24+00:00",
          "2023-08-09T18:02:24+00:00",
          "2023-08-09T18:02:24+00:00",
          "2023-08-09T18:02:24+00:00",
          "2023-08-09T18:02:24+00:00",
          "2023-08-09T18:02:24+00:00",
          "2023-08-09T18:02:24+00:00",
          "2023-08-09T18:02:24+00:00",
          "2023-08-09T18:02:24+00:00",
          "2023-08-09T18:02:24+00:00",
          "2023-08-09T18:02:24+00:00",
          "2023-08-09T18:02:24+00:00",
          "2023-08-09T18:02:24+00:00",
          "2023-08-09T18:02:24+00:00",
          "2023-08-09T18:02:24+00:00",
          "2023-08-09T18:02:24+00:00",
          "2023-08-09T18:02:24+00:00",
          "2023-08-09T18:02:24+00:00",
          "2023-08-09T18:02:24+00:00",
          "2023-08-09T18:02:24+00:00",
          "2023-08-09T18:02:24+00:00",
          "2023-08-09T18:02:24+00:00",
          "2023-08-09T18:02:24+00:00",
          "2023-08-09T18:02:24+00:00",
          "2023-08-09T18:02:24+00:00",
          "2023-08-09T18:02:24+00:00",
          "2023-08-09T18:02:24+00:00",
          "2023-08-09T18:02:24+00:00",
          "2023-08-09T18:02:24+00:00",
          "2023-08-09T18:02:24+00:00",
          "2023-08-09T19:11:04+00:00",
          "2023-08-09T19:11:04+00:00",
          "2023-08-09T19:11:04+00:00",
          "2023-08-09T19:11:04+00:00",
          "2023-08-09T19:11:04+00:00",
          "2023-08-09T19:11:04+00:00",
          "2023-08-09T19:11:04+00:00",
          "2023-08-09T19:11:04+00:00",
          "2023-08-09T19:11:04+00:00",
          "2023-08-09T19:11:04+00:00",
          "2023-08-09T19:11:04+00:00",
          "2023-08-09T19:11:04+00:00",
          "2023-08-09T19:11:04+00:00",
          "2023-08-09T19:11:04+00:00",
          "2023-08-09T19:11:04+00:00",
          "2023-08-09T19:11:04+00:00",
          "2023-08-09T19:11:04+00:00",
          "2023-08-09T19:11:04+00:00",
          "2023-08-09T19:11:04+00:00",
          "2023-08-09T19:11:04+00:00",
          "2023-08-09T19:11:04+00:00",
          "2023-08-09T19:11:04+00:00",
          "2023-08-09T19:11:04+00:00",
          "2023-08-09T19:11:04+00:00",
          "2023-08-09T19:11:04+00:00",
          "2023-08-09T19:11:04+00:00",
          "2023-08-09T19:11:04+00:00",
          "2023-08-09T19:11:04+00:00",
          "2023-08-09T19:11:04+00:00",
          "2023-08-10T14:27:47+00:00",
          "2023-08-10T20:49:11+00:00",
          "2023-08-10T20:49:11+00:00",
          "2023-08-11T11:34:00+00:00",
          "2023-08-11T11:34:00+00:00",
          "2023-08-11T19:20:28+00:00",
          "2023-08-11T20:47:40+00:00",
          "2023-08-12T21:39:05+00:00",
          "2023-08-13T11:46:08+00:00",
          "2023-08-14T13:06:36+00:00",
          "2023-08-14T14:27:22+00:00",
          "2023-08-14T14:57:08+00:00",
          "2023-08-14T15:29:19+00:00",
          "2023-08-14T15:29:19+00:00",
          "2023-08-14T15:29:19+00:00",
          "2023-08-14T15:29:19+00:00",
          "2023-08-14T15:29:19+00:00",
          "2023-08-14T15:29:19+00:00",
          "2023-08-14T15:29:19+00:00",
          "2023-08-14T15:44:19+00:00",
          "2023-08-14T15:44:19+00:00",
          "2023-08-14T15:44:19+00:00",
          "2023-08-14T15:44:19+00:00",
          "2023-08-14T16:09:47+00:00",
          "2023-08-14T16:09:47+00:00",
          "2023-08-14T16:09:47+00:00",
          "2023-08-14T16:09:47+00:00",
          "2023-08-14T16:09:47+00:00",
          "2023-08-14T16:09:47+00:00",
          "2023-08-14T16:09:47+00:00",
          "2023-08-14T16:09:47+00:00",
          "2023-08-14T16:09:47+00:00",
          "2023-08-14T16:09:47+00:00",
          "2023-08-14T16:18:28+00:00",
          "2023-08-14T16:18:28+00:00",
          "2023-08-14T16:18:28+00:00",
          "2023-08-14T16:34:09+00:00",
          "2023-08-14T17:43:59+00:00",
          "2023-08-14T18:13:12+00:00",
          "2023-08-14T18:13:12+00:00",
          "2023-08-14T18:35:15+00:00",
          "2023-08-14T19:27:47+00:00",
          "2023-08-14T19:27:47+00:00",
          "2023-08-14T19:27:47+00:00",
          "2023-08-14T19:27:47+00:00",
          "2023-08-14T19:27:47+00:00",
          "2023-08-14T19:27:47+00:00",
          "2023-08-14T19:27:47+00:00",
          "2023-08-14T20:00:42+00:00",
          "2023-08-14T20:59:21+00:00",
          "2023-08-14T20:59:21+00:00",
          "2023-08-14T20:59:21+00:00",
          "2023-08-11T20:17:48+00:00",
          "2023-08-11T20:17:48+00:00",
          "2023-08-11T20:17:48+00:00",
          "2023-08-11T20:17:48+00:00",
          "2023-08-11T20:17:48+00:00",
          "2023-08-11T20:17:48+00:00",
          "2023-08-11T20:17:48+00:00",
          "2023-08-14T23:17:04+00:00",
          "2023-08-15T01:18:28+00:00",
          "2023-08-15T01:33:48+00:00",
          "2023-08-15T01:43:42+00:00",
          "2023-08-15T01:43:42+00:00",
          "2023-08-15T01:43:42+00:00",
          "2023-08-15T02:26:07+00:00",
          "2023-08-15T11:56:49+00:00",
          "2023-08-15T12:38:27+00:00",
          "2023-08-15T12:56:20+00:00",
          "2023-08-15T13:23:42+00:00",
          "2023-08-15T13:31:20+00:00",
          "2023-08-15T13:35:39+00:00",
          "2023-08-15T14:22:59+00:00",
          "2023-08-15T15:33:38+00:00",
          "2023-08-15T15:36:49+00:00",
          "2023-08-15T15:36:49+00:00",
          "2023-08-15T15:36:49+00:00",
          "2023-08-15T15:36:49+00:00",
          "2023-08-15T15:36:49+00:00",
          "2023-08-15T15:36:49+00:00",
          "2023-08-15T15:36:49+00:00",
          "2023-08-15T16:31:19+00:00",
          "2023-08-15T16:40:19+00:00",
          "2023-08-15T17:15:19+00:00",
          "2023-08-15T18:17:54+00:00",
          "2023-08-15T18:47:33+00:00",
          "2023-08-15T19:08:06+00:00",
          "2023-08-15T19:14:37+00:00",
          "2023-08-15T19:18:37+00:00",
          "2023-08-15T20:26:38+00:00",
          "2023-08-15T21:08:58+00:00",
          "2023-08-15T21:08:58+00:00",
          "2023-08-15T21:08:58+00:00",
          "2023-08-15T21:08:58+00:00",
          "2023-08-15T21:08:58+00:00",
          "2023-08-15T21:08:58+00:00",
          "2023-08-15T21:08:58+00:00",
          "2023-08-15T21:08:58+00:00",
          "2023-08-15T21:08:58+00:00",
          "2023-08-15T21:08:58+00:00",
          "2023-08-15T21:08:58+00:00",
          "2023-08-15T21:08:58+00:00",
          "2023-08-15T21:42:25+00:00",
          "2023-08-15T21:48:43+00:00",
          "2023-08-15T21:48:43+00:00",
          "2023-08-15T21:48:43+00:00",
          "2023-08-16T00:28:17+00:00",
          "2023-08-16T00:28:17+00:00",
          "2023-08-16T00:28:17+00:00",
          "2023-08-16T00:28:17+00:00",
          "2023-08-16T00:28:17+00:00",
          "2023-08-16T00:28:17+00:00",
          "2023-08-16T02:35:45+00:00",
          "2023-08-16T02:42:39+00:00",
          "2023-08-16T02:56:29+00:00",
          "2023-08-16T03:12:48+00:00",
          "2023-08-16T17:38:37+00:00",
          "2023-08-22T13:46:41+00:00",
          "2023-08-22T14:15:51+00:00",
          "2023-08-23T13:45:47+00:00",
          "2023-08-23T18:09:45+00:00",
          "2023-08-23T19:22:18+00:00",
          "2023-08-31T13:38:08+00:00",
          "2023-08-31T15:10:31+00:00",
          "2023-09-01T15:28:55+00:00",
          "2023-09-01T15:28:55+00:00",
          "2023-09-01T15:28:55+00:00",
          "2023-09-01T15:28:55+00:00",
          "2023-09-01T15:45:26+00:00",
          "2023-09-01T19:27:53+00:00",
          "2023-09-05T14:51:22+00:00",
          "2023-09-05T14:51:22+00:00",
          "2023-09-05T14:51:22+00:00",
          "2023-09-05T14:51:22+00:00",
          "2023-09-05T14:51:22+00:00",
          "2023-09-05T14:31:20+00:00",
          "2023-09-07T13:09:20+00:00",
          "2023-09-08T15:40:00+00:00",
          "2023-09-08T20:53:22+00:00",
          "2023-09-11T13:57:36+00:00",
          "2023-09-11T13:57:36+00:00",
          "2023-09-12T12:31:43+00:00",
          "2023-09-12T16:29:34+00:00",
          "2023-09-12T17:42:56+00:00",
          "2023-09-12T19:15:05+00:00",
          "2023-09-13T14:08:59+00:00",
          "2023-09-13T18:18:42+00:00",
          "2023-09-14T01:22:06+00:00",
          "2023-09-14T10:36:53+00:00",
          "2023-09-14T12:43:41+00:00",
          "2023-09-14T18:27:34+00:00",
          "2023-09-14T18:44:40+00:00",
          "2023-09-15T00:11:38+00:00",
          "2023-09-15T01:04:13+00:00",
          "2023-09-15T01:04:13+00:00",
          "2023-09-15T01:04:13+00:00",
          "2023-09-15T01:04:13+00:00",
          "2023-09-15T01:04:13+00:00",
          "2023-09-15T01:04:13+00:00",
          "2023-09-15T01:04:13+00:00",
          "2023-09-15T01:04:13+00:00",
          "2023-09-15T01:04:13+00:00",
          "2023-09-15T01:04:13+00:00",
          "2023-09-15T01:04:13+00:00",
          "2023-09-15T15:40:28+00:00",
          "2023-09-15T19:03:09+00:00",
          "2023-09-15T19:03:09+00:00",
          "2023-09-17T02:23:28+00:00",
          "2023-09-18T01:31:15+00:00",
          "2023-09-18T13:00:29+00:00",
          "2023-09-18T15:15:36+00:00",
          "2023-09-18T20:08:07+00:00",
          "2023-09-19T01:33:05+00:00",
          "2023-09-20T13:02:19+00:00",
          "2023-09-20T21:26:37+00:00",
          "2023-09-20T22:09:20+00:00",
          "2023-09-21T23:15:51+00:00",
          "2023-09-22T11:22:39+00:00",
          "2023-09-22T12:59:25+00:00",
          "2023-09-22T18:57:13+00:00",
          "2023-09-22T18:57:13+00:00",
          "2023-09-22T18:57:13+00:00",
          "2023-09-22T18:57:13+00:00",
          "2023-09-22T18:57:13+00:00",
          "2023-09-22T18:57:13+00:00",
          "2023-09-22T18:57:13+00:00",
          "2023-09-22T18:57:13+00:00",
          "2023-09-22T18:57:13+00:00",
          "2023-09-22T18:57:13+00:00",
          "2023-09-22T19:14:53+00:00",
          "2023-09-22T20:04:25+00:00",
          "2023-09-22T20:43:35+00:00",
          "2023-09-22T20:47:43+00:00",
          "2023-09-22T21:10:10+00:00",
          "2023-09-22T21:10:26+00:00",
          "2023-09-22T21:09:46+00:00",
          "2023-09-23T01:13:51+00:00",
          "2023-09-25T14:15:18+00:00",
          "2023-09-25T15:19:04+00:00",
          "2023-09-25T16:58:16+00:00",
          "2023-09-28T13:27:25+00:00",
          "2023-09-28T18:06:22+00:00",
          "2023-09-28T20:19:57+00:00",
          "2023-09-29T17:41:39+00:00",
          "2023-10-03T11:26:52+00:00",
          "2023-10-03T13:22:04+00:00",
          "2023-10-03T13:22:04+00:00",
          "2023-10-04T15:40:44+00:00",
          "2023-10-04T17:46:29+00:00",
          "2023-10-04T19:03:10+00:00",
          "2023-10-04T19:55:06+00:00",
          "2023-10-06T00:31:15+00:00",
          "2023-10-06T01:11:03+00:00",
          "2023-10-06T02:39:45+00:00",
          "2023-10-06T13:02:29+00:00",
          "2023-10-06T21:47:00+00:00",
          "2023-10-08T17:50:40+00:00",
          "2023-10-09T14:41:33+00:00",
          "2023-10-09T19:00:31+00:00",
          "2023-10-10T17:50:36+00:00",
          "2023-10-11T15:03:24+00:00",
          "2023-10-12T15:31:07+00:00",
          "2023-10-12T15:31:07+00:00",
          "2023-10-12T16:19:21+00:00",
          "2023-10-12T19:03:57+00:00",
          "2023-10-13T02:14:04+00:00",
          "2023-10-13T16:04:44+00:00",
          "2023-10-13T17:26:53+00:00",
          "2023-10-16T22:53:26+00:00",
          "2023-10-17T00:11:34+00:00",
          "2023-10-17T15:17:09+00:00",
          "2023-10-17T18:20:32+00:00",
          "2023-10-18T13:40:16+00:00",
          "2023-10-18T15:48:47+00:00",
          "2023-10-18T16:05:07+00:00",
          "2023-10-18T17:10:20+00:00",
          "2023-10-18T17:50:24+00:00",
          "2023-10-18T20:32:20+00:00",
          "2023-10-18T20:53:53+00:00",
          "2023-10-19T12:13:46+00:00",
          "2023-10-19T15:11:26+00:00"
         ],
         "xaxis": "x",
         "xbingroup": "x",
         "y": [
          149,
          149,
          149,
          149,
          149,
          149,
          149,
          149,
          149,
          149,
          149,
          149,
          149,
          149,
          149,
          149,
          149,
          149,
          149,
          149,
          149,
          149,
          149,
          149,
          149,
          149,
          149,
          149,
          149,
          149,
          149,
          149,
          149,
          149,
          149,
          149,
          149,
          149,
          149,
          149,
          149,
          149,
          149,
          149,
          149,
          149,
          149,
          149,
          149,
          149,
          149,
          149,
          149,
          149,
          149,
          149,
          149,
          149,
          149,
          149,
          149,
          149,
          149,
          149,
          149,
          149,
          149,
          149,
          149,
          149,
          149,
          149,
          149,
          149,
          149,
          149,
          149,
          149,
          149,
          149,
          149,
          149,
          149,
          149,
          149,
          149,
          149,
          149,
          149,
          149,
          149,
          149,
          149,
          149,
          149,
          149,
          149,
          149,
          149,
          149,
          149,
          149,
          149,
          149,
          149,
          149,
          149,
          149,
          149,
          149,
          149,
          149,
          149,
          149,
          149,
          149,
          149,
          149,
          149,
          149,
          79,
          149,
          149,
          149,
          149,
          149,
          149,
          149,
          149,
          149,
          149,
          149,
          149,
          149,
          149,
          149,
          149,
          149,
          149,
          149,
          149,
          149,
          149,
          149,
          149,
          149,
          149,
          149,
          149,
          149,
          149,
          149,
          149,
          149,
          149,
          149,
          149,
          149,
          149,
          149,
          149,
          149,
          149,
          149,
          149,
          149,
          149,
          149,
          149,
          149,
          149,
          149,
          149,
          149,
          149,
          149,
          149,
          149,
          149,
          149,
          149,
          149,
          149,
          149,
          149,
          149,
          149,
          149,
          149,
          149,
          149,
          149,
          149,
          79,
          149,
          149,
          149,
          149,
          149,
          79,
          149,
          149,
          149,
          149,
          149,
          149,
          149,
          149,
          149,
          149,
          149,
          149,
          149,
          149,
          149,
          149,
          149,
          149,
          149,
          149,
          149,
          149,
          149,
          149,
          149,
          149,
          149,
          149,
          179,
          179,
          179,
          179,
          179,
          179,
          179,
          179,
          179,
          179,
          179,
          179,
          179,
          179,
          179,
          179,
          179,
          179,
          179,
          179,
          179,
          99,
          179,
          179,
          179,
          179,
          179,
          179,
          179,
          179,
          179,
          179,
          179,
          179,
          179,
          179,
          179,
          179,
          179,
          179,
          179,
          179,
          179,
          179,
          179,
          179,
          179,
          179,
          179,
          169,
          169,
          199,
          99,
          209,
          209,
          209,
          99,
          209,
          209,
          209,
          99,
          99,
          99,
          209,
          209,
          209,
          209,
          209,
          209,
          209,
          209,
          209,
          209,
          99,
          209,
          99,
          99,
          99,
          99,
          99,
          99,
          209,
          209,
          99,
          209,
          209,
          209,
          99,
          209,
          149,
          149,
          209,
          209,
          209,
          209,
          209,
          99,
          209,
          209,
          199,
          239,
          239,
          239,
          239,
          239,
          239,
          239,
          239,
          239,
          239,
          239,
          239,
          239,
          239,
          99,
          239,
          239,
          239,
          229,
          239,
          239,
          239,
          239,
          209,
          149
         ],
         "yaxis": "y",
         "ybingroup": "y"
        }
       ],
       "layout": {
        "coloraxis": {
         "colorbar": {
          "title": {
           "text": "count"
          }
         },
         "colorscale": [
          [
           0,
           "rgb(75, 41, 145)"
          ],
          [
           0.16666666666666666,
           "rgb(135, 44, 162)"
          ],
          [
           0.3333333333333333,
           "rgb(192, 54, 157)"
          ],
          [
           0.5,
           "rgb(234, 79, 136)"
          ],
          [
           0.6666666666666666,
           "rgb(250, 120, 118)"
          ],
          [
           0.8333333333333334,
           "rgb(246, 169, 122)"
          ],
          [
           1,
           "rgb(237, 217, 163)"
          ]
         ]
        },
        "legend": {
         "tracegroupgap": 0
        },
        "template": {
         "data": {
          "bar": [
           {
            "error_x": {
             "color": "#f2f5fa"
            },
            "error_y": {
             "color": "#f2f5fa"
            },
            "marker": {
             "line": {
              "color": "rgb(17,17,17)",
              "width": 0.5
             },
             "pattern": {
              "fillmode": "overlay",
              "size": 10,
              "solidity": 0.2
             }
            },
            "type": "bar"
           }
          ],
          "barpolar": [
           {
            "marker": {
             "line": {
              "color": "rgb(17,17,17)",
              "width": 0.5
             },
             "pattern": {
              "fillmode": "overlay",
              "size": 10,
              "solidity": 0.2
             }
            },
            "type": "barpolar"
           }
          ],
          "carpet": [
           {
            "aaxis": {
             "endlinecolor": "#A2B1C6",
             "gridcolor": "#506784",
             "linecolor": "#506784",
             "minorgridcolor": "#506784",
             "startlinecolor": "#A2B1C6"
            },
            "baxis": {
             "endlinecolor": "#A2B1C6",
             "gridcolor": "#506784",
             "linecolor": "#506784",
             "minorgridcolor": "#506784",
             "startlinecolor": "#A2B1C6"
            },
            "type": "carpet"
           }
          ],
          "choropleth": [
           {
            "colorbar": {
             "outlinewidth": 0,
             "ticks": ""
            },
            "type": "choropleth"
           }
          ],
          "contour": [
           {
            "colorbar": {
             "outlinewidth": 0,
             "ticks": ""
            },
            "colorscale": [
             [
              0,
              "#0d0887"
             ],
             [
              0.1111111111111111,
              "#46039f"
             ],
             [
              0.2222222222222222,
              "#7201a8"
             ],
             [
              0.3333333333333333,
              "#9c179e"
             ],
             [
              0.4444444444444444,
              "#bd3786"
             ],
             [
              0.5555555555555556,
              "#d8576b"
             ],
             [
              0.6666666666666666,
              "#ed7953"
             ],
             [
              0.7777777777777778,
              "#fb9f3a"
             ],
             [
              0.8888888888888888,
              "#fdca26"
             ],
             [
              1,
              "#f0f921"
             ]
            ],
            "type": "contour"
           }
          ],
          "contourcarpet": [
           {
            "colorbar": {
             "outlinewidth": 0,
             "ticks": ""
            },
            "type": "contourcarpet"
           }
          ],
          "heatmap": [
           {
            "colorbar": {
             "outlinewidth": 0,
             "ticks": ""
            },
            "colorscale": [
             [
              0,
              "#0d0887"
             ],
             [
              0.1111111111111111,
              "#46039f"
             ],
             [
              0.2222222222222222,
              "#7201a8"
             ],
             [
              0.3333333333333333,
              "#9c179e"
             ],
             [
              0.4444444444444444,
              "#bd3786"
             ],
             [
              0.5555555555555556,
              "#d8576b"
             ],
             [
              0.6666666666666666,
              "#ed7953"
             ],
             [
              0.7777777777777778,
              "#fb9f3a"
             ],
             [
              0.8888888888888888,
              "#fdca26"
             ],
             [
              1,
              "#f0f921"
             ]
            ],
            "type": "heatmap"
           }
          ],
          "heatmapgl": [
           {
            "colorbar": {
             "outlinewidth": 0,
             "ticks": ""
            },
            "colorscale": [
             [
              0,
              "#0d0887"
             ],
             [
              0.1111111111111111,
              "#46039f"
             ],
             [
              0.2222222222222222,
              "#7201a8"
             ],
             [
              0.3333333333333333,
              "#9c179e"
             ],
             [
              0.4444444444444444,
              "#bd3786"
             ],
             [
              0.5555555555555556,
              "#d8576b"
             ],
             [
              0.6666666666666666,
              "#ed7953"
             ],
             [
              0.7777777777777778,
              "#fb9f3a"
             ],
             [
              0.8888888888888888,
              "#fdca26"
             ],
             [
              1,
              "#f0f921"
             ]
            ],
            "type": "heatmapgl"
           }
          ],
          "histogram": [
           {
            "marker": {
             "pattern": {
              "fillmode": "overlay",
              "size": 10,
              "solidity": 0.2
             }
            },
            "type": "histogram"
           }
          ],
          "histogram2d": [
           {
            "colorbar": {
             "outlinewidth": 0,
             "ticks": ""
            },
            "colorscale": [
             [
              0,
              "#0d0887"
             ],
             [
              0.1111111111111111,
              "#46039f"
             ],
             [
              0.2222222222222222,
              "#7201a8"
             ],
             [
              0.3333333333333333,
              "#9c179e"
             ],
             [
              0.4444444444444444,
              "#bd3786"
             ],
             [
              0.5555555555555556,
              "#d8576b"
             ],
             [
              0.6666666666666666,
              "#ed7953"
             ],
             [
              0.7777777777777778,
              "#fb9f3a"
             ],
             [
              0.8888888888888888,
              "#fdca26"
             ],
             [
              1,
              "#f0f921"
             ]
            ],
            "type": "histogram2d"
           }
          ],
          "histogram2dcontour": [
           {
            "colorbar": {
             "outlinewidth": 0,
             "ticks": ""
            },
            "colorscale": [
             [
              0,
              "#0d0887"
             ],
             [
              0.1111111111111111,
              "#46039f"
             ],
             [
              0.2222222222222222,
              "#7201a8"
             ],
             [
              0.3333333333333333,
              "#9c179e"
             ],
             [
              0.4444444444444444,
              "#bd3786"
             ],
             [
              0.5555555555555556,
              "#d8576b"
             ],
             [
              0.6666666666666666,
              "#ed7953"
             ],
             [
              0.7777777777777778,
              "#fb9f3a"
             ],
             [
              0.8888888888888888,
              "#fdca26"
             ],
             [
              1,
              "#f0f921"
             ]
            ],
            "type": "histogram2dcontour"
           }
          ],
          "mesh3d": [
           {
            "colorbar": {
             "outlinewidth": 0,
             "ticks": ""
            },
            "type": "mesh3d"
           }
          ],
          "parcoords": [
           {
            "line": {
             "colorbar": {
              "outlinewidth": 0,
              "ticks": ""
             }
            },
            "type": "parcoords"
           }
          ],
          "pie": [
           {
            "automargin": true,
            "type": "pie"
           }
          ],
          "scatter": [
           {
            "marker": {
             "line": {
              "color": "#283442"
             }
            },
            "type": "scatter"
           }
          ],
          "scatter3d": [
           {
            "line": {
             "colorbar": {
              "outlinewidth": 0,
              "ticks": ""
             }
            },
            "marker": {
             "colorbar": {
              "outlinewidth": 0,
              "ticks": ""
             }
            },
            "type": "scatter3d"
           }
          ],
          "scattercarpet": [
           {
            "marker": {
             "colorbar": {
              "outlinewidth": 0,
              "ticks": ""
             }
            },
            "type": "scattercarpet"
           }
          ],
          "scattergeo": [
           {
            "marker": {
             "colorbar": {
              "outlinewidth": 0,
              "ticks": ""
             }
            },
            "type": "scattergeo"
           }
          ],
          "scattergl": [
           {
            "marker": {
             "line": {
              "color": "#283442"
             }
            },
            "type": "scattergl"
           }
          ],
          "scattermapbox": [
           {
            "marker": {
             "colorbar": {
              "outlinewidth": 0,
              "ticks": ""
             }
            },
            "type": "scattermapbox"
           }
          ],
          "scatterpolar": [
           {
            "marker": {
             "colorbar": {
              "outlinewidth": 0,
              "ticks": ""
             }
            },
            "type": "scatterpolar"
           }
          ],
          "scatterpolargl": [
           {
            "marker": {
             "colorbar": {
              "outlinewidth": 0,
              "ticks": ""
             }
            },
            "type": "scatterpolargl"
           }
          ],
          "scatterternary": [
           {
            "marker": {
             "colorbar": {
              "outlinewidth": 0,
              "ticks": ""
             }
            },
            "type": "scatterternary"
           }
          ],
          "surface": [
           {
            "colorbar": {
             "outlinewidth": 0,
             "ticks": ""
            },
            "colorscale": [
             [
              0,
              "#0d0887"
             ],
             [
              0.1111111111111111,
              "#46039f"
             ],
             [
              0.2222222222222222,
              "#7201a8"
             ],
             [
              0.3333333333333333,
              "#9c179e"
             ],
             [
              0.4444444444444444,
              "#bd3786"
             ],
             [
              0.5555555555555556,
              "#d8576b"
             ],
             [
              0.6666666666666666,
              "#ed7953"
             ],
             [
              0.7777777777777778,
              "#fb9f3a"
             ],
             [
              0.8888888888888888,
              "#fdca26"
             ],
             [
              1,
              "#f0f921"
             ]
            ],
            "type": "surface"
           }
          ],
          "table": [
           {
            "cells": {
             "fill": {
              "color": "#506784"
             },
             "line": {
              "color": "rgb(17,17,17)"
             }
            },
            "header": {
             "fill": {
              "color": "#2a3f5f"
             },
             "line": {
              "color": "rgb(17,17,17)"
             }
            },
            "type": "table"
           }
          ]
         },
         "layout": {
          "annotationdefaults": {
           "arrowcolor": "#f2f5fa",
           "arrowhead": 0,
           "arrowwidth": 1
          },
          "autotypenumbers": "strict",
          "coloraxis": {
           "colorbar": {
            "outlinewidth": 0,
            "ticks": ""
           }
          },
          "colorscale": {
           "diverging": [
            [
             0,
             "#8e0152"
            ],
            [
             0.1,
             "#c51b7d"
            ],
            [
             0.2,
             "#de77ae"
            ],
            [
             0.3,
             "#f1b6da"
            ],
            [
             0.4,
             "#fde0ef"
            ],
            [
             0.5,
             "#f7f7f7"
            ],
            [
             0.6,
             "#e6f5d0"
            ],
            [
             0.7,
             "#b8e186"
            ],
            [
             0.8,
             "#7fbc41"
            ],
            [
             0.9,
             "#4d9221"
            ],
            [
             1,
             "#276419"
            ]
           ],
           "sequential": [
            [
             0,
             "#0d0887"
            ],
            [
             0.1111111111111111,
             "#46039f"
            ],
            [
             0.2222222222222222,
             "#7201a8"
            ],
            [
             0.3333333333333333,
             "#9c179e"
            ],
            [
             0.4444444444444444,
             "#bd3786"
            ],
            [
             0.5555555555555556,
             "#d8576b"
            ],
            [
             0.6666666666666666,
             "#ed7953"
            ],
            [
             0.7777777777777778,
             "#fb9f3a"
            ],
            [
             0.8888888888888888,
             "#fdca26"
            ],
            [
             1,
             "#f0f921"
            ]
           ],
           "sequentialminus": [
            [
             0,
             "#0d0887"
            ],
            [
             0.1111111111111111,
             "#46039f"
            ],
            [
             0.2222222222222222,
             "#7201a8"
            ],
            [
             0.3333333333333333,
             "#9c179e"
            ],
            [
             0.4444444444444444,
             "#bd3786"
            ],
            [
             0.5555555555555556,
             "#d8576b"
            ],
            [
             0.6666666666666666,
             "#ed7953"
            ],
            [
             0.7777777777777778,
             "#fb9f3a"
            ],
            [
             0.8888888888888888,
             "#fdca26"
            ],
            [
             1,
             "#f0f921"
            ]
           ]
          },
          "colorway": [
           "#636efa",
           "#EF553B",
           "#00cc96",
           "#ab63fa",
           "#FFA15A",
           "#19d3f3",
           "#FF6692",
           "#B6E880",
           "#FF97FF",
           "#FECB52"
          ],
          "font": {
           "color": "#f2f5fa"
          },
          "geo": {
           "bgcolor": "rgb(17,17,17)",
           "lakecolor": "rgb(17,17,17)",
           "landcolor": "rgb(17,17,17)",
           "showlakes": true,
           "showland": true,
           "subunitcolor": "#506784"
          },
          "hoverlabel": {
           "align": "left"
          },
          "hovermode": "closest",
          "mapbox": {
           "style": "dark"
          },
          "paper_bgcolor": "rgb(17,17,17)",
          "plot_bgcolor": "rgb(17,17,17)",
          "polar": {
           "angularaxis": {
            "gridcolor": "#506784",
            "linecolor": "#506784",
            "ticks": ""
           },
           "bgcolor": "rgb(17,17,17)",
           "radialaxis": {
            "gridcolor": "#506784",
            "linecolor": "#506784",
            "ticks": ""
           }
          },
          "scene": {
           "xaxis": {
            "backgroundcolor": "rgb(17,17,17)",
            "gridcolor": "#506784",
            "gridwidth": 2,
            "linecolor": "#506784",
            "showbackground": true,
            "ticks": "",
            "zerolinecolor": "#C8D4E3"
           },
           "yaxis": {
            "backgroundcolor": "rgb(17,17,17)",
            "gridcolor": "#506784",
            "gridwidth": 2,
            "linecolor": "#506784",
            "showbackground": true,
            "ticks": "",
            "zerolinecolor": "#C8D4E3"
           },
           "zaxis": {
            "backgroundcolor": "rgb(17,17,17)",
            "gridcolor": "#506784",
            "gridwidth": 2,
            "linecolor": "#506784",
            "showbackground": true,
            "ticks": "",
            "zerolinecolor": "#C8D4E3"
           }
          },
          "shapedefaults": {
           "line": {
            "color": "#f2f5fa"
           }
          },
          "sliderdefaults": {
           "bgcolor": "#C8D4E3",
           "bordercolor": "rgb(17,17,17)",
           "borderwidth": 1,
           "tickwidth": 0
          },
          "ternary": {
           "aaxis": {
            "gridcolor": "#506784",
            "linecolor": "#506784",
            "ticks": ""
           },
           "baxis": {
            "gridcolor": "#506784",
            "linecolor": "#506784",
            "ticks": ""
           },
           "bgcolor": "rgb(17,17,17)",
           "caxis": {
            "gridcolor": "#506784",
            "linecolor": "#506784",
            "ticks": ""
           }
          },
          "title": {
           "x": 0.05
          },
          "updatemenudefaults": {
           "bgcolor": "#506784",
           "borderwidth": 0
          },
          "xaxis": {
           "automargin": true,
           "gridcolor": "#283442",
           "linecolor": "#506784",
           "ticks": "",
           "title": {
            "standoff": 15
           },
           "zerolinecolor": "#283442",
           "zerolinewidth": 2
          },
          "yaxis": {
           "automargin": true,
           "gridcolor": "#283442",
           "linecolor": "#506784",
           "ticks": "",
           "title": {
            "standoff": 15
           },
           "zerolinecolor": "#283442",
           "zerolinewidth": 2
          }
         }
        },
        "title": {
         "text": "Momentum 23 Ticket Price by Date"
        },
        "xaxis": {
         "anchor": "y",
         "domain": [
          0,
          1
         ],
         "title": {
          "text": "Order Date"
         }
        },
        "yaxis": {
         "anchor": "x",
         "domain": [
          0,
          1
         ],
         "title": {
          "text": "Price"
         }
        }
       }
      }
     },
     "metadata": {},
     "output_type": "display_data"
    }
   ],
   "source": [
    "px.density_heatmap(df23[df23['Price'] > 0], x='Order Date', y='Price', title='Momentum 23 Ticket Price by Date')"
   ]
  },
  {
   "cell_type": "markdown",
   "metadata": {},
   "source": [
    "## Check-In Count"
   ]
  },
  {
   "cell_type": "code",
   "execution_count": 540,
   "metadata": {},
   "outputs": [
    {
     "name": "stderr",
     "output_type": "stream",
     "text": [
      "/home/matteland/anaconda3/lib/python3.11/site-packages/_plotly_utils/basevalidators.py:106: FutureWarning:\n",
      "\n",
      "The behavior of DatetimeProperties.to_pydatetime is deprecated, in a future version this will return a Series containing python datetime objects instead of an ndarray. To retain the old behavior, call `np.array` on the result\n",
      "\n"
     ]
    },
    {
     "data": {
      "application/vnd.plotly.v1+json": {
       "config": {
        "plotlyServerURL": "https://plot.ly"
       },
       "data": [
        {
         "coloraxis": "coloraxis",
         "hovertemplate": "Order Date=%{x}<br>Check-ins: Registration=%{y}<br>count=%{z}<extra></extra>",
         "name": "",
         "type": "histogram2d",
         "x": [
          "2023-06-28T20:49:38+00:00",
          "2023-07-03T19:26:20+00:00",
          "2023-07-05T11:41:29+00:00",
          "2023-07-10T16:37:15+00:00",
          "2023-07-10T16:37:15+00:00",
          "2023-07-10T16:37:15+00:00",
          "2023-07-11T15:12:51+00:00",
          "2023-07-11T17:05:52+00:00",
          "2023-07-14T17:19:43+00:00",
          "2023-07-14T17:19:43+00:00",
          "2023-07-14T17:19:43+00:00",
          "2023-07-14T17:19:43+00:00",
          "2023-07-14T17:19:43+00:00",
          "2023-07-14T18:59:30+00:00",
          "2023-07-17T18:03:49+00:00",
          "2023-07-18T02:03:29+00:00",
          "2023-07-19T17:07:11+00:00",
          "2023-07-20T12:35:54+00:00",
          "2023-07-20T18:53:49+00:00",
          "2023-07-24T23:21:36+00:00",
          "2023-07-31T13:26:42+00:00",
          "2023-07-31T13:26:42+00:00",
          "2023-08-01T00:22:40+00:00",
          "2023-08-02T02:18:07+00:00",
          "2023-08-02T18:03:03+00:00",
          "2023-08-03T20:16:13+00:00",
          "2023-08-04T19:21:14+00:00",
          "2023-08-05T15:10:09+00:00",
          "2023-08-09T13:11:20+00:00",
          "2023-08-09T14:43:54+00:00",
          "2023-08-09T15:04:42+00:00",
          "2023-08-09T15:07:17+00:00",
          "2023-08-09T15:22:01+00:00",
          "2023-08-09T18:02:24+00:00",
          "2023-08-09T18:02:24+00:00",
          "2023-08-09T18:02:24+00:00",
          "2023-08-09T18:02:24+00:00",
          "2023-08-09T18:02:24+00:00",
          "2023-08-09T18:02:24+00:00",
          "2023-08-09T18:02:24+00:00",
          "2023-08-09T18:02:24+00:00",
          "2023-08-09T18:02:24+00:00",
          "2023-08-09T18:02:24+00:00",
          "2023-08-09T18:02:24+00:00",
          "2023-08-09T18:02:24+00:00",
          "2023-08-09T18:02:24+00:00",
          "2023-08-09T18:02:24+00:00",
          "2023-08-09T18:02:24+00:00",
          "2023-08-09T18:02:24+00:00",
          "2023-08-09T18:02:24+00:00",
          "2023-08-09T18:02:24+00:00",
          "2023-08-09T18:02:24+00:00",
          "2023-08-09T18:02:24+00:00",
          "2023-08-09T18:02:24+00:00",
          "2023-08-09T18:02:24+00:00",
          "2023-08-09T18:02:24+00:00",
          "2023-08-09T18:02:24+00:00",
          "2023-08-09T18:02:24+00:00",
          "2023-08-09T18:02:24+00:00",
          "2023-08-09T18:02:24+00:00",
          "2023-08-09T18:02:24+00:00",
          "2023-08-09T18:02:24+00:00",
          "2023-08-09T18:02:24+00:00",
          "2023-08-09T18:02:24+00:00",
          "2023-08-09T18:02:24+00:00",
          "2023-08-09T18:02:24+00:00",
          "2023-08-09T18:02:24+00:00",
          "2023-08-09T18:02:24+00:00",
          "2023-08-09T18:02:24+00:00",
          "2023-08-09T18:02:24+00:00",
          "2023-08-09T18:02:24+00:00",
          "2023-08-09T18:02:24+00:00",
          "2023-08-09T18:02:24+00:00",
          "2023-08-09T18:02:24+00:00",
          "2023-08-09T18:02:24+00:00",
          "2023-08-09T18:02:24+00:00",
          "2023-08-09T18:02:24+00:00",
          "2023-08-09T18:02:24+00:00",
          "2023-08-09T18:02:24+00:00",
          "2023-08-09T18:02:24+00:00",
          "2023-08-09T18:02:24+00:00",
          "2023-08-09T18:02:24+00:00",
          "2023-08-09T18:02:24+00:00",
          "2023-08-09T19:11:04+00:00",
          "2023-08-09T19:11:04+00:00",
          "2023-08-09T19:11:04+00:00",
          "2023-08-09T19:11:04+00:00",
          "2023-08-09T19:11:04+00:00",
          "2023-08-09T19:11:04+00:00",
          "2023-08-09T19:11:04+00:00",
          "2023-08-09T19:11:04+00:00",
          "2023-08-09T19:11:04+00:00",
          "2023-08-09T19:11:04+00:00",
          "2023-08-09T19:11:04+00:00",
          "2023-08-09T19:11:04+00:00",
          "2023-08-09T19:11:04+00:00",
          "2023-08-09T19:11:04+00:00",
          "2023-08-09T19:11:04+00:00",
          "2023-08-09T19:11:04+00:00",
          "2023-08-09T19:11:04+00:00",
          "2023-08-09T19:11:04+00:00",
          "2023-08-09T19:11:04+00:00",
          "2023-08-09T19:11:04+00:00",
          "2023-08-09T19:11:04+00:00",
          "2023-08-09T19:11:04+00:00",
          "2023-08-09T19:11:04+00:00",
          "2023-08-09T19:11:04+00:00",
          "2023-08-09T19:11:04+00:00",
          "2023-08-09T19:11:04+00:00",
          "2023-08-09T19:11:04+00:00",
          "2023-08-09T19:11:04+00:00",
          "2023-08-09T19:11:04+00:00",
          "2023-08-10T14:27:47+00:00",
          "2023-08-10T20:49:11+00:00",
          "2023-08-10T20:49:11+00:00",
          "2023-08-11T11:34:00+00:00",
          "2023-08-11T11:34:00+00:00",
          "2023-08-11T19:20:28+00:00",
          "2023-08-11T20:47:40+00:00",
          "2023-08-12T21:39:05+00:00",
          "2023-08-13T11:46:08+00:00",
          "2023-08-14T13:06:36+00:00",
          "2023-08-14T14:27:22+00:00",
          "2023-08-14T14:57:08+00:00",
          "2023-08-14T15:29:19+00:00",
          "2023-08-14T15:29:19+00:00",
          "2023-08-14T15:29:19+00:00",
          "2023-08-14T15:29:19+00:00",
          "2023-08-14T15:29:19+00:00",
          "2023-08-14T15:29:19+00:00",
          "2023-08-14T15:29:19+00:00",
          "2023-08-14T15:44:19+00:00",
          "2023-08-14T15:44:19+00:00",
          "2023-08-14T15:44:19+00:00",
          "2023-08-14T15:44:19+00:00",
          "2023-08-14T16:09:47+00:00",
          "2023-08-14T16:09:47+00:00",
          "2023-08-14T16:09:47+00:00",
          "2023-08-14T16:09:47+00:00",
          "2023-08-14T16:09:47+00:00",
          "2023-08-14T16:09:47+00:00",
          "2023-08-14T16:09:47+00:00",
          "2023-08-14T16:09:47+00:00",
          "2023-08-14T16:09:47+00:00",
          "2023-08-14T16:09:47+00:00",
          "2023-08-14T16:18:28+00:00",
          "2023-08-14T16:18:28+00:00",
          "2023-08-14T16:18:28+00:00",
          "2023-08-14T16:34:09+00:00",
          "2023-08-14T17:43:59+00:00",
          "2023-08-14T18:13:12+00:00",
          "2023-08-14T18:13:12+00:00",
          "2023-08-14T18:35:15+00:00",
          "2023-08-14T19:27:47+00:00",
          "2023-08-14T19:27:47+00:00",
          "2023-08-14T19:27:47+00:00",
          "2023-08-14T19:27:47+00:00",
          "2023-08-14T19:27:47+00:00",
          "2023-08-14T19:27:47+00:00",
          "2023-08-14T19:27:47+00:00",
          "2023-08-14T20:00:42+00:00",
          "2023-08-14T20:59:21+00:00",
          "2023-08-14T20:59:21+00:00",
          "2023-08-14T20:59:21+00:00",
          "2023-08-11T20:17:48+00:00",
          "2023-08-11T20:17:48+00:00",
          "2023-08-11T20:17:48+00:00",
          "2023-08-11T20:17:48+00:00",
          "2023-08-11T20:17:48+00:00",
          "2023-08-11T20:17:48+00:00",
          "2023-08-11T20:17:48+00:00",
          "2023-08-14T23:17:04+00:00",
          "2023-08-15T01:18:28+00:00",
          "2023-08-15T01:33:48+00:00",
          "2023-08-15T01:43:42+00:00",
          "2023-08-15T01:43:42+00:00",
          "2023-08-15T01:43:42+00:00",
          "2023-08-15T02:26:07+00:00",
          "2023-08-15T11:56:49+00:00",
          "2023-08-15T12:38:27+00:00",
          "2023-08-15T12:56:20+00:00",
          "2023-08-15T13:23:42+00:00",
          "2023-08-15T13:31:20+00:00",
          "2023-08-15T13:35:39+00:00",
          "2023-08-15T14:22:59+00:00",
          "2023-08-15T15:33:38+00:00",
          "2023-08-15T15:36:49+00:00",
          "2023-08-15T15:36:49+00:00",
          "2023-08-15T15:36:49+00:00",
          "2023-08-15T15:36:49+00:00",
          "2023-08-15T15:36:49+00:00",
          "2023-08-15T15:36:49+00:00",
          "2023-08-15T15:36:49+00:00",
          "2023-08-15T16:31:19+00:00",
          "2023-08-15T16:40:19+00:00",
          "2023-08-15T17:15:19+00:00",
          "2023-08-15T18:17:54+00:00",
          "2023-08-15T18:47:33+00:00",
          "2023-08-15T19:08:06+00:00",
          "2023-08-15T19:14:37+00:00",
          "2023-08-15T19:18:37+00:00",
          "2023-08-15T20:26:38+00:00",
          "2023-08-15T21:08:58+00:00",
          "2023-08-15T21:08:58+00:00",
          "2023-08-15T21:08:58+00:00",
          "2023-08-15T21:08:58+00:00",
          "2023-08-15T21:08:58+00:00",
          "2023-08-15T21:08:58+00:00",
          "2023-08-15T21:08:58+00:00",
          "2023-08-15T21:08:58+00:00",
          "2023-08-15T21:08:58+00:00",
          "2023-08-15T21:08:58+00:00",
          "2023-08-15T21:08:58+00:00",
          "2023-08-15T21:08:58+00:00",
          "2023-08-15T21:42:25+00:00",
          "2023-08-15T21:48:43+00:00",
          "2023-08-15T21:48:43+00:00",
          "2023-08-15T21:48:43+00:00",
          "2023-08-16T00:28:17+00:00",
          "2023-08-16T00:28:17+00:00",
          "2023-08-16T00:28:17+00:00",
          "2023-08-16T00:28:17+00:00",
          "2023-08-16T00:28:17+00:00",
          "2023-08-16T00:28:17+00:00",
          "2023-08-16T02:35:45+00:00",
          "2023-08-16T02:42:39+00:00",
          "2023-08-16T02:56:29+00:00",
          "2023-08-16T03:12:48+00:00",
          "2023-08-16T17:38:37+00:00",
          "2023-08-22T13:46:41+00:00",
          "2023-08-22T14:15:51+00:00",
          "2023-08-23T13:45:47+00:00",
          "2023-08-23T18:09:45+00:00",
          "2023-08-23T19:22:18+00:00",
          "2023-08-31T13:38:08+00:00",
          "2023-08-31T15:10:31+00:00",
          "2023-09-01T15:28:55+00:00",
          "2023-09-01T15:28:55+00:00",
          "2023-09-01T15:28:55+00:00",
          "2023-09-01T15:28:55+00:00",
          "2023-09-01T15:45:26+00:00",
          "2023-09-01T19:27:53+00:00",
          "2023-09-05T14:51:22+00:00",
          "2023-09-05T14:51:22+00:00",
          "2023-09-05T14:51:22+00:00",
          "2023-09-05T14:51:22+00:00",
          "2023-09-05T14:51:22+00:00",
          "2023-09-05T14:31:20+00:00",
          "2023-09-07T13:09:20+00:00",
          "2023-09-08T15:40:00+00:00",
          "2023-09-08T20:53:22+00:00",
          "2023-09-11T13:57:36+00:00",
          "2023-09-11T13:57:36+00:00",
          "2023-09-12T12:31:43+00:00",
          "2023-09-12T16:29:34+00:00",
          "2023-09-12T17:42:56+00:00",
          "2023-09-12T19:15:05+00:00",
          "2023-09-13T14:08:59+00:00",
          "2023-09-13T18:18:42+00:00",
          "2023-09-14T01:22:06+00:00",
          "2023-09-14T10:36:53+00:00",
          "2023-09-14T12:43:41+00:00",
          "2023-09-14T18:27:34+00:00",
          "2023-09-14T18:44:40+00:00",
          "2023-09-15T00:11:38+00:00",
          "2023-09-15T01:04:13+00:00",
          "2023-09-15T01:04:13+00:00",
          "2023-09-15T01:04:13+00:00",
          "2023-09-15T01:04:13+00:00",
          "2023-09-15T01:04:13+00:00",
          "2023-09-15T01:04:13+00:00",
          "2023-09-15T01:04:13+00:00",
          "2023-09-15T01:04:13+00:00",
          "2023-09-15T01:04:13+00:00",
          "2023-09-15T01:04:13+00:00",
          "2023-09-15T01:04:13+00:00",
          "2023-09-15T15:40:28+00:00",
          "2023-09-15T19:03:09+00:00",
          "2023-09-15T19:03:09+00:00",
          "2023-09-17T02:23:28+00:00",
          "2023-09-18T01:31:15+00:00",
          "2023-09-18T13:00:29+00:00",
          "2023-09-18T15:15:36+00:00",
          "2023-09-18T20:08:07+00:00",
          "2023-09-19T01:33:05+00:00",
          "2023-09-20T13:02:19+00:00",
          "2023-09-20T21:26:37+00:00",
          "2023-09-20T22:09:20+00:00",
          "2023-09-21T23:15:51+00:00",
          "2023-09-22T11:22:39+00:00",
          "2023-09-22T12:59:25+00:00",
          "2023-09-22T18:57:13+00:00",
          "2023-09-22T18:57:13+00:00",
          "2023-09-22T18:57:13+00:00",
          "2023-09-22T18:57:13+00:00",
          "2023-09-22T18:57:13+00:00",
          "2023-09-22T18:57:13+00:00",
          "2023-09-22T18:57:13+00:00",
          "2023-09-22T18:57:13+00:00",
          "2023-09-22T18:57:13+00:00",
          "2023-09-22T18:57:13+00:00",
          "2023-09-22T19:14:53+00:00",
          "2023-09-22T20:04:25+00:00",
          "2023-09-22T20:43:35+00:00",
          "2023-09-22T20:47:43+00:00",
          "2023-09-22T21:10:10+00:00",
          "2023-09-22T21:10:26+00:00",
          "2023-09-22T21:09:46+00:00",
          "2023-09-23T01:13:51+00:00",
          "2023-09-25T14:15:18+00:00",
          "2023-09-25T15:19:04+00:00",
          "2023-09-25T16:58:16+00:00",
          "2023-09-28T13:27:25+00:00",
          "2023-09-28T18:06:22+00:00",
          "2023-09-28T20:19:57+00:00",
          "2023-09-29T17:41:39+00:00",
          "2023-10-03T11:26:52+00:00",
          "2023-10-03T13:22:04+00:00",
          "2023-10-03T13:22:04+00:00",
          "2023-10-04T15:40:44+00:00",
          "2023-10-04T17:46:29+00:00",
          "2023-10-04T19:03:10+00:00",
          "2023-10-04T19:55:06+00:00",
          "2023-10-06T00:31:15+00:00",
          "2023-10-06T01:11:03+00:00",
          "2023-10-06T02:39:45+00:00",
          "2023-10-06T13:02:29+00:00",
          "2023-10-06T21:47:00+00:00",
          "2023-10-08T17:50:40+00:00",
          "2023-10-09T14:41:33+00:00",
          "2023-10-09T19:00:31+00:00",
          "2023-10-10T17:50:36+00:00",
          "2023-10-11T15:03:24+00:00",
          "2023-10-12T15:31:07+00:00",
          "2023-10-12T15:31:07+00:00",
          "2023-10-12T16:19:21+00:00",
          "2023-10-12T19:03:57+00:00",
          "2023-10-13T02:14:04+00:00",
          "2023-10-13T16:04:44+00:00",
          "2023-10-13T17:26:53+00:00",
          "2023-10-16T22:53:26+00:00",
          "2023-10-17T00:11:34+00:00",
          "2023-10-17T15:17:09+00:00",
          "2023-10-17T18:20:32+00:00",
          "2023-10-18T13:40:16+00:00",
          "2023-10-18T15:48:47+00:00",
          "2023-10-18T16:05:07+00:00",
          "2023-10-18T17:10:20+00:00",
          "2023-10-18T17:50:24+00:00",
          "2023-10-18T20:32:20+00:00",
          "2023-10-18T20:53:53+00:00",
          "2023-10-19T12:13:46+00:00",
          "2023-10-19T15:11:26+00:00"
         ],
         "xaxis": "x",
         "xbingroup": "x",
         "y": [
          149,
          149,
          149,
          149,
          149,
          149,
          149,
          149,
          149,
          149,
          149,
          149,
          149,
          149,
          149,
          149,
          149,
          149,
          149,
          149,
          149,
          149,
          149,
          149,
          149,
          149,
          149,
          149,
          149,
          149,
          149,
          149,
          149,
          149,
          149,
          149,
          149,
          149,
          149,
          149,
          149,
          149,
          149,
          149,
          149,
          149,
          149,
          149,
          149,
          149,
          149,
          149,
          149,
          149,
          149,
          149,
          149,
          149,
          149,
          149,
          149,
          149,
          149,
          149,
          149,
          149,
          149,
          149,
          149,
          149,
          149,
          149,
          149,
          149,
          149,
          149,
          149,
          149,
          149,
          149,
          149,
          149,
          149,
          149,
          149,
          149,
          149,
          149,
          149,
          149,
          149,
          149,
          149,
          149,
          149,
          149,
          149,
          149,
          149,
          149,
          149,
          149,
          149,
          149,
          149,
          149,
          149,
          149,
          149,
          149,
          149,
          149,
          149,
          149,
          149,
          149,
          149,
          149,
          149,
          149,
          79,
          149,
          149,
          149,
          149,
          149,
          149,
          149,
          149,
          149,
          149,
          149,
          149,
          149,
          149,
          149,
          149,
          149,
          149,
          149,
          149,
          149,
          149,
          149,
          149,
          149,
          149,
          149,
          149,
          149,
          149,
          149,
          149,
          149,
          149,
          149,
          149,
          149,
          149,
          149,
          149,
          149,
          149,
          149,
          149,
          149,
          149,
          149,
          149,
          149,
          149,
          149,
          149,
          149,
          149,
          149,
          149,
          149,
          149,
          149,
          149,
          149,
          149,
          149,
          149,
          149,
          149,
          149,
          149,
          149,
          149,
          149,
          149,
          79,
          149,
          149,
          149,
          149,
          149,
          79,
          149,
          149,
          149,
          149,
          149,
          149,
          149,
          149,
          149,
          149,
          149,
          149,
          149,
          149,
          149,
          149,
          149,
          149,
          149,
          149,
          149,
          149,
          149,
          149,
          149,
          149,
          149,
          149,
          179,
          179,
          179,
          179,
          179,
          179,
          179,
          179,
          179,
          179,
          179,
          179,
          179,
          179,
          179,
          179,
          179,
          179,
          179,
          179,
          179,
          99,
          179,
          179,
          179,
          179,
          179,
          179,
          179,
          179,
          179,
          179,
          179,
          179,
          179,
          179,
          179,
          179,
          179,
          179,
          179,
          179,
          179,
          179,
          179,
          179,
          179,
          179,
          179,
          169,
          169,
          199,
          99,
          209,
          209,
          209,
          99,
          209,
          209,
          209,
          99,
          99,
          99,
          209,
          209,
          209,
          209,
          209,
          209,
          209,
          209,
          209,
          209,
          99,
          209,
          99,
          99,
          99,
          99,
          99,
          99,
          209,
          209,
          99,
          209,
          209,
          209,
          99,
          209,
          149,
          149,
          209,
          209,
          209,
          209,
          209,
          99,
          209,
          209,
          199,
          239,
          239,
          239,
          239,
          239,
          239,
          239,
          239,
          239,
          239,
          239,
          239,
          239,
          239,
          99,
          239,
          239,
          239,
          229,
          239,
          239,
          239,
          239,
          209,
          149
         ],
         "yaxis": "y",
         "ybingroup": "y"
        }
       ],
       "layout": {
        "coloraxis": {
         "colorbar": {
          "title": {
           "text": "count"
          }
         },
         "colorscale": [
          [
           0,
           "rgb(75, 41, 145)"
          ],
          [
           0.16666666666666666,
           "rgb(135, 44, 162)"
          ],
          [
           0.3333333333333333,
           "rgb(192, 54, 157)"
          ],
          [
           0.5,
           "rgb(234, 79, 136)"
          ],
          [
           0.6666666666666666,
           "rgb(250, 120, 118)"
          ],
          [
           0.8333333333333334,
           "rgb(246, 169, 122)"
          ],
          [
           1,
           "rgb(237, 217, 163)"
          ]
         ]
        },
        "legend": {
         "tracegroupgap": 0
        },
        "template": {
         "data": {
          "bar": [
           {
            "error_x": {
             "color": "#f2f5fa"
            },
            "error_y": {
             "color": "#f2f5fa"
            },
            "marker": {
             "line": {
              "color": "rgb(17,17,17)",
              "width": 0.5
             },
             "pattern": {
              "fillmode": "overlay",
              "size": 10,
              "solidity": 0.2
             }
            },
            "type": "bar"
           }
          ],
          "barpolar": [
           {
            "marker": {
             "line": {
              "color": "rgb(17,17,17)",
              "width": 0.5
             },
             "pattern": {
              "fillmode": "overlay",
              "size": 10,
              "solidity": 0.2
             }
            },
            "type": "barpolar"
           }
          ],
          "carpet": [
           {
            "aaxis": {
             "endlinecolor": "#A2B1C6",
             "gridcolor": "#506784",
             "linecolor": "#506784",
             "minorgridcolor": "#506784",
             "startlinecolor": "#A2B1C6"
            },
            "baxis": {
             "endlinecolor": "#A2B1C6",
             "gridcolor": "#506784",
             "linecolor": "#506784",
             "minorgridcolor": "#506784",
             "startlinecolor": "#A2B1C6"
            },
            "type": "carpet"
           }
          ],
          "choropleth": [
           {
            "colorbar": {
             "outlinewidth": 0,
             "ticks": ""
            },
            "type": "choropleth"
           }
          ],
          "contour": [
           {
            "colorbar": {
             "outlinewidth": 0,
             "ticks": ""
            },
            "colorscale": [
             [
              0,
              "#0d0887"
             ],
             [
              0.1111111111111111,
              "#46039f"
             ],
             [
              0.2222222222222222,
              "#7201a8"
             ],
             [
              0.3333333333333333,
              "#9c179e"
             ],
             [
              0.4444444444444444,
              "#bd3786"
             ],
             [
              0.5555555555555556,
              "#d8576b"
             ],
             [
              0.6666666666666666,
              "#ed7953"
             ],
             [
              0.7777777777777778,
              "#fb9f3a"
             ],
             [
              0.8888888888888888,
              "#fdca26"
             ],
             [
              1,
              "#f0f921"
             ]
            ],
            "type": "contour"
           }
          ],
          "contourcarpet": [
           {
            "colorbar": {
             "outlinewidth": 0,
             "ticks": ""
            },
            "type": "contourcarpet"
           }
          ],
          "heatmap": [
           {
            "colorbar": {
             "outlinewidth": 0,
             "ticks": ""
            },
            "colorscale": [
             [
              0,
              "#0d0887"
             ],
             [
              0.1111111111111111,
              "#46039f"
             ],
             [
              0.2222222222222222,
              "#7201a8"
             ],
             [
              0.3333333333333333,
              "#9c179e"
             ],
             [
              0.4444444444444444,
              "#bd3786"
             ],
             [
              0.5555555555555556,
              "#d8576b"
             ],
             [
              0.6666666666666666,
              "#ed7953"
             ],
             [
              0.7777777777777778,
              "#fb9f3a"
             ],
             [
              0.8888888888888888,
              "#fdca26"
             ],
             [
              1,
              "#f0f921"
             ]
            ],
            "type": "heatmap"
           }
          ],
          "heatmapgl": [
           {
            "colorbar": {
             "outlinewidth": 0,
             "ticks": ""
            },
            "colorscale": [
             [
              0,
              "#0d0887"
             ],
             [
              0.1111111111111111,
              "#46039f"
             ],
             [
              0.2222222222222222,
              "#7201a8"
             ],
             [
              0.3333333333333333,
              "#9c179e"
             ],
             [
              0.4444444444444444,
              "#bd3786"
             ],
             [
              0.5555555555555556,
              "#d8576b"
             ],
             [
              0.6666666666666666,
              "#ed7953"
             ],
             [
              0.7777777777777778,
              "#fb9f3a"
             ],
             [
              0.8888888888888888,
              "#fdca26"
             ],
             [
              1,
              "#f0f921"
             ]
            ],
            "type": "heatmapgl"
           }
          ],
          "histogram": [
           {
            "marker": {
             "pattern": {
              "fillmode": "overlay",
              "size": 10,
              "solidity": 0.2
             }
            },
            "type": "histogram"
           }
          ],
          "histogram2d": [
           {
            "colorbar": {
             "outlinewidth": 0,
             "ticks": ""
            },
            "colorscale": [
             [
              0,
              "#0d0887"
             ],
             [
              0.1111111111111111,
              "#46039f"
             ],
             [
              0.2222222222222222,
              "#7201a8"
             ],
             [
              0.3333333333333333,
              "#9c179e"
             ],
             [
              0.4444444444444444,
              "#bd3786"
             ],
             [
              0.5555555555555556,
              "#d8576b"
             ],
             [
              0.6666666666666666,
              "#ed7953"
             ],
             [
              0.7777777777777778,
              "#fb9f3a"
             ],
             [
              0.8888888888888888,
              "#fdca26"
             ],
             [
              1,
              "#f0f921"
             ]
            ],
            "type": "histogram2d"
           }
          ],
          "histogram2dcontour": [
           {
            "colorbar": {
             "outlinewidth": 0,
             "ticks": ""
            },
            "colorscale": [
             [
              0,
              "#0d0887"
             ],
             [
              0.1111111111111111,
              "#46039f"
             ],
             [
              0.2222222222222222,
              "#7201a8"
             ],
             [
              0.3333333333333333,
              "#9c179e"
             ],
             [
              0.4444444444444444,
              "#bd3786"
             ],
             [
              0.5555555555555556,
              "#d8576b"
             ],
             [
              0.6666666666666666,
              "#ed7953"
             ],
             [
              0.7777777777777778,
              "#fb9f3a"
             ],
             [
              0.8888888888888888,
              "#fdca26"
             ],
             [
              1,
              "#f0f921"
             ]
            ],
            "type": "histogram2dcontour"
           }
          ],
          "mesh3d": [
           {
            "colorbar": {
             "outlinewidth": 0,
             "ticks": ""
            },
            "type": "mesh3d"
           }
          ],
          "parcoords": [
           {
            "line": {
             "colorbar": {
              "outlinewidth": 0,
              "ticks": ""
             }
            },
            "type": "parcoords"
           }
          ],
          "pie": [
           {
            "automargin": true,
            "type": "pie"
           }
          ],
          "scatter": [
           {
            "marker": {
             "line": {
              "color": "#283442"
             }
            },
            "type": "scatter"
           }
          ],
          "scatter3d": [
           {
            "line": {
             "colorbar": {
              "outlinewidth": 0,
              "ticks": ""
             }
            },
            "marker": {
             "colorbar": {
              "outlinewidth": 0,
              "ticks": ""
             }
            },
            "type": "scatter3d"
           }
          ],
          "scattercarpet": [
           {
            "marker": {
             "colorbar": {
              "outlinewidth": 0,
              "ticks": ""
             }
            },
            "type": "scattercarpet"
           }
          ],
          "scattergeo": [
           {
            "marker": {
             "colorbar": {
              "outlinewidth": 0,
              "ticks": ""
             }
            },
            "type": "scattergeo"
           }
          ],
          "scattergl": [
           {
            "marker": {
             "line": {
              "color": "#283442"
             }
            },
            "type": "scattergl"
           }
          ],
          "scattermapbox": [
           {
            "marker": {
             "colorbar": {
              "outlinewidth": 0,
              "ticks": ""
             }
            },
            "type": "scattermapbox"
           }
          ],
          "scatterpolar": [
           {
            "marker": {
             "colorbar": {
              "outlinewidth": 0,
              "ticks": ""
             }
            },
            "type": "scatterpolar"
           }
          ],
          "scatterpolargl": [
           {
            "marker": {
             "colorbar": {
              "outlinewidth": 0,
              "ticks": ""
             }
            },
            "type": "scatterpolargl"
           }
          ],
          "scatterternary": [
           {
            "marker": {
             "colorbar": {
              "outlinewidth": 0,
              "ticks": ""
             }
            },
            "type": "scatterternary"
           }
          ],
          "surface": [
           {
            "colorbar": {
             "outlinewidth": 0,
             "ticks": ""
            },
            "colorscale": [
             [
              0,
              "#0d0887"
             ],
             [
              0.1111111111111111,
              "#46039f"
             ],
             [
              0.2222222222222222,
              "#7201a8"
             ],
             [
              0.3333333333333333,
              "#9c179e"
             ],
             [
              0.4444444444444444,
              "#bd3786"
             ],
             [
              0.5555555555555556,
              "#d8576b"
             ],
             [
              0.6666666666666666,
              "#ed7953"
             ],
             [
              0.7777777777777778,
              "#fb9f3a"
             ],
             [
              0.8888888888888888,
              "#fdca26"
             ],
             [
              1,
              "#f0f921"
             ]
            ],
            "type": "surface"
           }
          ],
          "table": [
           {
            "cells": {
             "fill": {
              "color": "#506784"
             },
             "line": {
              "color": "rgb(17,17,17)"
             }
            },
            "header": {
             "fill": {
              "color": "#2a3f5f"
             },
             "line": {
              "color": "rgb(17,17,17)"
             }
            },
            "type": "table"
           }
          ]
         },
         "layout": {
          "annotationdefaults": {
           "arrowcolor": "#f2f5fa",
           "arrowhead": 0,
           "arrowwidth": 1
          },
          "autotypenumbers": "strict",
          "coloraxis": {
           "colorbar": {
            "outlinewidth": 0,
            "ticks": ""
           }
          },
          "colorscale": {
           "diverging": [
            [
             0,
             "#8e0152"
            ],
            [
             0.1,
             "#c51b7d"
            ],
            [
             0.2,
             "#de77ae"
            ],
            [
             0.3,
             "#f1b6da"
            ],
            [
             0.4,
             "#fde0ef"
            ],
            [
             0.5,
             "#f7f7f7"
            ],
            [
             0.6,
             "#e6f5d0"
            ],
            [
             0.7,
             "#b8e186"
            ],
            [
             0.8,
             "#7fbc41"
            ],
            [
             0.9,
             "#4d9221"
            ],
            [
             1,
             "#276419"
            ]
           ],
           "sequential": [
            [
             0,
             "#0d0887"
            ],
            [
             0.1111111111111111,
             "#46039f"
            ],
            [
             0.2222222222222222,
             "#7201a8"
            ],
            [
             0.3333333333333333,
             "#9c179e"
            ],
            [
             0.4444444444444444,
             "#bd3786"
            ],
            [
             0.5555555555555556,
             "#d8576b"
            ],
            [
             0.6666666666666666,
             "#ed7953"
            ],
            [
             0.7777777777777778,
             "#fb9f3a"
            ],
            [
             0.8888888888888888,
             "#fdca26"
            ],
            [
             1,
             "#f0f921"
            ]
           ],
           "sequentialminus": [
            [
             0,
             "#0d0887"
            ],
            [
             0.1111111111111111,
             "#46039f"
            ],
            [
             0.2222222222222222,
             "#7201a8"
            ],
            [
             0.3333333333333333,
             "#9c179e"
            ],
            [
             0.4444444444444444,
             "#bd3786"
            ],
            [
             0.5555555555555556,
             "#d8576b"
            ],
            [
             0.6666666666666666,
             "#ed7953"
            ],
            [
             0.7777777777777778,
             "#fb9f3a"
            ],
            [
             0.8888888888888888,
             "#fdca26"
            ],
            [
             1,
             "#f0f921"
            ]
           ]
          },
          "colorway": [
           "#636efa",
           "#EF553B",
           "#00cc96",
           "#ab63fa",
           "#FFA15A",
           "#19d3f3",
           "#FF6692",
           "#B6E880",
           "#FF97FF",
           "#FECB52"
          ],
          "font": {
           "color": "#f2f5fa"
          },
          "geo": {
           "bgcolor": "rgb(17,17,17)",
           "lakecolor": "rgb(17,17,17)",
           "landcolor": "rgb(17,17,17)",
           "showlakes": true,
           "showland": true,
           "subunitcolor": "#506784"
          },
          "hoverlabel": {
           "align": "left"
          },
          "hovermode": "closest",
          "mapbox": {
           "style": "dark"
          },
          "paper_bgcolor": "rgb(17,17,17)",
          "plot_bgcolor": "rgb(17,17,17)",
          "polar": {
           "angularaxis": {
            "gridcolor": "#506784",
            "linecolor": "#506784",
            "ticks": ""
           },
           "bgcolor": "rgb(17,17,17)",
           "radialaxis": {
            "gridcolor": "#506784",
            "linecolor": "#506784",
            "ticks": ""
           }
          },
          "scene": {
           "xaxis": {
            "backgroundcolor": "rgb(17,17,17)",
            "gridcolor": "#506784",
            "gridwidth": 2,
            "linecolor": "#506784",
            "showbackground": true,
            "ticks": "",
            "zerolinecolor": "#C8D4E3"
           },
           "yaxis": {
            "backgroundcolor": "rgb(17,17,17)",
            "gridcolor": "#506784",
            "gridwidth": 2,
            "linecolor": "#506784",
            "showbackground": true,
            "ticks": "",
            "zerolinecolor": "#C8D4E3"
           },
           "zaxis": {
            "backgroundcolor": "rgb(17,17,17)",
            "gridcolor": "#506784",
            "gridwidth": 2,
            "linecolor": "#506784",
            "showbackground": true,
            "ticks": "",
            "zerolinecolor": "#C8D4E3"
           }
          },
          "shapedefaults": {
           "line": {
            "color": "#f2f5fa"
           }
          },
          "sliderdefaults": {
           "bgcolor": "#C8D4E3",
           "bordercolor": "rgb(17,17,17)",
           "borderwidth": 1,
           "tickwidth": 0
          },
          "ternary": {
           "aaxis": {
            "gridcolor": "#506784",
            "linecolor": "#506784",
            "ticks": ""
           },
           "baxis": {
            "gridcolor": "#506784",
            "linecolor": "#506784",
            "ticks": ""
           },
           "bgcolor": "rgb(17,17,17)",
           "caxis": {
            "gridcolor": "#506784",
            "linecolor": "#506784",
            "ticks": ""
           }
          },
          "title": {
           "x": 0.05
          },
          "updatemenudefaults": {
           "bgcolor": "#506784",
           "borderwidth": 0
          },
          "xaxis": {
           "automargin": true,
           "gridcolor": "#283442",
           "linecolor": "#506784",
           "ticks": "",
           "title": {
            "standoff": 15
           },
           "zerolinecolor": "#283442",
           "zerolinewidth": 2
          },
          "yaxis": {
           "automargin": true,
           "gridcolor": "#283442",
           "linecolor": "#506784",
           "ticks": "",
           "title": {
            "standoff": 15
           },
           "zerolinecolor": "#283442",
           "zerolinewidth": 2
          }
         }
        },
        "title": {
         "text": "Momentum 23 Check-ins by order date"
        },
        "xaxis": {
         "anchor": "y",
         "domain": [
          0,
          1
         ],
         "title": {
          "text": "Order Date"
         }
        },
        "yaxis": {
         "anchor": "x",
         "domain": [
          0,
          1
         ],
         "title": {
          "text": "Check-ins: Registration"
         }
        }
       }
      }
     },
     "metadata": {},
     "output_type": "display_data"
    }
   ],
   "source": [
    "px.density_heatmap(df23[df23['Price'] > 0], x='Order Date', y='Check-ins: Registration', title='Momentum 23 Check-ins by order date')"
   ]
  },
  {
   "cell_type": "code",
   "execution_count": 541,
   "metadata": {},
   "outputs": [
    {
     "data": {
      "application/vnd.plotly.v1+json": {
       "config": {
        "plotlyServerURL": "https://plot.ly"
       },
       "data": [
        {
         "coloraxis": "coloraxis",
         "hovertemplate": "Check-ins: Registration=%{x}<br>Ticket=%{y}<br>count=%{z}<extra></extra>",
         "name": "",
         "type": "histogram2d",
         "x": [
          149,
          0,
          0,
          0,
          0,
          0,
          0,
          0,
          0,
          0,
          0,
          0,
          0,
          0,
          0,
          0,
          0,
          0,
          0,
          0,
          0,
          149,
          149,
          149,
          149,
          149,
          149,
          149,
          149,
          149,
          149,
          149,
          149,
          149,
          149,
          149,
          0,
          0,
          0,
          0,
          0,
          0,
          0,
          0,
          0,
          0,
          0,
          0,
          0,
          0,
          0,
          0,
          0,
          0,
          0,
          0,
          0,
          0,
          0,
          0,
          0,
          0,
          0,
          0,
          0,
          0,
          0,
          0,
          0,
          0,
          149,
          149,
          149,
          149,
          149,
          149,
          149,
          149,
          149,
          149,
          149,
          149,
          149,
          149,
          149,
          149,
          149,
          149,
          149,
          149,
          149,
          149,
          149,
          149,
          149,
          149,
          149,
          149,
          149,
          149,
          149,
          149,
          149,
          149,
          149,
          149,
          149,
          149,
          149,
          149,
          149,
          149,
          149,
          149,
          149,
          149,
          149,
          149,
          149,
          149,
          149,
          149,
          149,
          149,
          149,
          149,
          149,
          149,
          149,
          149,
          149,
          149,
          149,
          149,
          149,
          149,
          149,
          149,
          149,
          149,
          149,
          149,
          149,
          149,
          149,
          149,
          149,
          149,
          149,
          149,
          149,
          149,
          149,
          149,
          149,
          149,
          149,
          149,
          149,
          149,
          149,
          149,
          149,
          149,
          149,
          149,
          149,
          149,
          149,
          0,
          149,
          149,
          149,
          149,
          149,
          79,
          149,
          149,
          149,
          149,
          149,
          149,
          149,
          149,
          149,
          149,
          149,
          149,
          149,
          149,
          149,
          149,
          149,
          149,
          149,
          149,
          149,
          149,
          149,
          149,
          149,
          149,
          149,
          149,
          149,
          149,
          149,
          149,
          149,
          149,
          149,
          149,
          149,
          149,
          149,
          149,
          149,
          149,
          149,
          149,
          149,
          149,
          149,
          149,
          149,
          149,
          149,
          149,
          149,
          149,
          149,
          149,
          149,
          149,
          149,
          149,
          149,
          149,
          149,
          149,
          149,
          149,
          149,
          149,
          149,
          149,
          149,
          149,
          79,
          149,
          149,
          149,
          149,
          149,
          79,
          149,
          149,
          149,
          149,
          149,
          149,
          149,
          149,
          149,
          149,
          149,
          149,
          149,
          149,
          149,
          149,
          149,
          149,
          149,
          149,
          149,
          149,
          149,
          149,
          149,
          149,
          149,
          149,
          179,
          0,
          0,
          0,
          0,
          0,
          0,
          0,
          0,
          0,
          0,
          0,
          0,
          0,
          0,
          0,
          0,
          0,
          0,
          0,
          0,
          179,
          179,
          179,
          0,
          0,
          0,
          0,
          0,
          0,
          0,
          0,
          0,
          0,
          0,
          0,
          0,
          0,
          0,
          0,
          0,
          0,
          0,
          0,
          0,
          0,
          0,
          0,
          0,
          0,
          0,
          0,
          0,
          0,
          0,
          0,
          179,
          179,
          179,
          179,
          179,
          179,
          179,
          179,
          179,
          179,
          179,
          179,
          179,
          179,
          179,
          179,
          179,
          99,
          179,
          179,
          179,
          0,
          179,
          179,
          179,
          179,
          179,
          179,
          179,
          179,
          179,
          179,
          179,
          179,
          179,
          179,
          179,
          179,
          179,
          179,
          179,
          179,
          179,
          179,
          179,
          0,
          179,
          169,
          169,
          199,
          99,
          209,
          209,
          209,
          99,
          209,
          209,
          209,
          99,
          99,
          99,
          209,
          209,
          209,
          209,
          209,
          209,
          209,
          209,
          209,
          209,
          99,
          209,
          99,
          99,
          99,
          99,
          99,
          99,
          209,
          209,
          99,
          0,
          0,
          0,
          0,
          0,
          0,
          0,
          209,
          209,
          209,
          99,
          209,
          149,
          149,
          0,
          209,
          209,
          209,
          209,
          209,
          99,
          209,
          209,
          199,
          239,
          0,
          239,
          239,
          0,
          239,
          239,
          0,
          0,
          0,
          239,
          239,
          0,
          0,
          239,
          0,
          0,
          0,
          0,
          0,
          0,
          0,
          239,
          239,
          239,
          239,
          239,
          239,
          99,
          0,
          0,
          0,
          0,
          0,
          0,
          0,
          0,
          0,
          0,
          239,
          0,
          0,
          0,
          239,
          0,
          0,
          0,
          239,
          229,
          239,
          239,
          239,
          239,
          209,
          0,
          0,
          149
         ],
         "xaxis": "x",
         "xbingroup": "x",
         "y": [
          "Early Bird",
          "Content Reviewer",
          "Content Reviewer",
          "Content Reviewer",
          "Content Reviewer",
          "Content Reviewer",
          "Content Reviewer",
          "Content Reviewer",
          "Content Reviewer",
          "Content Reviewer",
          "Content Reviewer",
          "Content Reviewer",
          "Content Reviewer",
          "Content Reviewer",
          "Content Reviewer",
          "Content Reviewer",
          "Content Reviewer",
          "Content Reviewer",
          "Content Reviewer",
          "Speaker",
          "Speaker",
          "Early Bird",
          "Early Bird",
          "Early Bird",
          "Early Bird",
          "Early Bird",
          "Early Bird",
          "Early Bird",
          "Early Bird",
          "Early Bird",
          "Early Bird",
          "Early Bird",
          "Early Bird",
          "Early Bird",
          "Early Bird",
          "Early Bird",
          "Speaker",
          "Speaker",
          "Speaker",
          "Speaker",
          "Speaker",
          "Speaker",
          "Speaker",
          "Speaker",
          "Speaker",
          "Speaker",
          "Speaker",
          "Speaker",
          "Speaker",
          "Speaker",
          "Speaker",
          "Speaker",
          "Speaker",
          "Speaker",
          "Speaker",
          "Speaker",
          "Speaker",
          "Speaker",
          "Speaker",
          "Speaker",
          "Speaker",
          "Speaker",
          "Speaker",
          "Speaker",
          "Speaker",
          "Speaker",
          "Speaker",
          "Speaker",
          "Speaker",
          "Speaker",
          "Early Bird",
          "Early Bird",
          "Early Bird",
          "Early Bird",
          "Early Bird",
          "Early Bird",
          "Early Bird",
          "Early Bird",
          "Early Bird",
          "Early Bird",
          "Early Bird",
          "Early Bird",
          "Early Bird",
          "Early Bird",
          "Early Bird",
          "Early Bird",
          "Early Bird",
          "Early Bird",
          "Early Bird",
          "Early Bird",
          "Early Bird",
          "Early Bird",
          "Early Bird",
          "Early Bird",
          "Early Bird",
          "Early Bird",
          "Early Bird",
          "Early Bird",
          "Early Bird",
          "Early Bird",
          "Early Bird",
          "Early Bird",
          "Early Bird",
          "Early Bird",
          "Early Bird",
          "Early Bird",
          "Early Bird",
          "Early Bird",
          "Early Bird",
          "Early Bird",
          "Early Bird",
          "Early Bird",
          "Early Bird",
          "Early Bird",
          "Early Bird",
          "Early Bird",
          "Early Bird",
          "Early Bird",
          "Early Bird",
          "Early Bird",
          "Early Bird",
          "Early Bird",
          "Early Bird",
          "Early Bird",
          "Early Bird",
          "Early Bird",
          "Early Bird",
          "Early Bird",
          "Early Bird",
          "Early Bird",
          "Early Bird",
          "Early Bird",
          "Early Bird",
          "Early Bird",
          "Early Bird",
          "Early Bird",
          "Early Bird",
          "Early Bird",
          "Early Bird",
          "Early Bird",
          "Early Bird",
          "Early Bird",
          "Early Bird",
          "Early Bird",
          "Early Bird",
          "Early Bird",
          "Early Bird",
          "Early Bird",
          "Early Bird",
          "Early Bird",
          "Early Bird",
          "Early Bird",
          "Early Bird",
          "Early Bird",
          "Early Bird",
          "Early Bird",
          "Early Bird",
          "Early Bird",
          "Early Bird",
          "Early Bird",
          "Early Bird",
          "Early Bird",
          "Early Bird",
          "Early Bird",
          "Early Bird",
          "Early Bird",
          "Early Bird",
          "Early Bird",
          "Early Bird",
          "VIP",
          "Early Bird",
          "Early Bird",
          "Early Bird",
          "Early Bird",
          "Early Bird",
          "Early Student",
          "Early Bird",
          "Early Bird",
          "Early Bird",
          "Early Bird",
          "Early Bird",
          "Early Bird",
          "Early Bird",
          "Early Bird",
          "Early Bird",
          "Early Bird",
          "Early Bird",
          "Early Bird",
          "Early Bird",
          "Early Bird",
          "Early Bird",
          "Early Bird",
          "Early Bird",
          "Early Bird",
          "Early Bird",
          "Early Bird",
          "Early Bird",
          "Early Bird",
          "Early Bird",
          "Early Bird",
          "Early Bird",
          "Early Bird",
          "Early Bird",
          "Early Bird",
          "Early Bird",
          "Early Bird",
          "Early Bird",
          "Early Bird",
          "Early Bird",
          "Early Bird",
          "Early Bird",
          "Early Bird",
          "Early Bird",
          "Early Bird",
          "Early Bird",
          "Early Bird",
          "Early Bird",
          "Early Bird",
          "Early Bird",
          "Early Bird",
          "Early Bird",
          "Early Bird",
          "Early Bird",
          "Early Bird",
          "Early Bird",
          "Early Bird",
          "Early Bird",
          "Early Bird",
          "Early Bird",
          "Early Bird",
          "Early Bird",
          "Early Bird",
          "Early Bird",
          "Early Bird",
          "Early Bird",
          "Early Bird",
          "Early Bird",
          "Early Bird",
          "Early Bird",
          "Early Bird",
          "Early Bird",
          "Early Bird",
          "Early Bird",
          "Early Bird",
          "Early Bird",
          "Early Bird",
          "Early Bird",
          "Early Bird",
          "Early Student",
          "Early Bird",
          "Early Bird",
          "Early Bird",
          "Early Bird",
          "Early Bird",
          "Early Student",
          "Early Bird",
          "Early Bird",
          "Early Bird",
          "Early Bird",
          "Early Bird",
          "Early Bird",
          "Early Bird",
          "Early Bird",
          "Early Bird",
          "Early Bird",
          "Early Bird",
          "Early Bird",
          "Early Bird",
          "Early Bird",
          "Early Bird",
          "Early Bird",
          "Early Bird",
          "Early Bird",
          "Early Bird",
          "Early Bird",
          "Early Bird",
          "Early Bird",
          "Early Bird",
          "Early Bird",
          "Early Bird",
          "Early Bird",
          "Early Bird",
          "Early Bird",
          "Regular Price",
          "Volunteer",
          "Volunteer",
          "Organizer",
          "Organizer",
          "Organizer",
          "Organizer",
          "Organizer",
          "Organizer",
          "Organizer",
          "Organizer",
          "Sponsor",
          "Sponsor",
          "Sponsor",
          "Sponsor",
          "Sponsor",
          "Sponsor",
          "Sponsor",
          "Sponsor",
          "Sponsor",
          "Sponsor",
          "Regular Price",
          "Regular Price",
          "Regular Price",
          "Sponsor",
          "Sponsor",
          "Sponsor",
          "Sponsor",
          "Sponsor",
          "Sponsor",
          "Sponsor",
          "Sponsor",
          "Sponsor",
          "Sponsor",
          "Sponsor",
          "Sponsor",
          "Sponsor",
          "Sponsor",
          "Sponsor",
          "Sponsor",
          "Sponsor",
          "Sponsor",
          "Sponsor",
          "Sponsor",
          "Sponsor",
          "Sponsor",
          "Sponsor",
          "Sponsor",
          "Sponsor",
          "Sponsor",
          "Sponsor",
          "Sponsor",
          "Sponsor",
          "Sponsor",
          "Sponsor",
          "Sponsor",
          "Regular Price",
          "Regular Price",
          "Regular Price",
          "Regular Price",
          "Regular Price",
          "Regular Price",
          "Regular Price",
          "Regular Price",
          "Regular Price",
          "Regular Price",
          "Regular Price",
          "Regular Price",
          "Regular Price",
          "Regular Price",
          "Regular Price",
          "Regular Price",
          "Regular Price",
          "Student",
          "Regular Price",
          "Regular Price",
          "Regular Price",
          "VIP",
          "Regular Price",
          "Regular Price",
          "Regular Price",
          "Regular Price",
          "Regular Price",
          "Regular Price",
          "Regular Price",
          "Regular Price",
          "Regular Price",
          "Regular Price",
          "Regular Price",
          "Regular Price",
          "Regular Price",
          "Regular Price",
          "Regular Price",
          "Regular Price",
          "Regular Price",
          "Regular Price",
          "Regular Price",
          "Regular Price",
          "Regular Price",
          "Regular Price",
          "Regular Price",
          "VIP",
          "Regular Price",
          "Regular Price",
          "Regular Price",
          "Late Registration",
          "Student",
          "Late Registration",
          "Late Registration",
          "Late Registration",
          "Student",
          "Late Registration",
          "Late Registration",
          "Late Registration",
          "Student",
          "Student",
          "Student",
          "Late Registration",
          "Late Registration",
          "Late Registration",
          "Late Registration",
          "Late Registration",
          "Late Registration",
          "Late Registration",
          "Late Registration",
          "Late Registration",
          "Late Registration",
          "Student",
          "Late Registration",
          "Student",
          "Student",
          "Student",
          "Student",
          "Student",
          "Student",
          "Late Registration",
          "Late Registration",
          "Student",
          "Volunteer",
          "Volunteer",
          "Volunteer",
          "Volunteer",
          "Volunteer",
          "Volunteer",
          "Volunteer",
          "Late Registration",
          "Late Registration",
          "Late Registration",
          "Student",
          "Late Registration",
          "Late Registration",
          "Late Registration",
          "Volunteer",
          "Late Registration",
          "Late Registration",
          "Late Registration",
          "Late Registration",
          "Late Registration",
          "Student",
          "Late Registration",
          "Late Registration",
          "Late Registration",
          "Procrastinator Pricing",
          "Volunteer",
          "Procrastinator Pricing",
          "Procrastinator Pricing",
          "Speaker",
          "Procrastinator Pricing",
          "Procrastinator Pricing",
          "Sponsor",
          "Sponsor",
          "Sponsor",
          "Procrastinator Pricing",
          "Procrastinator Pricing",
          "Sponsor",
          "Sponsor",
          "Procrastinator Pricing",
          "Sponsor",
          "Sponsor",
          "Sponsor",
          "Sponsor",
          "Sponsor",
          "Sponsor",
          "Sponsor",
          "Procrastinator Pricing",
          "Procrastinator Pricing",
          "Procrastinator Pricing",
          "Procrastinator Pricing",
          "Procrastinator Pricing",
          "Procrastinator Pricing",
          "Student",
          "Sponsor",
          "Sponsor",
          "Sponsor",
          "Sponsor",
          "Sponsor",
          "Sponsor",
          "Sponsor",
          "Sponsor",
          "Sponsor",
          "Sponsor",
          "Procrastinator Pricing",
          "Volunteer",
          "Volunteer",
          "VIP",
          "Procrastinator Pricing",
          "VIP",
          "Sponsor",
          "Sponsor",
          "Procrastinator Pricing",
          "Procrastinator Pricing",
          "Procrastinator Pricing",
          "Procrastinator Pricing",
          "Procrastinator Pricing",
          "Procrastinator Pricing",
          "Procrastinator Pricing",
          "VIP",
          "VIP",
          "Procrastinator Pricing"
         ],
         "yaxis": "y",
         "ybingroup": "y"
        }
       ],
       "layout": {
        "coloraxis": {
         "colorbar": {
          "title": {
           "text": "count"
          }
         },
         "colorscale": [
          [
           0,
           "rgb(75, 41, 145)"
          ],
          [
           0.16666666666666666,
           "rgb(135, 44, 162)"
          ],
          [
           0.3333333333333333,
           "rgb(192, 54, 157)"
          ],
          [
           0.5,
           "rgb(234, 79, 136)"
          ],
          [
           0.6666666666666666,
           "rgb(250, 120, 118)"
          ],
          [
           0.8333333333333334,
           "rgb(246, 169, 122)"
          ],
          [
           1,
           "rgb(237, 217, 163)"
          ]
         ]
        },
        "legend": {
         "tracegroupgap": 0
        },
        "template": {
         "data": {
          "bar": [
           {
            "error_x": {
             "color": "#f2f5fa"
            },
            "error_y": {
             "color": "#f2f5fa"
            },
            "marker": {
             "line": {
              "color": "rgb(17,17,17)",
              "width": 0.5
             },
             "pattern": {
              "fillmode": "overlay",
              "size": 10,
              "solidity": 0.2
             }
            },
            "type": "bar"
           }
          ],
          "barpolar": [
           {
            "marker": {
             "line": {
              "color": "rgb(17,17,17)",
              "width": 0.5
             },
             "pattern": {
              "fillmode": "overlay",
              "size": 10,
              "solidity": 0.2
             }
            },
            "type": "barpolar"
           }
          ],
          "carpet": [
           {
            "aaxis": {
             "endlinecolor": "#A2B1C6",
             "gridcolor": "#506784",
             "linecolor": "#506784",
             "minorgridcolor": "#506784",
             "startlinecolor": "#A2B1C6"
            },
            "baxis": {
             "endlinecolor": "#A2B1C6",
             "gridcolor": "#506784",
             "linecolor": "#506784",
             "minorgridcolor": "#506784",
             "startlinecolor": "#A2B1C6"
            },
            "type": "carpet"
           }
          ],
          "choropleth": [
           {
            "colorbar": {
             "outlinewidth": 0,
             "ticks": ""
            },
            "type": "choropleth"
           }
          ],
          "contour": [
           {
            "colorbar": {
             "outlinewidth": 0,
             "ticks": ""
            },
            "colorscale": [
             [
              0,
              "#0d0887"
             ],
             [
              0.1111111111111111,
              "#46039f"
             ],
             [
              0.2222222222222222,
              "#7201a8"
             ],
             [
              0.3333333333333333,
              "#9c179e"
             ],
             [
              0.4444444444444444,
              "#bd3786"
             ],
             [
              0.5555555555555556,
              "#d8576b"
             ],
             [
              0.6666666666666666,
              "#ed7953"
             ],
             [
              0.7777777777777778,
              "#fb9f3a"
             ],
             [
              0.8888888888888888,
              "#fdca26"
             ],
             [
              1,
              "#f0f921"
             ]
            ],
            "type": "contour"
           }
          ],
          "contourcarpet": [
           {
            "colorbar": {
             "outlinewidth": 0,
             "ticks": ""
            },
            "type": "contourcarpet"
           }
          ],
          "heatmap": [
           {
            "colorbar": {
             "outlinewidth": 0,
             "ticks": ""
            },
            "colorscale": [
             [
              0,
              "#0d0887"
             ],
             [
              0.1111111111111111,
              "#46039f"
             ],
             [
              0.2222222222222222,
              "#7201a8"
             ],
             [
              0.3333333333333333,
              "#9c179e"
             ],
             [
              0.4444444444444444,
              "#bd3786"
             ],
             [
              0.5555555555555556,
              "#d8576b"
             ],
             [
              0.6666666666666666,
              "#ed7953"
             ],
             [
              0.7777777777777778,
              "#fb9f3a"
             ],
             [
              0.8888888888888888,
              "#fdca26"
             ],
             [
              1,
              "#f0f921"
             ]
            ],
            "type": "heatmap"
           }
          ],
          "heatmapgl": [
           {
            "colorbar": {
             "outlinewidth": 0,
             "ticks": ""
            },
            "colorscale": [
             [
              0,
              "#0d0887"
             ],
             [
              0.1111111111111111,
              "#46039f"
             ],
             [
              0.2222222222222222,
              "#7201a8"
             ],
             [
              0.3333333333333333,
              "#9c179e"
             ],
             [
              0.4444444444444444,
              "#bd3786"
             ],
             [
              0.5555555555555556,
              "#d8576b"
             ],
             [
              0.6666666666666666,
              "#ed7953"
             ],
             [
              0.7777777777777778,
              "#fb9f3a"
             ],
             [
              0.8888888888888888,
              "#fdca26"
             ],
             [
              1,
              "#f0f921"
             ]
            ],
            "type": "heatmapgl"
           }
          ],
          "histogram": [
           {
            "marker": {
             "pattern": {
              "fillmode": "overlay",
              "size": 10,
              "solidity": 0.2
             }
            },
            "type": "histogram"
           }
          ],
          "histogram2d": [
           {
            "colorbar": {
             "outlinewidth": 0,
             "ticks": ""
            },
            "colorscale": [
             [
              0,
              "#0d0887"
             ],
             [
              0.1111111111111111,
              "#46039f"
             ],
             [
              0.2222222222222222,
              "#7201a8"
             ],
             [
              0.3333333333333333,
              "#9c179e"
             ],
             [
              0.4444444444444444,
              "#bd3786"
             ],
             [
              0.5555555555555556,
              "#d8576b"
             ],
             [
              0.6666666666666666,
              "#ed7953"
             ],
             [
              0.7777777777777778,
              "#fb9f3a"
             ],
             [
              0.8888888888888888,
              "#fdca26"
             ],
             [
              1,
              "#f0f921"
             ]
            ],
            "type": "histogram2d"
           }
          ],
          "histogram2dcontour": [
           {
            "colorbar": {
             "outlinewidth": 0,
             "ticks": ""
            },
            "colorscale": [
             [
              0,
              "#0d0887"
             ],
             [
              0.1111111111111111,
              "#46039f"
             ],
             [
              0.2222222222222222,
              "#7201a8"
             ],
             [
              0.3333333333333333,
              "#9c179e"
             ],
             [
              0.4444444444444444,
              "#bd3786"
             ],
             [
              0.5555555555555556,
              "#d8576b"
             ],
             [
              0.6666666666666666,
              "#ed7953"
             ],
             [
              0.7777777777777778,
              "#fb9f3a"
             ],
             [
              0.8888888888888888,
              "#fdca26"
             ],
             [
              1,
              "#f0f921"
             ]
            ],
            "type": "histogram2dcontour"
           }
          ],
          "mesh3d": [
           {
            "colorbar": {
             "outlinewidth": 0,
             "ticks": ""
            },
            "type": "mesh3d"
           }
          ],
          "parcoords": [
           {
            "line": {
             "colorbar": {
              "outlinewidth": 0,
              "ticks": ""
             }
            },
            "type": "parcoords"
           }
          ],
          "pie": [
           {
            "automargin": true,
            "type": "pie"
           }
          ],
          "scatter": [
           {
            "marker": {
             "line": {
              "color": "#283442"
             }
            },
            "type": "scatter"
           }
          ],
          "scatter3d": [
           {
            "line": {
             "colorbar": {
              "outlinewidth": 0,
              "ticks": ""
             }
            },
            "marker": {
             "colorbar": {
              "outlinewidth": 0,
              "ticks": ""
             }
            },
            "type": "scatter3d"
           }
          ],
          "scattercarpet": [
           {
            "marker": {
             "colorbar": {
              "outlinewidth": 0,
              "ticks": ""
             }
            },
            "type": "scattercarpet"
           }
          ],
          "scattergeo": [
           {
            "marker": {
             "colorbar": {
              "outlinewidth": 0,
              "ticks": ""
             }
            },
            "type": "scattergeo"
           }
          ],
          "scattergl": [
           {
            "marker": {
             "line": {
              "color": "#283442"
             }
            },
            "type": "scattergl"
           }
          ],
          "scattermapbox": [
           {
            "marker": {
             "colorbar": {
              "outlinewidth": 0,
              "ticks": ""
             }
            },
            "type": "scattermapbox"
           }
          ],
          "scatterpolar": [
           {
            "marker": {
             "colorbar": {
              "outlinewidth": 0,
              "ticks": ""
             }
            },
            "type": "scatterpolar"
           }
          ],
          "scatterpolargl": [
           {
            "marker": {
             "colorbar": {
              "outlinewidth": 0,
              "ticks": ""
             }
            },
            "type": "scatterpolargl"
           }
          ],
          "scatterternary": [
           {
            "marker": {
             "colorbar": {
              "outlinewidth": 0,
              "ticks": ""
             }
            },
            "type": "scatterternary"
           }
          ],
          "surface": [
           {
            "colorbar": {
             "outlinewidth": 0,
             "ticks": ""
            },
            "colorscale": [
             [
              0,
              "#0d0887"
             ],
             [
              0.1111111111111111,
              "#46039f"
             ],
             [
              0.2222222222222222,
              "#7201a8"
             ],
             [
              0.3333333333333333,
              "#9c179e"
             ],
             [
              0.4444444444444444,
              "#bd3786"
             ],
             [
              0.5555555555555556,
              "#d8576b"
             ],
             [
              0.6666666666666666,
              "#ed7953"
             ],
             [
              0.7777777777777778,
              "#fb9f3a"
             ],
             [
              0.8888888888888888,
              "#fdca26"
             ],
             [
              1,
              "#f0f921"
             ]
            ],
            "type": "surface"
           }
          ],
          "table": [
           {
            "cells": {
             "fill": {
              "color": "#506784"
             },
             "line": {
              "color": "rgb(17,17,17)"
             }
            },
            "header": {
             "fill": {
              "color": "#2a3f5f"
             },
             "line": {
              "color": "rgb(17,17,17)"
             }
            },
            "type": "table"
           }
          ]
         },
         "layout": {
          "annotationdefaults": {
           "arrowcolor": "#f2f5fa",
           "arrowhead": 0,
           "arrowwidth": 1
          },
          "autotypenumbers": "strict",
          "coloraxis": {
           "colorbar": {
            "outlinewidth": 0,
            "ticks": ""
           }
          },
          "colorscale": {
           "diverging": [
            [
             0,
             "#8e0152"
            ],
            [
             0.1,
             "#c51b7d"
            ],
            [
             0.2,
             "#de77ae"
            ],
            [
             0.3,
             "#f1b6da"
            ],
            [
             0.4,
             "#fde0ef"
            ],
            [
             0.5,
             "#f7f7f7"
            ],
            [
             0.6,
             "#e6f5d0"
            ],
            [
             0.7,
             "#b8e186"
            ],
            [
             0.8,
             "#7fbc41"
            ],
            [
             0.9,
             "#4d9221"
            ],
            [
             1,
             "#276419"
            ]
           ],
           "sequential": [
            [
             0,
             "#0d0887"
            ],
            [
             0.1111111111111111,
             "#46039f"
            ],
            [
             0.2222222222222222,
             "#7201a8"
            ],
            [
             0.3333333333333333,
             "#9c179e"
            ],
            [
             0.4444444444444444,
             "#bd3786"
            ],
            [
             0.5555555555555556,
             "#d8576b"
            ],
            [
             0.6666666666666666,
             "#ed7953"
            ],
            [
             0.7777777777777778,
             "#fb9f3a"
            ],
            [
             0.8888888888888888,
             "#fdca26"
            ],
            [
             1,
             "#f0f921"
            ]
           ],
           "sequentialminus": [
            [
             0,
             "#0d0887"
            ],
            [
             0.1111111111111111,
             "#46039f"
            ],
            [
             0.2222222222222222,
             "#7201a8"
            ],
            [
             0.3333333333333333,
             "#9c179e"
            ],
            [
             0.4444444444444444,
             "#bd3786"
            ],
            [
             0.5555555555555556,
             "#d8576b"
            ],
            [
             0.6666666666666666,
             "#ed7953"
            ],
            [
             0.7777777777777778,
             "#fb9f3a"
            ],
            [
             0.8888888888888888,
             "#fdca26"
            ],
            [
             1,
             "#f0f921"
            ]
           ]
          },
          "colorway": [
           "#636efa",
           "#EF553B",
           "#00cc96",
           "#ab63fa",
           "#FFA15A",
           "#19d3f3",
           "#FF6692",
           "#B6E880",
           "#FF97FF",
           "#FECB52"
          ],
          "font": {
           "color": "#f2f5fa"
          },
          "geo": {
           "bgcolor": "rgb(17,17,17)",
           "lakecolor": "rgb(17,17,17)",
           "landcolor": "rgb(17,17,17)",
           "showlakes": true,
           "showland": true,
           "subunitcolor": "#506784"
          },
          "hoverlabel": {
           "align": "left"
          },
          "hovermode": "closest",
          "mapbox": {
           "style": "dark"
          },
          "paper_bgcolor": "rgb(17,17,17)",
          "plot_bgcolor": "rgb(17,17,17)",
          "polar": {
           "angularaxis": {
            "gridcolor": "#506784",
            "linecolor": "#506784",
            "ticks": ""
           },
           "bgcolor": "rgb(17,17,17)",
           "radialaxis": {
            "gridcolor": "#506784",
            "linecolor": "#506784",
            "ticks": ""
           }
          },
          "scene": {
           "xaxis": {
            "backgroundcolor": "rgb(17,17,17)",
            "gridcolor": "#506784",
            "gridwidth": 2,
            "linecolor": "#506784",
            "showbackground": true,
            "ticks": "",
            "zerolinecolor": "#C8D4E3"
           },
           "yaxis": {
            "backgroundcolor": "rgb(17,17,17)",
            "gridcolor": "#506784",
            "gridwidth": 2,
            "linecolor": "#506784",
            "showbackground": true,
            "ticks": "",
            "zerolinecolor": "#C8D4E3"
           },
           "zaxis": {
            "backgroundcolor": "rgb(17,17,17)",
            "gridcolor": "#506784",
            "gridwidth": 2,
            "linecolor": "#506784",
            "showbackground": true,
            "ticks": "",
            "zerolinecolor": "#C8D4E3"
           }
          },
          "shapedefaults": {
           "line": {
            "color": "#f2f5fa"
           }
          },
          "sliderdefaults": {
           "bgcolor": "#C8D4E3",
           "bordercolor": "rgb(17,17,17)",
           "borderwidth": 1,
           "tickwidth": 0
          },
          "ternary": {
           "aaxis": {
            "gridcolor": "#506784",
            "linecolor": "#506784",
            "ticks": ""
           },
           "baxis": {
            "gridcolor": "#506784",
            "linecolor": "#506784",
            "ticks": ""
           },
           "bgcolor": "rgb(17,17,17)",
           "caxis": {
            "gridcolor": "#506784",
            "linecolor": "#506784",
            "ticks": ""
           }
          },
          "title": {
           "x": 0.05
          },
          "updatemenudefaults": {
           "bgcolor": "#506784",
           "borderwidth": 0
          },
          "xaxis": {
           "automargin": true,
           "gridcolor": "#283442",
           "linecolor": "#506784",
           "ticks": "",
           "title": {
            "standoff": 15
           },
           "zerolinecolor": "#283442",
           "zerolinewidth": 2
          },
          "yaxis": {
           "automargin": true,
           "gridcolor": "#283442",
           "linecolor": "#506784",
           "ticks": "",
           "title": {
            "standoff": 15
           },
           "zerolinecolor": "#283442",
           "zerolinewidth": 2
          }
         }
        },
        "title": {
         "text": "Momentum 23 Check-ins by Ticket Type"
        },
        "xaxis": {
         "anchor": "y",
         "domain": [
          0,
          1
         ],
         "title": {
          "text": "Check-ins: Registration"
         }
        },
        "yaxis": {
         "anchor": "x",
         "domain": [
          0,
          1
         ],
         "title": {
          "text": "Ticket"
         }
        }
       }
      }
     },
     "metadata": {},
     "output_type": "display_data"
    }
   ],
   "source": [
    "px.density_heatmap(df23, y='Ticket', x='Check-ins: Registration', title='Momentum 23 Check-ins by Ticket Type')"
   ]
  },
  {
   "cell_type": "code",
   "execution_count": 542,
   "metadata": {},
   "outputs": [
    {
     "name": "stderr",
     "output_type": "stream",
     "text": [
      "/home/matteland/anaconda3/lib/python3.11/site-packages/_plotly_utils/basevalidators.py:106: FutureWarning:\n",
      "\n",
      "The behavior of DatetimeProperties.to_pydatetime is deprecated, in a future version this will return a Series containing python datetime objects instead of an ndarray. To retain the old behavior, call `np.array` on the result\n",
      "\n"
     ]
    },
    {
     "data": {
      "application/vnd.plotly.v1+json": {
       "config": {
        "plotlyServerURL": "https://plot.ly"
       },
       "data": [
        {
         "hovertemplate": "Ticket=%{y}<br>Order Date=%{x}<extra></extra>",
         "legendgroup": "Content Reviewer",
         "marker": {
          "color": "rgb(95, 70, 144)",
          "symbol": "circle"
         },
         "mode": "markers",
         "name": "Content Reviewer",
         "orientation": "v",
         "showlegend": true,
         "type": "scatter",
         "x": [
          "2023-07-02T13:03:48+00:00",
          "2023-07-02T13:04:18+00:00",
          "2023-07-02T13:04:51+00:00",
          "2023-07-02T13:05:17+00:00",
          "2023-07-02T13:05:42+00:00",
          "2023-07-02T13:07:13+00:00",
          "2023-07-02T13:07:45+00:00",
          "2023-07-02T13:08:15+00:00",
          "2023-07-02T13:08:42+00:00",
          "2023-07-02T13:11:19+00:00",
          "2023-07-02T13:11:49+00:00",
          "2023-07-02T13:12:16+00:00",
          "2023-07-02T13:12:51+00:00",
          "2023-07-02T13:13:26+00:00",
          "2023-07-02T13:13:56+00:00",
          "2023-07-02T13:14:25+00:00",
          "2023-07-02T13:14:49+00:00",
          "2023-07-02T13:15:08+00:00"
         ],
         "xaxis": "x",
         "y": [
          "Content Reviewer",
          "Content Reviewer",
          "Content Reviewer",
          "Content Reviewer",
          "Content Reviewer",
          "Content Reviewer",
          "Content Reviewer",
          "Content Reviewer",
          "Content Reviewer",
          "Content Reviewer",
          "Content Reviewer",
          "Content Reviewer",
          "Content Reviewer",
          "Content Reviewer",
          "Content Reviewer",
          "Content Reviewer",
          "Content Reviewer",
          "Content Reviewer"
         ],
         "yaxis": "y"
        },
        {
         "hovertemplate": "Ticket=%{y}<br>Order Date=%{x}<extra></extra>",
         "legendgroup": "Speaker",
         "marker": {
          "color": "rgb(29, 105, 150)",
          "symbol": "circle"
         },
         "mode": "markers",
         "name": "Speaker",
         "orientation": "v",
         "showlegend": true,
         "type": "scatter",
         "x": [
          "2023-07-02T17:21:41+00:00",
          "2023-07-02T17:22:13+00:00",
          "2023-07-19T16:38:27+00:00",
          "2023-07-19T16:38:27+00:00",
          "2023-07-19T16:38:28+00:00",
          "2023-07-19T16:38:28+00:00",
          "2023-07-19T16:38:29+00:00",
          "2023-07-19T16:38:29+00:00",
          "2023-07-19T16:38:30+00:00",
          "2023-07-19T16:38:30+00:00",
          "2023-07-19T16:38:31+00:00",
          "2023-07-19T16:38:31+00:00",
          "2023-07-19T16:38:32+00:00",
          "2023-07-19T16:38:32+00:00",
          "2023-07-19T16:38:33+00:00",
          "2023-07-19T16:38:33+00:00",
          "2023-07-19T16:38:34+00:00",
          "2023-07-19T16:38:34+00:00",
          "2023-07-19T16:38:35+00:00",
          "2023-07-19T16:38:35+00:00",
          "2023-07-19T16:38:36+00:00",
          "2023-07-19T16:38:36+00:00",
          "2023-07-19T16:38:37+00:00",
          "2023-07-19T16:38:37+00:00",
          "2023-07-19T16:38:38+00:00",
          "2023-07-19T16:38:38+00:00",
          "2023-07-19T16:38:39+00:00",
          "2023-07-19T16:38:39+00:00",
          "2023-07-19T16:38:40+00:00",
          "2023-07-19T16:38:40+00:00",
          "2023-07-19T16:38:41+00:00",
          "2023-07-19T16:38:41+00:00",
          "2023-07-19T16:38:42+00:00",
          "2023-07-19T16:38:42+00:00",
          "2023-07-19T16:38:42+00:00",
          "2023-07-19T16:38:43+00:00",
          "2023-10-10T16:47:26+00:00"
         ],
         "xaxis": "x",
         "y": [
          "Speaker",
          "Speaker",
          "Speaker",
          "Speaker",
          "Speaker",
          "Speaker",
          "Speaker",
          "Speaker",
          "Speaker",
          "Speaker",
          "Speaker",
          "Speaker",
          "Speaker",
          "Speaker",
          "Speaker",
          "Speaker",
          "Speaker",
          "Speaker",
          "Speaker",
          "Speaker",
          "Speaker",
          "Speaker",
          "Speaker",
          "Speaker",
          "Speaker",
          "Speaker",
          "Speaker",
          "Speaker",
          "Speaker",
          "Speaker",
          "Speaker",
          "Speaker",
          "Speaker",
          "Speaker",
          "Speaker",
          "Speaker",
          "Speaker"
         ],
         "yaxis": "y"
        },
        {
         "hovertemplate": "Ticket=%{y}<br>Order Date=%{x}<extra></extra>",
         "legendgroup": "VIP",
         "marker": {
          "color": "rgb(56, 166, 165)",
          "symbol": "circle"
         },
         "mode": "markers",
         "name": "VIP",
         "orientation": "v",
         "showlegend": true,
         "type": "scatter",
         "x": [
          "2023-08-11T00:15:46+00:00",
          "2023-09-12T04:27:51+00:00",
          "2023-09-15T12:06:40+00:00",
          "2023-10-18T02:29:41+00:00",
          "2023-10-18T14:13:55+00:00",
          "2023-10-19T13:28:30+00:00",
          "2023-10-19T13:31:43+00:00"
         ],
         "xaxis": "x",
         "y": [
          "VIP",
          "VIP",
          "VIP",
          "VIP",
          "VIP",
          "VIP",
          "VIP"
         ],
         "yaxis": "y"
        },
        {
         "hovertemplate": "Ticket=%{y}<br>Order Date=%{x}<extra></extra>",
         "legendgroup": "Volunteer",
         "marker": {
          "color": "rgb(15, 133, 84)",
          "symbol": "circle"
         },
         "mode": "markers",
         "name": "Volunteer",
         "orientation": "v",
         "showlegend": true,
         "type": "scatter",
         "x": [
          "2023-08-19T17:50:02+00:00",
          "2023-08-19T17:51:07+00:00",
          "2023-09-26T01:24:35+00:00",
          "2023-09-26T01:24:35+00:00",
          "2023-09-26T01:24:36+00:00",
          "2023-09-26T01:24:37+00:00",
          "2023-09-26T01:24:37+00:00",
          "2023-09-26T01:24:38+00:00",
          "2023-09-26T01:24:38+00:00",
          "2023-10-03T20:35:24+00:00",
          "2023-10-08T20:18:05+00:00",
          "2023-10-18T02:25:58+00:00",
          "2023-10-18T02:26:58+00:00"
         ],
         "xaxis": "x",
         "y": [
          "Volunteer",
          "Volunteer",
          "Volunteer",
          "Volunteer",
          "Volunteer",
          "Volunteer",
          "Volunteer",
          "Volunteer",
          "Volunteer",
          "Volunteer",
          "Volunteer",
          "Volunteer",
          "Volunteer"
         ],
         "yaxis": "y"
        },
        {
         "hovertemplate": "Ticket=%{y}<br>Order Date=%{x}<extra></extra>",
         "legendgroup": "Organizer",
         "marker": {
          "color": "rgb(115, 175, 72)",
          "symbol": "circle"
         },
         "mode": "markers",
         "name": "Organizer",
         "orientation": "v",
         "showlegend": true,
         "type": "scatter",
         "x": [
          "2023-08-19T18:08:07+00:00",
          "2023-08-19T18:08:08+00:00",
          "2023-08-19T18:08:08+00:00",
          "2023-08-19T18:08:09+00:00",
          "2023-08-19T18:08:09+00:00",
          "2023-08-19T18:08:10+00:00",
          "2023-08-19T18:08:10+00:00",
          "2023-08-19T18:08:10+00:00"
         ],
         "xaxis": "x",
         "y": [
          "Organizer",
          "Organizer",
          "Organizer",
          "Organizer",
          "Organizer",
          "Organizer",
          "Organizer",
          "Organizer"
         ],
         "yaxis": "y"
        },
        {
         "hovertemplate": "Ticket=%{y}<br>Order Date=%{x}<extra></extra>",
         "legendgroup": "Sponsor",
         "marker": {
          "color": "rgb(237, 173, 8)",
          "symbol": "circle"
         },
         "mode": "markers",
         "name": "Sponsor",
         "orientation": "v",
         "showlegend": true,
         "type": "scatter",
         "x": [
          "2023-08-21T21:20:52+00:00",
          "2023-08-21T21:20:52+00:00",
          "2023-08-21T21:20:52+00:00",
          "2023-08-21T21:20:52+00:00",
          "2023-08-21T21:20:52+00:00",
          "2023-08-21T21:20:52+00:00",
          "2023-08-21T21:20:52+00:00",
          "2023-08-21T21:20:52+00:00",
          "2023-08-21T21:20:52+00:00",
          "2023-08-21T21:20:52+00:00",
          "2023-08-23T14:43:23+00:00",
          "2023-08-23T14:43:23+00:00",
          "2023-08-23T14:43:23+00:00",
          "2023-08-23T14:47:22+00:00",
          "2023-08-23T14:47:22+00:00",
          "2023-08-23T14:47:22+00:00",
          "2023-08-23T14:47:48+00:00",
          "2023-08-23T14:47:48+00:00",
          "2023-08-23T14:47:48+00:00",
          "2023-08-23T14:48:15+00:00",
          "2023-08-23T14:48:15+00:00",
          "2023-08-23T14:48:35+00:00",
          "2023-08-23T14:48:35+00:00",
          "2023-08-23T14:48:35+00:00",
          "2023-08-23T14:48:53+00:00",
          "2023-08-23T14:48:53+00:00",
          "2023-08-23T14:49:15+00:00",
          "2023-08-23T14:49:15+00:00",
          "2023-08-23T14:49:39+00:00",
          "2023-08-23T14:49:39+00:00",
          "2023-08-23T14:50:44+00:00",
          "2023-08-23T14:50:44+00:00",
          "2023-08-23T14:50:56+00:00",
          "2023-08-23T14:50:56+00:00",
          "2023-08-23T14:51:15+00:00",
          "2023-08-23T14:51:15+00:00",
          "2023-08-23T14:51:53+00:00",
          "2023-08-23T14:51:53+00:00",
          "2023-08-23T14:52:33+00:00",
          "2023-08-23T14:52:33+00:00",
          "2023-08-23T14:52:43+00:00",
          "2023-08-23T14:52:43+00:00",
          "2023-10-12T11:16:18+00:00",
          "2023-10-12T11:16:18+00:00",
          "2023-10-12T11:16:18+00:00",
          "2023-10-12T16:14:13+00:00",
          "2023-10-12T16:14:13+00:00",
          "2023-10-12T16:24:13+00:00",
          "2023-10-12T16:24:13+00:00",
          "2023-10-12T17:11:47+00:00",
          "2023-10-12T17:11:47+00:00",
          "2023-10-12T17:11:47+00:00",
          "2023-10-12T17:26:19+00:00",
          "2023-10-12T17:26:19+00:00",
          "2023-10-17T16:55:52+00:00",
          "2023-10-17T16:55:52+00:00",
          "2023-10-17T16:55:52+00:00",
          "2023-10-17T16:55:52+00:00",
          "2023-10-17T16:55:52+00:00",
          "2023-10-17T16:55:52+00:00",
          "2023-10-17T16:55:52+00:00",
          "2023-10-17T16:55:52+00:00",
          "2023-10-17T16:55:52+00:00",
          "2023-10-17T16:55:52+00:00",
          "2023-10-18T14:45:24+00:00",
          "2023-10-18T14:45:24+00:00"
         ],
         "xaxis": "x",
         "y": [
          "Sponsor",
          "Sponsor",
          "Sponsor",
          "Sponsor",
          "Sponsor",
          "Sponsor",
          "Sponsor",
          "Sponsor",
          "Sponsor",
          "Sponsor",
          "Sponsor",
          "Sponsor",
          "Sponsor",
          "Sponsor",
          "Sponsor",
          "Sponsor",
          "Sponsor",
          "Sponsor",
          "Sponsor",
          "Sponsor",
          "Sponsor",
          "Sponsor",
          "Sponsor",
          "Sponsor",
          "Sponsor",
          "Sponsor",
          "Sponsor",
          "Sponsor",
          "Sponsor",
          "Sponsor",
          "Sponsor",
          "Sponsor",
          "Sponsor",
          "Sponsor",
          "Sponsor",
          "Sponsor",
          "Sponsor",
          "Sponsor",
          "Sponsor",
          "Sponsor",
          "Sponsor",
          "Sponsor",
          "Sponsor",
          "Sponsor",
          "Sponsor",
          "Sponsor",
          "Sponsor",
          "Sponsor",
          "Sponsor",
          "Sponsor",
          "Sponsor",
          "Sponsor",
          "Sponsor",
          "Sponsor",
          "Sponsor",
          "Sponsor",
          "Sponsor",
          "Sponsor",
          "Sponsor",
          "Sponsor",
          "Sponsor",
          "Sponsor",
          "Sponsor",
          "Sponsor",
          "Sponsor",
          "Sponsor"
         ],
         "yaxis": "y"
        }
       ],
       "layout": {
        "legend": {
         "title": {
          "text": "Ticket"
         },
         "tracegroupgap": 0
        },
        "template": {
         "data": {
          "bar": [
           {
            "error_x": {
             "color": "#f2f5fa"
            },
            "error_y": {
             "color": "#f2f5fa"
            },
            "marker": {
             "line": {
              "color": "rgb(17,17,17)",
              "width": 0.5
             },
             "pattern": {
              "fillmode": "overlay",
              "size": 10,
              "solidity": 0.2
             }
            },
            "type": "bar"
           }
          ],
          "barpolar": [
           {
            "marker": {
             "line": {
              "color": "rgb(17,17,17)",
              "width": 0.5
             },
             "pattern": {
              "fillmode": "overlay",
              "size": 10,
              "solidity": 0.2
             }
            },
            "type": "barpolar"
           }
          ],
          "carpet": [
           {
            "aaxis": {
             "endlinecolor": "#A2B1C6",
             "gridcolor": "#506784",
             "linecolor": "#506784",
             "minorgridcolor": "#506784",
             "startlinecolor": "#A2B1C6"
            },
            "baxis": {
             "endlinecolor": "#A2B1C6",
             "gridcolor": "#506784",
             "linecolor": "#506784",
             "minorgridcolor": "#506784",
             "startlinecolor": "#A2B1C6"
            },
            "type": "carpet"
           }
          ],
          "choropleth": [
           {
            "colorbar": {
             "outlinewidth": 0,
             "ticks": ""
            },
            "type": "choropleth"
           }
          ],
          "contour": [
           {
            "colorbar": {
             "outlinewidth": 0,
             "ticks": ""
            },
            "colorscale": [
             [
              0,
              "#0d0887"
             ],
             [
              0.1111111111111111,
              "#46039f"
             ],
             [
              0.2222222222222222,
              "#7201a8"
             ],
             [
              0.3333333333333333,
              "#9c179e"
             ],
             [
              0.4444444444444444,
              "#bd3786"
             ],
             [
              0.5555555555555556,
              "#d8576b"
             ],
             [
              0.6666666666666666,
              "#ed7953"
             ],
             [
              0.7777777777777778,
              "#fb9f3a"
             ],
             [
              0.8888888888888888,
              "#fdca26"
             ],
             [
              1,
              "#f0f921"
             ]
            ],
            "type": "contour"
           }
          ],
          "contourcarpet": [
           {
            "colorbar": {
             "outlinewidth": 0,
             "ticks": ""
            },
            "type": "contourcarpet"
           }
          ],
          "heatmap": [
           {
            "colorbar": {
             "outlinewidth": 0,
             "ticks": ""
            },
            "colorscale": [
             [
              0,
              "#0d0887"
             ],
             [
              0.1111111111111111,
              "#46039f"
             ],
             [
              0.2222222222222222,
              "#7201a8"
             ],
             [
              0.3333333333333333,
              "#9c179e"
             ],
             [
              0.4444444444444444,
              "#bd3786"
             ],
             [
              0.5555555555555556,
              "#d8576b"
             ],
             [
              0.6666666666666666,
              "#ed7953"
             ],
             [
              0.7777777777777778,
              "#fb9f3a"
             ],
             [
              0.8888888888888888,
              "#fdca26"
             ],
             [
              1,
              "#f0f921"
             ]
            ],
            "type": "heatmap"
           }
          ],
          "heatmapgl": [
           {
            "colorbar": {
             "outlinewidth": 0,
             "ticks": ""
            },
            "colorscale": [
             [
              0,
              "#0d0887"
             ],
             [
              0.1111111111111111,
              "#46039f"
             ],
             [
              0.2222222222222222,
              "#7201a8"
             ],
             [
              0.3333333333333333,
              "#9c179e"
             ],
             [
              0.4444444444444444,
              "#bd3786"
             ],
             [
              0.5555555555555556,
              "#d8576b"
             ],
             [
              0.6666666666666666,
              "#ed7953"
             ],
             [
              0.7777777777777778,
              "#fb9f3a"
             ],
             [
              0.8888888888888888,
              "#fdca26"
             ],
             [
              1,
              "#f0f921"
             ]
            ],
            "type": "heatmapgl"
           }
          ],
          "histogram": [
           {
            "marker": {
             "pattern": {
              "fillmode": "overlay",
              "size": 10,
              "solidity": 0.2
             }
            },
            "type": "histogram"
           }
          ],
          "histogram2d": [
           {
            "colorbar": {
             "outlinewidth": 0,
             "ticks": ""
            },
            "colorscale": [
             [
              0,
              "#0d0887"
             ],
             [
              0.1111111111111111,
              "#46039f"
             ],
             [
              0.2222222222222222,
              "#7201a8"
             ],
             [
              0.3333333333333333,
              "#9c179e"
             ],
             [
              0.4444444444444444,
              "#bd3786"
             ],
             [
              0.5555555555555556,
              "#d8576b"
             ],
             [
              0.6666666666666666,
              "#ed7953"
             ],
             [
              0.7777777777777778,
              "#fb9f3a"
             ],
             [
              0.8888888888888888,
              "#fdca26"
             ],
             [
              1,
              "#f0f921"
             ]
            ],
            "type": "histogram2d"
           }
          ],
          "histogram2dcontour": [
           {
            "colorbar": {
             "outlinewidth": 0,
             "ticks": ""
            },
            "colorscale": [
             [
              0,
              "#0d0887"
             ],
             [
              0.1111111111111111,
              "#46039f"
             ],
             [
              0.2222222222222222,
              "#7201a8"
             ],
             [
              0.3333333333333333,
              "#9c179e"
             ],
             [
              0.4444444444444444,
              "#bd3786"
             ],
             [
              0.5555555555555556,
              "#d8576b"
             ],
             [
              0.6666666666666666,
              "#ed7953"
             ],
             [
              0.7777777777777778,
              "#fb9f3a"
             ],
             [
              0.8888888888888888,
              "#fdca26"
             ],
             [
              1,
              "#f0f921"
             ]
            ],
            "type": "histogram2dcontour"
           }
          ],
          "mesh3d": [
           {
            "colorbar": {
             "outlinewidth": 0,
             "ticks": ""
            },
            "type": "mesh3d"
           }
          ],
          "parcoords": [
           {
            "line": {
             "colorbar": {
              "outlinewidth": 0,
              "ticks": ""
             }
            },
            "type": "parcoords"
           }
          ],
          "pie": [
           {
            "automargin": true,
            "type": "pie"
           }
          ],
          "scatter": [
           {
            "marker": {
             "line": {
              "color": "#283442"
             }
            },
            "type": "scatter"
           }
          ],
          "scatter3d": [
           {
            "line": {
             "colorbar": {
              "outlinewidth": 0,
              "ticks": ""
             }
            },
            "marker": {
             "colorbar": {
              "outlinewidth": 0,
              "ticks": ""
             }
            },
            "type": "scatter3d"
           }
          ],
          "scattercarpet": [
           {
            "marker": {
             "colorbar": {
              "outlinewidth": 0,
              "ticks": ""
             }
            },
            "type": "scattercarpet"
           }
          ],
          "scattergeo": [
           {
            "marker": {
             "colorbar": {
              "outlinewidth": 0,
              "ticks": ""
             }
            },
            "type": "scattergeo"
           }
          ],
          "scattergl": [
           {
            "marker": {
             "line": {
              "color": "#283442"
             }
            },
            "type": "scattergl"
           }
          ],
          "scattermapbox": [
           {
            "marker": {
             "colorbar": {
              "outlinewidth": 0,
              "ticks": ""
             }
            },
            "type": "scattermapbox"
           }
          ],
          "scatterpolar": [
           {
            "marker": {
             "colorbar": {
              "outlinewidth": 0,
              "ticks": ""
             }
            },
            "type": "scatterpolar"
           }
          ],
          "scatterpolargl": [
           {
            "marker": {
             "colorbar": {
              "outlinewidth": 0,
              "ticks": ""
             }
            },
            "type": "scatterpolargl"
           }
          ],
          "scatterternary": [
           {
            "marker": {
             "colorbar": {
              "outlinewidth": 0,
              "ticks": ""
             }
            },
            "type": "scatterternary"
           }
          ],
          "surface": [
           {
            "colorbar": {
             "outlinewidth": 0,
             "ticks": ""
            },
            "colorscale": [
             [
              0,
              "#0d0887"
             ],
             [
              0.1111111111111111,
              "#46039f"
             ],
             [
              0.2222222222222222,
              "#7201a8"
             ],
             [
              0.3333333333333333,
              "#9c179e"
             ],
             [
              0.4444444444444444,
              "#bd3786"
             ],
             [
              0.5555555555555556,
              "#d8576b"
             ],
             [
              0.6666666666666666,
              "#ed7953"
             ],
             [
              0.7777777777777778,
              "#fb9f3a"
             ],
             [
              0.8888888888888888,
              "#fdca26"
             ],
             [
              1,
              "#f0f921"
             ]
            ],
            "type": "surface"
           }
          ],
          "table": [
           {
            "cells": {
             "fill": {
              "color": "#506784"
             },
             "line": {
              "color": "rgb(17,17,17)"
             }
            },
            "header": {
             "fill": {
              "color": "#2a3f5f"
             },
             "line": {
              "color": "rgb(17,17,17)"
             }
            },
            "type": "table"
           }
          ]
         },
         "layout": {
          "annotationdefaults": {
           "arrowcolor": "#f2f5fa",
           "arrowhead": 0,
           "arrowwidth": 1
          },
          "autotypenumbers": "strict",
          "coloraxis": {
           "colorbar": {
            "outlinewidth": 0,
            "ticks": ""
           }
          },
          "colorscale": {
           "diverging": [
            [
             0,
             "#8e0152"
            ],
            [
             0.1,
             "#c51b7d"
            ],
            [
             0.2,
             "#de77ae"
            ],
            [
             0.3,
             "#f1b6da"
            ],
            [
             0.4,
             "#fde0ef"
            ],
            [
             0.5,
             "#f7f7f7"
            ],
            [
             0.6,
             "#e6f5d0"
            ],
            [
             0.7,
             "#b8e186"
            ],
            [
             0.8,
             "#7fbc41"
            ],
            [
             0.9,
             "#4d9221"
            ],
            [
             1,
             "#276419"
            ]
           ],
           "sequential": [
            [
             0,
             "#0d0887"
            ],
            [
             0.1111111111111111,
             "#46039f"
            ],
            [
             0.2222222222222222,
             "#7201a8"
            ],
            [
             0.3333333333333333,
             "#9c179e"
            ],
            [
             0.4444444444444444,
             "#bd3786"
            ],
            [
             0.5555555555555556,
             "#d8576b"
            ],
            [
             0.6666666666666666,
             "#ed7953"
            ],
            [
             0.7777777777777778,
             "#fb9f3a"
            ],
            [
             0.8888888888888888,
             "#fdca26"
            ],
            [
             1,
             "#f0f921"
            ]
           ],
           "sequentialminus": [
            [
             0,
             "#0d0887"
            ],
            [
             0.1111111111111111,
             "#46039f"
            ],
            [
             0.2222222222222222,
             "#7201a8"
            ],
            [
             0.3333333333333333,
             "#9c179e"
            ],
            [
             0.4444444444444444,
             "#bd3786"
            ],
            [
             0.5555555555555556,
             "#d8576b"
            ],
            [
             0.6666666666666666,
             "#ed7953"
            ],
            [
             0.7777777777777778,
             "#fb9f3a"
            ],
            [
             0.8888888888888888,
             "#fdca26"
            ],
            [
             1,
             "#f0f921"
            ]
           ]
          },
          "colorway": [
           "#636efa",
           "#EF553B",
           "#00cc96",
           "#ab63fa",
           "#FFA15A",
           "#19d3f3",
           "#FF6692",
           "#B6E880",
           "#FF97FF",
           "#FECB52"
          ],
          "font": {
           "color": "#f2f5fa"
          },
          "geo": {
           "bgcolor": "rgb(17,17,17)",
           "lakecolor": "rgb(17,17,17)",
           "landcolor": "rgb(17,17,17)",
           "showlakes": true,
           "showland": true,
           "subunitcolor": "#506784"
          },
          "hoverlabel": {
           "align": "left"
          },
          "hovermode": "closest",
          "mapbox": {
           "style": "dark"
          },
          "paper_bgcolor": "rgb(17,17,17)",
          "plot_bgcolor": "rgb(17,17,17)",
          "polar": {
           "angularaxis": {
            "gridcolor": "#506784",
            "linecolor": "#506784",
            "ticks": ""
           },
           "bgcolor": "rgb(17,17,17)",
           "radialaxis": {
            "gridcolor": "#506784",
            "linecolor": "#506784",
            "ticks": ""
           }
          },
          "scene": {
           "xaxis": {
            "backgroundcolor": "rgb(17,17,17)",
            "gridcolor": "#506784",
            "gridwidth": 2,
            "linecolor": "#506784",
            "showbackground": true,
            "ticks": "",
            "zerolinecolor": "#C8D4E3"
           },
           "yaxis": {
            "backgroundcolor": "rgb(17,17,17)",
            "gridcolor": "#506784",
            "gridwidth": 2,
            "linecolor": "#506784",
            "showbackground": true,
            "ticks": "",
            "zerolinecolor": "#C8D4E3"
           },
           "zaxis": {
            "backgroundcolor": "rgb(17,17,17)",
            "gridcolor": "#506784",
            "gridwidth": 2,
            "linecolor": "#506784",
            "showbackground": true,
            "ticks": "",
            "zerolinecolor": "#C8D4E3"
           }
          },
          "shapedefaults": {
           "line": {
            "color": "#f2f5fa"
           }
          },
          "sliderdefaults": {
           "bgcolor": "#C8D4E3",
           "bordercolor": "rgb(17,17,17)",
           "borderwidth": 1,
           "tickwidth": 0
          },
          "ternary": {
           "aaxis": {
            "gridcolor": "#506784",
            "linecolor": "#506784",
            "ticks": ""
           },
           "baxis": {
            "gridcolor": "#506784",
            "linecolor": "#506784",
            "ticks": ""
           },
           "bgcolor": "rgb(17,17,17)",
           "caxis": {
            "gridcolor": "#506784",
            "linecolor": "#506784",
            "ticks": ""
           }
          },
          "title": {
           "x": 0.05
          },
          "updatemenudefaults": {
           "bgcolor": "#506784",
           "borderwidth": 0
          },
          "xaxis": {
           "automargin": true,
           "gridcolor": "#283442",
           "linecolor": "#506784",
           "ticks": "",
           "title": {
            "standoff": 15
           },
           "zerolinecolor": "#283442",
           "zerolinewidth": 2
          },
          "yaxis": {
           "automargin": true,
           "gridcolor": "#283442",
           "linecolor": "#506784",
           "ticks": "",
           "title": {
            "standoff": 15
           },
           "zerolinecolor": "#283442",
           "zerolinewidth": 2
          }
         }
        },
        "title": {
         "text": "No Check-ins by Ticket and Order Date"
        },
        "xaxis": {
         "anchor": "y",
         "domain": [
          0,
          1
         ],
         "title": {
          "text": "Order Date"
         }
        },
        "yaxis": {
         "anchor": "x",
         "categoryarray": [
          "Sponsor",
          "Organizer",
          "Volunteer",
          "VIP",
          "Speaker",
          "Content Reviewer"
         ],
         "categoryorder": "array",
         "domain": [
          0,
          1
         ],
         "title": {
          "text": "Ticket"
         }
        }
       }
      }
     },
     "metadata": {},
     "output_type": "display_data"
    }
   ],
   "source": [
    "px.scatter(df23[df23['Check-ins: Registration'] == 0].sort_values('Order Date'), y='Ticket', x='Order Date', title='No Check-ins by Ticket and Order Date', color='Ticket')"
   ]
  },
  {
   "cell_type": "markdown",
   "metadata": {},
   "source": [
    "## T-Shirt Sizes"
   ]
  },
  {
   "cell_type": "code",
   "execution_count": 543,
   "metadata": {},
   "outputs": [
    {
     "data": {
      "application/vnd.plotly.v1+json": {
       "config": {
        "plotlyServerURL": "https://plot.ly"
       },
       "data": [
        {
         "alignmentgroup": "True",
         "bingroup": "x",
         "hovertemplate": "T-shirt size=%{x}<br>count=%{y}<extra></extra>",
         "legendgroup": "Unisex - 2XL",
         "marker": {
          "color": "rgb(95, 70, 144)",
          "pattern": {
           "shape": ""
          }
         },
         "name": "Unisex - 2XL",
         "offsetgroup": "Unisex - 2XL",
         "orientation": "v",
         "showlegend": true,
         "type": "histogram",
         "x": [
          "Unisex - 2XL",
          "Unisex - 2XL",
          "Unisex - 2XL",
          "Unisex - 2XL",
          "Unisex - 2XL",
          "Unisex - 2XL",
          "Unisex - 2XL",
          "Unisex - 2XL",
          "Unisex - 2XL",
          "Unisex - 2XL",
          "Unisex - 2XL",
          "Unisex - 2XL",
          "Unisex - 2XL",
          "Unisex - 2XL",
          "Unisex - 2XL",
          "Unisex - 2XL",
          "Unisex - 2XL",
          "Unisex - 2XL",
          "Unisex - 2XL",
          "Unisex - 2XL",
          "Unisex - 2XL",
          "Unisex - 2XL",
          "Unisex - 2XL",
          "Unisex - 2XL",
          "Unisex - 2XL",
          "Unisex - 2XL",
          "Unisex - 2XL",
          "Unisex - 2XL",
          "Unisex - 2XL",
          "Unisex - 2XL",
          "Unisex - 2XL",
          "Unisex - 2XL",
          "Unisex - 2XL",
          "Unisex - 2XL",
          "Unisex - 2XL"
         ],
         "xaxis": "x",
         "yaxis": "y"
        },
        {
         "alignmentgroup": "True",
         "bingroup": "x",
         "hovertemplate": "T-shirt size=%{x}<br>count=%{y}<extra></extra>",
         "legendgroup": "Unisex - L",
         "marker": {
          "color": "rgb(29, 105, 150)",
          "pattern": {
           "shape": ""
          }
         },
         "name": "Unisex - L",
         "offsetgroup": "Unisex - L",
         "orientation": "v",
         "showlegend": true,
         "type": "histogram",
         "x": [
          "Unisex - L",
          "Unisex - L",
          "Unisex - L",
          "Unisex - L",
          "Unisex - L",
          "Unisex - L",
          "Unisex - L",
          "Unisex - L",
          "Unisex - L",
          "Unisex - L",
          "Unisex - L",
          "Unisex - L",
          "Unisex - L",
          "Unisex - L",
          "Unisex - L",
          "Unisex - L",
          "Unisex - L",
          "Unisex - L",
          "Unisex - L",
          "Unisex - L",
          "Unisex - L",
          "Unisex - L",
          "Unisex - L",
          "Unisex - L",
          "Unisex - L",
          "Unisex - L",
          "Unisex - L",
          "Unisex - L",
          "Unisex - L",
          "Unisex - L",
          "Unisex - L",
          "Unisex - L",
          "Unisex - L",
          "Unisex - L",
          "Unisex - L",
          "Unisex - L",
          "Unisex - L",
          "Unisex - L",
          "Unisex - L",
          "Unisex - L",
          "Unisex - L",
          "Unisex - L",
          "Unisex - L",
          "Unisex - L",
          "Unisex - L",
          "Unisex - L",
          "Unisex - L",
          "Unisex - L",
          "Unisex - L",
          "Unisex - L",
          "Unisex - L",
          "Unisex - L",
          "Unisex - L",
          "Unisex - L",
          "Unisex - L",
          "Unisex - L",
          "Unisex - L",
          "Unisex - L",
          "Unisex - L",
          "Unisex - L",
          "Unisex - L",
          "Unisex - L",
          "Unisex - L",
          "Unisex - L",
          "Unisex - L",
          "Unisex - L",
          "Unisex - L",
          "Unisex - L",
          "Unisex - L",
          "Unisex - L",
          "Unisex - L",
          "Unisex - L",
          "Unisex - L",
          "Unisex - L",
          "Unisex - L",
          "Unisex - L",
          "Unisex - L",
          "Unisex - L",
          "Unisex - L",
          "Unisex - L",
          "Unisex - L",
          "Unisex - L",
          "Unisex - L",
          "Unisex - L",
          "Unisex - L",
          "Unisex - L",
          "Unisex - L",
          "Unisex - L",
          "Unisex - L",
          "Unisex - L",
          "Unisex - L",
          "Unisex - L",
          "Unisex - L",
          "Unisex - L",
          "Unisex - L",
          "Unisex - L",
          "Unisex - L",
          "Unisex - L",
          "Unisex - L",
          "Unisex - L",
          "Unisex - L",
          "Unisex - L",
          "Unisex - L",
          "Unisex - L",
          "Unisex - L",
          "Unisex - L",
          "Unisex - L",
          "Unisex - L",
          "Unisex - L",
          "Unisex - L",
          "Unisex - L",
          "Unisex - L",
          "Unisex - L",
          "Unisex - L"
         ],
         "xaxis": "x",
         "yaxis": "y"
        },
        {
         "alignmentgroup": "True",
         "bingroup": "x",
         "hovertemplate": "T-shirt size=%{x}<br>count=%{y}<extra></extra>",
         "legendgroup": "Unisex - M",
         "marker": {
          "color": "rgb(56, 166, 165)",
          "pattern": {
           "shape": ""
          }
         },
         "name": "Unisex - M",
         "offsetgroup": "Unisex - M",
         "orientation": "v",
         "showlegend": true,
         "type": "histogram",
         "x": [
          "Unisex - M",
          "Unisex - M",
          "Unisex - M",
          "Unisex - M",
          "Unisex - M",
          "Unisex - M",
          "Unisex - M",
          "Unisex - M",
          "Unisex - M",
          "Unisex - M",
          "Unisex - M",
          "Unisex - M",
          "Unisex - M",
          "Unisex - M",
          "Unisex - M",
          "Unisex - M",
          "Unisex - M",
          "Unisex - M",
          "Unisex - M",
          "Unisex - M",
          "Unisex - M",
          "Unisex - M",
          "Unisex - M",
          "Unisex - M",
          "Unisex - M",
          "Unisex - M",
          "Unisex - M",
          "Unisex - M",
          "Unisex - M",
          "Unisex - M",
          "Unisex - M",
          "Unisex - M",
          "Unisex - M",
          "Unisex - M",
          "Unisex - M",
          "Unisex - M",
          "Unisex - M",
          "Unisex - M",
          "Unisex - M",
          "Unisex - M",
          "Unisex - M",
          "Unisex - M",
          "Unisex - M",
          "Unisex - M",
          "Unisex - M",
          "Unisex - M",
          "Unisex - M",
          "Unisex - M",
          "Unisex - M",
          "Unisex - M",
          "Unisex - M",
          "Unisex - M",
          "Unisex - M",
          "Unisex - M",
          "Unisex - M",
          "Unisex - M",
          "Unisex - M",
          "Unisex - M",
          "Unisex - M",
          "Unisex - M",
          "Unisex - M",
          "Unisex - M",
          "Unisex - M",
          "Unisex - M",
          "Unisex - M",
          "Unisex - M",
          "Unisex - M",
          "Unisex - M",
          "Unisex - M",
          "Unisex - M",
          "Unisex - M",
          "Unisex - M",
          "Unisex - M",
          "Unisex - M",
          "Unisex - M",
          "Unisex - M",
          "Unisex - M",
          "Unisex - M",
          "Unisex - M",
          "Unisex - M",
          "Unisex - M",
          "Unisex - M",
          "Unisex - M",
          "Unisex - M",
          "Unisex - M",
          "Unisex - M",
          "Unisex - M",
          "Unisex - M",
          "Unisex - M",
          "Unisex - M",
          "Unisex - M",
          "Unisex - M",
          "Unisex - M"
         ],
         "xaxis": "x",
         "yaxis": "y"
        },
        {
         "alignmentgroup": "True",
         "bingroup": "x",
         "hovertemplate": "T-shirt size=%{x}<br>count=%{y}<extra></extra>",
         "legendgroup": "None",
         "marker": {
          "color": "rgb(15, 133, 84)",
          "pattern": {
           "shape": ""
          }
         },
         "name": "None",
         "offsetgroup": "None",
         "orientation": "v",
         "showlegend": true,
         "type": "histogram",
         "x": [
          "None",
          "None",
          "None",
          "None",
          "None",
          "None",
          "None",
          "None",
          "None",
          "None",
          "None",
          "None",
          "None",
          "None",
          "None",
          "None",
          "None",
          "None",
          "None",
          "None",
          "None",
          "None",
          "None",
          "None",
          "None",
          "None",
          "None",
          "None",
          "None",
          "None",
          "None",
          "None",
          "None",
          "None",
          "None",
          "None",
          "None",
          "None",
          "None",
          "None",
          "None",
          "None",
          "None",
          "None",
          "None",
          "None",
          "None",
          "None",
          "None",
          "None",
          "None",
          "None",
          "None",
          "None",
          "None",
          "None",
          "None",
          "None",
          "None",
          "None",
          "None",
          "None",
          "None",
          "None",
          "None",
          "None",
          "None",
          "None",
          "None",
          "None",
          "None",
          "None",
          "None",
          "None",
          "None",
          "None",
          "None",
          "None",
          "None",
          "None",
          "None",
          "None",
          "None",
          "None",
          "None",
          "None",
          "None",
          "None",
          "None",
          "None",
          "None",
          "None",
          "None",
          "None",
          "None",
          "None",
          "None",
          "None",
          "None",
          "None",
          "None",
          "None",
          "None",
          "None",
          "None",
          "None",
          "None",
          "None",
          "None",
          "None",
          "None",
          "None",
          "None",
          "None",
          "None",
          "None",
          "None",
          "None",
          "None",
          "None",
          "None",
          "None"
         ],
         "xaxis": "x",
         "yaxis": "y"
        },
        {
         "alignmentgroup": "True",
         "bingroup": "x",
         "hovertemplate": "T-shirt size=%{x}<br>count=%{y}<extra></extra>",
         "legendgroup": "Unisex - S",
         "marker": {
          "color": "rgb(115, 175, 72)",
          "pattern": {
           "shape": ""
          }
         },
         "name": "Unisex - S",
         "offsetgroup": "Unisex - S",
         "orientation": "v",
         "showlegend": true,
         "type": "histogram",
         "x": [
          "Unisex - S",
          "Unisex - S",
          "Unisex - S",
          "Unisex - S",
          "Unisex - S",
          "Unisex - S",
          "Unisex - S",
          "Unisex - S",
          "Unisex - S",
          "Unisex - S",
          "Unisex - S",
          "Unisex - S",
          "Unisex - S",
          "Unisex - S",
          "Unisex - S",
          "Unisex - S"
         ],
         "xaxis": "x",
         "yaxis": "y"
        },
        {
         "alignmentgroup": "True",
         "bingroup": "x",
         "hovertemplate": "T-shirt size=%{x}<br>count=%{y}<extra></extra>",
         "legendgroup": "Women's - 3XL",
         "marker": {
          "color": "rgb(237, 173, 8)",
          "pattern": {
           "shape": ""
          }
         },
         "name": "Women's - 3XL",
         "offsetgroup": "Women's - 3XL",
         "orientation": "v",
         "showlegend": true,
         "type": "histogram",
         "x": [
          "Women's - 3XL",
          "Women's - 3XL",
          "Women's - 3XL"
         ],
         "xaxis": "x",
         "yaxis": "y"
        },
        {
         "alignmentgroup": "True",
         "bingroup": "x",
         "hovertemplate": "T-shirt size=%{x}<br>count=%{y}<extra></extra>",
         "legendgroup": "Women's - L",
         "marker": {
          "color": "rgb(225, 124, 5)",
          "pattern": {
           "shape": ""
          }
         },
         "name": "Women's - L",
         "offsetgroup": "Women's - L",
         "orientation": "v",
         "showlegend": true,
         "type": "histogram",
         "x": [
          "Women's - L",
          "Women's - L",
          "Women's - L",
          "Women's - L",
          "Women's - L",
          "Women's - L",
          "Women's - L",
          "Women's - L",
          "Women's - L",
          "Women's - L",
          "Women's - L"
         ],
         "xaxis": "x",
         "yaxis": "y"
        },
        {
         "alignmentgroup": "True",
         "bingroup": "x",
         "hovertemplate": "T-shirt size=%{x}<br>count=%{y}<extra></extra>",
         "legendgroup": "Unisex - XL",
         "marker": {
          "color": "rgb(204, 80, 62)",
          "pattern": {
           "shape": ""
          }
         },
         "name": "Unisex - XL",
         "offsetgroup": "Unisex - XL",
         "orientation": "v",
         "showlegend": true,
         "type": "histogram",
         "x": [
          "Unisex - XL",
          "Unisex - XL",
          "Unisex - XL",
          "Unisex - XL",
          "Unisex - XL",
          "Unisex - XL",
          "Unisex - XL",
          "Unisex - XL",
          "Unisex - XL",
          "Unisex - XL",
          "Unisex - XL",
          "Unisex - XL",
          "Unisex - XL",
          "Unisex - XL",
          "Unisex - XL",
          "Unisex - XL",
          "Unisex - XL",
          "Unisex - XL",
          "Unisex - XL",
          "Unisex - XL",
          "Unisex - XL",
          "Unisex - XL",
          "Unisex - XL",
          "Unisex - XL",
          "Unisex - XL",
          "Unisex - XL",
          "Unisex - XL",
          "Unisex - XL",
          "Unisex - XL",
          "Unisex - XL",
          "Unisex - XL",
          "Unisex - XL",
          "Unisex - XL",
          "Unisex - XL",
          "Unisex - XL",
          "Unisex - XL",
          "Unisex - XL",
          "Unisex - XL",
          "Unisex - XL",
          "Unisex - XL",
          "Unisex - XL",
          "Unisex - XL",
          "Unisex - XL",
          "Unisex - XL",
          "Unisex - XL",
          "Unisex - XL",
          "Unisex - XL",
          "Unisex - XL",
          "Unisex - XL",
          "Unisex - XL",
          "Unisex - XL",
          "Unisex - XL",
          "Unisex - XL",
          "Unisex - XL",
          "Unisex - XL",
          "Unisex - XL",
          "Unisex - XL",
          "Unisex - XL",
          "Unisex - XL",
          "Unisex - XL",
          "Unisex - XL",
          "Unisex - XL",
          "Unisex - XL",
          "Unisex - XL"
         ],
         "xaxis": "x",
         "yaxis": "y"
        },
        {
         "alignmentgroup": "True",
         "bingroup": "x",
         "hovertemplate": "T-shirt size=%{x}<br>count=%{y}<extra></extra>",
         "legendgroup": "Women's - XL",
         "marker": {
          "color": "rgb(148, 52, 110)",
          "pattern": {
           "shape": ""
          }
         },
         "name": "Women's - XL",
         "offsetgroup": "Women's - XL",
         "orientation": "v",
         "showlegend": true,
         "type": "histogram",
         "x": [
          "Women's - XL",
          "Women's - XL",
          "Women's - XL",
          "Women's - XL",
          "Women's - XL",
          "Women's - XL"
         ],
         "xaxis": "x",
         "yaxis": "y"
        },
        {
         "alignmentgroup": "True",
         "bingroup": "x",
         "hovertemplate": "T-shirt size=%{x}<br>count=%{y}<extra></extra>",
         "legendgroup": "Women's - M",
         "marker": {
          "color": "rgb(111, 64, 112)",
          "pattern": {
           "shape": ""
          }
         },
         "name": "Women's - M",
         "offsetgroup": "Women's - M",
         "orientation": "v",
         "showlegend": true,
         "type": "histogram",
         "x": [
          "Women's - M",
          "Women's - M",
          "Women's - M",
          "Women's - M",
          "Women's - M",
          "Women's - M",
          "Women's - M",
          "Women's - M",
          "Women's - M"
         ],
         "xaxis": "x",
         "yaxis": "y"
        },
        {
         "alignmentgroup": "True",
         "bingroup": "x",
         "hovertemplate": "T-shirt size=%{x}<br>count=%{y}<extra></extra>",
         "legendgroup": "Women's - S",
         "marker": {
          "color": "rgb(102, 102, 102)",
          "pattern": {
           "shape": ""
          }
         },
         "name": "Women's - S",
         "offsetgroup": "Women's - S",
         "orientation": "v",
         "showlegend": true,
         "type": "histogram",
         "x": [
          "Women's - S",
          "Women's - S",
          "Women's - S",
          "Women's - S",
          "Women's - S",
          "Women's - S",
          "Women's - S",
          "Women's - S"
         ],
         "xaxis": "x",
         "yaxis": "y"
        },
        {
         "alignmentgroup": "True",
         "bingroup": "x",
         "hovertemplate": "T-shirt size=%{x}<br>count=%{y}<extra></extra>",
         "legendgroup": "Unisex - 3XL",
         "marker": {
          "color": "rgb(95, 70, 144)",
          "pattern": {
           "shape": ""
          }
         },
         "name": "Unisex - 3XL",
         "offsetgroup": "Unisex - 3XL",
         "orientation": "v",
         "showlegend": true,
         "type": "histogram",
         "x": [
          "Unisex - 3XL",
          "Unisex - 3XL",
          "Unisex - 3XL",
          "Unisex - 3XL",
          "Unisex - 3XL",
          "Unisex - 3XL",
          "Unisex - 3XL",
          "Unisex - 3XL",
          "Unisex - 3XL",
          "Unisex - 3XL",
          "Unisex - 3XL",
          "Unisex - 3XL",
          "Unisex - 3XL",
          "Unisex - 3XL",
          "Unisex - 3XL"
         ],
         "xaxis": "x",
         "yaxis": "y"
        },
        {
         "alignmentgroup": "True",
         "bingroup": "x",
         "hovertemplate": "T-shirt size=%{x}<br>count=%{y}<extra></extra>",
         "legendgroup": "Unisex - XS",
         "marker": {
          "color": "rgb(29, 105, 150)",
          "pattern": {
           "shape": ""
          }
         },
         "name": "Unisex - XS",
         "offsetgroup": "Unisex - XS",
         "orientation": "v",
         "showlegend": true,
         "type": "histogram",
         "x": [
          "Unisex - XS",
          "Unisex - XS",
          "Unisex - XS",
          "Unisex - XS"
         ],
         "xaxis": "x",
         "yaxis": "y"
        },
        {
         "alignmentgroup": "True",
         "bingroup": "x",
         "hovertemplate": "T-shirt size=%{x}<br>count=%{y}<extra></extra>",
         "legendgroup": "Women's - 2XL",
         "marker": {
          "color": "rgb(56, 166, 165)",
          "pattern": {
           "shape": ""
          }
         },
         "name": "Women's - 2XL",
         "offsetgroup": "Women's - 2XL",
         "orientation": "v",
         "showlegend": true,
         "type": "histogram",
         "x": [
          "Women's - 2XL",
          "Women's - 2XL"
         ],
         "xaxis": "x",
         "yaxis": "y"
        }
       ],
       "layout": {
        "barmode": "relative",
        "legend": {
         "title": {
          "text": "T-shirt size"
         },
         "tracegroupgap": 0
        },
        "template": {
         "data": {
          "bar": [
           {
            "error_x": {
             "color": "#f2f5fa"
            },
            "error_y": {
             "color": "#f2f5fa"
            },
            "marker": {
             "line": {
              "color": "rgb(17,17,17)",
              "width": 0.5
             },
             "pattern": {
              "fillmode": "overlay",
              "size": 10,
              "solidity": 0.2
             }
            },
            "type": "bar"
           }
          ],
          "barpolar": [
           {
            "marker": {
             "line": {
              "color": "rgb(17,17,17)",
              "width": 0.5
             },
             "pattern": {
              "fillmode": "overlay",
              "size": 10,
              "solidity": 0.2
             }
            },
            "type": "barpolar"
           }
          ],
          "carpet": [
           {
            "aaxis": {
             "endlinecolor": "#A2B1C6",
             "gridcolor": "#506784",
             "linecolor": "#506784",
             "minorgridcolor": "#506784",
             "startlinecolor": "#A2B1C6"
            },
            "baxis": {
             "endlinecolor": "#A2B1C6",
             "gridcolor": "#506784",
             "linecolor": "#506784",
             "minorgridcolor": "#506784",
             "startlinecolor": "#A2B1C6"
            },
            "type": "carpet"
           }
          ],
          "choropleth": [
           {
            "colorbar": {
             "outlinewidth": 0,
             "ticks": ""
            },
            "type": "choropleth"
           }
          ],
          "contour": [
           {
            "colorbar": {
             "outlinewidth": 0,
             "ticks": ""
            },
            "colorscale": [
             [
              0,
              "#0d0887"
             ],
             [
              0.1111111111111111,
              "#46039f"
             ],
             [
              0.2222222222222222,
              "#7201a8"
             ],
             [
              0.3333333333333333,
              "#9c179e"
             ],
             [
              0.4444444444444444,
              "#bd3786"
             ],
             [
              0.5555555555555556,
              "#d8576b"
             ],
             [
              0.6666666666666666,
              "#ed7953"
             ],
             [
              0.7777777777777778,
              "#fb9f3a"
             ],
             [
              0.8888888888888888,
              "#fdca26"
             ],
             [
              1,
              "#f0f921"
             ]
            ],
            "type": "contour"
           }
          ],
          "contourcarpet": [
           {
            "colorbar": {
             "outlinewidth": 0,
             "ticks": ""
            },
            "type": "contourcarpet"
           }
          ],
          "heatmap": [
           {
            "colorbar": {
             "outlinewidth": 0,
             "ticks": ""
            },
            "colorscale": [
             [
              0,
              "#0d0887"
             ],
             [
              0.1111111111111111,
              "#46039f"
             ],
             [
              0.2222222222222222,
              "#7201a8"
             ],
             [
              0.3333333333333333,
              "#9c179e"
             ],
             [
              0.4444444444444444,
              "#bd3786"
             ],
             [
              0.5555555555555556,
              "#d8576b"
             ],
             [
              0.6666666666666666,
              "#ed7953"
             ],
             [
              0.7777777777777778,
              "#fb9f3a"
             ],
             [
              0.8888888888888888,
              "#fdca26"
             ],
             [
              1,
              "#f0f921"
             ]
            ],
            "type": "heatmap"
           }
          ],
          "heatmapgl": [
           {
            "colorbar": {
             "outlinewidth": 0,
             "ticks": ""
            },
            "colorscale": [
             [
              0,
              "#0d0887"
             ],
             [
              0.1111111111111111,
              "#46039f"
             ],
             [
              0.2222222222222222,
              "#7201a8"
             ],
             [
              0.3333333333333333,
              "#9c179e"
             ],
             [
              0.4444444444444444,
              "#bd3786"
             ],
             [
              0.5555555555555556,
              "#d8576b"
             ],
             [
              0.6666666666666666,
              "#ed7953"
             ],
             [
              0.7777777777777778,
              "#fb9f3a"
             ],
             [
              0.8888888888888888,
              "#fdca26"
             ],
             [
              1,
              "#f0f921"
             ]
            ],
            "type": "heatmapgl"
           }
          ],
          "histogram": [
           {
            "marker": {
             "pattern": {
              "fillmode": "overlay",
              "size": 10,
              "solidity": 0.2
             }
            },
            "type": "histogram"
           }
          ],
          "histogram2d": [
           {
            "colorbar": {
             "outlinewidth": 0,
             "ticks": ""
            },
            "colorscale": [
             [
              0,
              "#0d0887"
             ],
             [
              0.1111111111111111,
              "#46039f"
             ],
             [
              0.2222222222222222,
              "#7201a8"
             ],
             [
              0.3333333333333333,
              "#9c179e"
             ],
             [
              0.4444444444444444,
              "#bd3786"
             ],
             [
              0.5555555555555556,
              "#d8576b"
             ],
             [
              0.6666666666666666,
              "#ed7953"
             ],
             [
              0.7777777777777778,
              "#fb9f3a"
             ],
             [
              0.8888888888888888,
              "#fdca26"
             ],
             [
              1,
              "#f0f921"
             ]
            ],
            "type": "histogram2d"
           }
          ],
          "histogram2dcontour": [
           {
            "colorbar": {
             "outlinewidth": 0,
             "ticks": ""
            },
            "colorscale": [
             [
              0,
              "#0d0887"
             ],
             [
              0.1111111111111111,
              "#46039f"
             ],
             [
              0.2222222222222222,
              "#7201a8"
             ],
             [
              0.3333333333333333,
              "#9c179e"
             ],
             [
              0.4444444444444444,
              "#bd3786"
             ],
             [
              0.5555555555555556,
              "#d8576b"
             ],
             [
              0.6666666666666666,
              "#ed7953"
             ],
             [
              0.7777777777777778,
              "#fb9f3a"
             ],
             [
              0.8888888888888888,
              "#fdca26"
             ],
             [
              1,
              "#f0f921"
             ]
            ],
            "type": "histogram2dcontour"
           }
          ],
          "mesh3d": [
           {
            "colorbar": {
             "outlinewidth": 0,
             "ticks": ""
            },
            "type": "mesh3d"
           }
          ],
          "parcoords": [
           {
            "line": {
             "colorbar": {
              "outlinewidth": 0,
              "ticks": ""
             }
            },
            "type": "parcoords"
           }
          ],
          "pie": [
           {
            "automargin": true,
            "type": "pie"
           }
          ],
          "scatter": [
           {
            "marker": {
             "line": {
              "color": "#283442"
             }
            },
            "type": "scatter"
           }
          ],
          "scatter3d": [
           {
            "line": {
             "colorbar": {
              "outlinewidth": 0,
              "ticks": ""
             }
            },
            "marker": {
             "colorbar": {
              "outlinewidth": 0,
              "ticks": ""
             }
            },
            "type": "scatter3d"
           }
          ],
          "scattercarpet": [
           {
            "marker": {
             "colorbar": {
              "outlinewidth": 0,
              "ticks": ""
             }
            },
            "type": "scattercarpet"
           }
          ],
          "scattergeo": [
           {
            "marker": {
             "colorbar": {
              "outlinewidth": 0,
              "ticks": ""
             }
            },
            "type": "scattergeo"
           }
          ],
          "scattergl": [
           {
            "marker": {
             "line": {
              "color": "#283442"
             }
            },
            "type": "scattergl"
           }
          ],
          "scattermapbox": [
           {
            "marker": {
             "colorbar": {
              "outlinewidth": 0,
              "ticks": ""
             }
            },
            "type": "scattermapbox"
           }
          ],
          "scatterpolar": [
           {
            "marker": {
             "colorbar": {
              "outlinewidth": 0,
              "ticks": ""
             }
            },
            "type": "scatterpolar"
           }
          ],
          "scatterpolargl": [
           {
            "marker": {
             "colorbar": {
              "outlinewidth": 0,
              "ticks": ""
             }
            },
            "type": "scatterpolargl"
           }
          ],
          "scatterternary": [
           {
            "marker": {
             "colorbar": {
              "outlinewidth": 0,
              "ticks": ""
             }
            },
            "type": "scatterternary"
           }
          ],
          "surface": [
           {
            "colorbar": {
             "outlinewidth": 0,
             "ticks": ""
            },
            "colorscale": [
             [
              0,
              "#0d0887"
             ],
             [
              0.1111111111111111,
              "#46039f"
             ],
             [
              0.2222222222222222,
              "#7201a8"
             ],
             [
              0.3333333333333333,
              "#9c179e"
             ],
             [
              0.4444444444444444,
              "#bd3786"
             ],
             [
              0.5555555555555556,
              "#d8576b"
             ],
             [
              0.6666666666666666,
              "#ed7953"
             ],
             [
              0.7777777777777778,
              "#fb9f3a"
             ],
             [
              0.8888888888888888,
              "#fdca26"
             ],
             [
              1,
              "#f0f921"
             ]
            ],
            "type": "surface"
           }
          ],
          "table": [
           {
            "cells": {
             "fill": {
              "color": "#506784"
             },
             "line": {
              "color": "rgb(17,17,17)"
             }
            },
            "header": {
             "fill": {
              "color": "#2a3f5f"
             },
             "line": {
              "color": "rgb(17,17,17)"
             }
            },
            "type": "table"
           }
          ]
         },
         "layout": {
          "annotationdefaults": {
           "arrowcolor": "#f2f5fa",
           "arrowhead": 0,
           "arrowwidth": 1
          },
          "autotypenumbers": "strict",
          "coloraxis": {
           "colorbar": {
            "outlinewidth": 0,
            "ticks": ""
           }
          },
          "colorscale": {
           "diverging": [
            [
             0,
             "#8e0152"
            ],
            [
             0.1,
             "#c51b7d"
            ],
            [
             0.2,
             "#de77ae"
            ],
            [
             0.3,
             "#f1b6da"
            ],
            [
             0.4,
             "#fde0ef"
            ],
            [
             0.5,
             "#f7f7f7"
            ],
            [
             0.6,
             "#e6f5d0"
            ],
            [
             0.7,
             "#b8e186"
            ],
            [
             0.8,
             "#7fbc41"
            ],
            [
             0.9,
             "#4d9221"
            ],
            [
             1,
             "#276419"
            ]
           ],
           "sequential": [
            [
             0,
             "#0d0887"
            ],
            [
             0.1111111111111111,
             "#46039f"
            ],
            [
             0.2222222222222222,
             "#7201a8"
            ],
            [
             0.3333333333333333,
             "#9c179e"
            ],
            [
             0.4444444444444444,
             "#bd3786"
            ],
            [
             0.5555555555555556,
             "#d8576b"
            ],
            [
             0.6666666666666666,
             "#ed7953"
            ],
            [
             0.7777777777777778,
             "#fb9f3a"
            ],
            [
             0.8888888888888888,
             "#fdca26"
            ],
            [
             1,
             "#f0f921"
            ]
           ],
           "sequentialminus": [
            [
             0,
             "#0d0887"
            ],
            [
             0.1111111111111111,
             "#46039f"
            ],
            [
             0.2222222222222222,
             "#7201a8"
            ],
            [
             0.3333333333333333,
             "#9c179e"
            ],
            [
             0.4444444444444444,
             "#bd3786"
            ],
            [
             0.5555555555555556,
             "#d8576b"
            ],
            [
             0.6666666666666666,
             "#ed7953"
            ],
            [
             0.7777777777777778,
             "#fb9f3a"
            ],
            [
             0.8888888888888888,
             "#fdca26"
            ],
            [
             1,
             "#f0f921"
            ]
           ]
          },
          "colorway": [
           "#636efa",
           "#EF553B",
           "#00cc96",
           "#ab63fa",
           "#FFA15A",
           "#19d3f3",
           "#FF6692",
           "#B6E880",
           "#FF97FF",
           "#FECB52"
          ],
          "font": {
           "color": "#f2f5fa"
          },
          "geo": {
           "bgcolor": "rgb(17,17,17)",
           "lakecolor": "rgb(17,17,17)",
           "landcolor": "rgb(17,17,17)",
           "showlakes": true,
           "showland": true,
           "subunitcolor": "#506784"
          },
          "hoverlabel": {
           "align": "left"
          },
          "hovermode": "closest",
          "mapbox": {
           "style": "dark"
          },
          "paper_bgcolor": "rgb(17,17,17)",
          "plot_bgcolor": "rgb(17,17,17)",
          "polar": {
           "angularaxis": {
            "gridcolor": "#506784",
            "linecolor": "#506784",
            "ticks": ""
           },
           "bgcolor": "rgb(17,17,17)",
           "radialaxis": {
            "gridcolor": "#506784",
            "linecolor": "#506784",
            "ticks": ""
           }
          },
          "scene": {
           "xaxis": {
            "backgroundcolor": "rgb(17,17,17)",
            "gridcolor": "#506784",
            "gridwidth": 2,
            "linecolor": "#506784",
            "showbackground": true,
            "ticks": "",
            "zerolinecolor": "#C8D4E3"
           },
           "yaxis": {
            "backgroundcolor": "rgb(17,17,17)",
            "gridcolor": "#506784",
            "gridwidth": 2,
            "linecolor": "#506784",
            "showbackground": true,
            "ticks": "",
            "zerolinecolor": "#C8D4E3"
           },
           "zaxis": {
            "backgroundcolor": "rgb(17,17,17)",
            "gridcolor": "#506784",
            "gridwidth": 2,
            "linecolor": "#506784",
            "showbackground": true,
            "ticks": "",
            "zerolinecolor": "#C8D4E3"
           }
          },
          "shapedefaults": {
           "line": {
            "color": "#f2f5fa"
           }
          },
          "sliderdefaults": {
           "bgcolor": "#C8D4E3",
           "bordercolor": "rgb(17,17,17)",
           "borderwidth": 1,
           "tickwidth": 0
          },
          "ternary": {
           "aaxis": {
            "gridcolor": "#506784",
            "linecolor": "#506784",
            "ticks": ""
           },
           "baxis": {
            "gridcolor": "#506784",
            "linecolor": "#506784",
            "ticks": ""
           },
           "bgcolor": "rgb(17,17,17)",
           "caxis": {
            "gridcolor": "#506784",
            "linecolor": "#506784",
            "ticks": ""
           }
          },
          "title": {
           "x": 0.05
          },
          "updatemenudefaults": {
           "bgcolor": "#506784",
           "borderwidth": 0
          },
          "xaxis": {
           "automargin": true,
           "gridcolor": "#283442",
           "linecolor": "#506784",
           "ticks": "",
           "title": {
            "standoff": 15
           },
           "zerolinecolor": "#283442",
           "zerolinewidth": 2
          },
          "yaxis": {
           "automargin": true,
           "gridcolor": "#283442",
           "linecolor": "#506784",
           "ticks": "",
           "title": {
            "standoff": 15
           },
           "zerolinecolor": "#283442",
           "zerolinewidth": 2
          }
         }
        },
        "title": {
         "text": "T-Shirt Sizes"
        },
        "xaxis": {
         "anchor": "y",
         "categoryarray": [
          "Unisex - 2XL",
          "Unisex - L",
          "Unisex - M",
          "None",
          "Unisex - S",
          "Women's - 3XL",
          "Women's - L",
          "Unisex - XL",
          "Women's - XL",
          "Women's - M",
          "Women's - S",
          "Unisex - 3XL",
          "Unisex - XS",
          "Women's - 2XL"
         ],
         "categoryorder": "total descending",
         "domain": [
          0,
          1
         ],
         "title": {
          "text": "T-shirt size"
         }
        },
        "yaxis": {
         "anchor": "x",
         "domain": [
          0,
          1
         ],
         "title": {
          "text": "count"
         }
        }
       }
      }
     },
     "metadata": {},
     "output_type": "display_data"
    }
   ],
   "source": [
    "df23['T-shirt size'].fillna('None', inplace=True)\n",
    "px.histogram(df23, x='T-shirt size', title='T-Shirt Sizes', color='T-shirt size').update_xaxes(categoryorder='total descending')"
   ]
  },
  {
   "cell_type": "code",
   "execution_count": 544,
   "metadata": {},
   "outputs": [
    {
     "name": "stderr",
     "output_type": "stream",
     "text": [
      "/home/matteland/anaconda3/lib/python3.11/site-packages/_plotly_utils/basevalidators.py:106: FutureWarning:\n",
      "\n",
      "The behavior of DatetimeProperties.to_pydatetime is deprecated, in a future version this will return a Series containing python datetime objects instead of an ndarray. To retain the old behavior, call `np.array` on the result\n",
      "\n"
     ]
    },
    {
     "data": {
      "application/vnd.plotly.v1+json": {
       "config": {
        "plotlyServerURL": "https://plot.ly"
       },
       "data": [
        {
         "coloraxis": "coloraxis",
         "hovertemplate": "Order Date=%{x}<br>Ticket=%{y}<br>count=%{z}<extra></extra>",
         "name": "",
         "type": "histogram2d",
         "x": [
          "2023-07-02T13:04:51+00:00",
          "2023-07-02T13:05:17+00:00",
          "2023-07-02T13:08:15+00:00",
          "2023-08-02T18:03:03+00:00",
          "2023-08-09T14:43:54+00:00",
          "2023-08-09T18:02:24+00:00",
          "2023-08-09T18:02:24+00:00",
          "2023-08-09T18:02:24+00:00",
          "2023-08-09T18:02:24+00:00",
          "2023-08-09T18:02:24+00:00",
          "2023-08-11T20:47:40+00:00",
          "2023-08-13T11:46:08+00:00",
          "2023-08-14T18:13:12+00:00",
          "2023-08-14T18:13:12+00:00",
          "2023-08-14T18:35:15+00:00",
          "2023-08-14T20:59:21+00:00",
          "2023-08-15T19:08:06+00:00",
          "2023-08-15T21:08:58+00:00",
          "2023-08-15T21:08:58+00:00",
          "2023-08-15T21:08:58+00:00",
          "2023-08-15T21:08:58+00:00",
          "2023-08-15T21:08:58+00:00",
          "2023-08-16T02:42:39+00:00",
          "2023-08-21T21:20:52+00:00",
          "2023-08-21T21:20:52+00:00",
          "2023-08-22T13:46:41+00:00",
          "2023-08-23T14:43:23+00:00",
          "2023-08-23T14:47:48+00:00",
          "2023-08-23T14:48:15+00:00",
          "2023-08-23T14:48:15+00:00",
          "2023-08-23T14:48:35+00:00",
          "2023-08-23T14:48:35+00:00",
          "2023-08-23T14:48:35+00:00",
          "2023-08-23T14:49:15+00:00",
          "2023-08-23T14:50:44+00:00",
          "2023-08-23T14:50:44+00:00",
          "2023-08-23T14:50:56+00:00",
          "2023-08-23T14:50:56+00:00",
          "2023-08-23T14:51:53+00:00",
          "2023-08-23T14:51:53+00:00",
          "2023-08-23T14:52:33+00:00",
          "2023-08-23T14:52:33+00:00",
          "2023-09-12T04:27:51+00:00",
          "2023-09-15T01:04:13+00:00",
          "2023-09-22T20:43:35+00:00",
          "2023-09-26T01:24:35+00:00",
          "2023-09-26T01:24:38+00:00",
          "2023-09-26T01:24:38+00:00",
          "2023-09-28T13:27:25+00:00",
          "2023-09-28T18:06:22+00:00",
          "2023-09-28T20:19:57+00:00",
          "2023-09-29T17:41:39+00:00",
          "2023-10-03T11:26:52+00:00",
          "2023-10-03T13:22:04+00:00",
          "2023-10-03T13:22:04+00:00",
          "2023-10-03T20:35:24+00:00",
          "2023-10-04T15:40:44+00:00",
          "2023-10-04T17:46:29+00:00",
          "2023-10-04T19:03:10+00:00",
          "2023-10-04T19:55:06+00:00",
          "2023-10-06T00:31:15+00:00",
          "2023-10-06T01:11:03+00:00",
          "2023-10-06T02:39:45+00:00",
          "2023-10-06T13:02:29+00:00",
          "2023-10-06T21:47:00+00:00",
          "2023-10-08T17:50:40+00:00",
          "2023-10-08T20:18:05+00:00",
          "2023-10-09T14:41:33+00:00",
          "2023-10-09T19:00:31+00:00",
          "2023-10-10T16:47:26+00:00",
          "2023-10-10T17:50:36+00:00",
          "2023-10-11T15:03:24+00:00",
          "2023-10-12T11:16:18+00:00",
          "2023-10-12T11:16:18+00:00",
          "2023-10-12T11:16:18+00:00",
          "2023-10-12T15:31:07+00:00",
          "2023-10-12T15:31:07+00:00",
          "2023-10-12T16:14:13+00:00",
          "2023-10-12T16:14:13+00:00",
          "2023-10-12T16:19:21+00:00",
          "2023-10-12T16:24:13+00:00",
          "2023-10-12T16:24:13+00:00",
          "2023-10-12T17:11:47+00:00",
          "2023-10-12T17:11:47+00:00",
          "2023-10-12T17:11:47+00:00",
          "2023-10-12T17:26:19+00:00",
          "2023-10-12T17:26:19+00:00",
          "2023-10-12T19:03:57+00:00",
          "2023-10-13T02:14:04+00:00",
          "2023-10-13T16:04:44+00:00",
          "2023-10-13T17:26:53+00:00",
          "2023-10-16T22:53:26+00:00",
          "2023-10-17T00:11:34+00:00",
          "2023-10-17T15:17:09+00:00",
          "2023-10-17T16:55:52+00:00",
          "2023-10-17T16:55:52+00:00",
          "2023-10-17T16:55:52+00:00",
          "2023-10-17T16:55:52+00:00",
          "2023-10-17T16:55:52+00:00",
          "2023-10-17T16:55:52+00:00",
          "2023-10-17T16:55:52+00:00",
          "2023-10-17T16:55:52+00:00",
          "2023-10-17T16:55:52+00:00",
          "2023-10-17T16:55:52+00:00",
          "2023-10-17T18:20:32+00:00",
          "2023-10-18T02:25:58+00:00",
          "2023-10-18T02:26:58+00:00",
          "2023-10-18T02:29:41+00:00",
          "2023-10-18T13:40:16+00:00",
          "2023-10-18T14:13:55+00:00",
          "2023-10-18T14:45:24+00:00",
          "2023-10-18T14:45:24+00:00",
          "2023-10-18T15:48:47+00:00",
          "2023-10-18T16:05:07+00:00",
          "2023-10-18T17:10:20+00:00",
          "2023-10-18T17:50:24+00:00",
          "2023-10-18T20:32:20+00:00",
          "2023-10-18T20:53:53+00:00",
          "2023-10-19T12:13:46+00:00",
          "2023-10-19T13:28:30+00:00",
          "2023-10-19T13:31:43+00:00",
          "2023-10-19T15:11:26+00:00"
         ],
         "xaxis": "x",
         "xbingroup": "x",
         "y": [
          "Content Reviewer",
          "Content Reviewer",
          "Content Reviewer",
          "Early Bird",
          "Early Bird",
          "Early Bird",
          "Early Bird",
          "Early Bird",
          "Early Bird",
          "Early Bird",
          "Early Bird",
          "Early Student",
          "Early Bird",
          "Early Bird",
          "Early Bird",
          "Early Bird",
          "Early Bird",
          "Early Bird",
          "Early Bird",
          "Early Bird",
          "Early Bird",
          "Early Bird",
          "Early Bird",
          "Sponsor",
          "Sponsor",
          "Regular Price",
          "Sponsor",
          "Sponsor",
          "Sponsor",
          "Sponsor",
          "Sponsor",
          "Sponsor",
          "Sponsor",
          "Sponsor",
          "Sponsor",
          "Sponsor",
          "Sponsor",
          "Sponsor",
          "Sponsor",
          "Sponsor",
          "Sponsor",
          "Sponsor",
          "VIP",
          "Regular Price",
          "Student",
          "Volunteer",
          "Volunteer",
          "Volunteer",
          "Late Registration",
          "Late Registration",
          "Late Registration",
          "Student",
          "Late Registration",
          "Late Registration",
          "Late Registration",
          "Volunteer",
          "Late Registration",
          "Late Registration",
          "Late Registration",
          "Late Registration",
          "Late Registration",
          "Student",
          "Late Registration",
          "Late Registration",
          "Late Registration",
          "Procrastinator Pricing",
          "Volunteer",
          "Procrastinator Pricing",
          "Procrastinator Pricing",
          "Speaker",
          "Procrastinator Pricing",
          "Procrastinator Pricing",
          "Sponsor",
          "Sponsor",
          "Sponsor",
          "Procrastinator Pricing",
          "Procrastinator Pricing",
          "Sponsor",
          "Sponsor",
          "Procrastinator Pricing",
          "Sponsor",
          "Sponsor",
          "Sponsor",
          "Sponsor",
          "Sponsor",
          "Sponsor",
          "Sponsor",
          "Procrastinator Pricing",
          "Procrastinator Pricing",
          "Procrastinator Pricing",
          "Procrastinator Pricing",
          "Procrastinator Pricing",
          "Procrastinator Pricing",
          "Student",
          "Sponsor",
          "Sponsor",
          "Sponsor",
          "Sponsor",
          "Sponsor",
          "Sponsor",
          "Sponsor",
          "Sponsor",
          "Sponsor",
          "Sponsor",
          "Procrastinator Pricing",
          "Volunteer",
          "Volunteer",
          "VIP",
          "Procrastinator Pricing",
          "VIP",
          "Sponsor",
          "Sponsor",
          "Procrastinator Pricing",
          "Procrastinator Pricing",
          "Procrastinator Pricing",
          "Procrastinator Pricing",
          "Procrastinator Pricing",
          "Procrastinator Pricing",
          "Procrastinator Pricing",
          "VIP",
          "VIP",
          "Procrastinator Pricing"
         ],
         "yaxis": "y",
         "ybingroup": "y"
        }
       ],
       "layout": {
        "coloraxis": {
         "colorbar": {
          "title": {
           "text": "count"
          }
         },
         "colorscale": [
          [
           0,
           "rgb(75, 41, 145)"
          ],
          [
           0.16666666666666666,
           "rgb(135, 44, 162)"
          ],
          [
           0.3333333333333333,
           "rgb(192, 54, 157)"
          ],
          [
           0.5,
           "rgb(234, 79, 136)"
          ],
          [
           0.6666666666666666,
           "rgb(250, 120, 118)"
          ],
          [
           0.8333333333333334,
           "rgb(246, 169, 122)"
          ],
          [
           1,
           "rgb(237, 217, 163)"
          ]
         ]
        },
        "legend": {
         "tracegroupgap": 0
        },
        "template": {
         "data": {
          "bar": [
           {
            "error_x": {
             "color": "#f2f5fa"
            },
            "error_y": {
             "color": "#f2f5fa"
            },
            "marker": {
             "line": {
              "color": "rgb(17,17,17)",
              "width": 0.5
             },
             "pattern": {
              "fillmode": "overlay",
              "size": 10,
              "solidity": 0.2
             }
            },
            "type": "bar"
           }
          ],
          "barpolar": [
           {
            "marker": {
             "line": {
              "color": "rgb(17,17,17)",
              "width": 0.5
             },
             "pattern": {
              "fillmode": "overlay",
              "size": 10,
              "solidity": 0.2
             }
            },
            "type": "barpolar"
           }
          ],
          "carpet": [
           {
            "aaxis": {
             "endlinecolor": "#A2B1C6",
             "gridcolor": "#506784",
             "linecolor": "#506784",
             "minorgridcolor": "#506784",
             "startlinecolor": "#A2B1C6"
            },
            "baxis": {
             "endlinecolor": "#A2B1C6",
             "gridcolor": "#506784",
             "linecolor": "#506784",
             "minorgridcolor": "#506784",
             "startlinecolor": "#A2B1C6"
            },
            "type": "carpet"
           }
          ],
          "choropleth": [
           {
            "colorbar": {
             "outlinewidth": 0,
             "ticks": ""
            },
            "type": "choropleth"
           }
          ],
          "contour": [
           {
            "colorbar": {
             "outlinewidth": 0,
             "ticks": ""
            },
            "colorscale": [
             [
              0,
              "#0d0887"
             ],
             [
              0.1111111111111111,
              "#46039f"
             ],
             [
              0.2222222222222222,
              "#7201a8"
             ],
             [
              0.3333333333333333,
              "#9c179e"
             ],
             [
              0.4444444444444444,
              "#bd3786"
             ],
             [
              0.5555555555555556,
              "#d8576b"
             ],
             [
              0.6666666666666666,
              "#ed7953"
             ],
             [
              0.7777777777777778,
              "#fb9f3a"
             ],
             [
              0.8888888888888888,
              "#fdca26"
             ],
             [
              1,
              "#f0f921"
             ]
            ],
            "type": "contour"
           }
          ],
          "contourcarpet": [
           {
            "colorbar": {
             "outlinewidth": 0,
             "ticks": ""
            },
            "type": "contourcarpet"
           }
          ],
          "heatmap": [
           {
            "colorbar": {
             "outlinewidth": 0,
             "ticks": ""
            },
            "colorscale": [
             [
              0,
              "#0d0887"
             ],
             [
              0.1111111111111111,
              "#46039f"
             ],
             [
              0.2222222222222222,
              "#7201a8"
             ],
             [
              0.3333333333333333,
              "#9c179e"
             ],
             [
              0.4444444444444444,
              "#bd3786"
             ],
             [
              0.5555555555555556,
              "#d8576b"
             ],
             [
              0.6666666666666666,
              "#ed7953"
             ],
             [
              0.7777777777777778,
              "#fb9f3a"
             ],
             [
              0.8888888888888888,
              "#fdca26"
             ],
             [
              1,
              "#f0f921"
             ]
            ],
            "type": "heatmap"
           }
          ],
          "heatmapgl": [
           {
            "colorbar": {
             "outlinewidth": 0,
             "ticks": ""
            },
            "colorscale": [
             [
              0,
              "#0d0887"
             ],
             [
              0.1111111111111111,
              "#46039f"
             ],
             [
              0.2222222222222222,
              "#7201a8"
             ],
             [
              0.3333333333333333,
              "#9c179e"
             ],
             [
              0.4444444444444444,
              "#bd3786"
             ],
             [
              0.5555555555555556,
              "#d8576b"
             ],
             [
              0.6666666666666666,
              "#ed7953"
             ],
             [
              0.7777777777777778,
              "#fb9f3a"
             ],
             [
              0.8888888888888888,
              "#fdca26"
             ],
             [
              1,
              "#f0f921"
             ]
            ],
            "type": "heatmapgl"
           }
          ],
          "histogram": [
           {
            "marker": {
             "pattern": {
              "fillmode": "overlay",
              "size": 10,
              "solidity": 0.2
             }
            },
            "type": "histogram"
           }
          ],
          "histogram2d": [
           {
            "colorbar": {
             "outlinewidth": 0,
             "ticks": ""
            },
            "colorscale": [
             [
              0,
              "#0d0887"
             ],
             [
              0.1111111111111111,
              "#46039f"
             ],
             [
              0.2222222222222222,
              "#7201a8"
             ],
             [
              0.3333333333333333,
              "#9c179e"
             ],
             [
              0.4444444444444444,
              "#bd3786"
             ],
             [
              0.5555555555555556,
              "#d8576b"
             ],
             [
              0.6666666666666666,
              "#ed7953"
             ],
             [
              0.7777777777777778,
              "#fb9f3a"
             ],
             [
              0.8888888888888888,
              "#fdca26"
             ],
             [
              1,
              "#f0f921"
             ]
            ],
            "type": "histogram2d"
           }
          ],
          "histogram2dcontour": [
           {
            "colorbar": {
             "outlinewidth": 0,
             "ticks": ""
            },
            "colorscale": [
             [
              0,
              "#0d0887"
             ],
             [
              0.1111111111111111,
              "#46039f"
             ],
             [
              0.2222222222222222,
              "#7201a8"
             ],
             [
              0.3333333333333333,
              "#9c179e"
             ],
             [
              0.4444444444444444,
              "#bd3786"
             ],
             [
              0.5555555555555556,
              "#d8576b"
             ],
             [
              0.6666666666666666,
              "#ed7953"
             ],
             [
              0.7777777777777778,
              "#fb9f3a"
             ],
             [
              0.8888888888888888,
              "#fdca26"
             ],
             [
              1,
              "#f0f921"
             ]
            ],
            "type": "histogram2dcontour"
           }
          ],
          "mesh3d": [
           {
            "colorbar": {
             "outlinewidth": 0,
             "ticks": ""
            },
            "type": "mesh3d"
           }
          ],
          "parcoords": [
           {
            "line": {
             "colorbar": {
              "outlinewidth": 0,
              "ticks": ""
             }
            },
            "type": "parcoords"
           }
          ],
          "pie": [
           {
            "automargin": true,
            "type": "pie"
           }
          ],
          "scatter": [
           {
            "marker": {
             "line": {
              "color": "#283442"
             }
            },
            "type": "scatter"
           }
          ],
          "scatter3d": [
           {
            "line": {
             "colorbar": {
              "outlinewidth": 0,
              "ticks": ""
             }
            },
            "marker": {
             "colorbar": {
              "outlinewidth": 0,
              "ticks": ""
             }
            },
            "type": "scatter3d"
           }
          ],
          "scattercarpet": [
           {
            "marker": {
             "colorbar": {
              "outlinewidth": 0,
              "ticks": ""
             }
            },
            "type": "scattercarpet"
           }
          ],
          "scattergeo": [
           {
            "marker": {
             "colorbar": {
              "outlinewidth": 0,
              "ticks": ""
             }
            },
            "type": "scattergeo"
           }
          ],
          "scattergl": [
           {
            "marker": {
             "line": {
              "color": "#283442"
             }
            },
            "type": "scattergl"
           }
          ],
          "scattermapbox": [
           {
            "marker": {
             "colorbar": {
              "outlinewidth": 0,
              "ticks": ""
             }
            },
            "type": "scattermapbox"
           }
          ],
          "scatterpolar": [
           {
            "marker": {
             "colorbar": {
              "outlinewidth": 0,
              "ticks": ""
             }
            },
            "type": "scatterpolar"
           }
          ],
          "scatterpolargl": [
           {
            "marker": {
             "colorbar": {
              "outlinewidth": 0,
              "ticks": ""
             }
            },
            "type": "scatterpolargl"
           }
          ],
          "scatterternary": [
           {
            "marker": {
             "colorbar": {
              "outlinewidth": 0,
              "ticks": ""
             }
            },
            "type": "scatterternary"
           }
          ],
          "surface": [
           {
            "colorbar": {
             "outlinewidth": 0,
             "ticks": ""
            },
            "colorscale": [
             [
              0,
              "#0d0887"
             ],
             [
              0.1111111111111111,
              "#46039f"
             ],
             [
              0.2222222222222222,
              "#7201a8"
             ],
             [
              0.3333333333333333,
              "#9c179e"
             ],
             [
              0.4444444444444444,
              "#bd3786"
             ],
             [
              0.5555555555555556,
              "#d8576b"
             ],
             [
              0.6666666666666666,
              "#ed7953"
             ],
             [
              0.7777777777777778,
              "#fb9f3a"
             ],
             [
              0.8888888888888888,
              "#fdca26"
             ],
             [
              1,
              "#f0f921"
             ]
            ],
            "type": "surface"
           }
          ],
          "table": [
           {
            "cells": {
             "fill": {
              "color": "#506784"
             },
             "line": {
              "color": "rgb(17,17,17)"
             }
            },
            "header": {
             "fill": {
              "color": "#2a3f5f"
             },
             "line": {
              "color": "rgb(17,17,17)"
             }
            },
            "type": "table"
           }
          ]
         },
         "layout": {
          "annotationdefaults": {
           "arrowcolor": "#f2f5fa",
           "arrowhead": 0,
           "arrowwidth": 1
          },
          "autotypenumbers": "strict",
          "coloraxis": {
           "colorbar": {
            "outlinewidth": 0,
            "ticks": ""
           }
          },
          "colorscale": {
           "diverging": [
            [
             0,
             "#8e0152"
            ],
            [
             0.1,
             "#c51b7d"
            ],
            [
             0.2,
             "#de77ae"
            ],
            [
             0.3,
             "#f1b6da"
            ],
            [
             0.4,
             "#fde0ef"
            ],
            [
             0.5,
             "#f7f7f7"
            ],
            [
             0.6,
             "#e6f5d0"
            ],
            [
             0.7,
             "#b8e186"
            ],
            [
             0.8,
             "#7fbc41"
            ],
            [
             0.9,
             "#4d9221"
            ],
            [
             1,
             "#276419"
            ]
           ],
           "sequential": [
            [
             0,
             "#0d0887"
            ],
            [
             0.1111111111111111,
             "#46039f"
            ],
            [
             0.2222222222222222,
             "#7201a8"
            ],
            [
             0.3333333333333333,
             "#9c179e"
            ],
            [
             0.4444444444444444,
             "#bd3786"
            ],
            [
             0.5555555555555556,
             "#d8576b"
            ],
            [
             0.6666666666666666,
             "#ed7953"
            ],
            [
             0.7777777777777778,
             "#fb9f3a"
            ],
            [
             0.8888888888888888,
             "#fdca26"
            ],
            [
             1,
             "#f0f921"
            ]
           ],
           "sequentialminus": [
            [
             0,
             "#0d0887"
            ],
            [
             0.1111111111111111,
             "#46039f"
            ],
            [
             0.2222222222222222,
             "#7201a8"
            ],
            [
             0.3333333333333333,
             "#9c179e"
            ],
            [
             0.4444444444444444,
             "#bd3786"
            ],
            [
             0.5555555555555556,
             "#d8576b"
            ],
            [
             0.6666666666666666,
             "#ed7953"
            ],
            [
             0.7777777777777778,
             "#fb9f3a"
            ],
            [
             0.8888888888888888,
             "#fdca26"
            ],
            [
             1,
             "#f0f921"
            ]
           ]
          },
          "colorway": [
           "#636efa",
           "#EF553B",
           "#00cc96",
           "#ab63fa",
           "#FFA15A",
           "#19d3f3",
           "#FF6692",
           "#B6E880",
           "#FF97FF",
           "#FECB52"
          ],
          "font": {
           "color": "#f2f5fa"
          },
          "geo": {
           "bgcolor": "rgb(17,17,17)",
           "lakecolor": "rgb(17,17,17)",
           "landcolor": "rgb(17,17,17)",
           "showlakes": true,
           "showland": true,
           "subunitcolor": "#506784"
          },
          "hoverlabel": {
           "align": "left"
          },
          "hovermode": "closest",
          "mapbox": {
           "style": "dark"
          },
          "paper_bgcolor": "rgb(17,17,17)",
          "plot_bgcolor": "rgb(17,17,17)",
          "polar": {
           "angularaxis": {
            "gridcolor": "#506784",
            "linecolor": "#506784",
            "ticks": ""
           },
           "bgcolor": "rgb(17,17,17)",
           "radialaxis": {
            "gridcolor": "#506784",
            "linecolor": "#506784",
            "ticks": ""
           }
          },
          "scene": {
           "xaxis": {
            "backgroundcolor": "rgb(17,17,17)",
            "gridcolor": "#506784",
            "gridwidth": 2,
            "linecolor": "#506784",
            "showbackground": true,
            "ticks": "",
            "zerolinecolor": "#C8D4E3"
           },
           "yaxis": {
            "backgroundcolor": "rgb(17,17,17)",
            "gridcolor": "#506784",
            "gridwidth": 2,
            "linecolor": "#506784",
            "showbackground": true,
            "ticks": "",
            "zerolinecolor": "#C8D4E3"
           },
           "zaxis": {
            "backgroundcolor": "rgb(17,17,17)",
            "gridcolor": "#506784",
            "gridwidth": 2,
            "linecolor": "#506784",
            "showbackground": true,
            "ticks": "",
            "zerolinecolor": "#C8D4E3"
           }
          },
          "shapedefaults": {
           "line": {
            "color": "#f2f5fa"
           }
          },
          "sliderdefaults": {
           "bgcolor": "#C8D4E3",
           "bordercolor": "rgb(17,17,17)",
           "borderwidth": 1,
           "tickwidth": 0
          },
          "ternary": {
           "aaxis": {
            "gridcolor": "#506784",
            "linecolor": "#506784",
            "ticks": ""
           },
           "baxis": {
            "gridcolor": "#506784",
            "linecolor": "#506784",
            "ticks": ""
           },
           "bgcolor": "rgb(17,17,17)",
           "caxis": {
            "gridcolor": "#506784",
            "linecolor": "#506784",
            "ticks": ""
           }
          },
          "title": {
           "x": 0.05
          },
          "updatemenudefaults": {
           "bgcolor": "#506784",
           "borderwidth": 0
          },
          "xaxis": {
           "automargin": true,
           "gridcolor": "#283442",
           "linecolor": "#506784",
           "ticks": "",
           "title": {
            "standoff": 15
           },
           "zerolinecolor": "#283442",
           "zerolinewidth": 2
          },
          "yaxis": {
           "automargin": true,
           "gridcolor": "#283442",
           "linecolor": "#506784",
           "ticks": "",
           "title": {
            "standoff": 15
           },
           "zerolinecolor": "#283442",
           "zerolinewidth": 2
          }
         }
        },
        "title": {
         "text": "No T-Shirt Size by Order Date and Ticket Type"
        },
        "xaxis": {
         "anchor": "y",
         "domain": [
          0,
          1
         ],
         "title": {
          "text": "Order Date"
         }
        },
        "yaxis": {
         "anchor": "x",
         "domain": [
          0,
          1
         ],
         "title": {
          "text": "Ticket"
         }
        }
       }
      }
     },
     "metadata": {},
     "output_type": "display_data"
    }
   ],
   "source": [
    "px.density_heatmap(df23[df23['T-shirt size'] == 'None'], x='Order Date', y='Ticket', title='No T-Shirt Size by Order Date and Ticket Type')"
   ]
  },
  {
   "cell_type": "markdown",
   "metadata": {},
   "source": [
    "## Womens T-Shirts"
   ]
  },
  {
   "cell_type": "code",
   "execution_count": 545,
   "metadata": {},
   "outputs": [],
   "source": [
    "df23['Is Womens Shirt'] = df23['T-shirt size'].str.contains('Women', case=False)"
   ]
  },
  {
   "cell_type": "code",
   "execution_count": 546,
   "metadata": {},
   "outputs": [
    {
     "data": {
      "application/vnd.plotly.v1+json": {
       "config": {
        "plotlyServerURL": "https://plot.ly"
       },
       "data": [
        {
         "alignmentgroup": "True",
         "bingroup": "x",
         "hovertemplate": "Is Womens Shirt=%{x}<br>count=%{y}<extra></extra>",
         "legendgroup": "False",
         "marker": {
          "color": "rgb(95, 70, 144)",
          "pattern": {
           "shape": ""
          }
         },
         "name": "False",
         "offsetgroup": "False",
         "orientation": "v",
         "showlegend": true,
         "type": "histogram",
         "x": [
          false,
          false,
          false,
          false,
          false,
          false,
          false,
          false,
          false,
          false,
          false,
          false,
          false,
          false,
          false,
          false,
          false,
          false,
          false,
          false,
          false,
          false,
          false,
          false,
          false,
          false,
          false,
          false,
          false,
          false,
          false,
          false,
          false,
          false,
          false,
          false,
          false,
          false,
          false,
          false,
          false,
          false,
          false,
          false,
          false,
          false,
          false,
          false,
          false,
          false,
          false,
          false,
          false,
          false,
          false,
          false,
          false,
          false,
          false,
          false,
          false,
          false,
          false,
          false,
          false,
          false,
          false,
          false,
          false,
          false,
          false,
          false,
          false,
          false,
          false,
          false,
          false,
          false,
          false,
          false,
          false,
          false,
          false,
          false,
          false,
          false,
          false,
          false,
          false,
          false,
          false,
          false,
          false,
          false,
          false,
          false,
          false,
          false,
          false,
          false,
          false,
          false,
          false,
          false,
          false,
          false,
          false,
          false,
          false,
          false,
          false,
          false,
          false,
          false,
          false,
          false,
          false,
          false,
          false,
          false,
          false,
          false,
          false,
          false,
          false,
          false,
          false,
          false,
          false,
          false,
          false,
          false,
          false,
          false,
          false,
          false,
          false,
          false,
          false,
          false,
          false,
          false,
          false,
          false,
          false,
          false,
          false,
          false,
          false,
          false,
          false,
          false,
          false,
          false,
          false,
          false,
          false,
          false,
          false,
          false,
          false,
          false,
          false,
          false,
          false,
          false,
          false,
          false,
          false,
          false,
          false,
          false,
          false,
          false,
          false,
          false,
          false,
          false,
          false,
          false,
          false,
          false,
          false,
          false,
          false,
          false,
          false,
          false,
          false,
          false,
          false,
          false,
          false,
          false,
          false,
          false,
          false,
          false,
          false,
          false,
          false,
          false,
          false,
          false,
          false,
          false,
          false,
          false,
          false,
          false,
          false,
          false,
          false,
          false,
          false,
          false,
          false,
          false,
          false,
          false,
          false,
          false,
          false,
          false,
          false,
          false,
          false,
          false,
          false,
          false,
          false,
          false,
          false,
          false,
          false,
          false,
          false,
          false,
          false,
          false,
          false,
          false,
          false,
          false,
          false,
          false,
          false,
          false,
          false,
          false,
          false,
          false,
          false,
          false,
          false,
          false,
          false,
          false,
          false,
          false,
          false,
          false,
          false,
          false,
          false,
          false,
          false,
          false,
          false,
          false,
          false,
          false,
          false,
          false,
          false,
          false,
          false,
          false,
          false,
          false,
          false,
          false,
          false,
          false,
          false,
          false,
          false,
          false,
          false,
          false,
          false,
          false,
          false,
          false,
          false,
          false,
          false,
          false,
          false,
          false,
          false,
          false,
          false,
          false,
          false,
          false,
          false,
          false,
          false,
          false,
          false,
          false,
          false,
          false,
          false,
          false,
          false,
          false,
          false,
          false,
          false,
          false,
          false,
          false,
          false,
          false,
          false,
          false,
          false,
          false,
          false,
          false,
          false,
          false,
          false,
          false,
          false,
          false,
          false,
          false,
          false,
          false,
          false,
          false,
          false,
          false,
          false,
          false,
          false,
          false,
          false,
          false,
          false,
          false,
          false,
          false,
          false,
          false,
          false,
          false,
          false,
          false,
          false,
          false,
          false,
          false,
          false,
          false,
          false,
          false,
          false,
          false,
          false,
          false,
          false,
          false,
          false,
          false,
          false,
          false,
          false,
          false,
          false,
          false,
          false,
          false,
          false,
          false,
          false,
          false,
          false,
          false,
          false,
          false,
          false,
          false,
          false,
          false,
          false,
          false,
          false,
          false,
          false,
          false,
          false,
          false,
          false,
          false,
          false,
          false,
          false,
          false,
          false,
          false,
          false,
          false,
          false,
          false,
          false,
          false,
          false,
          false,
          false,
          false,
          false,
          false,
          false,
          false,
          false,
          false,
          false,
          false,
          false,
          false,
          false,
          false,
          false,
          false,
          false,
          false,
          false,
          false,
          false,
          false,
          false,
          false,
          false,
          false,
          false,
          false,
          false,
          false,
          false,
          false,
          false,
          false,
          false,
          false,
          false,
          false,
          false,
          false,
          false
         ],
         "xaxis": "x",
         "yaxis": "y"
        },
        {
         "alignmentgroup": "True",
         "bingroup": "x",
         "hovertemplate": "Is Womens Shirt=%{x}<br>count=%{y}<extra></extra>",
         "legendgroup": "True",
         "marker": {
          "color": "rgb(29, 105, 150)",
          "pattern": {
           "shape": ""
          }
         },
         "name": "True",
         "offsetgroup": "True",
         "orientation": "v",
         "showlegend": true,
         "type": "histogram",
         "x": [
          true,
          true,
          true,
          true,
          true,
          true,
          true,
          true,
          true,
          true,
          true,
          true,
          true,
          true,
          true,
          true,
          true,
          true,
          true,
          true,
          true,
          true,
          true,
          true,
          true,
          true,
          true,
          true,
          true,
          true,
          true,
          true,
          true,
          true,
          true,
          true,
          true,
          true,
          true
         ],
         "xaxis": "x",
         "yaxis": "y"
        }
       ],
       "layout": {
        "barmode": "relative",
        "legend": {
         "title": {
          "text": "Is Womens Shirt"
         },
         "tracegroupgap": 0
        },
        "template": {
         "data": {
          "bar": [
           {
            "error_x": {
             "color": "#f2f5fa"
            },
            "error_y": {
             "color": "#f2f5fa"
            },
            "marker": {
             "line": {
              "color": "rgb(17,17,17)",
              "width": 0.5
             },
             "pattern": {
              "fillmode": "overlay",
              "size": 10,
              "solidity": 0.2
             }
            },
            "type": "bar"
           }
          ],
          "barpolar": [
           {
            "marker": {
             "line": {
              "color": "rgb(17,17,17)",
              "width": 0.5
             },
             "pattern": {
              "fillmode": "overlay",
              "size": 10,
              "solidity": 0.2
             }
            },
            "type": "barpolar"
           }
          ],
          "carpet": [
           {
            "aaxis": {
             "endlinecolor": "#A2B1C6",
             "gridcolor": "#506784",
             "linecolor": "#506784",
             "minorgridcolor": "#506784",
             "startlinecolor": "#A2B1C6"
            },
            "baxis": {
             "endlinecolor": "#A2B1C6",
             "gridcolor": "#506784",
             "linecolor": "#506784",
             "minorgridcolor": "#506784",
             "startlinecolor": "#A2B1C6"
            },
            "type": "carpet"
           }
          ],
          "choropleth": [
           {
            "colorbar": {
             "outlinewidth": 0,
             "ticks": ""
            },
            "type": "choropleth"
           }
          ],
          "contour": [
           {
            "colorbar": {
             "outlinewidth": 0,
             "ticks": ""
            },
            "colorscale": [
             [
              0,
              "#0d0887"
             ],
             [
              0.1111111111111111,
              "#46039f"
             ],
             [
              0.2222222222222222,
              "#7201a8"
             ],
             [
              0.3333333333333333,
              "#9c179e"
             ],
             [
              0.4444444444444444,
              "#bd3786"
             ],
             [
              0.5555555555555556,
              "#d8576b"
             ],
             [
              0.6666666666666666,
              "#ed7953"
             ],
             [
              0.7777777777777778,
              "#fb9f3a"
             ],
             [
              0.8888888888888888,
              "#fdca26"
             ],
             [
              1,
              "#f0f921"
             ]
            ],
            "type": "contour"
           }
          ],
          "contourcarpet": [
           {
            "colorbar": {
             "outlinewidth": 0,
             "ticks": ""
            },
            "type": "contourcarpet"
           }
          ],
          "heatmap": [
           {
            "colorbar": {
             "outlinewidth": 0,
             "ticks": ""
            },
            "colorscale": [
             [
              0,
              "#0d0887"
             ],
             [
              0.1111111111111111,
              "#46039f"
             ],
             [
              0.2222222222222222,
              "#7201a8"
             ],
             [
              0.3333333333333333,
              "#9c179e"
             ],
             [
              0.4444444444444444,
              "#bd3786"
             ],
             [
              0.5555555555555556,
              "#d8576b"
             ],
             [
              0.6666666666666666,
              "#ed7953"
             ],
             [
              0.7777777777777778,
              "#fb9f3a"
             ],
             [
              0.8888888888888888,
              "#fdca26"
             ],
             [
              1,
              "#f0f921"
             ]
            ],
            "type": "heatmap"
           }
          ],
          "heatmapgl": [
           {
            "colorbar": {
             "outlinewidth": 0,
             "ticks": ""
            },
            "colorscale": [
             [
              0,
              "#0d0887"
             ],
             [
              0.1111111111111111,
              "#46039f"
             ],
             [
              0.2222222222222222,
              "#7201a8"
             ],
             [
              0.3333333333333333,
              "#9c179e"
             ],
             [
              0.4444444444444444,
              "#bd3786"
             ],
             [
              0.5555555555555556,
              "#d8576b"
             ],
             [
              0.6666666666666666,
              "#ed7953"
             ],
             [
              0.7777777777777778,
              "#fb9f3a"
             ],
             [
              0.8888888888888888,
              "#fdca26"
             ],
             [
              1,
              "#f0f921"
             ]
            ],
            "type": "heatmapgl"
           }
          ],
          "histogram": [
           {
            "marker": {
             "pattern": {
              "fillmode": "overlay",
              "size": 10,
              "solidity": 0.2
             }
            },
            "type": "histogram"
           }
          ],
          "histogram2d": [
           {
            "colorbar": {
             "outlinewidth": 0,
             "ticks": ""
            },
            "colorscale": [
             [
              0,
              "#0d0887"
             ],
             [
              0.1111111111111111,
              "#46039f"
             ],
             [
              0.2222222222222222,
              "#7201a8"
             ],
             [
              0.3333333333333333,
              "#9c179e"
             ],
             [
              0.4444444444444444,
              "#bd3786"
             ],
             [
              0.5555555555555556,
              "#d8576b"
             ],
             [
              0.6666666666666666,
              "#ed7953"
             ],
             [
              0.7777777777777778,
              "#fb9f3a"
             ],
             [
              0.8888888888888888,
              "#fdca26"
             ],
             [
              1,
              "#f0f921"
             ]
            ],
            "type": "histogram2d"
           }
          ],
          "histogram2dcontour": [
           {
            "colorbar": {
             "outlinewidth": 0,
             "ticks": ""
            },
            "colorscale": [
             [
              0,
              "#0d0887"
             ],
             [
              0.1111111111111111,
              "#46039f"
             ],
             [
              0.2222222222222222,
              "#7201a8"
             ],
             [
              0.3333333333333333,
              "#9c179e"
             ],
             [
              0.4444444444444444,
              "#bd3786"
             ],
             [
              0.5555555555555556,
              "#d8576b"
             ],
             [
              0.6666666666666666,
              "#ed7953"
             ],
             [
              0.7777777777777778,
              "#fb9f3a"
             ],
             [
              0.8888888888888888,
              "#fdca26"
             ],
             [
              1,
              "#f0f921"
             ]
            ],
            "type": "histogram2dcontour"
           }
          ],
          "mesh3d": [
           {
            "colorbar": {
             "outlinewidth": 0,
             "ticks": ""
            },
            "type": "mesh3d"
           }
          ],
          "parcoords": [
           {
            "line": {
             "colorbar": {
              "outlinewidth": 0,
              "ticks": ""
             }
            },
            "type": "parcoords"
           }
          ],
          "pie": [
           {
            "automargin": true,
            "type": "pie"
           }
          ],
          "scatter": [
           {
            "marker": {
             "line": {
              "color": "#283442"
             }
            },
            "type": "scatter"
           }
          ],
          "scatter3d": [
           {
            "line": {
             "colorbar": {
              "outlinewidth": 0,
              "ticks": ""
             }
            },
            "marker": {
             "colorbar": {
              "outlinewidth": 0,
              "ticks": ""
             }
            },
            "type": "scatter3d"
           }
          ],
          "scattercarpet": [
           {
            "marker": {
             "colorbar": {
              "outlinewidth": 0,
              "ticks": ""
             }
            },
            "type": "scattercarpet"
           }
          ],
          "scattergeo": [
           {
            "marker": {
             "colorbar": {
              "outlinewidth": 0,
              "ticks": ""
             }
            },
            "type": "scattergeo"
           }
          ],
          "scattergl": [
           {
            "marker": {
             "line": {
              "color": "#283442"
             }
            },
            "type": "scattergl"
           }
          ],
          "scattermapbox": [
           {
            "marker": {
             "colorbar": {
              "outlinewidth": 0,
              "ticks": ""
             }
            },
            "type": "scattermapbox"
           }
          ],
          "scatterpolar": [
           {
            "marker": {
             "colorbar": {
              "outlinewidth": 0,
              "ticks": ""
             }
            },
            "type": "scatterpolar"
           }
          ],
          "scatterpolargl": [
           {
            "marker": {
             "colorbar": {
              "outlinewidth": 0,
              "ticks": ""
             }
            },
            "type": "scatterpolargl"
           }
          ],
          "scatterternary": [
           {
            "marker": {
             "colorbar": {
              "outlinewidth": 0,
              "ticks": ""
             }
            },
            "type": "scatterternary"
           }
          ],
          "surface": [
           {
            "colorbar": {
             "outlinewidth": 0,
             "ticks": ""
            },
            "colorscale": [
             [
              0,
              "#0d0887"
             ],
             [
              0.1111111111111111,
              "#46039f"
             ],
             [
              0.2222222222222222,
              "#7201a8"
             ],
             [
              0.3333333333333333,
              "#9c179e"
             ],
             [
              0.4444444444444444,
              "#bd3786"
             ],
             [
              0.5555555555555556,
              "#d8576b"
             ],
             [
              0.6666666666666666,
              "#ed7953"
             ],
             [
              0.7777777777777778,
              "#fb9f3a"
             ],
             [
              0.8888888888888888,
              "#fdca26"
             ],
             [
              1,
              "#f0f921"
             ]
            ],
            "type": "surface"
           }
          ],
          "table": [
           {
            "cells": {
             "fill": {
              "color": "#506784"
             },
             "line": {
              "color": "rgb(17,17,17)"
             }
            },
            "header": {
             "fill": {
              "color": "#2a3f5f"
             },
             "line": {
              "color": "rgb(17,17,17)"
             }
            },
            "type": "table"
           }
          ]
         },
         "layout": {
          "annotationdefaults": {
           "arrowcolor": "#f2f5fa",
           "arrowhead": 0,
           "arrowwidth": 1
          },
          "autotypenumbers": "strict",
          "coloraxis": {
           "colorbar": {
            "outlinewidth": 0,
            "ticks": ""
           }
          },
          "colorscale": {
           "diverging": [
            [
             0,
             "#8e0152"
            ],
            [
             0.1,
             "#c51b7d"
            ],
            [
             0.2,
             "#de77ae"
            ],
            [
             0.3,
             "#f1b6da"
            ],
            [
             0.4,
             "#fde0ef"
            ],
            [
             0.5,
             "#f7f7f7"
            ],
            [
             0.6,
             "#e6f5d0"
            ],
            [
             0.7,
             "#b8e186"
            ],
            [
             0.8,
             "#7fbc41"
            ],
            [
             0.9,
             "#4d9221"
            ],
            [
             1,
             "#276419"
            ]
           ],
           "sequential": [
            [
             0,
             "#0d0887"
            ],
            [
             0.1111111111111111,
             "#46039f"
            ],
            [
             0.2222222222222222,
             "#7201a8"
            ],
            [
             0.3333333333333333,
             "#9c179e"
            ],
            [
             0.4444444444444444,
             "#bd3786"
            ],
            [
             0.5555555555555556,
             "#d8576b"
            ],
            [
             0.6666666666666666,
             "#ed7953"
            ],
            [
             0.7777777777777778,
             "#fb9f3a"
            ],
            [
             0.8888888888888888,
             "#fdca26"
            ],
            [
             1,
             "#f0f921"
            ]
           ],
           "sequentialminus": [
            [
             0,
             "#0d0887"
            ],
            [
             0.1111111111111111,
             "#46039f"
            ],
            [
             0.2222222222222222,
             "#7201a8"
            ],
            [
             0.3333333333333333,
             "#9c179e"
            ],
            [
             0.4444444444444444,
             "#bd3786"
            ],
            [
             0.5555555555555556,
             "#d8576b"
            ],
            [
             0.6666666666666666,
             "#ed7953"
            ],
            [
             0.7777777777777778,
             "#fb9f3a"
            ],
            [
             0.8888888888888888,
             "#fdca26"
            ],
            [
             1,
             "#f0f921"
            ]
           ]
          },
          "colorway": [
           "#636efa",
           "#EF553B",
           "#00cc96",
           "#ab63fa",
           "#FFA15A",
           "#19d3f3",
           "#FF6692",
           "#B6E880",
           "#FF97FF",
           "#FECB52"
          ],
          "font": {
           "color": "#f2f5fa"
          },
          "geo": {
           "bgcolor": "rgb(17,17,17)",
           "lakecolor": "rgb(17,17,17)",
           "landcolor": "rgb(17,17,17)",
           "showlakes": true,
           "showland": true,
           "subunitcolor": "#506784"
          },
          "hoverlabel": {
           "align": "left"
          },
          "hovermode": "closest",
          "mapbox": {
           "style": "dark"
          },
          "paper_bgcolor": "rgb(17,17,17)",
          "plot_bgcolor": "rgb(17,17,17)",
          "polar": {
           "angularaxis": {
            "gridcolor": "#506784",
            "linecolor": "#506784",
            "ticks": ""
           },
           "bgcolor": "rgb(17,17,17)",
           "radialaxis": {
            "gridcolor": "#506784",
            "linecolor": "#506784",
            "ticks": ""
           }
          },
          "scene": {
           "xaxis": {
            "backgroundcolor": "rgb(17,17,17)",
            "gridcolor": "#506784",
            "gridwidth": 2,
            "linecolor": "#506784",
            "showbackground": true,
            "ticks": "",
            "zerolinecolor": "#C8D4E3"
           },
           "yaxis": {
            "backgroundcolor": "rgb(17,17,17)",
            "gridcolor": "#506784",
            "gridwidth": 2,
            "linecolor": "#506784",
            "showbackground": true,
            "ticks": "",
            "zerolinecolor": "#C8D4E3"
           },
           "zaxis": {
            "backgroundcolor": "rgb(17,17,17)",
            "gridcolor": "#506784",
            "gridwidth": 2,
            "linecolor": "#506784",
            "showbackground": true,
            "ticks": "",
            "zerolinecolor": "#C8D4E3"
           }
          },
          "shapedefaults": {
           "line": {
            "color": "#f2f5fa"
           }
          },
          "sliderdefaults": {
           "bgcolor": "#C8D4E3",
           "bordercolor": "rgb(17,17,17)",
           "borderwidth": 1,
           "tickwidth": 0
          },
          "ternary": {
           "aaxis": {
            "gridcolor": "#506784",
            "linecolor": "#506784",
            "ticks": ""
           },
           "baxis": {
            "gridcolor": "#506784",
            "linecolor": "#506784",
            "ticks": ""
           },
           "bgcolor": "rgb(17,17,17)",
           "caxis": {
            "gridcolor": "#506784",
            "linecolor": "#506784",
            "ticks": ""
           }
          },
          "title": {
           "x": 0.05
          },
          "updatemenudefaults": {
           "bgcolor": "#506784",
           "borderwidth": 0
          },
          "xaxis": {
           "automargin": true,
           "gridcolor": "#283442",
           "linecolor": "#506784",
           "ticks": "",
           "title": {
            "standoff": 15
           },
           "zerolinecolor": "#283442",
           "zerolinewidth": 2
          },
          "yaxis": {
           "automargin": true,
           "gridcolor": "#283442",
           "linecolor": "#506784",
           "ticks": "",
           "title": {
            "standoff": 15
           },
           "zerolinecolor": "#283442",
           "zerolinewidth": 2
          }
         }
        },
        "title": {
         "text": "Attendees by Womens Shirt Order"
        },
        "xaxis": {
         "anchor": "y",
         "categoryarray": [
          false,
          true
         ],
         "categoryorder": "array",
         "domain": [
          0,
          1
         ],
         "title": {
          "text": "Is Womens Shirt"
         }
        },
        "yaxis": {
         "anchor": "x",
         "domain": [
          0,
          1
         ],
         "title": {
          "text": "count"
         }
        }
       }
      }
     },
     "metadata": {},
     "output_type": "display_data"
    }
   ],
   "source": [
    "px.histogram(df23, x='Is Womens Shirt', title='Attendees by Womens Shirt Order', color='Is Womens Shirt')"
   ]
  },
  {
   "cell_type": "code",
   "execution_count": 547,
   "metadata": {},
   "outputs": [
    {
     "name": "stderr",
     "output_type": "stream",
     "text": [
      "/home/matteland/anaconda3/lib/python3.11/site-packages/_plotly_utils/basevalidators.py:106: FutureWarning:\n",
      "\n",
      "The behavior of DatetimeProperties.to_pydatetime is deprecated, in a future version this will return a Series containing python datetime objects instead of an ndarray. To retain the old behavior, call `np.array` on the result\n",
      "\n"
     ]
    },
    {
     "data": {
      "application/vnd.plotly.v1+json": {
       "config": {
        "plotlyServerURL": "https://plot.ly"
       },
       "data": [
        {
         "hovertemplate": "Order Date=%{x}<br>Ticket=%{y}<extra></extra>",
         "legendgroup": "",
         "marker": {
          "color": "rgb(95, 70, 144)",
          "symbol": "circle"
         },
         "mode": "markers",
         "name": "",
         "orientation": "v",
         "showlegend": false,
         "type": "scatter",
         "x": [
          "2023-07-02T13:08:42+00:00",
          "2023-07-02T13:11:19+00:00",
          "2023-07-02T13:14:25+00:00",
          "2023-07-10T16:37:15+00:00",
          "2023-07-19T16:38:27+00:00",
          "2023-07-19T16:38:28+00:00",
          "2023-07-19T16:38:39+00:00",
          "2023-07-19T16:38:40+00:00",
          "2023-07-19T16:38:43+00:00",
          "2023-07-31T13:26:42+00:00",
          "2023-08-09T18:02:24+00:00",
          "2023-08-09T18:02:24+00:00",
          "2023-08-09T18:02:24+00:00",
          "2023-08-09T18:02:24+00:00",
          "2023-08-09T18:02:24+00:00",
          "2023-08-09T18:02:24+00:00",
          "2023-08-09T18:02:24+00:00",
          "2023-08-09T18:02:24+00:00",
          "2023-08-09T19:11:04+00:00",
          "2023-08-10T20:49:11+00:00",
          "2023-08-14T15:44:19+00:00",
          "2023-08-14T16:09:47+00:00",
          "2023-08-14T19:27:47+00:00",
          "2023-08-14T19:27:47+00:00",
          "2023-08-14T19:27:47+00:00",
          "2023-08-11T20:17:48+00:00",
          "2023-08-11T20:17:48+00:00",
          "2023-08-19T18:08:10+00:00",
          "2023-08-21T21:20:52+00:00",
          "2023-08-21T21:20:52+00:00",
          "2023-08-23T14:47:22+00:00",
          "2023-08-23T14:51:15+00:00",
          "2023-08-23T14:51:15+00:00",
          "2023-09-05T14:51:22+00:00",
          "2023-09-18T15:15:36+00:00",
          "2023-09-22T18:57:13+00:00",
          "2023-09-22T18:57:13+00:00",
          "2023-09-25T14:15:18+00:00",
          "2023-09-26T01:24:36+00:00"
         ],
         "xaxis": "x",
         "y": [
          "Content Reviewer",
          "Content Reviewer",
          "Content Reviewer",
          "Early Bird",
          "Speaker",
          "Speaker",
          "Speaker",
          "Speaker",
          "Speaker",
          "Early Bird",
          "Early Bird",
          "Early Bird",
          "Early Bird",
          "Early Bird",
          "Early Bird",
          "Early Bird",
          "Early Bird",
          "Early Bird",
          "Early Bird",
          "Early Bird",
          "Early Bird",
          "Early Bird",
          "Early Bird",
          "Early Bird",
          "Early Bird",
          "Early Bird",
          "Early Bird",
          "Organizer",
          "Sponsor",
          "Sponsor",
          "Sponsor",
          "Sponsor",
          "Sponsor",
          "Regular Price",
          "Late Registration",
          "Late Registration",
          "Late Registration",
          "Late Registration",
          "Volunteer"
         ],
         "yaxis": "y"
        }
       ],
       "layout": {
        "legend": {
         "tracegroupgap": 0
        },
        "template": {
         "data": {
          "bar": [
           {
            "error_x": {
             "color": "#f2f5fa"
            },
            "error_y": {
             "color": "#f2f5fa"
            },
            "marker": {
             "line": {
              "color": "rgb(17,17,17)",
              "width": 0.5
             },
             "pattern": {
              "fillmode": "overlay",
              "size": 10,
              "solidity": 0.2
             }
            },
            "type": "bar"
           }
          ],
          "barpolar": [
           {
            "marker": {
             "line": {
              "color": "rgb(17,17,17)",
              "width": 0.5
             },
             "pattern": {
              "fillmode": "overlay",
              "size": 10,
              "solidity": 0.2
             }
            },
            "type": "barpolar"
           }
          ],
          "carpet": [
           {
            "aaxis": {
             "endlinecolor": "#A2B1C6",
             "gridcolor": "#506784",
             "linecolor": "#506784",
             "minorgridcolor": "#506784",
             "startlinecolor": "#A2B1C6"
            },
            "baxis": {
             "endlinecolor": "#A2B1C6",
             "gridcolor": "#506784",
             "linecolor": "#506784",
             "minorgridcolor": "#506784",
             "startlinecolor": "#A2B1C6"
            },
            "type": "carpet"
           }
          ],
          "choropleth": [
           {
            "colorbar": {
             "outlinewidth": 0,
             "ticks": ""
            },
            "type": "choropleth"
           }
          ],
          "contour": [
           {
            "colorbar": {
             "outlinewidth": 0,
             "ticks": ""
            },
            "colorscale": [
             [
              0,
              "#0d0887"
             ],
             [
              0.1111111111111111,
              "#46039f"
             ],
             [
              0.2222222222222222,
              "#7201a8"
             ],
             [
              0.3333333333333333,
              "#9c179e"
             ],
             [
              0.4444444444444444,
              "#bd3786"
             ],
             [
              0.5555555555555556,
              "#d8576b"
             ],
             [
              0.6666666666666666,
              "#ed7953"
             ],
             [
              0.7777777777777778,
              "#fb9f3a"
             ],
             [
              0.8888888888888888,
              "#fdca26"
             ],
             [
              1,
              "#f0f921"
             ]
            ],
            "type": "contour"
           }
          ],
          "contourcarpet": [
           {
            "colorbar": {
             "outlinewidth": 0,
             "ticks": ""
            },
            "type": "contourcarpet"
           }
          ],
          "heatmap": [
           {
            "colorbar": {
             "outlinewidth": 0,
             "ticks": ""
            },
            "colorscale": [
             [
              0,
              "#0d0887"
             ],
             [
              0.1111111111111111,
              "#46039f"
             ],
             [
              0.2222222222222222,
              "#7201a8"
             ],
             [
              0.3333333333333333,
              "#9c179e"
             ],
             [
              0.4444444444444444,
              "#bd3786"
             ],
             [
              0.5555555555555556,
              "#d8576b"
             ],
             [
              0.6666666666666666,
              "#ed7953"
             ],
             [
              0.7777777777777778,
              "#fb9f3a"
             ],
             [
              0.8888888888888888,
              "#fdca26"
             ],
             [
              1,
              "#f0f921"
             ]
            ],
            "type": "heatmap"
           }
          ],
          "heatmapgl": [
           {
            "colorbar": {
             "outlinewidth": 0,
             "ticks": ""
            },
            "colorscale": [
             [
              0,
              "#0d0887"
             ],
             [
              0.1111111111111111,
              "#46039f"
             ],
             [
              0.2222222222222222,
              "#7201a8"
             ],
             [
              0.3333333333333333,
              "#9c179e"
             ],
             [
              0.4444444444444444,
              "#bd3786"
             ],
             [
              0.5555555555555556,
              "#d8576b"
             ],
             [
              0.6666666666666666,
              "#ed7953"
             ],
             [
              0.7777777777777778,
              "#fb9f3a"
             ],
             [
              0.8888888888888888,
              "#fdca26"
             ],
             [
              1,
              "#f0f921"
             ]
            ],
            "type": "heatmapgl"
           }
          ],
          "histogram": [
           {
            "marker": {
             "pattern": {
              "fillmode": "overlay",
              "size": 10,
              "solidity": 0.2
             }
            },
            "type": "histogram"
           }
          ],
          "histogram2d": [
           {
            "colorbar": {
             "outlinewidth": 0,
             "ticks": ""
            },
            "colorscale": [
             [
              0,
              "#0d0887"
             ],
             [
              0.1111111111111111,
              "#46039f"
             ],
             [
              0.2222222222222222,
              "#7201a8"
             ],
             [
              0.3333333333333333,
              "#9c179e"
             ],
             [
              0.4444444444444444,
              "#bd3786"
             ],
             [
              0.5555555555555556,
              "#d8576b"
             ],
             [
              0.6666666666666666,
              "#ed7953"
             ],
             [
              0.7777777777777778,
              "#fb9f3a"
             ],
             [
              0.8888888888888888,
              "#fdca26"
             ],
             [
              1,
              "#f0f921"
             ]
            ],
            "type": "histogram2d"
           }
          ],
          "histogram2dcontour": [
           {
            "colorbar": {
             "outlinewidth": 0,
             "ticks": ""
            },
            "colorscale": [
             [
              0,
              "#0d0887"
             ],
             [
              0.1111111111111111,
              "#46039f"
             ],
             [
              0.2222222222222222,
              "#7201a8"
             ],
             [
              0.3333333333333333,
              "#9c179e"
             ],
             [
              0.4444444444444444,
              "#bd3786"
             ],
             [
              0.5555555555555556,
              "#d8576b"
             ],
             [
              0.6666666666666666,
              "#ed7953"
             ],
             [
              0.7777777777777778,
              "#fb9f3a"
             ],
             [
              0.8888888888888888,
              "#fdca26"
             ],
             [
              1,
              "#f0f921"
             ]
            ],
            "type": "histogram2dcontour"
           }
          ],
          "mesh3d": [
           {
            "colorbar": {
             "outlinewidth": 0,
             "ticks": ""
            },
            "type": "mesh3d"
           }
          ],
          "parcoords": [
           {
            "line": {
             "colorbar": {
              "outlinewidth": 0,
              "ticks": ""
             }
            },
            "type": "parcoords"
           }
          ],
          "pie": [
           {
            "automargin": true,
            "type": "pie"
           }
          ],
          "scatter": [
           {
            "marker": {
             "line": {
              "color": "#283442"
             }
            },
            "type": "scatter"
           }
          ],
          "scatter3d": [
           {
            "line": {
             "colorbar": {
              "outlinewidth": 0,
              "ticks": ""
             }
            },
            "marker": {
             "colorbar": {
              "outlinewidth": 0,
              "ticks": ""
             }
            },
            "type": "scatter3d"
           }
          ],
          "scattercarpet": [
           {
            "marker": {
             "colorbar": {
              "outlinewidth": 0,
              "ticks": ""
             }
            },
            "type": "scattercarpet"
           }
          ],
          "scattergeo": [
           {
            "marker": {
             "colorbar": {
              "outlinewidth": 0,
              "ticks": ""
             }
            },
            "type": "scattergeo"
           }
          ],
          "scattergl": [
           {
            "marker": {
             "line": {
              "color": "#283442"
             }
            },
            "type": "scattergl"
           }
          ],
          "scattermapbox": [
           {
            "marker": {
             "colorbar": {
              "outlinewidth": 0,
              "ticks": ""
             }
            },
            "type": "scattermapbox"
           }
          ],
          "scatterpolar": [
           {
            "marker": {
             "colorbar": {
              "outlinewidth": 0,
              "ticks": ""
             }
            },
            "type": "scatterpolar"
           }
          ],
          "scatterpolargl": [
           {
            "marker": {
             "colorbar": {
              "outlinewidth": 0,
              "ticks": ""
             }
            },
            "type": "scatterpolargl"
           }
          ],
          "scatterternary": [
           {
            "marker": {
             "colorbar": {
              "outlinewidth": 0,
              "ticks": ""
             }
            },
            "type": "scatterternary"
           }
          ],
          "surface": [
           {
            "colorbar": {
             "outlinewidth": 0,
             "ticks": ""
            },
            "colorscale": [
             [
              0,
              "#0d0887"
             ],
             [
              0.1111111111111111,
              "#46039f"
             ],
             [
              0.2222222222222222,
              "#7201a8"
             ],
             [
              0.3333333333333333,
              "#9c179e"
             ],
             [
              0.4444444444444444,
              "#bd3786"
             ],
             [
              0.5555555555555556,
              "#d8576b"
             ],
             [
              0.6666666666666666,
              "#ed7953"
             ],
             [
              0.7777777777777778,
              "#fb9f3a"
             ],
             [
              0.8888888888888888,
              "#fdca26"
             ],
             [
              1,
              "#f0f921"
             ]
            ],
            "type": "surface"
           }
          ],
          "table": [
           {
            "cells": {
             "fill": {
              "color": "#506784"
             },
             "line": {
              "color": "rgb(17,17,17)"
             }
            },
            "header": {
             "fill": {
              "color": "#2a3f5f"
             },
             "line": {
              "color": "rgb(17,17,17)"
             }
            },
            "type": "table"
           }
          ]
         },
         "layout": {
          "annotationdefaults": {
           "arrowcolor": "#f2f5fa",
           "arrowhead": 0,
           "arrowwidth": 1
          },
          "autotypenumbers": "strict",
          "coloraxis": {
           "colorbar": {
            "outlinewidth": 0,
            "ticks": ""
           }
          },
          "colorscale": {
           "diverging": [
            [
             0,
             "#8e0152"
            ],
            [
             0.1,
             "#c51b7d"
            ],
            [
             0.2,
             "#de77ae"
            ],
            [
             0.3,
             "#f1b6da"
            ],
            [
             0.4,
             "#fde0ef"
            ],
            [
             0.5,
             "#f7f7f7"
            ],
            [
             0.6,
             "#e6f5d0"
            ],
            [
             0.7,
             "#b8e186"
            ],
            [
             0.8,
             "#7fbc41"
            ],
            [
             0.9,
             "#4d9221"
            ],
            [
             1,
             "#276419"
            ]
           ],
           "sequential": [
            [
             0,
             "#0d0887"
            ],
            [
             0.1111111111111111,
             "#46039f"
            ],
            [
             0.2222222222222222,
             "#7201a8"
            ],
            [
             0.3333333333333333,
             "#9c179e"
            ],
            [
             0.4444444444444444,
             "#bd3786"
            ],
            [
             0.5555555555555556,
             "#d8576b"
            ],
            [
             0.6666666666666666,
             "#ed7953"
            ],
            [
             0.7777777777777778,
             "#fb9f3a"
            ],
            [
             0.8888888888888888,
             "#fdca26"
            ],
            [
             1,
             "#f0f921"
            ]
           ],
           "sequentialminus": [
            [
             0,
             "#0d0887"
            ],
            [
             0.1111111111111111,
             "#46039f"
            ],
            [
             0.2222222222222222,
             "#7201a8"
            ],
            [
             0.3333333333333333,
             "#9c179e"
            ],
            [
             0.4444444444444444,
             "#bd3786"
            ],
            [
             0.5555555555555556,
             "#d8576b"
            ],
            [
             0.6666666666666666,
             "#ed7953"
            ],
            [
             0.7777777777777778,
             "#fb9f3a"
            ],
            [
             0.8888888888888888,
             "#fdca26"
            ],
            [
             1,
             "#f0f921"
            ]
           ]
          },
          "colorway": [
           "#636efa",
           "#EF553B",
           "#00cc96",
           "#ab63fa",
           "#FFA15A",
           "#19d3f3",
           "#FF6692",
           "#B6E880",
           "#FF97FF",
           "#FECB52"
          ],
          "font": {
           "color": "#f2f5fa"
          },
          "geo": {
           "bgcolor": "rgb(17,17,17)",
           "lakecolor": "rgb(17,17,17)",
           "landcolor": "rgb(17,17,17)",
           "showlakes": true,
           "showland": true,
           "subunitcolor": "#506784"
          },
          "hoverlabel": {
           "align": "left"
          },
          "hovermode": "closest",
          "mapbox": {
           "style": "dark"
          },
          "paper_bgcolor": "rgb(17,17,17)",
          "plot_bgcolor": "rgb(17,17,17)",
          "polar": {
           "angularaxis": {
            "gridcolor": "#506784",
            "linecolor": "#506784",
            "ticks": ""
           },
           "bgcolor": "rgb(17,17,17)",
           "radialaxis": {
            "gridcolor": "#506784",
            "linecolor": "#506784",
            "ticks": ""
           }
          },
          "scene": {
           "xaxis": {
            "backgroundcolor": "rgb(17,17,17)",
            "gridcolor": "#506784",
            "gridwidth": 2,
            "linecolor": "#506784",
            "showbackground": true,
            "ticks": "",
            "zerolinecolor": "#C8D4E3"
           },
           "yaxis": {
            "backgroundcolor": "rgb(17,17,17)",
            "gridcolor": "#506784",
            "gridwidth": 2,
            "linecolor": "#506784",
            "showbackground": true,
            "ticks": "",
            "zerolinecolor": "#C8D4E3"
           },
           "zaxis": {
            "backgroundcolor": "rgb(17,17,17)",
            "gridcolor": "#506784",
            "gridwidth": 2,
            "linecolor": "#506784",
            "showbackground": true,
            "ticks": "",
            "zerolinecolor": "#C8D4E3"
           }
          },
          "shapedefaults": {
           "line": {
            "color": "#f2f5fa"
           }
          },
          "sliderdefaults": {
           "bgcolor": "#C8D4E3",
           "bordercolor": "rgb(17,17,17)",
           "borderwidth": 1,
           "tickwidth": 0
          },
          "ternary": {
           "aaxis": {
            "gridcolor": "#506784",
            "linecolor": "#506784",
            "ticks": ""
           },
           "baxis": {
            "gridcolor": "#506784",
            "linecolor": "#506784",
            "ticks": ""
           },
           "bgcolor": "rgb(17,17,17)",
           "caxis": {
            "gridcolor": "#506784",
            "linecolor": "#506784",
            "ticks": ""
           }
          },
          "title": {
           "x": 0.05
          },
          "updatemenudefaults": {
           "bgcolor": "#506784",
           "borderwidth": 0
          },
          "xaxis": {
           "automargin": true,
           "gridcolor": "#283442",
           "linecolor": "#506784",
           "ticks": "",
           "title": {
            "standoff": 15
           },
           "zerolinecolor": "#283442",
           "zerolinewidth": 2
          },
          "yaxis": {
           "automargin": true,
           "gridcolor": "#283442",
           "linecolor": "#506784",
           "ticks": "",
           "title": {
            "standoff": 15
           },
           "zerolinecolor": "#283442",
           "zerolinewidth": 2
          }
         }
        },
        "title": {
         "text": "Momentum 23 Women Order Date"
        },
        "xaxis": {
         "anchor": "y",
         "domain": [
          0,
          1
         ],
         "title": {
          "text": "Order Date"
         }
        },
        "yaxis": {
         "anchor": "x",
         "domain": [
          0,
          1
         ],
         "title": {
          "text": "Ticket"
         }
        }
       }
      }
     },
     "metadata": {},
     "output_type": "display_data"
    }
   ],
   "source": [
    "px.scatter(df23[df23['Is Womens Shirt'] == True], y='Ticket', x='Order Date', title='Momentum 23 Women Order Date')"
   ]
  },
  {
   "cell_type": "code",
   "execution_count": 548,
   "metadata": {},
   "outputs": [
    {
     "name": "stderr",
     "output_type": "stream",
     "text": [
      "/home/matteland/anaconda3/lib/python3.11/site-packages/_plotly_utils/basevalidators.py:106: FutureWarning:\n",
      "\n",
      "The behavior of DatetimeProperties.to_pydatetime is deprecated, in a future version this will return a Series containing python datetime objects instead of an ndarray. To retain the old behavior, call `np.array` on the result\n",
      "\n"
     ]
    },
    {
     "data": {
      "application/vnd.plotly.v1+json": {
       "config": {
        "plotlyServerURL": "https://plot.ly"
       },
       "data": [
        {
         "coloraxis": "coloraxis",
         "hovertemplate": "Order Date=%{x}<br>Ticket=%{y}<br>count=%{z}<extra></extra>",
         "name": "",
         "type": "histogram2d",
         "x": [
          "2023-07-02T13:08:42+00:00",
          "2023-07-02T13:11:19+00:00",
          "2023-07-02T13:14:25+00:00",
          "2023-07-10T16:37:15+00:00",
          "2023-07-19T16:38:27+00:00",
          "2023-07-19T16:38:28+00:00",
          "2023-07-19T16:38:39+00:00",
          "2023-07-19T16:38:40+00:00",
          "2023-07-19T16:38:43+00:00",
          "2023-07-31T13:26:42+00:00",
          "2023-08-09T18:02:24+00:00",
          "2023-08-09T18:02:24+00:00",
          "2023-08-09T18:02:24+00:00",
          "2023-08-09T18:02:24+00:00",
          "2023-08-09T18:02:24+00:00",
          "2023-08-09T18:02:24+00:00",
          "2023-08-09T18:02:24+00:00",
          "2023-08-09T18:02:24+00:00",
          "2023-08-09T19:11:04+00:00",
          "2023-08-10T20:49:11+00:00",
          "2023-08-14T15:44:19+00:00",
          "2023-08-14T16:09:47+00:00",
          "2023-08-14T19:27:47+00:00",
          "2023-08-14T19:27:47+00:00",
          "2023-08-14T19:27:47+00:00",
          "2023-08-11T20:17:48+00:00",
          "2023-08-11T20:17:48+00:00",
          "2023-08-19T18:08:10+00:00",
          "2023-08-21T21:20:52+00:00",
          "2023-08-21T21:20:52+00:00",
          "2023-08-23T14:47:22+00:00",
          "2023-08-23T14:51:15+00:00",
          "2023-08-23T14:51:15+00:00",
          "2023-09-05T14:51:22+00:00",
          "2023-09-18T15:15:36+00:00",
          "2023-09-22T18:57:13+00:00",
          "2023-09-22T18:57:13+00:00",
          "2023-09-25T14:15:18+00:00",
          "2023-09-26T01:24:36+00:00"
         ],
         "xaxis": "x",
         "xbingroup": "x",
         "y": [
          "Content Reviewer",
          "Content Reviewer",
          "Content Reviewer",
          "Early Bird",
          "Speaker",
          "Speaker",
          "Speaker",
          "Speaker",
          "Speaker",
          "Early Bird",
          "Early Bird",
          "Early Bird",
          "Early Bird",
          "Early Bird",
          "Early Bird",
          "Early Bird",
          "Early Bird",
          "Early Bird",
          "Early Bird",
          "Early Bird",
          "Early Bird",
          "Early Bird",
          "Early Bird",
          "Early Bird",
          "Early Bird",
          "Early Bird",
          "Early Bird",
          "Organizer",
          "Sponsor",
          "Sponsor",
          "Sponsor",
          "Sponsor",
          "Sponsor",
          "Regular Price",
          "Late Registration",
          "Late Registration",
          "Late Registration",
          "Late Registration",
          "Volunteer"
         ],
         "yaxis": "y",
         "ybingroup": "y"
        }
       ],
       "layout": {
        "coloraxis": {
         "colorbar": {
          "title": {
           "text": "count"
          }
         },
         "colorscale": [
          [
           0,
           "rgb(75, 41, 145)"
          ],
          [
           0.16666666666666666,
           "rgb(135, 44, 162)"
          ],
          [
           0.3333333333333333,
           "rgb(192, 54, 157)"
          ],
          [
           0.5,
           "rgb(234, 79, 136)"
          ],
          [
           0.6666666666666666,
           "rgb(250, 120, 118)"
          ],
          [
           0.8333333333333334,
           "rgb(246, 169, 122)"
          ],
          [
           1,
           "rgb(237, 217, 163)"
          ]
         ]
        },
        "legend": {
         "tracegroupgap": 0
        },
        "template": {
         "data": {
          "bar": [
           {
            "error_x": {
             "color": "#f2f5fa"
            },
            "error_y": {
             "color": "#f2f5fa"
            },
            "marker": {
             "line": {
              "color": "rgb(17,17,17)",
              "width": 0.5
             },
             "pattern": {
              "fillmode": "overlay",
              "size": 10,
              "solidity": 0.2
             }
            },
            "type": "bar"
           }
          ],
          "barpolar": [
           {
            "marker": {
             "line": {
              "color": "rgb(17,17,17)",
              "width": 0.5
             },
             "pattern": {
              "fillmode": "overlay",
              "size": 10,
              "solidity": 0.2
             }
            },
            "type": "barpolar"
           }
          ],
          "carpet": [
           {
            "aaxis": {
             "endlinecolor": "#A2B1C6",
             "gridcolor": "#506784",
             "linecolor": "#506784",
             "minorgridcolor": "#506784",
             "startlinecolor": "#A2B1C6"
            },
            "baxis": {
             "endlinecolor": "#A2B1C6",
             "gridcolor": "#506784",
             "linecolor": "#506784",
             "minorgridcolor": "#506784",
             "startlinecolor": "#A2B1C6"
            },
            "type": "carpet"
           }
          ],
          "choropleth": [
           {
            "colorbar": {
             "outlinewidth": 0,
             "ticks": ""
            },
            "type": "choropleth"
           }
          ],
          "contour": [
           {
            "colorbar": {
             "outlinewidth": 0,
             "ticks": ""
            },
            "colorscale": [
             [
              0,
              "#0d0887"
             ],
             [
              0.1111111111111111,
              "#46039f"
             ],
             [
              0.2222222222222222,
              "#7201a8"
             ],
             [
              0.3333333333333333,
              "#9c179e"
             ],
             [
              0.4444444444444444,
              "#bd3786"
             ],
             [
              0.5555555555555556,
              "#d8576b"
             ],
             [
              0.6666666666666666,
              "#ed7953"
             ],
             [
              0.7777777777777778,
              "#fb9f3a"
             ],
             [
              0.8888888888888888,
              "#fdca26"
             ],
             [
              1,
              "#f0f921"
             ]
            ],
            "type": "contour"
           }
          ],
          "contourcarpet": [
           {
            "colorbar": {
             "outlinewidth": 0,
             "ticks": ""
            },
            "type": "contourcarpet"
           }
          ],
          "heatmap": [
           {
            "colorbar": {
             "outlinewidth": 0,
             "ticks": ""
            },
            "colorscale": [
             [
              0,
              "#0d0887"
             ],
             [
              0.1111111111111111,
              "#46039f"
             ],
             [
              0.2222222222222222,
              "#7201a8"
             ],
             [
              0.3333333333333333,
              "#9c179e"
             ],
             [
              0.4444444444444444,
              "#bd3786"
             ],
             [
              0.5555555555555556,
              "#d8576b"
             ],
             [
              0.6666666666666666,
              "#ed7953"
             ],
             [
              0.7777777777777778,
              "#fb9f3a"
             ],
             [
              0.8888888888888888,
              "#fdca26"
             ],
             [
              1,
              "#f0f921"
             ]
            ],
            "type": "heatmap"
           }
          ],
          "heatmapgl": [
           {
            "colorbar": {
             "outlinewidth": 0,
             "ticks": ""
            },
            "colorscale": [
             [
              0,
              "#0d0887"
             ],
             [
              0.1111111111111111,
              "#46039f"
             ],
             [
              0.2222222222222222,
              "#7201a8"
             ],
             [
              0.3333333333333333,
              "#9c179e"
             ],
             [
              0.4444444444444444,
              "#bd3786"
             ],
             [
              0.5555555555555556,
              "#d8576b"
             ],
             [
              0.6666666666666666,
              "#ed7953"
             ],
             [
              0.7777777777777778,
              "#fb9f3a"
             ],
             [
              0.8888888888888888,
              "#fdca26"
             ],
             [
              1,
              "#f0f921"
             ]
            ],
            "type": "heatmapgl"
           }
          ],
          "histogram": [
           {
            "marker": {
             "pattern": {
              "fillmode": "overlay",
              "size": 10,
              "solidity": 0.2
             }
            },
            "type": "histogram"
           }
          ],
          "histogram2d": [
           {
            "colorbar": {
             "outlinewidth": 0,
             "ticks": ""
            },
            "colorscale": [
             [
              0,
              "#0d0887"
             ],
             [
              0.1111111111111111,
              "#46039f"
             ],
             [
              0.2222222222222222,
              "#7201a8"
             ],
             [
              0.3333333333333333,
              "#9c179e"
             ],
             [
              0.4444444444444444,
              "#bd3786"
             ],
             [
              0.5555555555555556,
              "#d8576b"
             ],
             [
              0.6666666666666666,
              "#ed7953"
             ],
             [
              0.7777777777777778,
              "#fb9f3a"
             ],
             [
              0.8888888888888888,
              "#fdca26"
             ],
             [
              1,
              "#f0f921"
             ]
            ],
            "type": "histogram2d"
           }
          ],
          "histogram2dcontour": [
           {
            "colorbar": {
             "outlinewidth": 0,
             "ticks": ""
            },
            "colorscale": [
             [
              0,
              "#0d0887"
             ],
             [
              0.1111111111111111,
              "#46039f"
             ],
             [
              0.2222222222222222,
              "#7201a8"
             ],
             [
              0.3333333333333333,
              "#9c179e"
             ],
             [
              0.4444444444444444,
              "#bd3786"
             ],
             [
              0.5555555555555556,
              "#d8576b"
             ],
             [
              0.6666666666666666,
              "#ed7953"
             ],
             [
              0.7777777777777778,
              "#fb9f3a"
             ],
             [
              0.8888888888888888,
              "#fdca26"
             ],
             [
              1,
              "#f0f921"
             ]
            ],
            "type": "histogram2dcontour"
           }
          ],
          "mesh3d": [
           {
            "colorbar": {
             "outlinewidth": 0,
             "ticks": ""
            },
            "type": "mesh3d"
           }
          ],
          "parcoords": [
           {
            "line": {
             "colorbar": {
              "outlinewidth": 0,
              "ticks": ""
             }
            },
            "type": "parcoords"
           }
          ],
          "pie": [
           {
            "automargin": true,
            "type": "pie"
           }
          ],
          "scatter": [
           {
            "marker": {
             "line": {
              "color": "#283442"
             }
            },
            "type": "scatter"
           }
          ],
          "scatter3d": [
           {
            "line": {
             "colorbar": {
              "outlinewidth": 0,
              "ticks": ""
             }
            },
            "marker": {
             "colorbar": {
              "outlinewidth": 0,
              "ticks": ""
             }
            },
            "type": "scatter3d"
           }
          ],
          "scattercarpet": [
           {
            "marker": {
             "colorbar": {
              "outlinewidth": 0,
              "ticks": ""
             }
            },
            "type": "scattercarpet"
           }
          ],
          "scattergeo": [
           {
            "marker": {
             "colorbar": {
              "outlinewidth": 0,
              "ticks": ""
             }
            },
            "type": "scattergeo"
           }
          ],
          "scattergl": [
           {
            "marker": {
             "line": {
              "color": "#283442"
             }
            },
            "type": "scattergl"
           }
          ],
          "scattermapbox": [
           {
            "marker": {
             "colorbar": {
              "outlinewidth": 0,
              "ticks": ""
             }
            },
            "type": "scattermapbox"
           }
          ],
          "scatterpolar": [
           {
            "marker": {
             "colorbar": {
              "outlinewidth": 0,
              "ticks": ""
             }
            },
            "type": "scatterpolar"
           }
          ],
          "scatterpolargl": [
           {
            "marker": {
             "colorbar": {
              "outlinewidth": 0,
              "ticks": ""
             }
            },
            "type": "scatterpolargl"
           }
          ],
          "scatterternary": [
           {
            "marker": {
             "colorbar": {
              "outlinewidth": 0,
              "ticks": ""
             }
            },
            "type": "scatterternary"
           }
          ],
          "surface": [
           {
            "colorbar": {
             "outlinewidth": 0,
             "ticks": ""
            },
            "colorscale": [
             [
              0,
              "#0d0887"
             ],
             [
              0.1111111111111111,
              "#46039f"
             ],
             [
              0.2222222222222222,
              "#7201a8"
             ],
             [
              0.3333333333333333,
              "#9c179e"
             ],
             [
              0.4444444444444444,
              "#bd3786"
             ],
             [
              0.5555555555555556,
              "#d8576b"
             ],
             [
              0.6666666666666666,
              "#ed7953"
             ],
             [
              0.7777777777777778,
              "#fb9f3a"
             ],
             [
              0.8888888888888888,
              "#fdca26"
             ],
             [
              1,
              "#f0f921"
             ]
            ],
            "type": "surface"
           }
          ],
          "table": [
           {
            "cells": {
             "fill": {
              "color": "#506784"
             },
             "line": {
              "color": "rgb(17,17,17)"
             }
            },
            "header": {
             "fill": {
              "color": "#2a3f5f"
             },
             "line": {
              "color": "rgb(17,17,17)"
             }
            },
            "type": "table"
           }
          ]
         },
         "layout": {
          "annotationdefaults": {
           "arrowcolor": "#f2f5fa",
           "arrowhead": 0,
           "arrowwidth": 1
          },
          "autotypenumbers": "strict",
          "coloraxis": {
           "colorbar": {
            "outlinewidth": 0,
            "ticks": ""
           }
          },
          "colorscale": {
           "diverging": [
            [
             0,
             "#8e0152"
            ],
            [
             0.1,
             "#c51b7d"
            ],
            [
             0.2,
             "#de77ae"
            ],
            [
             0.3,
             "#f1b6da"
            ],
            [
             0.4,
             "#fde0ef"
            ],
            [
             0.5,
             "#f7f7f7"
            ],
            [
             0.6,
             "#e6f5d0"
            ],
            [
             0.7,
             "#b8e186"
            ],
            [
             0.8,
             "#7fbc41"
            ],
            [
             0.9,
             "#4d9221"
            ],
            [
             1,
             "#276419"
            ]
           ],
           "sequential": [
            [
             0,
             "#0d0887"
            ],
            [
             0.1111111111111111,
             "#46039f"
            ],
            [
             0.2222222222222222,
             "#7201a8"
            ],
            [
             0.3333333333333333,
             "#9c179e"
            ],
            [
             0.4444444444444444,
             "#bd3786"
            ],
            [
             0.5555555555555556,
             "#d8576b"
            ],
            [
             0.6666666666666666,
             "#ed7953"
            ],
            [
             0.7777777777777778,
             "#fb9f3a"
            ],
            [
             0.8888888888888888,
             "#fdca26"
            ],
            [
             1,
             "#f0f921"
            ]
           ],
           "sequentialminus": [
            [
             0,
             "#0d0887"
            ],
            [
             0.1111111111111111,
             "#46039f"
            ],
            [
             0.2222222222222222,
             "#7201a8"
            ],
            [
             0.3333333333333333,
             "#9c179e"
            ],
            [
             0.4444444444444444,
             "#bd3786"
            ],
            [
             0.5555555555555556,
             "#d8576b"
            ],
            [
             0.6666666666666666,
             "#ed7953"
            ],
            [
             0.7777777777777778,
             "#fb9f3a"
            ],
            [
             0.8888888888888888,
             "#fdca26"
            ],
            [
             1,
             "#f0f921"
            ]
           ]
          },
          "colorway": [
           "#636efa",
           "#EF553B",
           "#00cc96",
           "#ab63fa",
           "#FFA15A",
           "#19d3f3",
           "#FF6692",
           "#B6E880",
           "#FF97FF",
           "#FECB52"
          ],
          "font": {
           "color": "#f2f5fa"
          },
          "geo": {
           "bgcolor": "rgb(17,17,17)",
           "lakecolor": "rgb(17,17,17)",
           "landcolor": "rgb(17,17,17)",
           "showlakes": true,
           "showland": true,
           "subunitcolor": "#506784"
          },
          "hoverlabel": {
           "align": "left"
          },
          "hovermode": "closest",
          "mapbox": {
           "style": "dark"
          },
          "paper_bgcolor": "rgb(17,17,17)",
          "plot_bgcolor": "rgb(17,17,17)",
          "polar": {
           "angularaxis": {
            "gridcolor": "#506784",
            "linecolor": "#506784",
            "ticks": ""
           },
           "bgcolor": "rgb(17,17,17)",
           "radialaxis": {
            "gridcolor": "#506784",
            "linecolor": "#506784",
            "ticks": ""
           }
          },
          "scene": {
           "xaxis": {
            "backgroundcolor": "rgb(17,17,17)",
            "gridcolor": "#506784",
            "gridwidth": 2,
            "linecolor": "#506784",
            "showbackground": true,
            "ticks": "",
            "zerolinecolor": "#C8D4E3"
           },
           "yaxis": {
            "backgroundcolor": "rgb(17,17,17)",
            "gridcolor": "#506784",
            "gridwidth": 2,
            "linecolor": "#506784",
            "showbackground": true,
            "ticks": "",
            "zerolinecolor": "#C8D4E3"
           },
           "zaxis": {
            "backgroundcolor": "rgb(17,17,17)",
            "gridcolor": "#506784",
            "gridwidth": 2,
            "linecolor": "#506784",
            "showbackground": true,
            "ticks": "",
            "zerolinecolor": "#C8D4E3"
           }
          },
          "shapedefaults": {
           "line": {
            "color": "#f2f5fa"
           }
          },
          "sliderdefaults": {
           "bgcolor": "#C8D4E3",
           "bordercolor": "rgb(17,17,17)",
           "borderwidth": 1,
           "tickwidth": 0
          },
          "ternary": {
           "aaxis": {
            "gridcolor": "#506784",
            "linecolor": "#506784",
            "ticks": ""
           },
           "baxis": {
            "gridcolor": "#506784",
            "linecolor": "#506784",
            "ticks": ""
           },
           "bgcolor": "rgb(17,17,17)",
           "caxis": {
            "gridcolor": "#506784",
            "linecolor": "#506784",
            "ticks": ""
           }
          },
          "title": {
           "x": 0.05
          },
          "updatemenudefaults": {
           "bgcolor": "#506784",
           "borderwidth": 0
          },
          "xaxis": {
           "automargin": true,
           "gridcolor": "#283442",
           "linecolor": "#506784",
           "ticks": "",
           "title": {
            "standoff": 15
           },
           "zerolinecolor": "#283442",
           "zerolinewidth": 2
          },
          "yaxis": {
           "automargin": true,
           "gridcolor": "#283442",
           "linecolor": "#506784",
           "ticks": "",
           "title": {
            "standoff": 15
           },
           "zerolinecolor": "#283442",
           "zerolinewidth": 2
          }
         }
        },
        "title": {
         "text": "Momentum 23 Women Order Date"
        },
        "xaxis": {
         "anchor": "y",
         "domain": [
          0,
          1
         ],
         "title": {
          "text": "Order Date"
         }
        },
        "yaxis": {
         "anchor": "x",
         "domain": [
          0,
          1
         ],
         "title": {
          "text": "Ticket"
         }
        }
       }
      }
     },
     "metadata": {},
     "output_type": "display_data"
    }
   ],
   "source": [
    "px.density_heatmap(df23[df23['Is Womens Shirt'] == True], y='Ticket', x='Order Date', title='Momentum 23 Women Order Date')"
   ]
  },
  {
   "cell_type": "code",
   "execution_count": 549,
   "metadata": {},
   "outputs": [
    {
     "name": "stderr",
     "output_type": "stream",
     "text": [
      "/home/matteland/anaconda3/lib/python3.11/site-packages/_plotly_utils/basevalidators.py:106: FutureWarning:\n",
      "\n",
      "The behavior of DatetimeProperties.to_pydatetime is deprecated, in a future version this will return a Series containing python datetime objects instead of an ndarray. To retain the old behavior, call `np.array` on the result\n",
      "\n"
     ]
    },
    {
     "data": {
      "application/vnd.plotly.v1+json": {
       "config": {
        "plotlyServerURL": "https://plot.ly"
       },
       "data": [
        {
         "hovertemplate": "Order Date=%{x}<br>Check-ins: Registration=%{y}<extra></extra>",
         "legendgroup": "",
         "marker": {
          "color": "rgb(95, 70, 144)",
          "symbol": "circle"
         },
         "mode": "markers",
         "name": "",
         "orientation": "v",
         "showlegend": false,
         "type": "scatter",
         "x": [
          "2023-07-02T13:08:42+00:00",
          "2023-07-02T13:11:19+00:00",
          "2023-07-02T13:14:25+00:00",
          "2023-07-10T16:37:15+00:00",
          "2023-07-19T16:38:27+00:00",
          "2023-07-19T16:38:28+00:00",
          "2023-07-19T16:38:39+00:00",
          "2023-07-19T16:38:40+00:00",
          "2023-07-19T16:38:43+00:00",
          "2023-07-31T13:26:42+00:00",
          "2023-08-09T18:02:24+00:00",
          "2023-08-09T18:02:24+00:00",
          "2023-08-09T18:02:24+00:00",
          "2023-08-09T18:02:24+00:00",
          "2023-08-09T18:02:24+00:00",
          "2023-08-09T18:02:24+00:00",
          "2023-08-09T18:02:24+00:00",
          "2023-08-09T18:02:24+00:00",
          "2023-08-09T19:11:04+00:00",
          "2023-08-10T20:49:11+00:00",
          "2023-08-14T15:44:19+00:00",
          "2023-08-14T16:09:47+00:00",
          "2023-08-14T19:27:47+00:00",
          "2023-08-14T19:27:47+00:00",
          "2023-08-14T19:27:47+00:00",
          "2023-08-11T20:17:48+00:00",
          "2023-08-11T20:17:48+00:00",
          "2023-08-19T18:08:10+00:00",
          "2023-08-21T21:20:52+00:00",
          "2023-08-21T21:20:52+00:00",
          "2023-08-23T14:47:22+00:00",
          "2023-08-23T14:51:15+00:00",
          "2023-08-23T14:51:15+00:00",
          "2023-09-05T14:51:22+00:00",
          "2023-09-18T15:15:36+00:00",
          "2023-09-22T18:57:13+00:00",
          "2023-09-22T18:57:13+00:00",
          "2023-09-25T14:15:18+00:00",
          "2023-09-26T01:24:36+00:00"
         ],
         "xaxis": "x",
         "y": [
          0,
          0,
          0,
          149,
          0,
          0,
          0,
          0,
          0,
          149,
          149,
          149,
          149,
          149,
          149,
          149,
          149,
          149,
          149,
          149,
          149,
          149,
          149,
          149,
          149,
          149,
          149,
          0,
          0,
          0,
          0,
          0,
          0,
          179,
          209,
          209,
          209,
          209,
          0
         ],
         "yaxis": "y"
        }
       ],
       "layout": {
        "legend": {
         "tracegroupgap": 0
        },
        "template": {
         "data": {
          "bar": [
           {
            "error_x": {
             "color": "#f2f5fa"
            },
            "error_y": {
             "color": "#f2f5fa"
            },
            "marker": {
             "line": {
              "color": "rgb(17,17,17)",
              "width": 0.5
             },
             "pattern": {
              "fillmode": "overlay",
              "size": 10,
              "solidity": 0.2
             }
            },
            "type": "bar"
           }
          ],
          "barpolar": [
           {
            "marker": {
             "line": {
              "color": "rgb(17,17,17)",
              "width": 0.5
             },
             "pattern": {
              "fillmode": "overlay",
              "size": 10,
              "solidity": 0.2
             }
            },
            "type": "barpolar"
           }
          ],
          "carpet": [
           {
            "aaxis": {
             "endlinecolor": "#A2B1C6",
             "gridcolor": "#506784",
             "linecolor": "#506784",
             "minorgridcolor": "#506784",
             "startlinecolor": "#A2B1C6"
            },
            "baxis": {
             "endlinecolor": "#A2B1C6",
             "gridcolor": "#506784",
             "linecolor": "#506784",
             "minorgridcolor": "#506784",
             "startlinecolor": "#A2B1C6"
            },
            "type": "carpet"
           }
          ],
          "choropleth": [
           {
            "colorbar": {
             "outlinewidth": 0,
             "ticks": ""
            },
            "type": "choropleth"
           }
          ],
          "contour": [
           {
            "colorbar": {
             "outlinewidth": 0,
             "ticks": ""
            },
            "colorscale": [
             [
              0,
              "#0d0887"
             ],
             [
              0.1111111111111111,
              "#46039f"
             ],
             [
              0.2222222222222222,
              "#7201a8"
             ],
             [
              0.3333333333333333,
              "#9c179e"
             ],
             [
              0.4444444444444444,
              "#bd3786"
             ],
             [
              0.5555555555555556,
              "#d8576b"
             ],
             [
              0.6666666666666666,
              "#ed7953"
             ],
             [
              0.7777777777777778,
              "#fb9f3a"
             ],
             [
              0.8888888888888888,
              "#fdca26"
             ],
             [
              1,
              "#f0f921"
             ]
            ],
            "type": "contour"
           }
          ],
          "contourcarpet": [
           {
            "colorbar": {
             "outlinewidth": 0,
             "ticks": ""
            },
            "type": "contourcarpet"
           }
          ],
          "heatmap": [
           {
            "colorbar": {
             "outlinewidth": 0,
             "ticks": ""
            },
            "colorscale": [
             [
              0,
              "#0d0887"
             ],
             [
              0.1111111111111111,
              "#46039f"
             ],
             [
              0.2222222222222222,
              "#7201a8"
             ],
             [
              0.3333333333333333,
              "#9c179e"
             ],
             [
              0.4444444444444444,
              "#bd3786"
             ],
             [
              0.5555555555555556,
              "#d8576b"
             ],
             [
              0.6666666666666666,
              "#ed7953"
             ],
             [
              0.7777777777777778,
              "#fb9f3a"
             ],
             [
              0.8888888888888888,
              "#fdca26"
             ],
             [
              1,
              "#f0f921"
             ]
            ],
            "type": "heatmap"
           }
          ],
          "heatmapgl": [
           {
            "colorbar": {
             "outlinewidth": 0,
             "ticks": ""
            },
            "colorscale": [
             [
              0,
              "#0d0887"
             ],
             [
              0.1111111111111111,
              "#46039f"
             ],
             [
              0.2222222222222222,
              "#7201a8"
             ],
             [
              0.3333333333333333,
              "#9c179e"
             ],
             [
              0.4444444444444444,
              "#bd3786"
             ],
             [
              0.5555555555555556,
              "#d8576b"
             ],
             [
              0.6666666666666666,
              "#ed7953"
             ],
             [
              0.7777777777777778,
              "#fb9f3a"
             ],
             [
              0.8888888888888888,
              "#fdca26"
             ],
             [
              1,
              "#f0f921"
             ]
            ],
            "type": "heatmapgl"
           }
          ],
          "histogram": [
           {
            "marker": {
             "pattern": {
              "fillmode": "overlay",
              "size": 10,
              "solidity": 0.2
             }
            },
            "type": "histogram"
           }
          ],
          "histogram2d": [
           {
            "colorbar": {
             "outlinewidth": 0,
             "ticks": ""
            },
            "colorscale": [
             [
              0,
              "#0d0887"
             ],
             [
              0.1111111111111111,
              "#46039f"
             ],
             [
              0.2222222222222222,
              "#7201a8"
             ],
             [
              0.3333333333333333,
              "#9c179e"
             ],
             [
              0.4444444444444444,
              "#bd3786"
             ],
             [
              0.5555555555555556,
              "#d8576b"
             ],
             [
              0.6666666666666666,
              "#ed7953"
             ],
             [
              0.7777777777777778,
              "#fb9f3a"
             ],
             [
              0.8888888888888888,
              "#fdca26"
             ],
             [
              1,
              "#f0f921"
             ]
            ],
            "type": "histogram2d"
           }
          ],
          "histogram2dcontour": [
           {
            "colorbar": {
             "outlinewidth": 0,
             "ticks": ""
            },
            "colorscale": [
             [
              0,
              "#0d0887"
             ],
             [
              0.1111111111111111,
              "#46039f"
             ],
             [
              0.2222222222222222,
              "#7201a8"
             ],
             [
              0.3333333333333333,
              "#9c179e"
             ],
             [
              0.4444444444444444,
              "#bd3786"
             ],
             [
              0.5555555555555556,
              "#d8576b"
             ],
             [
              0.6666666666666666,
              "#ed7953"
             ],
             [
              0.7777777777777778,
              "#fb9f3a"
             ],
             [
              0.8888888888888888,
              "#fdca26"
             ],
             [
              1,
              "#f0f921"
             ]
            ],
            "type": "histogram2dcontour"
           }
          ],
          "mesh3d": [
           {
            "colorbar": {
             "outlinewidth": 0,
             "ticks": ""
            },
            "type": "mesh3d"
           }
          ],
          "parcoords": [
           {
            "line": {
             "colorbar": {
              "outlinewidth": 0,
              "ticks": ""
             }
            },
            "type": "parcoords"
           }
          ],
          "pie": [
           {
            "automargin": true,
            "type": "pie"
           }
          ],
          "scatter": [
           {
            "marker": {
             "line": {
              "color": "#283442"
             }
            },
            "type": "scatter"
           }
          ],
          "scatter3d": [
           {
            "line": {
             "colorbar": {
              "outlinewidth": 0,
              "ticks": ""
             }
            },
            "marker": {
             "colorbar": {
              "outlinewidth": 0,
              "ticks": ""
             }
            },
            "type": "scatter3d"
           }
          ],
          "scattercarpet": [
           {
            "marker": {
             "colorbar": {
              "outlinewidth": 0,
              "ticks": ""
             }
            },
            "type": "scattercarpet"
           }
          ],
          "scattergeo": [
           {
            "marker": {
             "colorbar": {
              "outlinewidth": 0,
              "ticks": ""
             }
            },
            "type": "scattergeo"
           }
          ],
          "scattergl": [
           {
            "marker": {
             "line": {
              "color": "#283442"
             }
            },
            "type": "scattergl"
           }
          ],
          "scattermapbox": [
           {
            "marker": {
             "colorbar": {
              "outlinewidth": 0,
              "ticks": ""
             }
            },
            "type": "scattermapbox"
           }
          ],
          "scatterpolar": [
           {
            "marker": {
             "colorbar": {
              "outlinewidth": 0,
              "ticks": ""
             }
            },
            "type": "scatterpolar"
           }
          ],
          "scatterpolargl": [
           {
            "marker": {
             "colorbar": {
              "outlinewidth": 0,
              "ticks": ""
             }
            },
            "type": "scatterpolargl"
           }
          ],
          "scatterternary": [
           {
            "marker": {
             "colorbar": {
              "outlinewidth": 0,
              "ticks": ""
             }
            },
            "type": "scatterternary"
           }
          ],
          "surface": [
           {
            "colorbar": {
             "outlinewidth": 0,
             "ticks": ""
            },
            "colorscale": [
             [
              0,
              "#0d0887"
             ],
             [
              0.1111111111111111,
              "#46039f"
             ],
             [
              0.2222222222222222,
              "#7201a8"
             ],
             [
              0.3333333333333333,
              "#9c179e"
             ],
             [
              0.4444444444444444,
              "#bd3786"
             ],
             [
              0.5555555555555556,
              "#d8576b"
             ],
             [
              0.6666666666666666,
              "#ed7953"
             ],
             [
              0.7777777777777778,
              "#fb9f3a"
             ],
             [
              0.8888888888888888,
              "#fdca26"
             ],
             [
              1,
              "#f0f921"
             ]
            ],
            "type": "surface"
           }
          ],
          "table": [
           {
            "cells": {
             "fill": {
              "color": "#506784"
             },
             "line": {
              "color": "rgb(17,17,17)"
             }
            },
            "header": {
             "fill": {
              "color": "#2a3f5f"
             },
             "line": {
              "color": "rgb(17,17,17)"
             }
            },
            "type": "table"
           }
          ]
         },
         "layout": {
          "annotationdefaults": {
           "arrowcolor": "#f2f5fa",
           "arrowhead": 0,
           "arrowwidth": 1
          },
          "autotypenumbers": "strict",
          "coloraxis": {
           "colorbar": {
            "outlinewidth": 0,
            "ticks": ""
           }
          },
          "colorscale": {
           "diverging": [
            [
             0,
             "#8e0152"
            ],
            [
             0.1,
             "#c51b7d"
            ],
            [
             0.2,
             "#de77ae"
            ],
            [
             0.3,
             "#f1b6da"
            ],
            [
             0.4,
             "#fde0ef"
            ],
            [
             0.5,
             "#f7f7f7"
            ],
            [
             0.6,
             "#e6f5d0"
            ],
            [
             0.7,
             "#b8e186"
            ],
            [
             0.8,
             "#7fbc41"
            ],
            [
             0.9,
             "#4d9221"
            ],
            [
             1,
             "#276419"
            ]
           ],
           "sequential": [
            [
             0,
             "#0d0887"
            ],
            [
             0.1111111111111111,
             "#46039f"
            ],
            [
             0.2222222222222222,
             "#7201a8"
            ],
            [
             0.3333333333333333,
             "#9c179e"
            ],
            [
             0.4444444444444444,
             "#bd3786"
            ],
            [
             0.5555555555555556,
             "#d8576b"
            ],
            [
             0.6666666666666666,
             "#ed7953"
            ],
            [
             0.7777777777777778,
             "#fb9f3a"
            ],
            [
             0.8888888888888888,
             "#fdca26"
            ],
            [
             1,
             "#f0f921"
            ]
           ],
           "sequentialminus": [
            [
             0,
             "#0d0887"
            ],
            [
             0.1111111111111111,
             "#46039f"
            ],
            [
             0.2222222222222222,
             "#7201a8"
            ],
            [
             0.3333333333333333,
             "#9c179e"
            ],
            [
             0.4444444444444444,
             "#bd3786"
            ],
            [
             0.5555555555555556,
             "#d8576b"
            ],
            [
             0.6666666666666666,
             "#ed7953"
            ],
            [
             0.7777777777777778,
             "#fb9f3a"
            ],
            [
             0.8888888888888888,
             "#fdca26"
            ],
            [
             1,
             "#f0f921"
            ]
           ]
          },
          "colorway": [
           "#636efa",
           "#EF553B",
           "#00cc96",
           "#ab63fa",
           "#FFA15A",
           "#19d3f3",
           "#FF6692",
           "#B6E880",
           "#FF97FF",
           "#FECB52"
          ],
          "font": {
           "color": "#f2f5fa"
          },
          "geo": {
           "bgcolor": "rgb(17,17,17)",
           "lakecolor": "rgb(17,17,17)",
           "landcolor": "rgb(17,17,17)",
           "showlakes": true,
           "showland": true,
           "subunitcolor": "#506784"
          },
          "hoverlabel": {
           "align": "left"
          },
          "hovermode": "closest",
          "mapbox": {
           "style": "dark"
          },
          "paper_bgcolor": "rgb(17,17,17)",
          "plot_bgcolor": "rgb(17,17,17)",
          "polar": {
           "angularaxis": {
            "gridcolor": "#506784",
            "linecolor": "#506784",
            "ticks": ""
           },
           "bgcolor": "rgb(17,17,17)",
           "radialaxis": {
            "gridcolor": "#506784",
            "linecolor": "#506784",
            "ticks": ""
           }
          },
          "scene": {
           "xaxis": {
            "backgroundcolor": "rgb(17,17,17)",
            "gridcolor": "#506784",
            "gridwidth": 2,
            "linecolor": "#506784",
            "showbackground": true,
            "ticks": "",
            "zerolinecolor": "#C8D4E3"
           },
           "yaxis": {
            "backgroundcolor": "rgb(17,17,17)",
            "gridcolor": "#506784",
            "gridwidth": 2,
            "linecolor": "#506784",
            "showbackground": true,
            "ticks": "",
            "zerolinecolor": "#C8D4E3"
           },
           "zaxis": {
            "backgroundcolor": "rgb(17,17,17)",
            "gridcolor": "#506784",
            "gridwidth": 2,
            "linecolor": "#506784",
            "showbackground": true,
            "ticks": "",
            "zerolinecolor": "#C8D4E3"
           }
          },
          "shapedefaults": {
           "line": {
            "color": "#f2f5fa"
           }
          },
          "sliderdefaults": {
           "bgcolor": "#C8D4E3",
           "bordercolor": "rgb(17,17,17)",
           "borderwidth": 1,
           "tickwidth": 0
          },
          "ternary": {
           "aaxis": {
            "gridcolor": "#506784",
            "linecolor": "#506784",
            "ticks": ""
           },
           "baxis": {
            "gridcolor": "#506784",
            "linecolor": "#506784",
            "ticks": ""
           },
           "bgcolor": "rgb(17,17,17)",
           "caxis": {
            "gridcolor": "#506784",
            "linecolor": "#506784",
            "ticks": ""
           }
          },
          "title": {
           "x": 0.05
          },
          "updatemenudefaults": {
           "bgcolor": "#506784",
           "borderwidth": 0
          },
          "xaxis": {
           "automargin": true,
           "gridcolor": "#283442",
           "linecolor": "#506784",
           "ticks": "",
           "title": {
            "standoff": 15
           },
           "zerolinecolor": "#283442",
           "zerolinewidth": 2
          },
          "yaxis": {
           "automargin": true,
           "gridcolor": "#283442",
           "linecolor": "#506784",
           "ticks": "",
           "title": {
            "standoff": 15
           },
           "zerolinecolor": "#283442",
           "zerolinewidth": 2
          }
         }
        },
        "title": {
         "text": "Momentum 23 Women Check-ins by Order Date"
        },
        "xaxis": {
         "anchor": "y",
         "domain": [
          0,
          1
         ],
         "title": {
          "text": "Order Date"
         }
        },
        "yaxis": {
         "anchor": "x",
         "domain": [
          0,
          1
         ],
         "title": {
          "text": "Check-ins: Registration"
         }
        }
       }
      }
     },
     "metadata": {},
     "output_type": "display_data"
    }
   ],
   "source": [
    "px.scatter(df23[df23['Is Womens Shirt'] == True], y='Check-ins: Registration', x='Order Date', title='Momentum 23 Women Check-ins by Order Date')"
   ]
  },
  {
   "cell_type": "markdown",
   "metadata": {},
   "source": [
    "## Schools"
   ]
  },
  {
   "cell_type": "code",
   "execution_count": 550,
   "metadata": {},
   "outputs": [
    {
     "data": {
      "application/vnd.plotly.v1+json": {
       "config": {
        "plotlyServerURL": "https://plot.ly"
       },
       "data": [
        {
         "alignmentgroup": "True",
         "bingroup": "x",
         "hovertemplate": "School=%{x}<br>count=%{y}<extra></extra>",
         "legendgroup": "Xavier University",
         "marker": {
          "color": "rgb(29, 105, 150)",
          "pattern": {
           "shape": ""
          }
         },
         "name": "Xavier University",
         "offsetgroup": "Xavier University",
         "orientation": "v",
         "showlegend": true,
         "type": "histogram",
         "x": [
          "Xavier University"
         ],
         "xaxis": "x",
         "yaxis": "y"
        },
        {
         "alignmentgroup": "True",
         "bingroup": "x",
         "hovertemplate": "School=%{x}<br>count=%{y}<extra></extra>",
         "legendgroup": "University of Cincinnati",
         "marker": {
          "color": "rgb(56, 166, 165)",
          "pattern": {
           "shape": ""
          }
         },
         "name": "University of Cincinnati",
         "offsetgroup": "University of Cincinnati",
         "orientation": "v",
         "showlegend": true,
         "type": "histogram",
         "x": [
          "University of Cincinnati",
          "University of Cincinnati"
         ],
         "xaxis": "x",
         "yaxis": "y"
        },
        {
         "alignmentgroup": "True",
         "bingroup": "x",
         "hovertemplate": "School=%{x}<br>count=%{y}<extra></extra>",
         "legendgroup": "Northern Kentucky University",
         "marker": {
          "color": "rgb(15, 133, 84)",
          "pattern": {
           "shape": ""
          }
         },
         "name": "Northern Kentucky University",
         "offsetgroup": "Northern Kentucky University",
         "orientation": "v",
         "showlegend": true,
         "type": "histogram",
         "x": [
          "Northern Kentucky University"
         ],
         "xaxis": "x",
         "yaxis": "y"
        },
        {
         "alignmentgroup": "True",
         "bingroup": "x",
         "hovertemplate": "School=%{x}<br>count=%{y}<extra></extra>",
         "legendgroup": "Tech Elevator, UC",
         "marker": {
          "color": "rgb(115, 175, 72)",
          "pattern": {
           "shape": ""
          }
         },
         "name": "Tech Elevator, UC",
         "offsetgroup": "Tech Elevator, UC",
         "orientation": "v",
         "showlegend": true,
         "type": "histogram",
         "x": [
          "Tech Elevator, UC"
         ],
         "xaxis": "x",
         "yaxis": "y"
        },
        {
         "alignmentgroup": "True",
         "bingroup": "x",
         "hovertemplate": "School=%{x}<br>count=%{y}<extra></extra>",
         "legendgroup": "William Penn University",
         "marker": {
          "color": "rgb(237, 173, 8)",
          "pattern": {
           "shape": ""
          }
         },
         "name": "William Penn University",
         "offsetgroup": "William Penn University",
         "orientation": "v",
         "showlegend": true,
         "type": "histogram",
         "x": [
          "William Penn University"
         ],
         "xaxis": "x",
         "yaxis": "y"
        },
        {
         "alignmentgroup": "True",
         "bingroup": "x",
         "hovertemplate": "School=%{x}<br>count=%{y}<extra></extra>",
         "legendgroup": "Tech Elevator",
         "marker": {
          "color": "rgb(225, 124, 5)",
          "pattern": {
           "shape": ""
          }
         },
         "name": "Tech Elevator",
         "offsetgroup": "Tech Elevator",
         "orientation": "v",
         "showlegend": true,
         "type": "histogram",
         "x": [
          "Tech Elevator",
          "Tech Elevator",
          "Tech Elevator",
          "Tech Elevator",
          "Tech Elevator",
          "Tech Elevator",
          "Tech Elevator",
          "Tech Elevator",
          "Tech Elevator",
          "Tech Elevator"
         ],
         "xaxis": "x",
         "yaxis": "y"
        },
        {
         "alignmentgroup": "True",
         "bingroup": "x",
         "hovertemplate": "School=%{x}<br>count=%{y}<extra></extra>",
         "legendgroup": "tech elevator",
         "marker": {
          "color": "rgb(204, 80, 62)",
          "pattern": {
           "shape": ""
          }
         },
         "name": "tech elevator",
         "offsetgroup": "tech elevator",
         "orientation": "v",
         "showlegend": true,
         "type": "histogram",
         "x": [
          "tech elevator"
         ],
         "xaxis": "x",
         "yaxis": "y"
        },
        {
         "alignmentgroup": "True",
         "bingroup": "x",
         "hovertemplate": "School=%{x}<br>count=%{y}<extra></extra>",
         "legendgroup": "TechElevator",
         "marker": {
          "color": "rgb(148, 52, 110)",
          "pattern": {
           "shape": ""
          }
         },
         "name": "TechElevator",
         "offsetgroup": "TechElevator",
         "orientation": "v",
         "showlegend": true,
         "type": "histogram",
         "x": [
          "TechElevator"
         ],
         "xaxis": "x",
         "yaxis": "y"
        },
        {
         "alignmentgroup": "True",
         "bingroup": "x",
         "hovertemplate": "School=%{x}<br>count=%{y}<extra></extra>",
         "legendgroup": "Cincinnati State Technical and Community College",
         "marker": {
          "color": "rgb(111, 64, 112)",
          "pattern": {
           "shape": ""
          }
         },
         "name": "Cincinnati State Technical and Community College",
         "offsetgroup": "Cincinnati State Technical and Community College",
         "orientation": "v",
         "showlegend": true,
         "type": "histogram",
         "x": [
          "Cincinnati State Technical and Community College"
         ],
         "xaxis": "x",
         "yaxis": "y"
        },
        {
         "alignmentgroup": "True",
         "bingroup": "x",
         "hovertemplate": "School=%{x}<br>count=%{y}<extra></extra>",
         "legendgroup": "Cincinnati State",
         "marker": {
          "color": "rgb(102, 102, 102)",
          "pattern": {
           "shape": ""
          }
         },
         "name": "Cincinnati State",
         "offsetgroup": "Cincinnati State",
         "orientation": "v",
         "showlegend": true,
         "type": "histogram",
         "x": [
          "Cincinnati State"
         ],
         "xaxis": "x",
         "yaxis": "y"
        }
       ],
       "layout": {
        "barmode": "relative",
        "legend": {
         "title": {
          "text": "School"
         },
         "tracegroupgap": 0
        },
        "template": {
         "data": {
          "bar": [
           {
            "error_x": {
             "color": "#f2f5fa"
            },
            "error_y": {
             "color": "#f2f5fa"
            },
            "marker": {
             "line": {
              "color": "rgb(17,17,17)",
              "width": 0.5
             },
             "pattern": {
              "fillmode": "overlay",
              "size": 10,
              "solidity": 0.2
             }
            },
            "type": "bar"
           }
          ],
          "barpolar": [
           {
            "marker": {
             "line": {
              "color": "rgb(17,17,17)",
              "width": 0.5
             },
             "pattern": {
              "fillmode": "overlay",
              "size": 10,
              "solidity": 0.2
             }
            },
            "type": "barpolar"
           }
          ],
          "carpet": [
           {
            "aaxis": {
             "endlinecolor": "#A2B1C6",
             "gridcolor": "#506784",
             "linecolor": "#506784",
             "minorgridcolor": "#506784",
             "startlinecolor": "#A2B1C6"
            },
            "baxis": {
             "endlinecolor": "#A2B1C6",
             "gridcolor": "#506784",
             "linecolor": "#506784",
             "minorgridcolor": "#506784",
             "startlinecolor": "#A2B1C6"
            },
            "type": "carpet"
           }
          ],
          "choropleth": [
           {
            "colorbar": {
             "outlinewidth": 0,
             "ticks": ""
            },
            "type": "choropleth"
           }
          ],
          "contour": [
           {
            "colorbar": {
             "outlinewidth": 0,
             "ticks": ""
            },
            "colorscale": [
             [
              0,
              "#0d0887"
             ],
             [
              0.1111111111111111,
              "#46039f"
             ],
             [
              0.2222222222222222,
              "#7201a8"
             ],
             [
              0.3333333333333333,
              "#9c179e"
             ],
             [
              0.4444444444444444,
              "#bd3786"
             ],
             [
              0.5555555555555556,
              "#d8576b"
             ],
             [
              0.6666666666666666,
              "#ed7953"
             ],
             [
              0.7777777777777778,
              "#fb9f3a"
             ],
             [
              0.8888888888888888,
              "#fdca26"
             ],
             [
              1,
              "#f0f921"
             ]
            ],
            "type": "contour"
           }
          ],
          "contourcarpet": [
           {
            "colorbar": {
             "outlinewidth": 0,
             "ticks": ""
            },
            "type": "contourcarpet"
           }
          ],
          "heatmap": [
           {
            "colorbar": {
             "outlinewidth": 0,
             "ticks": ""
            },
            "colorscale": [
             [
              0,
              "#0d0887"
             ],
             [
              0.1111111111111111,
              "#46039f"
             ],
             [
              0.2222222222222222,
              "#7201a8"
             ],
             [
              0.3333333333333333,
              "#9c179e"
             ],
             [
              0.4444444444444444,
              "#bd3786"
             ],
             [
              0.5555555555555556,
              "#d8576b"
             ],
             [
              0.6666666666666666,
              "#ed7953"
             ],
             [
              0.7777777777777778,
              "#fb9f3a"
             ],
             [
              0.8888888888888888,
              "#fdca26"
             ],
             [
              1,
              "#f0f921"
             ]
            ],
            "type": "heatmap"
           }
          ],
          "heatmapgl": [
           {
            "colorbar": {
             "outlinewidth": 0,
             "ticks": ""
            },
            "colorscale": [
             [
              0,
              "#0d0887"
             ],
             [
              0.1111111111111111,
              "#46039f"
             ],
             [
              0.2222222222222222,
              "#7201a8"
             ],
             [
              0.3333333333333333,
              "#9c179e"
             ],
             [
              0.4444444444444444,
              "#bd3786"
             ],
             [
              0.5555555555555556,
              "#d8576b"
             ],
             [
              0.6666666666666666,
              "#ed7953"
             ],
             [
              0.7777777777777778,
              "#fb9f3a"
             ],
             [
              0.8888888888888888,
              "#fdca26"
             ],
             [
              1,
              "#f0f921"
             ]
            ],
            "type": "heatmapgl"
           }
          ],
          "histogram": [
           {
            "marker": {
             "pattern": {
              "fillmode": "overlay",
              "size": 10,
              "solidity": 0.2
             }
            },
            "type": "histogram"
           }
          ],
          "histogram2d": [
           {
            "colorbar": {
             "outlinewidth": 0,
             "ticks": ""
            },
            "colorscale": [
             [
              0,
              "#0d0887"
             ],
             [
              0.1111111111111111,
              "#46039f"
             ],
             [
              0.2222222222222222,
              "#7201a8"
             ],
             [
              0.3333333333333333,
              "#9c179e"
             ],
             [
              0.4444444444444444,
              "#bd3786"
             ],
             [
              0.5555555555555556,
              "#d8576b"
             ],
             [
              0.6666666666666666,
              "#ed7953"
             ],
             [
              0.7777777777777778,
              "#fb9f3a"
             ],
             [
              0.8888888888888888,
              "#fdca26"
             ],
             [
              1,
              "#f0f921"
             ]
            ],
            "type": "histogram2d"
           }
          ],
          "histogram2dcontour": [
           {
            "colorbar": {
             "outlinewidth": 0,
             "ticks": ""
            },
            "colorscale": [
             [
              0,
              "#0d0887"
             ],
             [
              0.1111111111111111,
              "#46039f"
             ],
             [
              0.2222222222222222,
              "#7201a8"
             ],
             [
              0.3333333333333333,
              "#9c179e"
             ],
             [
              0.4444444444444444,
              "#bd3786"
             ],
             [
              0.5555555555555556,
              "#d8576b"
             ],
             [
              0.6666666666666666,
              "#ed7953"
             ],
             [
              0.7777777777777778,
              "#fb9f3a"
             ],
             [
              0.8888888888888888,
              "#fdca26"
             ],
             [
              1,
              "#f0f921"
             ]
            ],
            "type": "histogram2dcontour"
           }
          ],
          "mesh3d": [
           {
            "colorbar": {
             "outlinewidth": 0,
             "ticks": ""
            },
            "type": "mesh3d"
           }
          ],
          "parcoords": [
           {
            "line": {
             "colorbar": {
              "outlinewidth": 0,
              "ticks": ""
             }
            },
            "type": "parcoords"
           }
          ],
          "pie": [
           {
            "automargin": true,
            "type": "pie"
           }
          ],
          "scatter": [
           {
            "marker": {
             "line": {
              "color": "#283442"
             }
            },
            "type": "scatter"
           }
          ],
          "scatter3d": [
           {
            "line": {
             "colorbar": {
              "outlinewidth": 0,
              "ticks": ""
             }
            },
            "marker": {
             "colorbar": {
              "outlinewidth": 0,
              "ticks": ""
             }
            },
            "type": "scatter3d"
           }
          ],
          "scattercarpet": [
           {
            "marker": {
             "colorbar": {
              "outlinewidth": 0,
              "ticks": ""
             }
            },
            "type": "scattercarpet"
           }
          ],
          "scattergeo": [
           {
            "marker": {
             "colorbar": {
              "outlinewidth": 0,
              "ticks": ""
             }
            },
            "type": "scattergeo"
           }
          ],
          "scattergl": [
           {
            "marker": {
             "line": {
              "color": "#283442"
             }
            },
            "type": "scattergl"
           }
          ],
          "scattermapbox": [
           {
            "marker": {
             "colorbar": {
              "outlinewidth": 0,
              "ticks": ""
             }
            },
            "type": "scattermapbox"
           }
          ],
          "scatterpolar": [
           {
            "marker": {
             "colorbar": {
              "outlinewidth": 0,
              "ticks": ""
             }
            },
            "type": "scatterpolar"
           }
          ],
          "scatterpolargl": [
           {
            "marker": {
             "colorbar": {
              "outlinewidth": 0,
              "ticks": ""
             }
            },
            "type": "scatterpolargl"
           }
          ],
          "scatterternary": [
           {
            "marker": {
             "colorbar": {
              "outlinewidth": 0,
              "ticks": ""
             }
            },
            "type": "scatterternary"
           }
          ],
          "surface": [
           {
            "colorbar": {
             "outlinewidth": 0,
             "ticks": ""
            },
            "colorscale": [
             [
              0,
              "#0d0887"
             ],
             [
              0.1111111111111111,
              "#46039f"
             ],
             [
              0.2222222222222222,
              "#7201a8"
             ],
             [
              0.3333333333333333,
              "#9c179e"
             ],
             [
              0.4444444444444444,
              "#bd3786"
             ],
             [
              0.5555555555555556,
              "#d8576b"
             ],
             [
              0.6666666666666666,
              "#ed7953"
             ],
             [
              0.7777777777777778,
              "#fb9f3a"
             ],
             [
              0.8888888888888888,
              "#fdca26"
             ],
             [
              1,
              "#f0f921"
             ]
            ],
            "type": "surface"
           }
          ],
          "table": [
           {
            "cells": {
             "fill": {
              "color": "#506784"
             },
             "line": {
              "color": "rgb(17,17,17)"
             }
            },
            "header": {
             "fill": {
              "color": "#2a3f5f"
             },
             "line": {
              "color": "rgb(17,17,17)"
             }
            },
            "type": "table"
           }
          ]
         },
         "layout": {
          "annotationdefaults": {
           "arrowcolor": "#f2f5fa",
           "arrowhead": 0,
           "arrowwidth": 1
          },
          "autotypenumbers": "strict",
          "coloraxis": {
           "colorbar": {
            "outlinewidth": 0,
            "ticks": ""
           }
          },
          "colorscale": {
           "diverging": [
            [
             0,
             "#8e0152"
            ],
            [
             0.1,
             "#c51b7d"
            ],
            [
             0.2,
             "#de77ae"
            ],
            [
             0.3,
             "#f1b6da"
            ],
            [
             0.4,
             "#fde0ef"
            ],
            [
             0.5,
             "#f7f7f7"
            ],
            [
             0.6,
             "#e6f5d0"
            ],
            [
             0.7,
             "#b8e186"
            ],
            [
             0.8,
             "#7fbc41"
            ],
            [
             0.9,
             "#4d9221"
            ],
            [
             1,
             "#276419"
            ]
           ],
           "sequential": [
            [
             0,
             "#0d0887"
            ],
            [
             0.1111111111111111,
             "#46039f"
            ],
            [
             0.2222222222222222,
             "#7201a8"
            ],
            [
             0.3333333333333333,
             "#9c179e"
            ],
            [
             0.4444444444444444,
             "#bd3786"
            ],
            [
             0.5555555555555556,
             "#d8576b"
            ],
            [
             0.6666666666666666,
             "#ed7953"
            ],
            [
             0.7777777777777778,
             "#fb9f3a"
            ],
            [
             0.8888888888888888,
             "#fdca26"
            ],
            [
             1,
             "#f0f921"
            ]
           ],
           "sequentialminus": [
            [
             0,
             "#0d0887"
            ],
            [
             0.1111111111111111,
             "#46039f"
            ],
            [
             0.2222222222222222,
             "#7201a8"
            ],
            [
             0.3333333333333333,
             "#9c179e"
            ],
            [
             0.4444444444444444,
             "#bd3786"
            ],
            [
             0.5555555555555556,
             "#d8576b"
            ],
            [
             0.6666666666666666,
             "#ed7953"
            ],
            [
             0.7777777777777778,
             "#fb9f3a"
            ],
            [
             0.8888888888888888,
             "#fdca26"
            ],
            [
             1,
             "#f0f921"
            ]
           ]
          },
          "colorway": [
           "#636efa",
           "#EF553B",
           "#00cc96",
           "#ab63fa",
           "#FFA15A",
           "#19d3f3",
           "#FF6692",
           "#B6E880",
           "#FF97FF",
           "#FECB52"
          ],
          "font": {
           "color": "#f2f5fa"
          },
          "geo": {
           "bgcolor": "rgb(17,17,17)",
           "lakecolor": "rgb(17,17,17)",
           "landcolor": "rgb(17,17,17)",
           "showlakes": true,
           "showland": true,
           "subunitcolor": "#506784"
          },
          "hoverlabel": {
           "align": "left"
          },
          "hovermode": "closest",
          "mapbox": {
           "style": "dark"
          },
          "paper_bgcolor": "rgb(17,17,17)",
          "plot_bgcolor": "rgb(17,17,17)",
          "polar": {
           "angularaxis": {
            "gridcolor": "#506784",
            "linecolor": "#506784",
            "ticks": ""
           },
           "bgcolor": "rgb(17,17,17)",
           "radialaxis": {
            "gridcolor": "#506784",
            "linecolor": "#506784",
            "ticks": ""
           }
          },
          "scene": {
           "xaxis": {
            "backgroundcolor": "rgb(17,17,17)",
            "gridcolor": "#506784",
            "gridwidth": 2,
            "linecolor": "#506784",
            "showbackground": true,
            "ticks": "",
            "zerolinecolor": "#C8D4E3"
           },
           "yaxis": {
            "backgroundcolor": "rgb(17,17,17)",
            "gridcolor": "#506784",
            "gridwidth": 2,
            "linecolor": "#506784",
            "showbackground": true,
            "ticks": "",
            "zerolinecolor": "#C8D4E3"
           },
           "zaxis": {
            "backgroundcolor": "rgb(17,17,17)",
            "gridcolor": "#506784",
            "gridwidth": 2,
            "linecolor": "#506784",
            "showbackground": true,
            "ticks": "",
            "zerolinecolor": "#C8D4E3"
           }
          },
          "shapedefaults": {
           "line": {
            "color": "#f2f5fa"
           }
          },
          "sliderdefaults": {
           "bgcolor": "#C8D4E3",
           "bordercolor": "rgb(17,17,17)",
           "borderwidth": 1,
           "tickwidth": 0
          },
          "ternary": {
           "aaxis": {
            "gridcolor": "#506784",
            "linecolor": "#506784",
            "ticks": ""
           },
           "baxis": {
            "gridcolor": "#506784",
            "linecolor": "#506784",
            "ticks": ""
           },
           "bgcolor": "rgb(17,17,17)",
           "caxis": {
            "gridcolor": "#506784",
            "linecolor": "#506784",
            "ticks": ""
           }
          },
          "title": {
           "x": 0.05
          },
          "updatemenudefaults": {
           "bgcolor": "#506784",
           "borderwidth": 0
          },
          "xaxis": {
           "automargin": true,
           "gridcolor": "#283442",
           "linecolor": "#506784",
           "ticks": "",
           "title": {
            "standoff": 15
           },
           "zerolinecolor": "#283442",
           "zerolinewidth": 2
          },
          "yaxis": {
           "automargin": true,
           "gridcolor": "#283442",
           "linecolor": "#506784",
           "ticks": "",
           "title": {
            "standoff": 15
           },
           "zerolinecolor": "#283442",
           "zerolinewidth": 2
          }
         }
        },
        "title": {
         "text": "Momentum 23 Attendees by School"
        },
        "xaxis": {
         "anchor": "y",
         "categoryarray": [
          null,
          "Xavier University",
          "University of Cincinnati",
          "Northern Kentucky University",
          "Tech Elevator, UC",
          "William Penn University",
          "Tech Elevator",
          "tech elevator",
          "TechElevator",
          "Cincinnati State Technical and Community College",
          "Cincinnati State"
         ],
         "categoryorder": "total descending",
         "domain": [
          0,
          1
         ],
         "title": {
          "text": "School"
         }
        },
        "yaxis": {
         "anchor": "x",
         "domain": [
          0,
          1
         ],
         "title": {
          "text": "count"
         }
        }
       }
      }
     },
     "metadata": {},
     "output_type": "display_data"
    }
   ],
   "source": [
    "px.histogram(df23, x='School', title='Momentum 23 Attendees by School', color='School').update_xaxes(categoryorder='total descending')"
   ]
  },
  {
   "cell_type": "code",
   "execution_count": 551,
   "metadata": {},
   "outputs": [],
   "source": [
    "df23['School'].replace('TechElevator', 'Tech Elevator', inplace=True)\n",
    "df23['School'].replace('tech elevator', 'Tech Elevator', inplace=True)\n",
    "df23['School'].replace('Tech Elevator, UC', 'University of Cincinnati', inplace=True)\n",
    "df23['School'].replace('Cincinnati State Technical and Community College', 'Cincinnati State', inplace=True)"
   ]
  },
  {
   "cell_type": "code",
   "execution_count": 552,
   "metadata": {},
   "outputs": [
    {
     "data": {
      "application/vnd.plotly.v1+json": {
       "config": {
        "plotlyServerURL": "https://plot.ly"
       },
       "data": [
        {
         "alignmentgroup": "True",
         "bingroup": "x",
         "hovertemplate": "School=%{x}<br>count=%{y}<extra></extra>",
         "legendgroup": "Xavier University",
         "marker": {
          "color": "rgb(29, 105, 150)",
          "pattern": {
           "shape": ""
          }
         },
         "name": "Xavier University",
         "offsetgroup": "Xavier University",
         "orientation": "v",
         "showlegend": true,
         "type": "histogram",
         "x": [
          "Xavier University"
         ],
         "xaxis": "x",
         "yaxis": "y"
        },
        {
         "alignmentgroup": "True",
         "bingroup": "x",
         "hovertemplate": "School=%{x}<br>count=%{y}<extra></extra>",
         "legendgroup": "University of Cincinnati",
         "marker": {
          "color": "rgb(56, 166, 165)",
          "pattern": {
           "shape": ""
          }
         },
         "name": "University of Cincinnati",
         "offsetgroup": "University of Cincinnati",
         "orientation": "v",
         "showlegend": true,
         "type": "histogram",
         "x": [
          "University of Cincinnati",
          "University of Cincinnati",
          "University of Cincinnati"
         ],
         "xaxis": "x",
         "yaxis": "y"
        },
        {
         "alignmentgroup": "True",
         "bingroup": "x",
         "hovertemplate": "School=%{x}<br>count=%{y}<extra></extra>",
         "legendgroup": "Northern Kentucky University",
         "marker": {
          "color": "rgb(15, 133, 84)",
          "pattern": {
           "shape": ""
          }
         },
         "name": "Northern Kentucky University",
         "offsetgroup": "Northern Kentucky University",
         "orientation": "v",
         "showlegend": true,
         "type": "histogram",
         "x": [
          "Northern Kentucky University"
         ],
         "xaxis": "x",
         "yaxis": "y"
        },
        {
         "alignmentgroup": "True",
         "bingroup": "x",
         "hovertemplate": "School=%{x}<br>count=%{y}<extra></extra>",
         "legendgroup": "William Penn University",
         "marker": {
          "color": "rgb(115, 175, 72)",
          "pattern": {
           "shape": ""
          }
         },
         "name": "William Penn University",
         "offsetgroup": "William Penn University",
         "orientation": "v",
         "showlegend": true,
         "type": "histogram",
         "x": [
          "William Penn University"
         ],
         "xaxis": "x",
         "yaxis": "y"
        },
        {
         "alignmentgroup": "True",
         "bingroup": "x",
         "hovertemplate": "School=%{x}<br>count=%{y}<extra></extra>",
         "legendgroup": "Tech Elevator",
         "marker": {
          "color": "rgb(237, 173, 8)",
          "pattern": {
           "shape": ""
          }
         },
         "name": "Tech Elevator",
         "offsetgroup": "Tech Elevator",
         "orientation": "v",
         "showlegend": true,
         "type": "histogram",
         "x": [
          "Tech Elevator",
          "Tech Elevator",
          "Tech Elevator",
          "Tech Elevator",
          "Tech Elevator",
          "Tech Elevator",
          "Tech Elevator",
          "Tech Elevator",
          "Tech Elevator",
          "Tech Elevator",
          "Tech Elevator",
          "Tech Elevator"
         ],
         "xaxis": "x",
         "yaxis": "y"
        },
        {
         "alignmentgroup": "True",
         "bingroup": "x",
         "hovertemplate": "School=%{x}<br>count=%{y}<extra></extra>",
         "legendgroup": "Cincinnati State",
         "marker": {
          "color": "rgb(225, 124, 5)",
          "pattern": {
           "shape": ""
          }
         },
         "name": "Cincinnati State",
         "offsetgroup": "Cincinnati State",
         "orientation": "v",
         "showlegend": true,
         "type": "histogram",
         "x": [
          "Cincinnati State",
          "Cincinnati State"
         ],
         "xaxis": "x",
         "yaxis": "y"
        }
       ],
       "layout": {
        "barmode": "relative",
        "legend": {
         "title": {
          "text": "School"
         },
         "tracegroupgap": 0
        },
        "template": {
         "data": {
          "bar": [
           {
            "error_x": {
             "color": "#f2f5fa"
            },
            "error_y": {
             "color": "#f2f5fa"
            },
            "marker": {
             "line": {
              "color": "rgb(17,17,17)",
              "width": 0.5
             },
             "pattern": {
              "fillmode": "overlay",
              "size": 10,
              "solidity": 0.2
             }
            },
            "type": "bar"
           }
          ],
          "barpolar": [
           {
            "marker": {
             "line": {
              "color": "rgb(17,17,17)",
              "width": 0.5
             },
             "pattern": {
              "fillmode": "overlay",
              "size": 10,
              "solidity": 0.2
             }
            },
            "type": "barpolar"
           }
          ],
          "carpet": [
           {
            "aaxis": {
             "endlinecolor": "#A2B1C6",
             "gridcolor": "#506784",
             "linecolor": "#506784",
             "minorgridcolor": "#506784",
             "startlinecolor": "#A2B1C6"
            },
            "baxis": {
             "endlinecolor": "#A2B1C6",
             "gridcolor": "#506784",
             "linecolor": "#506784",
             "minorgridcolor": "#506784",
             "startlinecolor": "#A2B1C6"
            },
            "type": "carpet"
           }
          ],
          "choropleth": [
           {
            "colorbar": {
             "outlinewidth": 0,
             "ticks": ""
            },
            "type": "choropleth"
           }
          ],
          "contour": [
           {
            "colorbar": {
             "outlinewidth": 0,
             "ticks": ""
            },
            "colorscale": [
             [
              0,
              "#0d0887"
             ],
             [
              0.1111111111111111,
              "#46039f"
             ],
             [
              0.2222222222222222,
              "#7201a8"
             ],
             [
              0.3333333333333333,
              "#9c179e"
             ],
             [
              0.4444444444444444,
              "#bd3786"
             ],
             [
              0.5555555555555556,
              "#d8576b"
             ],
             [
              0.6666666666666666,
              "#ed7953"
             ],
             [
              0.7777777777777778,
              "#fb9f3a"
             ],
             [
              0.8888888888888888,
              "#fdca26"
             ],
             [
              1,
              "#f0f921"
             ]
            ],
            "type": "contour"
           }
          ],
          "contourcarpet": [
           {
            "colorbar": {
             "outlinewidth": 0,
             "ticks": ""
            },
            "type": "contourcarpet"
           }
          ],
          "heatmap": [
           {
            "colorbar": {
             "outlinewidth": 0,
             "ticks": ""
            },
            "colorscale": [
             [
              0,
              "#0d0887"
             ],
             [
              0.1111111111111111,
              "#46039f"
             ],
             [
              0.2222222222222222,
              "#7201a8"
             ],
             [
              0.3333333333333333,
              "#9c179e"
             ],
             [
              0.4444444444444444,
              "#bd3786"
             ],
             [
              0.5555555555555556,
              "#d8576b"
             ],
             [
              0.6666666666666666,
              "#ed7953"
             ],
             [
              0.7777777777777778,
              "#fb9f3a"
             ],
             [
              0.8888888888888888,
              "#fdca26"
             ],
             [
              1,
              "#f0f921"
             ]
            ],
            "type": "heatmap"
           }
          ],
          "heatmapgl": [
           {
            "colorbar": {
             "outlinewidth": 0,
             "ticks": ""
            },
            "colorscale": [
             [
              0,
              "#0d0887"
             ],
             [
              0.1111111111111111,
              "#46039f"
             ],
             [
              0.2222222222222222,
              "#7201a8"
             ],
             [
              0.3333333333333333,
              "#9c179e"
             ],
             [
              0.4444444444444444,
              "#bd3786"
             ],
             [
              0.5555555555555556,
              "#d8576b"
             ],
             [
              0.6666666666666666,
              "#ed7953"
             ],
             [
              0.7777777777777778,
              "#fb9f3a"
             ],
             [
              0.8888888888888888,
              "#fdca26"
             ],
             [
              1,
              "#f0f921"
             ]
            ],
            "type": "heatmapgl"
           }
          ],
          "histogram": [
           {
            "marker": {
             "pattern": {
              "fillmode": "overlay",
              "size": 10,
              "solidity": 0.2
             }
            },
            "type": "histogram"
           }
          ],
          "histogram2d": [
           {
            "colorbar": {
             "outlinewidth": 0,
             "ticks": ""
            },
            "colorscale": [
             [
              0,
              "#0d0887"
             ],
             [
              0.1111111111111111,
              "#46039f"
             ],
             [
              0.2222222222222222,
              "#7201a8"
             ],
             [
              0.3333333333333333,
              "#9c179e"
             ],
             [
              0.4444444444444444,
              "#bd3786"
             ],
             [
              0.5555555555555556,
              "#d8576b"
             ],
             [
              0.6666666666666666,
              "#ed7953"
             ],
             [
              0.7777777777777778,
              "#fb9f3a"
             ],
             [
              0.8888888888888888,
              "#fdca26"
             ],
             [
              1,
              "#f0f921"
             ]
            ],
            "type": "histogram2d"
           }
          ],
          "histogram2dcontour": [
           {
            "colorbar": {
             "outlinewidth": 0,
             "ticks": ""
            },
            "colorscale": [
             [
              0,
              "#0d0887"
             ],
             [
              0.1111111111111111,
              "#46039f"
             ],
             [
              0.2222222222222222,
              "#7201a8"
             ],
             [
              0.3333333333333333,
              "#9c179e"
             ],
             [
              0.4444444444444444,
              "#bd3786"
             ],
             [
              0.5555555555555556,
              "#d8576b"
             ],
             [
              0.6666666666666666,
              "#ed7953"
             ],
             [
              0.7777777777777778,
              "#fb9f3a"
             ],
             [
              0.8888888888888888,
              "#fdca26"
             ],
             [
              1,
              "#f0f921"
             ]
            ],
            "type": "histogram2dcontour"
           }
          ],
          "mesh3d": [
           {
            "colorbar": {
             "outlinewidth": 0,
             "ticks": ""
            },
            "type": "mesh3d"
           }
          ],
          "parcoords": [
           {
            "line": {
             "colorbar": {
              "outlinewidth": 0,
              "ticks": ""
             }
            },
            "type": "parcoords"
           }
          ],
          "pie": [
           {
            "automargin": true,
            "type": "pie"
           }
          ],
          "scatter": [
           {
            "marker": {
             "line": {
              "color": "#283442"
             }
            },
            "type": "scatter"
           }
          ],
          "scatter3d": [
           {
            "line": {
             "colorbar": {
              "outlinewidth": 0,
              "ticks": ""
             }
            },
            "marker": {
             "colorbar": {
              "outlinewidth": 0,
              "ticks": ""
             }
            },
            "type": "scatter3d"
           }
          ],
          "scattercarpet": [
           {
            "marker": {
             "colorbar": {
              "outlinewidth": 0,
              "ticks": ""
             }
            },
            "type": "scattercarpet"
           }
          ],
          "scattergeo": [
           {
            "marker": {
             "colorbar": {
              "outlinewidth": 0,
              "ticks": ""
             }
            },
            "type": "scattergeo"
           }
          ],
          "scattergl": [
           {
            "marker": {
             "line": {
              "color": "#283442"
             }
            },
            "type": "scattergl"
           }
          ],
          "scattermapbox": [
           {
            "marker": {
             "colorbar": {
              "outlinewidth": 0,
              "ticks": ""
             }
            },
            "type": "scattermapbox"
           }
          ],
          "scatterpolar": [
           {
            "marker": {
             "colorbar": {
              "outlinewidth": 0,
              "ticks": ""
             }
            },
            "type": "scatterpolar"
           }
          ],
          "scatterpolargl": [
           {
            "marker": {
             "colorbar": {
              "outlinewidth": 0,
              "ticks": ""
             }
            },
            "type": "scatterpolargl"
           }
          ],
          "scatterternary": [
           {
            "marker": {
             "colorbar": {
              "outlinewidth": 0,
              "ticks": ""
             }
            },
            "type": "scatterternary"
           }
          ],
          "surface": [
           {
            "colorbar": {
             "outlinewidth": 0,
             "ticks": ""
            },
            "colorscale": [
             [
              0,
              "#0d0887"
             ],
             [
              0.1111111111111111,
              "#46039f"
             ],
             [
              0.2222222222222222,
              "#7201a8"
             ],
             [
              0.3333333333333333,
              "#9c179e"
             ],
             [
              0.4444444444444444,
              "#bd3786"
             ],
             [
              0.5555555555555556,
              "#d8576b"
             ],
             [
              0.6666666666666666,
              "#ed7953"
             ],
             [
              0.7777777777777778,
              "#fb9f3a"
             ],
             [
              0.8888888888888888,
              "#fdca26"
             ],
             [
              1,
              "#f0f921"
             ]
            ],
            "type": "surface"
           }
          ],
          "table": [
           {
            "cells": {
             "fill": {
              "color": "#506784"
             },
             "line": {
              "color": "rgb(17,17,17)"
             }
            },
            "header": {
             "fill": {
              "color": "#2a3f5f"
             },
             "line": {
              "color": "rgb(17,17,17)"
             }
            },
            "type": "table"
           }
          ]
         },
         "layout": {
          "annotationdefaults": {
           "arrowcolor": "#f2f5fa",
           "arrowhead": 0,
           "arrowwidth": 1
          },
          "autotypenumbers": "strict",
          "coloraxis": {
           "colorbar": {
            "outlinewidth": 0,
            "ticks": ""
           }
          },
          "colorscale": {
           "diverging": [
            [
             0,
             "#8e0152"
            ],
            [
             0.1,
             "#c51b7d"
            ],
            [
             0.2,
             "#de77ae"
            ],
            [
             0.3,
             "#f1b6da"
            ],
            [
             0.4,
             "#fde0ef"
            ],
            [
             0.5,
             "#f7f7f7"
            ],
            [
             0.6,
             "#e6f5d0"
            ],
            [
             0.7,
             "#b8e186"
            ],
            [
             0.8,
             "#7fbc41"
            ],
            [
             0.9,
             "#4d9221"
            ],
            [
             1,
             "#276419"
            ]
           ],
           "sequential": [
            [
             0,
             "#0d0887"
            ],
            [
             0.1111111111111111,
             "#46039f"
            ],
            [
             0.2222222222222222,
             "#7201a8"
            ],
            [
             0.3333333333333333,
             "#9c179e"
            ],
            [
             0.4444444444444444,
             "#bd3786"
            ],
            [
             0.5555555555555556,
             "#d8576b"
            ],
            [
             0.6666666666666666,
             "#ed7953"
            ],
            [
             0.7777777777777778,
             "#fb9f3a"
            ],
            [
             0.8888888888888888,
             "#fdca26"
            ],
            [
             1,
             "#f0f921"
            ]
           ],
           "sequentialminus": [
            [
             0,
             "#0d0887"
            ],
            [
             0.1111111111111111,
             "#46039f"
            ],
            [
             0.2222222222222222,
             "#7201a8"
            ],
            [
             0.3333333333333333,
             "#9c179e"
            ],
            [
             0.4444444444444444,
             "#bd3786"
            ],
            [
             0.5555555555555556,
             "#d8576b"
            ],
            [
             0.6666666666666666,
             "#ed7953"
            ],
            [
             0.7777777777777778,
             "#fb9f3a"
            ],
            [
             0.8888888888888888,
             "#fdca26"
            ],
            [
             1,
             "#f0f921"
            ]
           ]
          },
          "colorway": [
           "#636efa",
           "#EF553B",
           "#00cc96",
           "#ab63fa",
           "#FFA15A",
           "#19d3f3",
           "#FF6692",
           "#B6E880",
           "#FF97FF",
           "#FECB52"
          ],
          "font": {
           "color": "#f2f5fa"
          },
          "geo": {
           "bgcolor": "rgb(17,17,17)",
           "lakecolor": "rgb(17,17,17)",
           "landcolor": "rgb(17,17,17)",
           "showlakes": true,
           "showland": true,
           "subunitcolor": "#506784"
          },
          "hoverlabel": {
           "align": "left"
          },
          "hovermode": "closest",
          "mapbox": {
           "style": "dark"
          },
          "paper_bgcolor": "rgb(17,17,17)",
          "plot_bgcolor": "rgb(17,17,17)",
          "polar": {
           "angularaxis": {
            "gridcolor": "#506784",
            "linecolor": "#506784",
            "ticks": ""
           },
           "bgcolor": "rgb(17,17,17)",
           "radialaxis": {
            "gridcolor": "#506784",
            "linecolor": "#506784",
            "ticks": ""
           }
          },
          "scene": {
           "xaxis": {
            "backgroundcolor": "rgb(17,17,17)",
            "gridcolor": "#506784",
            "gridwidth": 2,
            "linecolor": "#506784",
            "showbackground": true,
            "ticks": "",
            "zerolinecolor": "#C8D4E3"
           },
           "yaxis": {
            "backgroundcolor": "rgb(17,17,17)",
            "gridcolor": "#506784",
            "gridwidth": 2,
            "linecolor": "#506784",
            "showbackground": true,
            "ticks": "",
            "zerolinecolor": "#C8D4E3"
           },
           "zaxis": {
            "backgroundcolor": "rgb(17,17,17)",
            "gridcolor": "#506784",
            "gridwidth": 2,
            "linecolor": "#506784",
            "showbackground": true,
            "ticks": "",
            "zerolinecolor": "#C8D4E3"
           }
          },
          "shapedefaults": {
           "line": {
            "color": "#f2f5fa"
           }
          },
          "sliderdefaults": {
           "bgcolor": "#C8D4E3",
           "bordercolor": "rgb(17,17,17)",
           "borderwidth": 1,
           "tickwidth": 0
          },
          "ternary": {
           "aaxis": {
            "gridcolor": "#506784",
            "linecolor": "#506784",
            "ticks": ""
           },
           "baxis": {
            "gridcolor": "#506784",
            "linecolor": "#506784",
            "ticks": ""
           },
           "bgcolor": "rgb(17,17,17)",
           "caxis": {
            "gridcolor": "#506784",
            "linecolor": "#506784",
            "ticks": ""
           }
          },
          "title": {
           "x": 0.05
          },
          "updatemenudefaults": {
           "bgcolor": "#506784",
           "borderwidth": 0
          },
          "xaxis": {
           "automargin": true,
           "gridcolor": "#283442",
           "linecolor": "#506784",
           "ticks": "",
           "title": {
            "standoff": 15
           },
           "zerolinecolor": "#283442",
           "zerolinewidth": 2
          },
          "yaxis": {
           "automargin": true,
           "gridcolor": "#283442",
           "linecolor": "#506784",
           "ticks": "",
           "title": {
            "standoff": 15
           },
           "zerolinecolor": "#283442",
           "zerolinewidth": 2
          }
         }
        },
        "title": {
         "text": "Momentum 23 Student Attendees by School"
        },
        "xaxis": {
         "anchor": "y",
         "categoryarray": [
          null,
          "Xavier University",
          "University of Cincinnati",
          "Northern Kentucky University",
          "William Penn University",
          "Tech Elevator",
          "Cincinnati State"
         ],
         "categoryorder": "total descending",
         "domain": [
          0,
          1
         ],
         "title": {
          "text": "School"
         }
        },
        "yaxis": {
         "anchor": "x",
         "domain": [
          0,
          1
         ],
         "title": {
          "text": "count"
         }
        }
       }
      }
     },
     "metadata": {},
     "output_type": "display_data"
    }
   ],
   "source": [
    "px.histogram(df23, x='School', title='Momentum 23 Student Attendees by School', color='School').update_xaxes(categoryorder='total descending')"
   ]
  },
  {
   "cell_type": "code",
   "execution_count": 553,
   "metadata": {},
   "outputs": [
    {
     "data": {
      "application/vnd.plotly.v1+json": {
       "config": {
        "plotlyServerURL": "https://plot.ly"
       },
       "data": [
        {
         "coloraxis": "coloraxis",
         "hovertemplate": "School=%{x}<br>Ticket=%{y}<br>count=%{z}<extra></extra>",
         "name": "",
         "type": "histogram2d",
         "x": [
          "Xavier University",
          "University of Cincinnati",
          "Northern Kentucky University",
          "University of Cincinnati",
          "William Penn University",
          "Tech Elevator",
          "Tech Elevator",
          "Tech Elevator",
          "Tech Elevator",
          "Tech Elevator",
          "Tech Elevator",
          "Tech Elevator",
          "Tech Elevator",
          "Tech Elevator",
          "Tech Elevator",
          "Tech Elevator",
          "Tech Elevator",
          "University of Cincinnati",
          "Cincinnati State",
          "Cincinnati State"
         ],
         "xaxis": "x",
         "xbingroup": "x",
         "y": [
          "Early Student",
          "Early Student",
          "Early Student",
          "Student",
          "Student",
          "Student",
          "Student",
          "Student",
          "Student",
          "Student",
          "Student",
          "Student",
          "Student",
          "Student",
          "Student",
          "Student",
          "Student",
          "Student",
          "Student",
          "Student"
         ],
         "yaxis": "y",
         "ybingroup": "y"
        }
       ],
       "layout": {
        "coloraxis": {
         "colorbar": {
          "title": {
           "text": "count"
          }
         },
         "colorscale": [
          [
           0,
           "rgb(75, 41, 145)"
          ],
          [
           0.16666666666666666,
           "rgb(135, 44, 162)"
          ],
          [
           0.3333333333333333,
           "rgb(192, 54, 157)"
          ],
          [
           0.5,
           "rgb(234, 79, 136)"
          ],
          [
           0.6666666666666666,
           "rgb(250, 120, 118)"
          ],
          [
           0.8333333333333334,
           "rgb(246, 169, 122)"
          ],
          [
           1,
           "rgb(237, 217, 163)"
          ]
         ]
        },
        "legend": {
         "tracegroupgap": 0
        },
        "template": {
         "data": {
          "bar": [
           {
            "error_x": {
             "color": "#f2f5fa"
            },
            "error_y": {
             "color": "#f2f5fa"
            },
            "marker": {
             "line": {
              "color": "rgb(17,17,17)",
              "width": 0.5
             },
             "pattern": {
              "fillmode": "overlay",
              "size": 10,
              "solidity": 0.2
             }
            },
            "type": "bar"
           }
          ],
          "barpolar": [
           {
            "marker": {
             "line": {
              "color": "rgb(17,17,17)",
              "width": 0.5
             },
             "pattern": {
              "fillmode": "overlay",
              "size": 10,
              "solidity": 0.2
             }
            },
            "type": "barpolar"
           }
          ],
          "carpet": [
           {
            "aaxis": {
             "endlinecolor": "#A2B1C6",
             "gridcolor": "#506784",
             "linecolor": "#506784",
             "minorgridcolor": "#506784",
             "startlinecolor": "#A2B1C6"
            },
            "baxis": {
             "endlinecolor": "#A2B1C6",
             "gridcolor": "#506784",
             "linecolor": "#506784",
             "minorgridcolor": "#506784",
             "startlinecolor": "#A2B1C6"
            },
            "type": "carpet"
           }
          ],
          "choropleth": [
           {
            "colorbar": {
             "outlinewidth": 0,
             "ticks": ""
            },
            "type": "choropleth"
           }
          ],
          "contour": [
           {
            "colorbar": {
             "outlinewidth": 0,
             "ticks": ""
            },
            "colorscale": [
             [
              0,
              "#0d0887"
             ],
             [
              0.1111111111111111,
              "#46039f"
             ],
             [
              0.2222222222222222,
              "#7201a8"
             ],
             [
              0.3333333333333333,
              "#9c179e"
             ],
             [
              0.4444444444444444,
              "#bd3786"
             ],
             [
              0.5555555555555556,
              "#d8576b"
             ],
             [
              0.6666666666666666,
              "#ed7953"
             ],
             [
              0.7777777777777778,
              "#fb9f3a"
             ],
             [
              0.8888888888888888,
              "#fdca26"
             ],
             [
              1,
              "#f0f921"
             ]
            ],
            "type": "contour"
           }
          ],
          "contourcarpet": [
           {
            "colorbar": {
             "outlinewidth": 0,
             "ticks": ""
            },
            "type": "contourcarpet"
           }
          ],
          "heatmap": [
           {
            "colorbar": {
             "outlinewidth": 0,
             "ticks": ""
            },
            "colorscale": [
             [
              0,
              "#0d0887"
             ],
             [
              0.1111111111111111,
              "#46039f"
             ],
             [
              0.2222222222222222,
              "#7201a8"
             ],
             [
              0.3333333333333333,
              "#9c179e"
             ],
             [
              0.4444444444444444,
              "#bd3786"
             ],
             [
              0.5555555555555556,
              "#d8576b"
             ],
             [
              0.6666666666666666,
              "#ed7953"
             ],
             [
              0.7777777777777778,
              "#fb9f3a"
             ],
             [
              0.8888888888888888,
              "#fdca26"
             ],
             [
              1,
              "#f0f921"
             ]
            ],
            "type": "heatmap"
           }
          ],
          "heatmapgl": [
           {
            "colorbar": {
             "outlinewidth": 0,
             "ticks": ""
            },
            "colorscale": [
             [
              0,
              "#0d0887"
             ],
             [
              0.1111111111111111,
              "#46039f"
             ],
             [
              0.2222222222222222,
              "#7201a8"
             ],
             [
              0.3333333333333333,
              "#9c179e"
             ],
             [
              0.4444444444444444,
              "#bd3786"
             ],
             [
              0.5555555555555556,
              "#d8576b"
             ],
             [
              0.6666666666666666,
              "#ed7953"
             ],
             [
              0.7777777777777778,
              "#fb9f3a"
             ],
             [
              0.8888888888888888,
              "#fdca26"
             ],
             [
              1,
              "#f0f921"
             ]
            ],
            "type": "heatmapgl"
           }
          ],
          "histogram": [
           {
            "marker": {
             "pattern": {
              "fillmode": "overlay",
              "size": 10,
              "solidity": 0.2
             }
            },
            "type": "histogram"
           }
          ],
          "histogram2d": [
           {
            "colorbar": {
             "outlinewidth": 0,
             "ticks": ""
            },
            "colorscale": [
             [
              0,
              "#0d0887"
             ],
             [
              0.1111111111111111,
              "#46039f"
             ],
             [
              0.2222222222222222,
              "#7201a8"
             ],
             [
              0.3333333333333333,
              "#9c179e"
             ],
             [
              0.4444444444444444,
              "#bd3786"
             ],
             [
              0.5555555555555556,
              "#d8576b"
             ],
             [
              0.6666666666666666,
              "#ed7953"
             ],
             [
              0.7777777777777778,
              "#fb9f3a"
             ],
             [
              0.8888888888888888,
              "#fdca26"
             ],
             [
              1,
              "#f0f921"
             ]
            ],
            "type": "histogram2d"
           }
          ],
          "histogram2dcontour": [
           {
            "colorbar": {
             "outlinewidth": 0,
             "ticks": ""
            },
            "colorscale": [
             [
              0,
              "#0d0887"
             ],
             [
              0.1111111111111111,
              "#46039f"
             ],
             [
              0.2222222222222222,
              "#7201a8"
             ],
             [
              0.3333333333333333,
              "#9c179e"
             ],
             [
              0.4444444444444444,
              "#bd3786"
             ],
             [
              0.5555555555555556,
              "#d8576b"
             ],
             [
              0.6666666666666666,
              "#ed7953"
             ],
             [
              0.7777777777777778,
              "#fb9f3a"
             ],
             [
              0.8888888888888888,
              "#fdca26"
             ],
             [
              1,
              "#f0f921"
             ]
            ],
            "type": "histogram2dcontour"
           }
          ],
          "mesh3d": [
           {
            "colorbar": {
             "outlinewidth": 0,
             "ticks": ""
            },
            "type": "mesh3d"
           }
          ],
          "parcoords": [
           {
            "line": {
             "colorbar": {
              "outlinewidth": 0,
              "ticks": ""
             }
            },
            "type": "parcoords"
           }
          ],
          "pie": [
           {
            "automargin": true,
            "type": "pie"
           }
          ],
          "scatter": [
           {
            "marker": {
             "line": {
              "color": "#283442"
             }
            },
            "type": "scatter"
           }
          ],
          "scatter3d": [
           {
            "line": {
             "colorbar": {
              "outlinewidth": 0,
              "ticks": ""
             }
            },
            "marker": {
             "colorbar": {
              "outlinewidth": 0,
              "ticks": ""
             }
            },
            "type": "scatter3d"
           }
          ],
          "scattercarpet": [
           {
            "marker": {
             "colorbar": {
              "outlinewidth": 0,
              "ticks": ""
             }
            },
            "type": "scattercarpet"
           }
          ],
          "scattergeo": [
           {
            "marker": {
             "colorbar": {
              "outlinewidth": 0,
              "ticks": ""
             }
            },
            "type": "scattergeo"
           }
          ],
          "scattergl": [
           {
            "marker": {
             "line": {
              "color": "#283442"
             }
            },
            "type": "scattergl"
           }
          ],
          "scattermapbox": [
           {
            "marker": {
             "colorbar": {
              "outlinewidth": 0,
              "ticks": ""
             }
            },
            "type": "scattermapbox"
           }
          ],
          "scatterpolar": [
           {
            "marker": {
             "colorbar": {
              "outlinewidth": 0,
              "ticks": ""
             }
            },
            "type": "scatterpolar"
           }
          ],
          "scatterpolargl": [
           {
            "marker": {
             "colorbar": {
              "outlinewidth": 0,
              "ticks": ""
             }
            },
            "type": "scatterpolargl"
           }
          ],
          "scatterternary": [
           {
            "marker": {
             "colorbar": {
              "outlinewidth": 0,
              "ticks": ""
             }
            },
            "type": "scatterternary"
           }
          ],
          "surface": [
           {
            "colorbar": {
             "outlinewidth": 0,
             "ticks": ""
            },
            "colorscale": [
             [
              0,
              "#0d0887"
             ],
             [
              0.1111111111111111,
              "#46039f"
             ],
             [
              0.2222222222222222,
              "#7201a8"
             ],
             [
              0.3333333333333333,
              "#9c179e"
             ],
             [
              0.4444444444444444,
              "#bd3786"
             ],
             [
              0.5555555555555556,
              "#d8576b"
             ],
             [
              0.6666666666666666,
              "#ed7953"
             ],
             [
              0.7777777777777778,
              "#fb9f3a"
             ],
             [
              0.8888888888888888,
              "#fdca26"
             ],
             [
              1,
              "#f0f921"
             ]
            ],
            "type": "surface"
           }
          ],
          "table": [
           {
            "cells": {
             "fill": {
              "color": "#506784"
             },
             "line": {
              "color": "rgb(17,17,17)"
             }
            },
            "header": {
             "fill": {
              "color": "#2a3f5f"
             },
             "line": {
              "color": "rgb(17,17,17)"
             }
            },
            "type": "table"
           }
          ]
         },
         "layout": {
          "annotationdefaults": {
           "arrowcolor": "#f2f5fa",
           "arrowhead": 0,
           "arrowwidth": 1
          },
          "autotypenumbers": "strict",
          "coloraxis": {
           "colorbar": {
            "outlinewidth": 0,
            "ticks": ""
           }
          },
          "colorscale": {
           "diverging": [
            [
             0,
             "#8e0152"
            ],
            [
             0.1,
             "#c51b7d"
            ],
            [
             0.2,
             "#de77ae"
            ],
            [
             0.3,
             "#f1b6da"
            ],
            [
             0.4,
             "#fde0ef"
            ],
            [
             0.5,
             "#f7f7f7"
            ],
            [
             0.6,
             "#e6f5d0"
            ],
            [
             0.7,
             "#b8e186"
            ],
            [
             0.8,
             "#7fbc41"
            ],
            [
             0.9,
             "#4d9221"
            ],
            [
             1,
             "#276419"
            ]
           ],
           "sequential": [
            [
             0,
             "#0d0887"
            ],
            [
             0.1111111111111111,
             "#46039f"
            ],
            [
             0.2222222222222222,
             "#7201a8"
            ],
            [
             0.3333333333333333,
             "#9c179e"
            ],
            [
             0.4444444444444444,
             "#bd3786"
            ],
            [
             0.5555555555555556,
             "#d8576b"
            ],
            [
             0.6666666666666666,
             "#ed7953"
            ],
            [
             0.7777777777777778,
             "#fb9f3a"
            ],
            [
             0.8888888888888888,
             "#fdca26"
            ],
            [
             1,
             "#f0f921"
            ]
           ],
           "sequentialminus": [
            [
             0,
             "#0d0887"
            ],
            [
             0.1111111111111111,
             "#46039f"
            ],
            [
             0.2222222222222222,
             "#7201a8"
            ],
            [
             0.3333333333333333,
             "#9c179e"
            ],
            [
             0.4444444444444444,
             "#bd3786"
            ],
            [
             0.5555555555555556,
             "#d8576b"
            ],
            [
             0.6666666666666666,
             "#ed7953"
            ],
            [
             0.7777777777777778,
             "#fb9f3a"
            ],
            [
             0.8888888888888888,
             "#fdca26"
            ],
            [
             1,
             "#f0f921"
            ]
           ]
          },
          "colorway": [
           "#636efa",
           "#EF553B",
           "#00cc96",
           "#ab63fa",
           "#FFA15A",
           "#19d3f3",
           "#FF6692",
           "#B6E880",
           "#FF97FF",
           "#FECB52"
          ],
          "font": {
           "color": "#f2f5fa"
          },
          "geo": {
           "bgcolor": "rgb(17,17,17)",
           "lakecolor": "rgb(17,17,17)",
           "landcolor": "rgb(17,17,17)",
           "showlakes": true,
           "showland": true,
           "subunitcolor": "#506784"
          },
          "hoverlabel": {
           "align": "left"
          },
          "hovermode": "closest",
          "mapbox": {
           "style": "dark"
          },
          "paper_bgcolor": "rgb(17,17,17)",
          "plot_bgcolor": "rgb(17,17,17)",
          "polar": {
           "angularaxis": {
            "gridcolor": "#506784",
            "linecolor": "#506784",
            "ticks": ""
           },
           "bgcolor": "rgb(17,17,17)",
           "radialaxis": {
            "gridcolor": "#506784",
            "linecolor": "#506784",
            "ticks": ""
           }
          },
          "scene": {
           "xaxis": {
            "backgroundcolor": "rgb(17,17,17)",
            "gridcolor": "#506784",
            "gridwidth": 2,
            "linecolor": "#506784",
            "showbackground": true,
            "ticks": "",
            "zerolinecolor": "#C8D4E3"
           },
           "yaxis": {
            "backgroundcolor": "rgb(17,17,17)",
            "gridcolor": "#506784",
            "gridwidth": 2,
            "linecolor": "#506784",
            "showbackground": true,
            "ticks": "",
            "zerolinecolor": "#C8D4E3"
           },
           "zaxis": {
            "backgroundcolor": "rgb(17,17,17)",
            "gridcolor": "#506784",
            "gridwidth": 2,
            "linecolor": "#506784",
            "showbackground": true,
            "ticks": "",
            "zerolinecolor": "#C8D4E3"
           }
          },
          "shapedefaults": {
           "line": {
            "color": "#f2f5fa"
           }
          },
          "sliderdefaults": {
           "bgcolor": "#C8D4E3",
           "bordercolor": "rgb(17,17,17)",
           "borderwidth": 1,
           "tickwidth": 0
          },
          "ternary": {
           "aaxis": {
            "gridcolor": "#506784",
            "linecolor": "#506784",
            "ticks": ""
           },
           "baxis": {
            "gridcolor": "#506784",
            "linecolor": "#506784",
            "ticks": ""
           },
           "bgcolor": "rgb(17,17,17)",
           "caxis": {
            "gridcolor": "#506784",
            "linecolor": "#506784",
            "ticks": ""
           }
          },
          "title": {
           "x": 0.05
          },
          "updatemenudefaults": {
           "bgcolor": "#506784",
           "borderwidth": 0
          },
          "xaxis": {
           "automargin": true,
           "gridcolor": "#283442",
           "linecolor": "#506784",
           "ticks": "",
           "title": {
            "standoff": 15
           },
           "zerolinecolor": "#283442",
           "zerolinewidth": 2
          },
          "yaxis": {
           "automargin": true,
           "gridcolor": "#283442",
           "linecolor": "#506784",
           "ticks": "",
           "title": {
            "standoff": 15
           },
           "zerolinecolor": "#283442",
           "zerolinewidth": 2
          }
         }
        },
        "title": {
         "text": "Momentum 23 Student Attendees by School"
        },
        "xaxis": {
         "anchor": "y",
         "domain": [
          0,
          1
         ],
         "title": {
          "text": "School"
         }
        },
        "yaxis": {
         "anchor": "x",
         "domain": [
          0,
          1
         ],
         "title": {
          "text": "Ticket"
         }
        }
       }
      }
     },
     "metadata": {},
     "output_type": "display_data"
    }
   ],
   "source": [
    "px.density_heatmap(df23[df23['Ticket'].isin(['Student', 'Early Student'])], x='School', y='Ticket', title='Momentum 23 Student Attendees by School')"
   ]
  },
  {
   "cell_type": "code",
   "execution_count": 554,
   "metadata": {},
   "outputs": [
    {
     "name": "stderr",
     "output_type": "stream",
     "text": [
      "/home/matteland/anaconda3/lib/python3.11/site-packages/_plotly_utils/basevalidators.py:106: FutureWarning:\n",
      "\n",
      "The behavior of DatetimeProperties.to_pydatetime is deprecated, in a future version this will return a Series containing python datetime objects instead of an ndarray. To retain the old behavior, call `np.array` on the result\n",
      "\n"
     ]
    },
    {
     "data": {
      "application/vnd.plotly.v1+json": {
       "config": {
        "plotlyServerURL": "https://plot.ly"
       },
       "data": [
        {
         "hovertemplate": "School=%{y}<br>Order Date=%{x}<extra></extra>",
         "legendgroup": "Xavier University",
         "marker": {
          "color": "rgb(95, 70, 144)",
          "symbol": "circle"
         },
         "mode": "markers",
         "name": "Xavier University",
         "orientation": "v",
         "showlegend": true,
         "type": "scatter",
         "x": [
          "2023-08-13T11:46:08+00:00"
         ],
         "xaxis": "x",
         "y": [
          "Xavier University"
         ],
         "yaxis": "y"
        },
        {
         "hovertemplate": "School=%{y}<br>Order Date=%{x}<extra></extra>",
         "legendgroup": "University of Cincinnati",
         "marker": {
          "color": "rgb(29, 105, 150)",
          "symbol": "circle"
         },
         "mode": "markers",
         "name": "University of Cincinnati",
         "orientation": "v",
         "showlegend": true,
         "type": "scatter",
         "x": [
          "2023-08-15T16:31:19+00:00",
          "2023-09-08T15:40:00+00:00",
          "2023-09-29T17:41:39+00:00"
         ],
         "xaxis": "x",
         "y": [
          "University of Cincinnati",
          "University of Cincinnati",
          "University of Cincinnati"
         ],
         "yaxis": "y"
        },
        {
         "hovertemplate": "School=%{y}<br>Order Date=%{x}<extra></extra>",
         "legendgroup": "Northern Kentucky University",
         "marker": {
          "color": "rgb(56, 166, 165)",
          "symbol": "circle"
         },
         "mode": "markers",
         "name": "Northern Kentucky University",
         "orientation": "v",
         "showlegend": true,
         "type": "scatter",
         "x": [
          "2023-08-15T19:14:37+00:00"
         ],
         "xaxis": "x",
         "y": [
          "Northern Kentucky University"
         ],
         "yaxis": "y"
        },
        {
         "hovertemplate": "School=%{y}<br>Order Date=%{x}<extra></extra>",
         "legendgroup": "William Penn University",
         "marker": {
          "color": "rgb(15, 133, 84)",
          "symbol": "circle"
         },
         "mode": "markers",
         "name": "William Penn University",
         "orientation": "v",
         "showlegend": true,
         "type": "scatter",
         "x": [
          "2023-09-18T01:31:15+00:00"
         ],
         "xaxis": "x",
         "y": [
          "William Penn University"
         ],
         "yaxis": "y"
        },
        {
         "hovertemplate": "School=%{y}<br>Order Date=%{x}<extra></extra>",
         "legendgroup": "Tech Elevator",
         "marker": {
          "color": "rgb(115, 175, 72)",
          "symbol": "circle"
         },
         "mode": "markers",
         "name": "Tech Elevator",
         "orientation": "v",
         "showlegend": true,
         "type": "scatter",
         "x": [
          "2023-09-19T01:33:05+00:00",
          "2023-09-21T23:15:51+00:00",
          "2023-09-22T11:22:39+00:00",
          "2023-09-22T12:59:25+00:00",
          "2023-09-22T19:14:53+00:00",
          "2023-09-22T20:43:35+00:00",
          "2023-09-22T20:47:43+00:00",
          "2023-09-22T21:10:10+00:00",
          "2023-09-22T21:10:26+00:00",
          "2023-09-22T21:09:46+00:00",
          "2023-09-23T01:13:51+00:00",
          "2023-09-25T16:58:16+00:00"
         ],
         "xaxis": "x",
         "y": [
          "Tech Elevator",
          "Tech Elevator",
          "Tech Elevator",
          "Tech Elevator",
          "Tech Elevator",
          "Tech Elevator",
          "Tech Elevator",
          "Tech Elevator",
          "Tech Elevator",
          "Tech Elevator",
          "Tech Elevator",
          "Tech Elevator"
         ],
         "yaxis": "y"
        },
        {
         "hovertemplate": "School=%{y}<br>Order Date=%{x}<extra></extra>",
         "legendgroup": "Cincinnati State",
         "marker": {
          "color": "rgb(237, 173, 8)",
          "symbol": "circle"
         },
         "mode": "markers",
         "name": "Cincinnati State",
         "orientation": "v",
         "showlegend": true,
         "type": "scatter",
         "x": [
          "2023-10-06T01:11:03+00:00",
          "2023-10-17T15:17:09+00:00"
         ],
         "xaxis": "x",
         "y": [
          "Cincinnati State",
          "Cincinnati State"
         ],
         "yaxis": "y"
        }
       ],
       "layout": {
        "legend": {
         "title": {
          "text": "School"
         },
         "tracegroupgap": 0
        },
        "template": {
         "data": {
          "bar": [
           {
            "error_x": {
             "color": "#f2f5fa"
            },
            "error_y": {
             "color": "#f2f5fa"
            },
            "marker": {
             "line": {
              "color": "rgb(17,17,17)",
              "width": 0.5
             },
             "pattern": {
              "fillmode": "overlay",
              "size": 10,
              "solidity": 0.2
             }
            },
            "type": "bar"
           }
          ],
          "barpolar": [
           {
            "marker": {
             "line": {
              "color": "rgb(17,17,17)",
              "width": 0.5
             },
             "pattern": {
              "fillmode": "overlay",
              "size": 10,
              "solidity": 0.2
             }
            },
            "type": "barpolar"
           }
          ],
          "carpet": [
           {
            "aaxis": {
             "endlinecolor": "#A2B1C6",
             "gridcolor": "#506784",
             "linecolor": "#506784",
             "minorgridcolor": "#506784",
             "startlinecolor": "#A2B1C6"
            },
            "baxis": {
             "endlinecolor": "#A2B1C6",
             "gridcolor": "#506784",
             "linecolor": "#506784",
             "minorgridcolor": "#506784",
             "startlinecolor": "#A2B1C6"
            },
            "type": "carpet"
           }
          ],
          "choropleth": [
           {
            "colorbar": {
             "outlinewidth": 0,
             "ticks": ""
            },
            "type": "choropleth"
           }
          ],
          "contour": [
           {
            "colorbar": {
             "outlinewidth": 0,
             "ticks": ""
            },
            "colorscale": [
             [
              0,
              "#0d0887"
             ],
             [
              0.1111111111111111,
              "#46039f"
             ],
             [
              0.2222222222222222,
              "#7201a8"
             ],
             [
              0.3333333333333333,
              "#9c179e"
             ],
             [
              0.4444444444444444,
              "#bd3786"
             ],
             [
              0.5555555555555556,
              "#d8576b"
             ],
             [
              0.6666666666666666,
              "#ed7953"
             ],
             [
              0.7777777777777778,
              "#fb9f3a"
             ],
             [
              0.8888888888888888,
              "#fdca26"
             ],
             [
              1,
              "#f0f921"
             ]
            ],
            "type": "contour"
           }
          ],
          "contourcarpet": [
           {
            "colorbar": {
             "outlinewidth": 0,
             "ticks": ""
            },
            "type": "contourcarpet"
           }
          ],
          "heatmap": [
           {
            "colorbar": {
             "outlinewidth": 0,
             "ticks": ""
            },
            "colorscale": [
             [
              0,
              "#0d0887"
             ],
             [
              0.1111111111111111,
              "#46039f"
             ],
             [
              0.2222222222222222,
              "#7201a8"
             ],
             [
              0.3333333333333333,
              "#9c179e"
             ],
             [
              0.4444444444444444,
              "#bd3786"
             ],
             [
              0.5555555555555556,
              "#d8576b"
             ],
             [
              0.6666666666666666,
              "#ed7953"
             ],
             [
              0.7777777777777778,
              "#fb9f3a"
             ],
             [
              0.8888888888888888,
              "#fdca26"
             ],
             [
              1,
              "#f0f921"
             ]
            ],
            "type": "heatmap"
           }
          ],
          "heatmapgl": [
           {
            "colorbar": {
             "outlinewidth": 0,
             "ticks": ""
            },
            "colorscale": [
             [
              0,
              "#0d0887"
             ],
             [
              0.1111111111111111,
              "#46039f"
             ],
             [
              0.2222222222222222,
              "#7201a8"
             ],
             [
              0.3333333333333333,
              "#9c179e"
             ],
             [
              0.4444444444444444,
              "#bd3786"
             ],
             [
              0.5555555555555556,
              "#d8576b"
             ],
             [
              0.6666666666666666,
              "#ed7953"
             ],
             [
              0.7777777777777778,
              "#fb9f3a"
             ],
             [
              0.8888888888888888,
              "#fdca26"
             ],
             [
              1,
              "#f0f921"
             ]
            ],
            "type": "heatmapgl"
           }
          ],
          "histogram": [
           {
            "marker": {
             "pattern": {
              "fillmode": "overlay",
              "size": 10,
              "solidity": 0.2
             }
            },
            "type": "histogram"
           }
          ],
          "histogram2d": [
           {
            "colorbar": {
             "outlinewidth": 0,
             "ticks": ""
            },
            "colorscale": [
             [
              0,
              "#0d0887"
             ],
             [
              0.1111111111111111,
              "#46039f"
             ],
             [
              0.2222222222222222,
              "#7201a8"
             ],
             [
              0.3333333333333333,
              "#9c179e"
             ],
             [
              0.4444444444444444,
              "#bd3786"
             ],
             [
              0.5555555555555556,
              "#d8576b"
             ],
             [
              0.6666666666666666,
              "#ed7953"
             ],
             [
              0.7777777777777778,
              "#fb9f3a"
             ],
             [
              0.8888888888888888,
              "#fdca26"
             ],
             [
              1,
              "#f0f921"
             ]
            ],
            "type": "histogram2d"
           }
          ],
          "histogram2dcontour": [
           {
            "colorbar": {
             "outlinewidth": 0,
             "ticks": ""
            },
            "colorscale": [
             [
              0,
              "#0d0887"
             ],
             [
              0.1111111111111111,
              "#46039f"
             ],
             [
              0.2222222222222222,
              "#7201a8"
             ],
             [
              0.3333333333333333,
              "#9c179e"
             ],
             [
              0.4444444444444444,
              "#bd3786"
             ],
             [
              0.5555555555555556,
              "#d8576b"
             ],
             [
              0.6666666666666666,
              "#ed7953"
             ],
             [
              0.7777777777777778,
              "#fb9f3a"
             ],
             [
              0.8888888888888888,
              "#fdca26"
             ],
             [
              1,
              "#f0f921"
             ]
            ],
            "type": "histogram2dcontour"
           }
          ],
          "mesh3d": [
           {
            "colorbar": {
             "outlinewidth": 0,
             "ticks": ""
            },
            "type": "mesh3d"
           }
          ],
          "parcoords": [
           {
            "line": {
             "colorbar": {
              "outlinewidth": 0,
              "ticks": ""
             }
            },
            "type": "parcoords"
           }
          ],
          "pie": [
           {
            "automargin": true,
            "type": "pie"
           }
          ],
          "scatter": [
           {
            "marker": {
             "line": {
              "color": "#283442"
             }
            },
            "type": "scatter"
           }
          ],
          "scatter3d": [
           {
            "line": {
             "colorbar": {
              "outlinewidth": 0,
              "ticks": ""
             }
            },
            "marker": {
             "colorbar": {
              "outlinewidth": 0,
              "ticks": ""
             }
            },
            "type": "scatter3d"
           }
          ],
          "scattercarpet": [
           {
            "marker": {
             "colorbar": {
              "outlinewidth": 0,
              "ticks": ""
             }
            },
            "type": "scattercarpet"
           }
          ],
          "scattergeo": [
           {
            "marker": {
             "colorbar": {
              "outlinewidth": 0,
              "ticks": ""
             }
            },
            "type": "scattergeo"
           }
          ],
          "scattergl": [
           {
            "marker": {
             "line": {
              "color": "#283442"
             }
            },
            "type": "scattergl"
           }
          ],
          "scattermapbox": [
           {
            "marker": {
             "colorbar": {
              "outlinewidth": 0,
              "ticks": ""
             }
            },
            "type": "scattermapbox"
           }
          ],
          "scatterpolar": [
           {
            "marker": {
             "colorbar": {
              "outlinewidth": 0,
              "ticks": ""
             }
            },
            "type": "scatterpolar"
           }
          ],
          "scatterpolargl": [
           {
            "marker": {
             "colorbar": {
              "outlinewidth": 0,
              "ticks": ""
             }
            },
            "type": "scatterpolargl"
           }
          ],
          "scatterternary": [
           {
            "marker": {
             "colorbar": {
              "outlinewidth": 0,
              "ticks": ""
             }
            },
            "type": "scatterternary"
           }
          ],
          "surface": [
           {
            "colorbar": {
             "outlinewidth": 0,
             "ticks": ""
            },
            "colorscale": [
             [
              0,
              "#0d0887"
             ],
             [
              0.1111111111111111,
              "#46039f"
             ],
             [
              0.2222222222222222,
              "#7201a8"
             ],
             [
              0.3333333333333333,
              "#9c179e"
             ],
             [
              0.4444444444444444,
              "#bd3786"
             ],
             [
              0.5555555555555556,
              "#d8576b"
             ],
             [
              0.6666666666666666,
              "#ed7953"
             ],
             [
              0.7777777777777778,
              "#fb9f3a"
             ],
             [
              0.8888888888888888,
              "#fdca26"
             ],
             [
              1,
              "#f0f921"
             ]
            ],
            "type": "surface"
           }
          ],
          "table": [
           {
            "cells": {
             "fill": {
              "color": "#506784"
             },
             "line": {
              "color": "rgb(17,17,17)"
             }
            },
            "header": {
             "fill": {
              "color": "#2a3f5f"
             },
             "line": {
              "color": "rgb(17,17,17)"
             }
            },
            "type": "table"
           }
          ]
         },
         "layout": {
          "annotationdefaults": {
           "arrowcolor": "#f2f5fa",
           "arrowhead": 0,
           "arrowwidth": 1
          },
          "autotypenumbers": "strict",
          "coloraxis": {
           "colorbar": {
            "outlinewidth": 0,
            "ticks": ""
           }
          },
          "colorscale": {
           "diverging": [
            [
             0,
             "#8e0152"
            ],
            [
             0.1,
             "#c51b7d"
            ],
            [
             0.2,
             "#de77ae"
            ],
            [
             0.3,
             "#f1b6da"
            ],
            [
             0.4,
             "#fde0ef"
            ],
            [
             0.5,
             "#f7f7f7"
            ],
            [
             0.6,
             "#e6f5d0"
            ],
            [
             0.7,
             "#b8e186"
            ],
            [
             0.8,
             "#7fbc41"
            ],
            [
             0.9,
             "#4d9221"
            ],
            [
             1,
             "#276419"
            ]
           ],
           "sequential": [
            [
             0,
             "#0d0887"
            ],
            [
             0.1111111111111111,
             "#46039f"
            ],
            [
             0.2222222222222222,
             "#7201a8"
            ],
            [
             0.3333333333333333,
             "#9c179e"
            ],
            [
             0.4444444444444444,
             "#bd3786"
            ],
            [
             0.5555555555555556,
             "#d8576b"
            ],
            [
             0.6666666666666666,
             "#ed7953"
            ],
            [
             0.7777777777777778,
             "#fb9f3a"
            ],
            [
             0.8888888888888888,
             "#fdca26"
            ],
            [
             1,
             "#f0f921"
            ]
           ],
           "sequentialminus": [
            [
             0,
             "#0d0887"
            ],
            [
             0.1111111111111111,
             "#46039f"
            ],
            [
             0.2222222222222222,
             "#7201a8"
            ],
            [
             0.3333333333333333,
             "#9c179e"
            ],
            [
             0.4444444444444444,
             "#bd3786"
            ],
            [
             0.5555555555555556,
             "#d8576b"
            ],
            [
             0.6666666666666666,
             "#ed7953"
            ],
            [
             0.7777777777777778,
             "#fb9f3a"
            ],
            [
             0.8888888888888888,
             "#fdca26"
            ],
            [
             1,
             "#f0f921"
            ]
           ]
          },
          "colorway": [
           "#636efa",
           "#EF553B",
           "#00cc96",
           "#ab63fa",
           "#FFA15A",
           "#19d3f3",
           "#FF6692",
           "#B6E880",
           "#FF97FF",
           "#FECB52"
          ],
          "font": {
           "color": "#f2f5fa"
          },
          "geo": {
           "bgcolor": "rgb(17,17,17)",
           "lakecolor": "rgb(17,17,17)",
           "landcolor": "rgb(17,17,17)",
           "showlakes": true,
           "showland": true,
           "subunitcolor": "#506784"
          },
          "hoverlabel": {
           "align": "left"
          },
          "hovermode": "closest",
          "mapbox": {
           "style": "dark"
          },
          "paper_bgcolor": "rgb(17,17,17)",
          "plot_bgcolor": "rgb(17,17,17)",
          "polar": {
           "angularaxis": {
            "gridcolor": "#506784",
            "linecolor": "#506784",
            "ticks": ""
           },
           "bgcolor": "rgb(17,17,17)",
           "radialaxis": {
            "gridcolor": "#506784",
            "linecolor": "#506784",
            "ticks": ""
           }
          },
          "scene": {
           "xaxis": {
            "backgroundcolor": "rgb(17,17,17)",
            "gridcolor": "#506784",
            "gridwidth": 2,
            "linecolor": "#506784",
            "showbackground": true,
            "ticks": "",
            "zerolinecolor": "#C8D4E3"
           },
           "yaxis": {
            "backgroundcolor": "rgb(17,17,17)",
            "gridcolor": "#506784",
            "gridwidth": 2,
            "linecolor": "#506784",
            "showbackground": true,
            "ticks": "",
            "zerolinecolor": "#C8D4E3"
           },
           "zaxis": {
            "backgroundcolor": "rgb(17,17,17)",
            "gridcolor": "#506784",
            "gridwidth": 2,
            "linecolor": "#506784",
            "showbackground": true,
            "ticks": "",
            "zerolinecolor": "#C8D4E3"
           }
          },
          "shapedefaults": {
           "line": {
            "color": "#f2f5fa"
           }
          },
          "sliderdefaults": {
           "bgcolor": "#C8D4E3",
           "bordercolor": "rgb(17,17,17)",
           "borderwidth": 1,
           "tickwidth": 0
          },
          "ternary": {
           "aaxis": {
            "gridcolor": "#506784",
            "linecolor": "#506784",
            "ticks": ""
           },
           "baxis": {
            "gridcolor": "#506784",
            "linecolor": "#506784",
            "ticks": ""
           },
           "bgcolor": "rgb(17,17,17)",
           "caxis": {
            "gridcolor": "#506784",
            "linecolor": "#506784",
            "ticks": ""
           }
          },
          "title": {
           "x": 0.05
          },
          "updatemenudefaults": {
           "bgcolor": "#506784",
           "borderwidth": 0
          },
          "xaxis": {
           "automargin": true,
           "gridcolor": "#283442",
           "linecolor": "#506784",
           "ticks": "",
           "title": {
            "standoff": 15
           },
           "zerolinecolor": "#283442",
           "zerolinewidth": 2
          },
          "yaxis": {
           "automargin": true,
           "gridcolor": "#283442",
           "linecolor": "#506784",
           "ticks": "",
           "title": {
            "standoff": 15
           },
           "zerolinecolor": "#283442",
           "zerolinewidth": 2
          }
         }
        },
        "title": {
         "text": "Momentum 23 Student Attendees by School"
        },
        "xaxis": {
         "anchor": "y",
         "domain": [
          0,
          1
         ],
         "title": {
          "text": "Order Date"
         }
        },
        "yaxis": {
         "anchor": "x",
         "categoryarray": [
          "Cincinnati State",
          "Tech Elevator",
          "William Penn University",
          "Northern Kentucky University",
          "University of Cincinnati",
          "Xavier University"
         ],
         "categoryorder": "array",
         "domain": [
          0,
          1
         ],
         "title": {
          "text": "School"
         }
        }
       }
      }
     },
     "metadata": {},
     "output_type": "display_data"
    }
   ],
   "source": [
    "px.scatter(df23[df23['Ticket'].isin(['Student', 'Early Student'])], x='Order Date', y='School', color='School', title='Momentum 23 Student Attendees by School')"
   ]
  },
  {
   "cell_type": "markdown",
   "metadata": {},
   "source": [
    "## Pizza Preferences"
   ]
  },
  {
   "cell_type": "code",
   "execution_count": 555,
   "metadata": {},
   "outputs": [
    {
     "data": {
      "application/vnd.plotly.v1+json": {
       "config": {
        "plotlyServerURL": "https://plot.ly"
       },
       "data": [
        {
         "alignmentgroup": "True",
         "bingroup": "x",
         "hovertemplate": "Favorite Pizza=%{x}<br>count=%{y}<extra></extra>",
         "legendgroup": "",
         "marker": {
          "color": "rgb(95, 70, 144)",
          "pattern": {
           "shape": ""
          }
         },
         "name": "",
         "offsetgroup": "",
         "orientation": "v",
         "showlegend": false,
         "type": "histogram",
         "x": [
          "LaRosa's",
          "Goodfellas",
          null,
          null,
          null,
          "LaRosa's",
          "Adriatico's",
          "LaRosa's",
          null,
          "Dewey's",
          "Dewey's",
          "Camporosso",
          "Goodfellas",
          null,
          "Goodfellas",
          "Kosher",
          "Goodfellas, Fratellis",
          "Taglio",
          "Bourbon House",
          "Dewey's, Crash at Michael's and just wait at the dining table until he brings you the perfect pizza from the local eateries.",
          null,
          "Dewey's, Tazikis",
          "Adriatico's",
          "Goodfellas",
          "Goodfellas",
          "Goodfellas",
          "Goodfellas",
          "Dewey's",
          null,
          null,
          null,
          null,
          null,
          null,
          "Dewey's",
          null,
          null,
          null,
          "I'm not from there and have no clue what's good for pizza in Cincinnati.",
          "Dewey's",
          "Bourbon House",
          "Bourbon House",
          "Adriatico's",
          null,
          null,
          null,
          "Goodfellas",
          "Surprise me 🍕🎲",
          "Two Cities",
          "I don't know any Cinci pizza places! I feel like an outsider now ;)",
          null,
          "Adriatico's, Don't make me pick between Adriatico's and Dewey's :)",
          "Bourbon House",
          null,
          "Dewey's",
          "LaRosa's",
          null,
          "LaRosa's",
          "LaRosa's, In Cincinnati, the bells ring ecstatic, For Momentum, the tech con fanatic. Softwares’ charm on display, Ideas bloom like the day, It's a meeting both fun and pragmatic.",
          "LaRosa's",
          "Adriatico's",
          "Goodfellas",
          null,
          "Camporosso",
          "Goodfellas",
          null,
          "Whoever makes the best Gluten Free pizza. ;-)",
          "Papa John’s",
          "Dewey's",
          null,
          "Dewey's",
          null,
          null,
          "Goodfellas",
          "LaRosa's",
          "Adriatico's",
          "Goodfellas",
          null,
          null,
          "Taglio",
          "Mio's",
          "Saint Francis Apizza",
          "Adriatico's",
          null,
          "Dewey's",
          "Dominos",
          "Adriatico's",
          "Goodfellas",
          "Dewey's",
          "Taglio",
          "Dewey's",
          "Dewey's",
          "Adriatico's",
          "LaRosa's",
          "Adriatico's",
          "Dewey's",
          "Adriatico's",
          "Dewey's",
          "Adriatico's",
          "Dewey's",
          "Adriatico's",
          "Dewey's",
          "Goodfellas, Skyline",
          "Dewey's, Mac's Pizza Pub",
          null,
          "Goodfellas",
          "LaRosa's, Papa Johns | or Goodfellas",
          "Dewey's, Taft's Pizza!",
          "Goodfellas",
          "Dewey's",
          "Taglio's",
          "Bourbon House, Taglio",
          "Adriatico's",
          "Goodfellas",
          "LaRosa's",
          null,
          "Dewey's",
          "Dewey's",
          "Camporosso",
          "Dewey's",
          "Adriatico's",
          "Goodfellas, Goose & Elder",
          "Bourbon House",
          "Goodfellas, Donatos",
          "LaRosa's",
          "Adriatico's",
          "Dewey's",
          null,
          "Camporosso",
          null,
          "Dewey's, Taglio",
          "LaRosa's",
          "Goodfellas",
          "LaRosa's",
          "Dewey's",
          null,
          "Goodfellas",
          "LaRosa's",
          "LaRosa's, Werkhaus Pizza",
          "LaRosa's",
          null,
          null,
          "LaRosa's",
          "LaRosa's",
          null,
          null,
          null,
          null,
          null,
          null,
          null,
          null,
          null,
          null,
          null,
          null,
          "LaRosa's, LaRosa's",
          null,
          null,
          null,
          null,
          null,
          null,
          null,
          null,
          null,
          "Taglio's",
          null,
          null,
          "Bourbon House",
          "Dewey's",
          "LaRosa's",
          "Dewey's",
          null,
          "Goodfellas",
          "LaRosa's",
          "Dewey's",
          "Dewey's",
          "Dewey's",
          null,
          null,
          null,
          null,
          null,
          null,
          null,
          "Jets",
          "Jets",
          "Adriatico's",
          "Adriatico's",
          "Dewey's",
          "Dewey's",
          "Dewey's",
          "Goodfellas",
          "Camporosso",
          "Dewey's",
          "LaRosa's",
          null,
          "LaRosa's",
          "Dewey's",
          "Camporosso",
          "Bourbon House",
          "Camporosso",
          null,
          "Dewey's",
          null,
          null,
          null,
          null,
          null,
          null,
          null,
          null,
          null,
          null,
          "Adriatico's",
          null,
          "LaRosa's",
          "LaRosa's",
          "Goodfellas",
          "Goodfellas",
          "LaRosa's",
          "LaRosa's",
          "LaRosa's, LaRosa's",
          "Dewey's",
          "LaRosa's",
          "Adriatico's",
          "Goodfellas",
          "Trophy Pizza",
          null,
          null,
          null,
          "Dewey's",
          "Goodfellas",
          null,
          null,
          "Dewey's",
          "Adriatico's",
          "Dewey's, Taglio",
          "Dewey's",
          null,
          "LaRosa's",
          "Dewey's",
          "Dewey's, LaRosas",
          null,
          "Camporosso, Agilo's Pizza Mt Healthy",
          "Trottas",
          "Adriatico's",
          "Adriatico's",
          "Dewey's",
          "Adriatico's",
          "Goodfellas, Goodfellas",
          "Dewey's",
          "Adriatico's",
          "Domino's",
          "Dewey's",
          "Dewey's",
          "Adriatico's, BEARCAT, FTW",
          "Dewey's",
          "Dewey's",
          "Adriatico's",
          "Dewey's",
          "Dewey's",
          "Goodfellas",
          "LaRosa's",
          "Dewey's",
          "Dewey's",
          "LaRosa's, Marion's (More Dayton than Cinci)",
          "Dewey's",
          "LaRosa's",
          "Adriatico's",
          "Dewey's, Mio's",
          "Dewey's",
          "Adriatico's",
          null,
          null,
          null,
          null,
          null,
          "Strong's",
          "Goodfellas",
          "Two Cities Pizza, Mason",
          "Adriatico's",
          "St. Francis Apizza",
          "LaRosa's",
          "Dewey's",
          "Dewey's",
          "LaRosa's",
          "Adriatico's",
          "Adriatico's",
          "Trophy Pizza",
          "LaRosa's, Catch A Fire",
          "Goodfellas",
          "Dewey's",
          "LaRosa's",
          "Goodfellas, 2 cities",
          "Jet's",
          "Goodfellas",
          "Dewey's, laRosa's",
          "LaRosa's",
          "Dewey's",
          "LaRosa's",
          "Goodfellas",
          "Dewey's",
          null,
          "Dewey's",
          "Goodfellas",
          null,
          null,
          null,
          "Dewey's",
          "Dewey's",
          "LaRosa's, Mikey's Late Night Slice",
          "Adriatico's",
          "Goodfellas",
          "Dewey's",
          null,
          null,
          null,
          "Dewey's",
          "LaRosa's",
          null,
          "LaRosa's",
          null,
          null,
          null,
          null,
          "Dewey's",
          "LaRosa's",
          null,
          "Dewey's",
          "Dewey's",
          "Dewey's, Harmony Plant Fare - Vegan place",
          "Dewey's",
          "Dewey's",
          null,
          "Dewey's",
          "Goodfellas",
          "Dewey's",
          "Dewey's",
          "Adriatico's",
          null,
          "Adriatico's",
          "Dewey's",
          "Adriatico's",
          "LaRosa's",
          "Dewey's",
          "Dewey's",
          "Goodfellas",
          null,
          null,
          null,
          "Peanut, Pistachio, and Seafood allergy",
          null,
          "LaRosa's",
          "LaRosa's",
          "Dewey's",
          null,
          null,
          null,
          null,
          "LaRosa's",
          null,
          "Dewey's, LaRosa's",
          "Dewey's",
          "Dewey's",
          "Dewey's",
          null,
          "LaRosa's, NYPD Pizza, Northside",
          "Goodfellas",
          "Roc-A-Fellas",
          "Bourbon House",
          "I’m from out of town",
          null,
          null,
          null,
          null,
          null,
          null,
          null,
          null,
          null,
          null,
          null,
          "Dewey's",
          "LaRosa's",
          "Goodfellas",
          "Goodfellas",
          "LaRosa's",
          null,
          "Goodfellas",
          null,
          "Dewey's",
          "Bourbon House",
          "Dewey's",
          "LaRosa's",
          "Goodfellas",
          "Adriatico's",
          "LaRosa's, Runner up: Kantine",
          "Bourbon House",
          "Dewey's",
          "Dewey's",
          "No preference",
          "Dewey's",
          "Dewey's",
          "Dewey's",
          "Goodfellas",
          "LaRosa's",
          "Dewey's",
          "Goodfellas",
          null,
          "Mio's",
          "LaRosa's",
          "Adriatico's",
          "Dewey's",
          "LaRosa's",
          "LaRosa's",
          "LaRosa's",
          "Adriatico's",
          "Adriatico's",
          "Two Cities",
          "Adriatico's",
          "Dewey's",
          "Camporosso",
          "Goodfellas",
          "Dewey's",
          "Dewey's",
          "Adriatico's",
          "Dewey's",
          "Dewey's",
          "LaRosa's",
          "Bourbon House",
          null,
          "Camporosso",
          "LaRosa's",
          null,
          "Camporosso",
          "Dewey's",
          "Two Cities",
          "Dewey's",
          "The Cork N Crust",
          "Adriatico's",
          "Dewey's",
          "Adriatico's",
          "Dewey's",
          null,
          null,
          "Goodfellas",
          "LaRosa's",
          null,
          "Roc a Fellas",
          null,
          null,
          null,
          null,
          "Dewey's",
          "Dewey's",
          null,
          null,
          "Mios",
          "LaRosa's",
          "LaRosa's",
          "LaRosa's",
          "LaRosa's",
          null,
          null,
          null,
          "Dewey's",
          "Mac's",
          "Taglio",
          null,
          "Dewey's",
          "Camporosso",
          "Dewey's",
          null,
          null,
          null,
          null,
          null,
          null,
          "Dewey's",
          null,
          null,
          null,
          "Dewey's",
          null,
          "Dewey's",
          null,
          "LaRosa's",
          "Dewey's",
          null,
          null,
          "Goodfellas",
          "Goodfellas",
          "Dewey's",
          "Dewey's",
          "Goodfellas",
          "Orange Spot, also I keep kosher and will be providing my own meal.",
          "Dewey's",
          null,
          null,
          "The Wheel"
         ],
         "xaxis": "x",
         "yaxis": "y"
        }
       ],
       "layout": {
        "barmode": "relative",
        "legend": {
         "tracegroupgap": 0
        },
        "template": {
         "data": {
          "bar": [
           {
            "error_x": {
             "color": "#f2f5fa"
            },
            "error_y": {
             "color": "#f2f5fa"
            },
            "marker": {
             "line": {
              "color": "rgb(17,17,17)",
              "width": 0.5
             },
             "pattern": {
              "fillmode": "overlay",
              "size": 10,
              "solidity": 0.2
             }
            },
            "type": "bar"
           }
          ],
          "barpolar": [
           {
            "marker": {
             "line": {
              "color": "rgb(17,17,17)",
              "width": 0.5
             },
             "pattern": {
              "fillmode": "overlay",
              "size": 10,
              "solidity": 0.2
             }
            },
            "type": "barpolar"
           }
          ],
          "carpet": [
           {
            "aaxis": {
             "endlinecolor": "#A2B1C6",
             "gridcolor": "#506784",
             "linecolor": "#506784",
             "minorgridcolor": "#506784",
             "startlinecolor": "#A2B1C6"
            },
            "baxis": {
             "endlinecolor": "#A2B1C6",
             "gridcolor": "#506784",
             "linecolor": "#506784",
             "minorgridcolor": "#506784",
             "startlinecolor": "#A2B1C6"
            },
            "type": "carpet"
           }
          ],
          "choropleth": [
           {
            "colorbar": {
             "outlinewidth": 0,
             "ticks": ""
            },
            "type": "choropleth"
           }
          ],
          "contour": [
           {
            "colorbar": {
             "outlinewidth": 0,
             "ticks": ""
            },
            "colorscale": [
             [
              0,
              "#0d0887"
             ],
             [
              0.1111111111111111,
              "#46039f"
             ],
             [
              0.2222222222222222,
              "#7201a8"
             ],
             [
              0.3333333333333333,
              "#9c179e"
             ],
             [
              0.4444444444444444,
              "#bd3786"
             ],
             [
              0.5555555555555556,
              "#d8576b"
             ],
             [
              0.6666666666666666,
              "#ed7953"
             ],
             [
              0.7777777777777778,
              "#fb9f3a"
             ],
             [
              0.8888888888888888,
              "#fdca26"
             ],
             [
              1,
              "#f0f921"
             ]
            ],
            "type": "contour"
           }
          ],
          "contourcarpet": [
           {
            "colorbar": {
             "outlinewidth": 0,
             "ticks": ""
            },
            "type": "contourcarpet"
           }
          ],
          "heatmap": [
           {
            "colorbar": {
             "outlinewidth": 0,
             "ticks": ""
            },
            "colorscale": [
             [
              0,
              "#0d0887"
             ],
             [
              0.1111111111111111,
              "#46039f"
             ],
             [
              0.2222222222222222,
              "#7201a8"
             ],
             [
              0.3333333333333333,
              "#9c179e"
             ],
             [
              0.4444444444444444,
              "#bd3786"
             ],
             [
              0.5555555555555556,
              "#d8576b"
             ],
             [
              0.6666666666666666,
              "#ed7953"
             ],
             [
              0.7777777777777778,
              "#fb9f3a"
             ],
             [
              0.8888888888888888,
              "#fdca26"
             ],
             [
              1,
              "#f0f921"
             ]
            ],
            "type": "heatmap"
           }
          ],
          "heatmapgl": [
           {
            "colorbar": {
             "outlinewidth": 0,
             "ticks": ""
            },
            "colorscale": [
             [
              0,
              "#0d0887"
             ],
             [
              0.1111111111111111,
              "#46039f"
             ],
             [
              0.2222222222222222,
              "#7201a8"
             ],
             [
              0.3333333333333333,
              "#9c179e"
             ],
             [
              0.4444444444444444,
              "#bd3786"
             ],
             [
              0.5555555555555556,
              "#d8576b"
             ],
             [
              0.6666666666666666,
              "#ed7953"
             ],
             [
              0.7777777777777778,
              "#fb9f3a"
             ],
             [
              0.8888888888888888,
              "#fdca26"
             ],
             [
              1,
              "#f0f921"
             ]
            ],
            "type": "heatmapgl"
           }
          ],
          "histogram": [
           {
            "marker": {
             "pattern": {
              "fillmode": "overlay",
              "size": 10,
              "solidity": 0.2
             }
            },
            "type": "histogram"
           }
          ],
          "histogram2d": [
           {
            "colorbar": {
             "outlinewidth": 0,
             "ticks": ""
            },
            "colorscale": [
             [
              0,
              "#0d0887"
             ],
             [
              0.1111111111111111,
              "#46039f"
             ],
             [
              0.2222222222222222,
              "#7201a8"
             ],
             [
              0.3333333333333333,
              "#9c179e"
             ],
             [
              0.4444444444444444,
              "#bd3786"
             ],
             [
              0.5555555555555556,
              "#d8576b"
             ],
             [
              0.6666666666666666,
              "#ed7953"
             ],
             [
              0.7777777777777778,
              "#fb9f3a"
             ],
             [
              0.8888888888888888,
              "#fdca26"
             ],
             [
              1,
              "#f0f921"
             ]
            ],
            "type": "histogram2d"
           }
          ],
          "histogram2dcontour": [
           {
            "colorbar": {
             "outlinewidth": 0,
             "ticks": ""
            },
            "colorscale": [
             [
              0,
              "#0d0887"
             ],
             [
              0.1111111111111111,
              "#46039f"
             ],
             [
              0.2222222222222222,
              "#7201a8"
             ],
             [
              0.3333333333333333,
              "#9c179e"
             ],
             [
              0.4444444444444444,
              "#bd3786"
             ],
             [
              0.5555555555555556,
              "#d8576b"
             ],
             [
              0.6666666666666666,
              "#ed7953"
             ],
             [
              0.7777777777777778,
              "#fb9f3a"
             ],
             [
              0.8888888888888888,
              "#fdca26"
             ],
             [
              1,
              "#f0f921"
             ]
            ],
            "type": "histogram2dcontour"
           }
          ],
          "mesh3d": [
           {
            "colorbar": {
             "outlinewidth": 0,
             "ticks": ""
            },
            "type": "mesh3d"
           }
          ],
          "parcoords": [
           {
            "line": {
             "colorbar": {
              "outlinewidth": 0,
              "ticks": ""
             }
            },
            "type": "parcoords"
           }
          ],
          "pie": [
           {
            "automargin": true,
            "type": "pie"
           }
          ],
          "scatter": [
           {
            "marker": {
             "line": {
              "color": "#283442"
             }
            },
            "type": "scatter"
           }
          ],
          "scatter3d": [
           {
            "line": {
             "colorbar": {
              "outlinewidth": 0,
              "ticks": ""
             }
            },
            "marker": {
             "colorbar": {
              "outlinewidth": 0,
              "ticks": ""
             }
            },
            "type": "scatter3d"
           }
          ],
          "scattercarpet": [
           {
            "marker": {
             "colorbar": {
              "outlinewidth": 0,
              "ticks": ""
             }
            },
            "type": "scattercarpet"
           }
          ],
          "scattergeo": [
           {
            "marker": {
             "colorbar": {
              "outlinewidth": 0,
              "ticks": ""
             }
            },
            "type": "scattergeo"
           }
          ],
          "scattergl": [
           {
            "marker": {
             "line": {
              "color": "#283442"
             }
            },
            "type": "scattergl"
           }
          ],
          "scattermapbox": [
           {
            "marker": {
             "colorbar": {
              "outlinewidth": 0,
              "ticks": ""
             }
            },
            "type": "scattermapbox"
           }
          ],
          "scatterpolar": [
           {
            "marker": {
             "colorbar": {
              "outlinewidth": 0,
              "ticks": ""
             }
            },
            "type": "scatterpolar"
           }
          ],
          "scatterpolargl": [
           {
            "marker": {
             "colorbar": {
              "outlinewidth": 0,
              "ticks": ""
             }
            },
            "type": "scatterpolargl"
           }
          ],
          "scatterternary": [
           {
            "marker": {
             "colorbar": {
              "outlinewidth": 0,
              "ticks": ""
             }
            },
            "type": "scatterternary"
           }
          ],
          "surface": [
           {
            "colorbar": {
             "outlinewidth": 0,
             "ticks": ""
            },
            "colorscale": [
             [
              0,
              "#0d0887"
             ],
             [
              0.1111111111111111,
              "#46039f"
             ],
             [
              0.2222222222222222,
              "#7201a8"
             ],
             [
              0.3333333333333333,
              "#9c179e"
             ],
             [
              0.4444444444444444,
              "#bd3786"
             ],
             [
              0.5555555555555556,
              "#d8576b"
             ],
             [
              0.6666666666666666,
              "#ed7953"
             ],
             [
              0.7777777777777778,
              "#fb9f3a"
             ],
             [
              0.8888888888888888,
              "#fdca26"
             ],
             [
              1,
              "#f0f921"
             ]
            ],
            "type": "surface"
           }
          ],
          "table": [
           {
            "cells": {
             "fill": {
              "color": "#506784"
             },
             "line": {
              "color": "rgb(17,17,17)"
             }
            },
            "header": {
             "fill": {
              "color": "#2a3f5f"
             },
             "line": {
              "color": "rgb(17,17,17)"
             }
            },
            "type": "table"
           }
          ]
         },
         "layout": {
          "annotationdefaults": {
           "arrowcolor": "#f2f5fa",
           "arrowhead": 0,
           "arrowwidth": 1
          },
          "autotypenumbers": "strict",
          "coloraxis": {
           "colorbar": {
            "outlinewidth": 0,
            "ticks": ""
           }
          },
          "colorscale": {
           "diverging": [
            [
             0,
             "#8e0152"
            ],
            [
             0.1,
             "#c51b7d"
            ],
            [
             0.2,
             "#de77ae"
            ],
            [
             0.3,
             "#f1b6da"
            ],
            [
             0.4,
             "#fde0ef"
            ],
            [
             0.5,
             "#f7f7f7"
            ],
            [
             0.6,
             "#e6f5d0"
            ],
            [
             0.7,
             "#b8e186"
            ],
            [
             0.8,
             "#7fbc41"
            ],
            [
             0.9,
             "#4d9221"
            ],
            [
             1,
             "#276419"
            ]
           ],
           "sequential": [
            [
             0,
             "#0d0887"
            ],
            [
             0.1111111111111111,
             "#46039f"
            ],
            [
             0.2222222222222222,
             "#7201a8"
            ],
            [
             0.3333333333333333,
             "#9c179e"
            ],
            [
             0.4444444444444444,
             "#bd3786"
            ],
            [
             0.5555555555555556,
             "#d8576b"
            ],
            [
             0.6666666666666666,
             "#ed7953"
            ],
            [
             0.7777777777777778,
             "#fb9f3a"
            ],
            [
             0.8888888888888888,
             "#fdca26"
            ],
            [
             1,
             "#f0f921"
            ]
           ],
           "sequentialminus": [
            [
             0,
             "#0d0887"
            ],
            [
             0.1111111111111111,
             "#46039f"
            ],
            [
             0.2222222222222222,
             "#7201a8"
            ],
            [
             0.3333333333333333,
             "#9c179e"
            ],
            [
             0.4444444444444444,
             "#bd3786"
            ],
            [
             0.5555555555555556,
             "#d8576b"
            ],
            [
             0.6666666666666666,
             "#ed7953"
            ],
            [
             0.7777777777777778,
             "#fb9f3a"
            ],
            [
             0.8888888888888888,
             "#fdca26"
            ],
            [
             1,
             "#f0f921"
            ]
           ]
          },
          "colorway": [
           "#636efa",
           "#EF553B",
           "#00cc96",
           "#ab63fa",
           "#FFA15A",
           "#19d3f3",
           "#FF6692",
           "#B6E880",
           "#FF97FF",
           "#FECB52"
          ],
          "font": {
           "color": "#f2f5fa"
          },
          "geo": {
           "bgcolor": "rgb(17,17,17)",
           "lakecolor": "rgb(17,17,17)",
           "landcolor": "rgb(17,17,17)",
           "showlakes": true,
           "showland": true,
           "subunitcolor": "#506784"
          },
          "hoverlabel": {
           "align": "left"
          },
          "hovermode": "closest",
          "mapbox": {
           "style": "dark"
          },
          "paper_bgcolor": "rgb(17,17,17)",
          "plot_bgcolor": "rgb(17,17,17)",
          "polar": {
           "angularaxis": {
            "gridcolor": "#506784",
            "linecolor": "#506784",
            "ticks": ""
           },
           "bgcolor": "rgb(17,17,17)",
           "radialaxis": {
            "gridcolor": "#506784",
            "linecolor": "#506784",
            "ticks": ""
           }
          },
          "scene": {
           "xaxis": {
            "backgroundcolor": "rgb(17,17,17)",
            "gridcolor": "#506784",
            "gridwidth": 2,
            "linecolor": "#506784",
            "showbackground": true,
            "ticks": "",
            "zerolinecolor": "#C8D4E3"
           },
           "yaxis": {
            "backgroundcolor": "rgb(17,17,17)",
            "gridcolor": "#506784",
            "gridwidth": 2,
            "linecolor": "#506784",
            "showbackground": true,
            "ticks": "",
            "zerolinecolor": "#C8D4E3"
           },
           "zaxis": {
            "backgroundcolor": "rgb(17,17,17)",
            "gridcolor": "#506784",
            "gridwidth": 2,
            "linecolor": "#506784",
            "showbackground": true,
            "ticks": "",
            "zerolinecolor": "#C8D4E3"
           }
          },
          "shapedefaults": {
           "line": {
            "color": "#f2f5fa"
           }
          },
          "sliderdefaults": {
           "bgcolor": "#C8D4E3",
           "bordercolor": "rgb(17,17,17)",
           "borderwidth": 1,
           "tickwidth": 0
          },
          "ternary": {
           "aaxis": {
            "gridcolor": "#506784",
            "linecolor": "#506784",
            "ticks": ""
           },
           "baxis": {
            "gridcolor": "#506784",
            "linecolor": "#506784",
            "ticks": ""
           },
           "bgcolor": "rgb(17,17,17)",
           "caxis": {
            "gridcolor": "#506784",
            "linecolor": "#506784",
            "ticks": ""
           }
          },
          "title": {
           "x": 0.05
          },
          "updatemenudefaults": {
           "bgcolor": "#506784",
           "borderwidth": 0
          },
          "xaxis": {
           "automargin": true,
           "gridcolor": "#283442",
           "linecolor": "#506784",
           "ticks": "",
           "title": {
            "standoff": 15
           },
           "zerolinecolor": "#283442",
           "zerolinewidth": 2
          },
          "yaxis": {
           "automargin": true,
           "gridcolor": "#283442",
           "linecolor": "#506784",
           "ticks": "",
           "title": {
            "standoff": 15
           },
           "zerolinecolor": "#283442",
           "zerolinewidth": 2
          }
         }
        },
        "title": {
         "text": "Momentum 23 Favorite Pizzas"
        },
        "xaxis": {
         "anchor": "y",
         "domain": [
          0,
          1
         ],
         "title": {
          "text": "Favorite Pizza"
         }
        },
        "yaxis": {
         "anchor": "x",
         "domain": [
          0,
          1
         ],
         "title": {
          "text": "count"
         }
        }
       }
      }
     },
     "metadata": {},
     "output_type": "display_data"
    }
   ],
   "source": [
    "px.histogram(df23, x='Favorite Pizza', title='Momentum 23 Favorite Pizzas')"
   ]
  },
  {
   "cell_type": "code",
   "execution_count": null,
   "metadata": {},
   "outputs": [],
   "source": []
  },
  {
   "cell_type": "code",
   "execution_count": 556,
   "metadata": {},
   "outputs": [
    {
     "data": {
      "text/plain": [
       "array([\"LaRosa's\", 'Goodfellas', None, \"Adriatico's\", \"Dewey's\",\n",
       "       'Camporosso', 'Kosher', 'Goodfellas, Fratellis', 'Taglio',\n",
       "       'Bourbon House',\n",
       "       \"Dewey's, Crash at Michael's and just wait at the dining table until he brings you the perfect pizza from the local eateries.\",\n",
       "       \"Dewey's, Tazikis\",\n",
       "       \"I'm not from there and have no clue what's good for pizza in Cincinnati.\",\n",
       "       'Surprise me 🍕🎲', 'Two Cities',\n",
       "       \"I don't know any Cinci pizza places! I feel like an outsider now ;)\",\n",
       "       \"Adriatico's, Don't make me pick between Adriatico's and Dewey's :)\",\n",
       "       \"LaRosa's, In Cincinnati, the bells ring ecstatic, For Momentum, the tech con fanatic. Softwares’ charm on display, Ideas bloom like the day, It's a meeting both fun and pragmatic.\",\n",
       "       'Whoever makes the best Gluten Free pizza. ;-)', 'Papa John’s',\n",
       "       \"Mio's\", 'Saint Francis Apizza', 'Dominos', 'Goodfellas, Skyline',\n",
       "       \"Dewey's, Mac's Pizza Pub\", \"LaRosa's, Papa Johns | or Goodfellas\",\n",
       "       \"Dewey's, Taft's Pizza!\", \"Taglio's\", 'Bourbon House, Taglio',\n",
       "       'Goodfellas, Goose & Elder', 'Goodfellas, Donatos',\n",
       "       \"Dewey's, Taglio\", \"LaRosa's, Werkhaus Pizza\",\n",
       "       \"LaRosa's, LaRosa's\", 'Jets', 'Trophy Pizza', \"Dewey's, LaRosas\",\n",
       "       \"Camporosso, Agilo's Pizza Mt Healthy\", 'Trottas',\n",
       "       'Goodfellas, Goodfellas', \"Domino's\", \"Adriatico's, BEARCAT, FTW\",\n",
       "       \"LaRosa's, Marion's (More Dayton than Cinci)\", \"Dewey's, Mio's\",\n",
       "       \"Strong's\", 'Two Cities Pizza, Mason', 'St. Francis Apizza',\n",
       "       \"LaRosa's, Catch A Fire\", 'Goodfellas, 2 cities', \"Jet's\",\n",
       "       \"Dewey's, laRosa's\", \"LaRosa's, Mikey's Late Night Slice\",\n",
       "       \"Dewey's, Harmony Plant Fare - Vegan place\",\n",
       "       'Peanut, Pistachio, and Seafood allergy', \"Dewey's, LaRosa's\",\n",
       "       \"LaRosa's, NYPD Pizza, Northside\", 'Roc-A-Fellas',\n",
       "       'I’m from out of town', \"LaRosa's, Runner up: Kantine\",\n",
       "       'No preference', 'The Cork N Crust', 'Roc a Fellas', 'Mios',\n",
       "       \"Mac's\",\n",
       "       'Orange Spot, also I keep kosher and will be providing my own meal.',\n",
       "       'The Wheel'], dtype=object)"
      ]
     },
     "execution_count": 556,
     "metadata": {},
     "output_type": "execute_result"
    }
   ],
   "source": [
    "df23['Favorite Pizza'].unique()"
   ]
  },
  {
   "cell_type": "markdown",
   "metadata": {},
   "source": [
    "Note this entry was mine:\n",
    "> \"Dewey's, Crash at Michael's and just wait at the dining table until he brings you the perfect pizza from the local eateries.\",\n",
    "\n",
    "My own impishness is now coming back to bite me at the data cleaning stage"
   ]
  },
  {
   "cell_type": "code",
   "execution_count": 557,
   "metadata": {},
   "outputs": [],
   "source": [
    "df23['Favorite Pizza'].replace(\"Dewey's, Crash at Michael's and just wait at the dining table until he brings you the perfect pizza from the local eateries.\", \"Dewey's\", inplace=True)\n",
    "df23['Favorite Pizza'].replace(\"Deweys\", \"Dewey's\", inplace=True)\n",
    "df23['Favorite Pizza'].replace(\"LaRosa's, LaRosa's\", \"LaRosa's\", inplace=True)\n",
    "\n",
    "# We could do this all day, but we really just care about the top contenders"
   ]
  },
  {
   "cell_type": "code",
   "execution_count": 558,
   "metadata": {},
   "outputs": [
    {
     "data": {
      "text/plain": [
       "Favorite Pizza\n",
       "Dewey's                                 107\n",
       "LaRosa's                                 58\n",
       "Goodfellas                               45\n",
       "Adriatico's                              42\n",
       "Camporosso                               11\n",
       "                                       ... \n",
       "Kosher                                    1\n",
       "Dewey's, LaRosas                          1\n",
       "Camporosso, Agilo's Pizza Mt Healthy      1\n",
       "Trottas                                   1\n",
       "The Wheel                                 1\n",
       "Name: count, Length: 63, dtype: int64"
      ]
     },
     "execution_count": 558,
     "metadata": {},
     "output_type": "execute_result"
    }
   ],
   "source": [
    "df23['Favorite Pizza'].value_counts()"
   ]
  },
  {
   "cell_type": "code",
   "execution_count": 559,
   "metadata": {},
   "outputs": [
    {
     "data": {
      "text/plain": [
       "Favorite Pizza\n",
       "Dewey's          107\n",
       "LaRosa's          58\n",
       "Goodfellas        45\n",
       "Adriatico's       42\n",
       "Camporosso        11\n",
       "Bourbon House     11\n",
       "Taglio             4\n",
       "Name: count, dtype: int64"
      ]
     },
     "execution_count": 559,
     "metadata": {},
     "output_type": "execute_result"
    }
   ],
   "source": [
    "# Get the top 5 favorite pizzas\n",
    "dfPizzas = df23['Favorite Pizza'].value_counts().head(7)\n",
    "dfPizzas"
   ]
  },
  {
   "cell_type": "code",
   "execution_count": 560,
   "metadata": {},
   "outputs": [
    {
     "data": {
      "application/vnd.plotly.v1+json": {
       "config": {
        "plotlyServerURL": "https://plot.ly"
       },
       "data": [
        {
         "alignmentgroup": "True",
         "bingroup": "x",
         "hovertemplate": "Favorite Pizza=%{x}<br>count=%{y}<extra></extra>",
         "legendgroup": "LaRosa's",
         "marker": {
          "color": "rgb(95, 70, 144)",
          "pattern": {
           "shape": ""
          }
         },
         "name": "LaRosa's",
         "offsetgroup": "LaRosa's",
         "orientation": "v",
         "showlegend": true,
         "type": "histogram",
         "x": [
          "LaRosa's",
          "LaRosa's",
          "LaRosa's",
          "LaRosa's",
          "LaRosa's",
          "LaRosa's",
          "LaRosa's",
          "LaRosa's",
          "LaRosa's",
          "LaRosa's",
          "LaRosa's",
          "LaRosa's",
          "LaRosa's",
          "LaRosa's",
          "LaRosa's",
          "LaRosa's",
          "LaRosa's",
          "LaRosa's",
          "LaRosa's",
          "LaRosa's",
          "LaRosa's",
          "LaRosa's",
          "LaRosa's",
          "LaRosa's",
          "LaRosa's",
          "LaRosa's",
          "LaRosa's",
          "LaRosa's",
          "LaRosa's",
          "LaRosa's",
          "LaRosa's",
          "LaRosa's",
          "LaRosa's",
          "LaRosa's",
          "LaRosa's",
          "LaRosa's",
          "LaRosa's",
          "LaRosa's",
          "LaRosa's",
          "LaRosa's",
          "LaRosa's",
          "LaRosa's",
          "LaRosa's",
          "LaRosa's",
          "LaRosa's",
          "LaRosa's",
          "LaRosa's",
          "LaRosa's",
          "LaRosa's",
          "LaRosa's",
          "LaRosa's",
          "LaRosa's",
          "LaRosa's",
          "LaRosa's",
          "LaRosa's",
          "LaRosa's",
          "LaRosa's",
          "LaRosa's"
         ],
         "xaxis": "x",
         "yaxis": "y"
        },
        {
         "alignmentgroup": "True",
         "bingroup": "x",
         "hovertemplate": "Favorite Pizza=%{x}<br>count=%{y}<extra></extra>",
         "legendgroup": "Goodfellas",
         "marker": {
          "color": "rgb(29, 105, 150)",
          "pattern": {
           "shape": ""
          }
         },
         "name": "Goodfellas",
         "offsetgroup": "Goodfellas",
         "orientation": "v",
         "showlegend": true,
         "type": "histogram",
         "x": [
          "Goodfellas",
          "Goodfellas",
          "Goodfellas",
          "Goodfellas",
          "Goodfellas",
          "Goodfellas",
          "Goodfellas",
          "Goodfellas",
          "Goodfellas",
          "Goodfellas",
          "Goodfellas",
          "Goodfellas",
          "Goodfellas",
          "Goodfellas",
          "Goodfellas",
          "Goodfellas",
          "Goodfellas",
          "Goodfellas",
          "Goodfellas",
          "Goodfellas",
          "Goodfellas",
          "Goodfellas",
          "Goodfellas",
          "Goodfellas",
          "Goodfellas",
          "Goodfellas",
          "Goodfellas",
          "Goodfellas",
          "Goodfellas",
          "Goodfellas",
          "Goodfellas",
          "Goodfellas",
          "Goodfellas",
          "Goodfellas",
          "Goodfellas",
          "Goodfellas",
          "Goodfellas",
          "Goodfellas",
          "Goodfellas",
          "Goodfellas",
          "Goodfellas",
          "Goodfellas",
          "Goodfellas",
          "Goodfellas",
          "Goodfellas"
         ],
         "xaxis": "x",
         "yaxis": "y"
        },
        {
         "alignmentgroup": "True",
         "bingroup": "x",
         "hovertemplate": "Favorite Pizza=%{x}<br>count=%{y}<extra></extra>",
         "legendgroup": "Adriatico's",
         "marker": {
          "color": "rgb(56, 166, 165)",
          "pattern": {
           "shape": ""
          }
         },
         "name": "Adriatico's",
         "offsetgroup": "Adriatico's",
         "orientation": "v",
         "showlegend": true,
         "type": "histogram",
         "x": [
          "Adriatico's",
          "Adriatico's",
          "Adriatico's",
          "Adriatico's",
          "Adriatico's",
          "Adriatico's",
          "Adriatico's",
          "Adriatico's",
          "Adriatico's",
          "Adriatico's",
          "Adriatico's",
          "Adriatico's",
          "Adriatico's",
          "Adriatico's",
          "Adriatico's",
          "Adriatico's",
          "Adriatico's",
          "Adriatico's",
          "Adriatico's",
          "Adriatico's",
          "Adriatico's",
          "Adriatico's",
          "Adriatico's",
          "Adriatico's",
          "Adriatico's",
          "Adriatico's",
          "Adriatico's",
          "Adriatico's",
          "Adriatico's",
          "Adriatico's",
          "Adriatico's",
          "Adriatico's",
          "Adriatico's",
          "Adriatico's",
          "Adriatico's",
          "Adriatico's",
          "Adriatico's",
          "Adriatico's",
          "Adriatico's",
          "Adriatico's",
          "Adriatico's",
          "Adriatico's"
         ],
         "xaxis": "x",
         "yaxis": "y"
        },
        {
         "alignmentgroup": "True",
         "bingroup": "x",
         "hovertemplate": "Favorite Pizza=%{x}<br>count=%{y}<extra></extra>",
         "legendgroup": "Dewey's",
         "marker": {
          "color": "rgb(15, 133, 84)",
          "pattern": {
           "shape": ""
          }
         },
         "name": "Dewey's",
         "offsetgroup": "Dewey's",
         "orientation": "v",
         "showlegend": true,
         "type": "histogram",
         "x": [
          "Dewey's",
          "Dewey's",
          "Dewey's",
          "Dewey's",
          "Dewey's",
          "Dewey's",
          "Dewey's",
          "Dewey's",
          "Dewey's",
          "Dewey's",
          "Dewey's",
          "Dewey's",
          "Dewey's",
          "Dewey's",
          "Dewey's",
          "Dewey's",
          "Dewey's",
          "Dewey's",
          "Dewey's",
          "Dewey's",
          "Dewey's",
          "Dewey's",
          "Dewey's",
          "Dewey's",
          "Dewey's",
          "Dewey's",
          "Dewey's",
          "Dewey's",
          "Dewey's",
          "Dewey's",
          "Dewey's",
          "Dewey's",
          "Dewey's",
          "Dewey's",
          "Dewey's",
          "Dewey's",
          "Dewey's",
          "Dewey's",
          "Dewey's",
          "Dewey's",
          "Dewey's",
          "Dewey's",
          "Dewey's",
          "Dewey's",
          "Dewey's",
          "Dewey's",
          "Dewey's",
          "Dewey's",
          "Dewey's",
          "Dewey's",
          "Dewey's",
          "Dewey's",
          "Dewey's",
          "Dewey's",
          "Dewey's",
          "Dewey's",
          "Dewey's",
          "Dewey's",
          "Dewey's",
          "Dewey's",
          "Dewey's",
          "Dewey's",
          "Dewey's",
          "Dewey's",
          "Dewey's",
          "Dewey's",
          "Dewey's",
          "Dewey's",
          "Dewey's",
          "Dewey's",
          "Dewey's",
          "Dewey's",
          "Dewey's",
          "Dewey's",
          "Dewey's",
          "Dewey's",
          "Dewey's",
          "Dewey's",
          "Dewey's",
          "Dewey's",
          "Dewey's",
          "Dewey's",
          "Dewey's",
          "Dewey's",
          "Dewey's",
          "Dewey's",
          "Dewey's",
          "Dewey's",
          "Dewey's",
          "Dewey's",
          "Dewey's",
          "Dewey's",
          "Dewey's",
          "Dewey's",
          "Dewey's",
          "Dewey's",
          "Dewey's",
          "Dewey's",
          "Dewey's",
          "Dewey's",
          "Dewey's",
          "Dewey's",
          "Dewey's",
          "Dewey's",
          "Dewey's",
          "Dewey's",
          "Dewey's"
         ],
         "xaxis": "x",
         "yaxis": "y"
        },
        {
         "alignmentgroup": "True",
         "bingroup": "x",
         "hovertemplate": "Favorite Pizza=%{x}<br>count=%{y}<extra></extra>",
         "legendgroup": "Camporosso",
         "marker": {
          "color": "rgb(115, 175, 72)",
          "pattern": {
           "shape": ""
          }
         },
         "name": "Camporosso",
         "offsetgroup": "Camporosso",
         "orientation": "v",
         "showlegend": true,
         "type": "histogram",
         "x": [
          "Camporosso",
          "Camporosso",
          "Camporosso",
          "Camporosso",
          "Camporosso",
          "Camporosso",
          "Camporosso",
          "Camporosso",
          "Camporosso",
          "Camporosso",
          "Camporosso"
         ],
         "xaxis": "x",
         "yaxis": "y"
        },
        {
         "alignmentgroup": "True",
         "bingroup": "x",
         "hovertemplate": "Favorite Pizza=%{x}<br>count=%{y}<extra></extra>",
         "legendgroup": "Taglio",
         "marker": {
          "color": "rgb(237, 173, 8)",
          "pattern": {
           "shape": ""
          }
         },
         "name": "Taglio",
         "offsetgroup": "Taglio",
         "orientation": "v",
         "showlegend": true,
         "type": "histogram",
         "x": [
          "Taglio",
          "Taglio",
          "Taglio",
          "Taglio"
         ],
         "xaxis": "x",
         "yaxis": "y"
        },
        {
         "alignmentgroup": "True",
         "bingroup": "x",
         "hovertemplate": "Favorite Pizza=%{x}<br>count=%{y}<extra></extra>",
         "legendgroup": "Bourbon House",
         "marker": {
          "color": "rgb(225, 124, 5)",
          "pattern": {
           "shape": ""
          }
         },
         "name": "Bourbon House",
         "offsetgroup": "Bourbon House",
         "orientation": "v",
         "showlegend": true,
         "type": "histogram",
         "x": [
          "Bourbon House",
          "Bourbon House",
          "Bourbon House",
          "Bourbon House",
          "Bourbon House",
          "Bourbon House",
          "Bourbon House",
          "Bourbon House",
          "Bourbon House",
          "Bourbon House",
          "Bourbon House"
         ],
         "xaxis": "x",
         "yaxis": "y"
        }
       ],
       "layout": {
        "barmode": "relative",
        "legend": {
         "title": {
          "text": "Favorite Pizza"
         },
         "tracegroupgap": 0
        },
        "template": {
         "data": {
          "bar": [
           {
            "error_x": {
             "color": "#f2f5fa"
            },
            "error_y": {
             "color": "#f2f5fa"
            },
            "marker": {
             "line": {
              "color": "rgb(17,17,17)",
              "width": 0.5
             },
             "pattern": {
              "fillmode": "overlay",
              "size": 10,
              "solidity": 0.2
             }
            },
            "type": "bar"
           }
          ],
          "barpolar": [
           {
            "marker": {
             "line": {
              "color": "rgb(17,17,17)",
              "width": 0.5
             },
             "pattern": {
              "fillmode": "overlay",
              "size": 10,
              "solidity": 0.2
             }
            },
            "type": "barpolar"
           }
          ],
          "carpet": [
           {
            "aaxis": {
             "endlinecolor": "#A2B1C6",
             "gridcolor": "#506784",
             "linecolor": "#506784",
             "minorgridcolor": "#506784",
             "startlinecolor": "#A2B1C6"
            },
            "baxis": {
             "endlinecolor": "#A2B1C6",
             "gridcolor": "#506784",
             "linecolor": "#506784",
             "minorgridcolor": "#506784",
             "startlinecolor": "#A2B1C6"
            },
            "type": "carpet"
           }
          ],
          "choropleth": [
           {
            "colorbar": {
             "outlinewidth": 0,
             "ticks": ""
            },
            "type": "choropleth"
           }
          ],
          "contour": [
           {
            "colorbar": {
             "outlinewidth": 0,
             "ticks": ""
            },
            "colorscale": [
             [
              0,
              "#0d0887"
             ],
             [
              0.1111111111111111,
              "#46039f"
             ],
             [
              0.2222222222222222,
              "#7201a8"
             ],
             [
              0.3333333333333333,
              "#9c179e"
             ],
             [
              0.4444444444444444,
              "#bd3786"
             ],
             [
              0.5555555555555556,
              "#d8576b"
             ],
             [
              0.6666666666666666,
              "#ed7953"
             ],
             [
              0.7777777777777778,
              "#fb9f3a"
             ],
             [
              0.8888888888888888,
              "#fdca26"
             ],
             [
              1,
              "#f0f921"
             ]
            ],
            "type": "contour"
           }
          ],
          "contourcarpet": [
           {
            "colorbar": {
             "outlinewidth": 0,
             "ticks": ""
            },
            "type": "contourcarpet"
           }
          ],
          "heatmap": [
           {
            "colorbar": {
             "outlinewidth": 0,
             "ticks": ""
            },
            "colorscale": [
             [
              0,
              "#0d0887"
             ],
             [
              0.1111111111111111,
              "#46039f"
             ],
             [
              0.2222222222222222,
              "#7201a8"
             ],
             [
              0.3333333333333333,
              "#9c179e"
             ],
             [
              0.4444444444444444,
              "#bd3786"
             ],
             [
              0.5555555555555556,
              "#d8576b"
             ],
             [
              0.6666666666666666,
              "#ed7953"
             ],
             [
              0.7777777777777778,
              "#fb9f3a"
             ],
             [
              0.8888888888888888,
              "#fdca26"
             ],
             [
              1,
              "#f0f921"
             ]
            ],
            "type": "heatmap"
           }
          ],
          "heatmapgl": [
           {
            "colorbar": {
             "outlinewidth": 0,
             "ticks": ""
            },
            "colorscale": [
             [
              0,
              "#0d0887"
             ],
             [
              0.1111111111111111,
              "#46039f"
             ],
             [
              0.2222222222222222,
              "#7201a8"
             ],
             [
              0.3333333333333333,
              "#9c179e"
             ],
             [
              0.4444444444444444,
              "#bd3786"
             ],
             [
              0.5555555555555556,
              "#d8576b"
             ],
             [
              0.6666666666666666,
              "#ed7953"
             ],
             [
              0.7777777777777778,
              "#fb9f3a"
             ],
             [
              0.8888888888888888,
              "#fdca26"
             ],
             [
              1,
              "#f0f921"
             ]
            ],
            "type": "heatmapgl"
           }
          ],
          "histogram": [
           {
            "marker": {
             "pattern": {
              "fillmode": "overlay",
              "size": 10,
              "solidity": 0.2
             }
            },
            "type": "histogram"
           }
          ],
          "histogram2d": [
           {
            "colorbar": {
             "outlinewidth": 0,
             "ticks": ""
            },
            "colorscale": [
             [
              0,
              "#0d0887"
             ],
             [
              0.1111111111111111,
              "#46039f"
             ],
             [
              0.2222222222222222,
              "#7201a8"
             ],
             [
              0.3333333333333333,
              "#9c179e"
             ],
             [
              0.4444444444444444,
              "#bd3786"
             ],
             [
              0.5555555555555556,
              "#d8576b"
             ],
             [
              0.6666666666666666,
              "#ed7953"
             ],
             [
              0.7777777777777778,
              "#fb9f3a"
             ],
             [
              0.8888888888888888,
              "#fdca26"
             ],
             [
              1,
              "#f0f921"
             ]
            ],
            "type": "histogram2d"
           }
          ],
          "histogram2dcontour": [
           {
            "colorbar": {
             "outlinewidth": 0,
             "ticks": ""
            },
            "colorscale": [
             [
              0,
              "#0d0887"
             ],
             [
              0.1111111111111111,
              "#46039f"
             ],
             [
              0.2222222222222222,
              "#7201a8"
             ],
             [
              0.3333333333333333,
              "#9c179e"
             ],
             [
              0.4444444444444444,
              "#bd3786"
             ],
             [
              0.5555555555555556,
              "#d8576b"
             ],
             [
              0.6666666666666666,
              "#ed7953"
             ],
             [
              0.7777777777777778,
              "#fb9f3a"
             ],
             [
              0.8888888888888888,
              "#fdca26"
             ],
             [
              1,
              "#f0f921"
             ]
            ],
            "type": "histogram2dcontour"
           }
          ],
          "mesh3d": [
           {
            "colorbar": {
             "outlinewidth": 0,
             "ticks": ""
            },
            "type": "mesh3d"
           }
          ],
          "parcoords": [
           {
            "line": {
             "colorbar": {
              "outlinewidth": 0,
              "ticks": ""
             }
            },
            "type": "parcoords"
           }
          ],
          "pie": [
           {
            "automargin": true,
            "type": "pie"
           }
          ],
          "scatter": [
           {
            "marker": {
             "line": {
              "color": "#283442"
             }
            },
            "type": "scatter"
           }
          ],
          "scatter3d": [
           {
            "line": {
             "colorbar": {
              "outlinewidth": 0,
              "ticks": ""
             }
            },
            "marker": {
             "colorbar": {
              "outlinewidth": 0,
              "ticks": ""
             }
            },
            "type": "scatter3d"
           }
          ],
          "scattercarpet": [
           {
            "marker": {
             "colorbar": {
              "outlinewidth": 0,
              "ticks": ""
             }
            },
            "type": "scattercarpet"
           }
          ],
          "scattergeo": [
           {
            "marker": {
             "colorbar": {
              "outlinewidth": 0,
              "ticks": ""
             }
            },
            "type": "scattergeo"
           }
          ],
          "scattergl": [
           {
            "marker": {
             "line": {
              "color": "#283442"
             }
            },
            "type": "scattergl"
           }
          ],
          "scattermapbox": [
           {
            "marker": {
             "colorbar": {
              "outlinewidth": 0,
              "ticks": ""
             }
            },
            "type": "scattermapbox"
           }
          ],
          "scatterpolar": [
           {
            "marker": {
             "colorbar": {
              "outlinewidth": 0,
              "ticks": ""
             }
            },
            "type": "scatterpolar"
           }
          ],
          "scatterpolargl": [
           {
            "marker": {
             "colorbar": {
              "outlinewidth": 0,
              "ticks": ""
             }
            },
            "type": "scatterpolargl"
           }
          ],
          "scatterternary": [
           {
            "marker": {
             "colorbar": {
              "outlinewidth": 0,
              "ticks": ""
             }
            },
            "type": "scatterternary"
           }
          ],
          "surface": [
           {
            "colorbar": {
             "outlinewidth": 0,
             "ticks": ""
            },
            "colorscale": [
             [
              0,
              "#0d0887"
             ],
             [
              0.1111111111111111,
              "#46039f"
             ],
             [
              0.2222222222222222,
              "#7201a8"
             ],
             [
              0.3333333333333333,
              "#9c179e"
             ],
             [
              0.4444444444444444,
              "#bd3786"
             ],
             [
              0.5555555555555556,
              "#d8576b"
             ],
             [
              0.6666666666666666,
              "#ed7953"
             ],
             [
              0.7777777777777778,
              "#fb9f3a"
             ],
             [
              0.8888888888888888,
              "#fdca26"
             ],
             [
              1,
              "#f0f921"
             ]
            ],
            "type": "surface"
           }
          ],
          "table": [
           {
            "cells": {
             "fill": {
              "color": "#506784"
             },
             "line": {
              "color": "rgb(17,17,17)"
             }
            },
            "header": {
             "fill": {
              "color": "#2a3f5f"
             },
             "line": {
              "color": "rgb(17,17,17)"
             }
            },
            "type": "table"
           }
          ]
         },
         "layout": {
          "annotationdefaults": {
           "arrowcolor": "#f2f5fa",
           "arrowhead": 0,
           "arrowwidth": 1
          },
          "autotypenumbers": "strict",
          "coloraxis": {
           "colorbar": {
            "outlinewidth": 0,
            "ticks": ""
           }
          },
          "colorscale": {
           "diverging": [
            [
             0,
             "#8e0152"
            ],
            [
             0.1,
             "#c51b7d"
            ],
            [
             0.2,
             "#de77ae"
            ],
            [
             0.3,
             "#f1b6da"
            ],
            [
             0.4,
             "#fde0ef"
            ],
            [
             0.5,
             "#f7f7f7"
            ],
            [
             0.6,
             "#e6f5d0"
            ],
            [
             0.7,
             "#b8e186"
            ],
            [
             0.8,
             "#7fbc41"
            ],
            [
             0.9,
             "#4d9221"
            ],
            [
             1,
             "#276419"
            ]
           ],
           "sequential": [
            [
             0,
             "#0d0887"
            ],
            [
             0.1111111111111111,
             "#46039f"
            ],
            [
             0.2222222222222222,
             "#7201a8"
            ],
            [
             0.3333333333333333,
             "#9c179e"
            ],
            [
             0.4444444444444444,
             "#bd3786"
            ],
            [
             0.5555555555555556,
             "#d8576b"
            ],
            [
             0.6666666666666666,
             "#ed7953"
            ],
            [
             0.7777777777777778,
             "#fb9f3a"
            ],
            [
             0.8888888888888888,
             "#fdca26"
            ],
            [
             1,
             "#f0f921"
            ]
           ],
           "sequentialminus": [
            [
             0,
             "#0d0887"
            ],
            [
             0.1111111111111111,
             "#46039f"
            ],
            [
             0.2222222222222222,
             "#7201a8"
            ],
            [
             0.3333333333333333,
             "#9c179e"
            ],
            [
             0.4444444444444444,
             "#bd3786"
            ],
            [
             0.5555555555555556,
             "#d8576b"
            ],
            [
             0.6666666666666666,
             "#ed7953"
            ],
            [
             0.7777777777777778,
             "#fb9f3a"
            ],
            [
             0.8888888888888888,
             "#fdca26"
            ],
            [
             1,
             "#f0f921"
            ]
           ]
          },
          "colorway": [
           "#636efa",
           "#EF553B",
           "#00cc96",
           "#ab63fa",
           "#FFA15A",
           "#19d3f3",
           "#FF6692",
           "#B6E880",
           "#FF97FF",
           "#FECB52"
          ],
          "font": {
           "color": "#f2f5fa"
          },
          "geo": {
           "bgcolor": "rgb(17,17,17)",
           "lakecolor": "rgb(17,17,17)",
           "landcolor": "rgb(17,17,17)",
           "showlakes": true,
           "showland": true,
           "subunitcolor": "#506784"
          },
          "hoverlabel": {
           "align": "left"
          },
          "hovermode": "closest",
          "mapbox": {
           "style": "dark"
          },
          "paper_bgcolor": "rgb(17,17,17)",
          "plot_bgcolor": "rgb(17,17,17)",
          "polar": {
           "angularaxis": {
            "gridcolor": "#506784",
            "linecolor": "#506784",
            "ticks": ""
           },
           "bgcolor": "rgb(17,17,17)",
           "radialaxis": {
            "gridcolor": "#506784",
            "linecolor": "#506784",
            "ticks": ""
           }
          },
          "scene": {
           "xaxis": {
            "backgroundcolor": "rgb(17,17,17)",
            "gridcolor": "#506784",
            "gridwidth": 2,
            "linecolor": "#506784",
            "showbackground": true,
            "ticks": "",
            "zerolinecolor": "#C8D4E3"
           },
           "yaxis": {
            "backgroundcolor": "rgb(17,17,17)",
            "gridcolor": "#506784",
            "gridwidth": 2,
            "linecolor": "#506784",
            "showbackground": true,
            "ticks": "",
            "zerolinecolor": "#C8D4E3"
           },
           "zaxis": {
            "backgroundcolor": "rgb(17,17,17)",
            "gridcolor": "#506784",
            "gridwidth": 2,
            "linecolor": "#506784",
            "showbackground": true,
            "ticks": "",
            "zerolinecolor": "#C8D4E3"
           }
          },
          "shapedefaults": {
           "line": {
            "color": "#f2f5fa"
           }
          },
          "sliderdefaults": {
           "bgcolor": "#C8D4E3",
           "bordercolor": "rgb(17,17,17)",
           "borderwidth": 1,
           "tickwidth": 0
          },
          "ternary": {
           "aaxis": {
            "gridcolor": "#506784",
            "linecolor": "#506784",
            "ticks": ""
           },
           "baxis": {
            "gridcolor": "#506784",
            "linecolor": "#506784",
            "ticks": ""
           },
           "bgcolor": "rgb(17,17,17)",
           "caxis": {
            "gridcolor": "#506784",
            "linecolor": "#506784",
            "ticks": ""
           }
          },
          "title": {
           "x": 0.05
          },
          "updatemenudefaults": {
           "bgcolor": "#506784",
           "borderwidth": 0
          },
          "xaxis": {
           "automargin": true,
           "gridcolor": "#283442",
           "linecolor": "#506784",
           "ticks": "",
           "title": {
            "standoff": 15
           },
           "zerolinecolor": "#283442",
           "zerolinewidth": 2
          },
          "yaxis": {
           "automargin": true,
           "gridcolor": "#283442",
           "linecolor": "#506784",
           "ticks": "",
           "title": {
            "standoff": 15
           },
           "zerolinecolor": "#283442",
           "zerolinewidth": 2
          }
         }
        },
        "title": {
         "text": "Momentum 23 Pizza Preferences"
        },
        "xaxis": {
         "anchor": "y",
         "categoryarray": [
          "LaRosa's",
          "Goodfellas",
          "Adriatico's",
          "Dewey's",
          "Camporosso",
          "Taglio",
          "Bourbon House"
         ],
         "categoryorder": "total descending",
         "domain": [
          0,
          1
         ],
         "title": {
          "text": "Favorite Pizza"
         }
        },
        "yaxis": {
         "anchor": "x",
         "domain": [
          0,
          1
         ],
         "title": {
          "text": "count"
         }
        }
       }
      }
     },
     "metadata": {},
     "output_type": "display_data"
    }
   ],
   "source": [
    "px.histogram(df23[df23['Favorite Pizza'].isin(dfPizzas.index)], x='Favorite Pizza', title='Momentum 23 Pizza Preferences', color='Favorite Pizza').update_xaxes(categoryorder='total descending')"
   ]
  },
  {
   "cell_type": "code",
   "execution_count": 561,
   "metadata": {},
   "outputs": [
    {
     "data": {
      "application/vnd.plotly.v1+json": {
       "config": {
        "plotlyServerURL": "https://plot.ly"
       },
       "data": [
        {
         "coloraxis": "coloraxis",
         "hovertemplate": "Favorite Pizza=%{x}<br>Ticket=%{y}<br>count=%{z}<extra></extra>",
         "name": "",
         "type": "histogram2d",
         "x": [
          "LaRosa's",
          "Goodfellas",
          "LaRosa's",
          "Adriatico's",
          "LaRosa's",
          "Dewey's",
          "Dewey's",
          "Camporosso",
          "Goodfellas",
          "Goodfellas",
          "Taglio",
          "Bourbon House",
          "Dewey's",
          "Adriatico's",
          "Goodfellas",
          "Goodfellas",
          "Goodfellas",
          "Goodfellas",
          "Dewey's",
          "Dewey's",
          "Dewey's",
          "Bourbon House",
          "Bourbon House",
          "Adriatico's",
          "Goodfellas",
          "Bourbon House",
          "Dewey's",
          "LaRosa's",
          "LaRosa's",
          "LaRosa's",
          "Adriatico's",
          "Goodfellas",
          "Camporosso",
          "Goodfellas",
          "Dewey's",
          "Dewey's",
          "Goodfellas",
          "LaRosa's",
          "Adriatico's",
          "Goodfellas",
          "Taglio",
          "Adriatico's",
          "Dewey's",
          "Adriatico's",
          "Goodfellas",
          "Dewey's",
          "Taglio",
          "Dewey's",
          "Dewey's",
          "Adriatico's",
          "LaRosa's",
          "Adriatico's",
          "Dewey's",
          "Adriatico's",
          "Dewey's",
          "Adriatico's",
          "Dewey's",
          "Adriatico's",
          "Dewey's",
          "Goodfellas",
          "Goodfellas",
          "Dewey's",
          "Adriatico's",
          "Goodfellas",
          "LaRosa's",
          "Dewey's",
          "Dewey's",
          "Camporosso",
          "Dewey's",
          "Adriatico's",
          "Bourbon House",
          "LaRosa's",
          "Adriatico's",
          "Dewey's",
          "Camporosso",
          "LaRosa's",
          "Goodfellas",
          "LaRosa's",
          "Dewey's",
          "Goodfellas",
          "LaRosa's",
          "LaRosa's",
          "LaRosa's",
          "LaRosa's",
          "LaRosa's",
          "Bourbon House",
          "Dewey's",
          "LaRosa's",
          "Dewey's",
          "Goodfellas",
          "LaRosa's",
          "Dewey's",
          "Dewey's",
          "Dewey's",
          "Adriatico's",
          "Adriatico's",
          "Dewey's",
          "Dewey's",
          "Dewey's",
          "Goodfellas",
          "Camporosso",
          "Dewey's",
          "LaRosa's",
          "LaRosa's",
          "Dewey's",
          "Camporosso",
          "Bourbon House",
          "Camporosso",
          "Dewey's",
          "Adriatico's",
          "LaRosa's",
          "LaRosa's",
          "Goodfellas",
          "Goodfellas",
          "LaRosa's",
          "LaRosa's",
          "LaRosa's",
          "Dewey's",
          "LaRosa's",
          "Adriatico's",
          "Goodfellas",
          "Dewey's",
          "Goodfellas",
          "Dewey's",
          "Adriatico's",
          "Dewey's",
          "LaRosa's",
          "Dewey's",
          "Adriatico's",
          "Adriatico's",
          "Dewey's",
          "Adriatico's",
          "Dewey's",
          "Adriatico's",
          "Dewey's",
          "Dewey's",
          "Dewey's",
          "Dewey's",
          "Adriatico's",
          "Dewey's",
          "Dewey's",
          "Goodfellas",
          "LaRosa's",
          "Dewey's",
          "Dewey's",
          "Dewey's",
          "LaRosa's",
          "Adriatico's",
          "Dewey's",
          "Adriatico's",
          "Goodfellas",
          "Adriatico's",
          "LaRosa's",
          "Dewey's",
          "Dewey's",
          "LaRosa's",
          "Adriatico's",
          "Adriatico's",
          "Goodfellas",
          "Dewey's",
          "LaRosa's",
          "Goodfellas",
          "LaRosa's",
          "Dewey's",
          "LaRosa's",
          "Goodfellas",
          "Dewey's",
          "Dewey's",
          "Goodfellas",
          "Dewey's",
          "Dewey's",
          "Adriatico's",
          "Goodfellas",
          "Dewey's",
          "Dewey's",
          "LaRosa's",
          "LaRosa's",
          "Dewey's",
          "LaRosa's",
          "Dewey's",
          "Dewey's",
          "Dewey's",
          "Dewey's",
          "Dewey's",
          "Goodfellas",
          "Dewey's",
          "Dewey's",
          "Adriatico's",
          "Adriatico's",
          "Dewey's",
          "Adriatico's",
          "LaRosa's",
          "Dewey's",
          "Dewey's",
          "Goodfellas",
          "LaRosa's",
          "LaRosa's",
          "Dewey's",
          "LaRosa's",
          "Dewey's",
          "Dewey's",
          "Dewey's",
          "Goodfellas",
          "Bourbon House",
          "Dewey's",
          "LaRosa's",
          "Goodfellas",
          "Goodfellas",
          "LaRosa's",
          "Goodfellas",
          "Dewey's",
          "Bourbon House",
          "Dewey's",
          "LaRosa's",
          "Goodfellas",
          "Adriatico's",
          "Bourbon House",
          "Dewey's",
          "Dewey's",
          "Dewey's",
          "Dewey's",
          "Dewey's",
          "Goodfellas",
          "LaRosa's",
          "Dewey's",
          "Goodfellas",
          "LaRosa's",
          "Adriatico's",
          "Dewey's",
          "LaRosa's",
          "LaRosa's",
          "LaRosa's",
          "Adriatico's",
          "Adriatico's",
          "Adriatico's",
          "Dewey's",
          "Camporosso",
          "Goodfellas",
          "Dewey's",
          "Dewey's",
          "Adriatico's",
          "Dewey's",
          "Dewey's",
          "LaRosa's",
          "Bourbon House",
          "Camporosso",
          "LaRosa's",
          "Camporosso",
          "Dewey's",
          "Dewey's",
          "Adriatico's",
          "Dewey's",
          "Adriatico's",
          "Dewey's",
          "Goodfellas",
          "LaRosa's",
          "Dewey's",
          "Dewey's",
          "LaRosa's",
          "LaRosa's",
          "LaRosa's",
          "LaRosa's",
          "Dewey's",
          "Taglio",
          "Dewey's",
          "Camporosso",
          "Dewey's",
          "Dewey's",
          "Dewey's",
          "Dewey's",
          "LaRosa's",
          "Dewey's",
          "Goodfellas",
          "Goodfellas",
          "Dewey's",
          "Dewey's",
          "Goodfellas",
          "Dewey's"
         ],
         "xaxis": "x",
         "xbingroup": "x",
         "y": [
          "Early Bird",
          "Content Reviewer",
          "Content Reviewer",
          "Content Reviewer",
          "Content Reviewer",
          "Content Reviewer",
          "Content Reviewer",
          "Content Reviewer",
          "Content Reviewer",
          "Content Reviewer",
          "Content Reviewer",
          "Content Reviewer",
          "Speaker",
          "Early Bird",
          "Early Bird",
          "Early Bird",
          "Early Bird",
          "Early Bird",
          "Early Bird",
          "Early Bird",
          "Speaker",
          "Speaker",
          "Speaker",
          "Speaker",
          "Speaker",
          "Speaker",
          "Speaker",
          "Speaker",
          "Speaker",
          "Speaker",
          "Speaker",
          "Speaker",
          "Speaker",
          "Speaker",
          "Speaker",
          "Early Bird",
          "Early Bird",
          "Early Bird",
          "Early Bird",
          "Early Bird",
          "Early Bird",
          "Early Bird",
          "Early Bird",
          "Early Bird",
          "Early Bird",
          "Early Bird",
          "Early Bird",
          "Early Bird",
          "Early Bird",
          "Early Bird",
          "Early Bird",
          "Early Bird",
          "Early Bird",
          "Early Bird",
          "Early Bird",
          "Early Bird",
          "Early Bird",
          "Early Bird",
          "Early Bird",
          "Early Bird",
          "Early Bird",
          "Early Bird",
          "Early Bird",
          "Early Bird",
          "Early Bird",
          "Early Bird",
          "Early Bird",
          "Early Bird",
          "Early Bird",
          "Early Bird",
          "Early Bird",
          "Early Bird",
          "Early Bird",
          "Early Bird",
          "Early Bird",
          "Early Bird",
          "Early Bird",
          "Early Bird",
          "Early Bird",
          "Early Bird",
          "Early Bird",
          "Early Bird",
          "Early Bird",
          "Early Bird",
          "Early Bird",
          "VIP",
          "Early Bird",
          "Early Bird",
          "Early Bird",
          "Early Bird",
          "Early Student",
          "Early Bird",
          "Early Bird",
          "Early Bird",
          "Early Bird",
          "Early Bird",
          "Early Bird",
          "Early Bird",
          "Early Bird",
          "Early Bird",
          "Early Bird",
          "Early Bird",
          "Early Bird",
          "Early Bird",
          "Early Bird",
          "Early Bird",
          "Early Bird",
          "Early Bird",
          "Early Bird",
          "Early Bird",
          "Early Bird",
          "Early Bird",
          "Early Bird",
          "Early Bird",
          "Early Bird",
          "Early Bird",
          "Early Bird",
          "Early Bird",
          "Early Bird",
          "Early Bird",
          "Early Bird",
          "Early Bird",
          "Early Bird",
          "Early Bird",
          "Early Bird",
          "Early Bird",
          "Early Bird",
          "Early Bird",
          "Early Bird",
          "Early Student",
          "Early Bird",
          "Early Bird",
          "Early Bird",
          "Early Bird",
          "Early Bird",
          "Early Bird",
          "Early Bird",
          "Early Bird",
          "Early Bird",
          "Early Bird",
          "Early Bird",
          "Early Bird",
          "Early Bird",
          "Early Bird",
          "Early Bird",
          "Early Bird",
          "Early Bird",
          "Early Bird",
          "Early Bird",
          "Early Bird",
          "Early Bird",
          "Early Bird",
          "Volunteer",
          "Volunteer",
          "Organizer",
          "Organizer",
          "Organizer",
          "Organizer",
          "Organizer",
          "Organizer",
          "Sponsor",
          "Sponsor",
          "Sponsor",
          "Sponsor",
          "Sponsor",
          "Sponsor",
          "Sponsor",
          "Regular Price",
          "Regular Price",
          "Sponsor",
          "Sponsor",
          "Sponsor",
          "Sponsor",
          "Sponsor",
          "Sponsor",
          "Sponsor",
          "Sponsor",
          "Sponsor",
          "Sponsor",
          "Sponsor",
          "Sponsor",
          "Sponsor",
          "Sponsor",
          "Sponsor",
          "Sponsor",
          "Sponsor",
          "Regular Price",
          "Regular Price",
          "Regular Price",
          "Regular Price",
          "Regular Price",
          "Regular Price",
          "Regular Price",
          "Regular Price",
          "Regular Price",
          "Regular Price",
          "Regular Price",
          "Student",
          "Regular Price",
          "Regular Price",
          "Regular Price",
          "Regular Price",
          "Regular Price",
          "Regular Price",
          "VIP",
          "Regular Price",
          "Regular Price",
          "Regular Price",
          "Late Registration",
          "Late Registration",
          "Late Registration",
          "Student",
          "Late Registration",
          "Late Registration",
          "Late Registration",
          "Student",
          "Student",
          "Late Registration",
          "Late Registration",
          "Late Registration",
          "Late Registration",
          "Late Registration",
          "Late Registration",
          "Late Registration",
          "Late Registration",
          "Late Registration",
          "Student",
          "Student",
          "Student",
          "Student",
          "Student",
          "Student",
          "Late Registration",
          "Late Registration",
          "Volunteer",
          "Volunteer",
          "Volunteer",
          "Volunteer",
          "Volunteer",
          "Volunteer",
          "Volunteer",
          "Late Registration",
          "Late Registration",
          "Late Registration",
          "Student",
          "Late Registration",
          "Late Registration",
          "Late Registration",
          "Late Registration",
          "Late Registration",
          "Student",
          "Late Registration",
          "Late Registration",
          "Late Registration",
          "Procrastinator Pricing",
          "Procrastinator Pricing",
          "Procrastinator Pricing",
          "Procrastinator Pricing",
          "Sponsor",
          "Sponsor",
          "Sponsor",
          "Sponsor",
          "Procrastinator Pricing",
          "Procrastinator Pricing",
          "Procrastinator Pricing",
          "Procrastinator Pricing",
          "Student",
          "Sponsor",
          "Procrastinator Pricing",
          "Volunteer",
          "Procrastinator Pricing",
          "VIP",
          "Procrastinator Pricing",
          "Procrastinator Pricing",
          "Procrastinator Pricing",
          "Procrastinator Pricing",
          "Procrastinator Pricing",
          "Procrastinator Pricing"
         ],
         "yaxis": "y",
         "ybingroup": "y"
        }
       ],
       "layout": {
        "coloraxis": {
         "colorbar": {
          "title": {
           "text": "count"
          }
         },
         "colorscale": [
          [
           0,
           "rgb(75, 41, 145)"
          ],
          [
           0.16666666666666666,
           "rgb(135, 44, 162)"
          ],
          [
           0.3333333333333333,
           "rgb(192, 54, 157)"
          ],
          [
           0.5,
           "rgb(234, 79, 136)"
          ],
          [
           0.6666666666666666,
           "rgb(250, 120, 118)"
          ],
          [
           0.8333333333333334,
           "rgb(246, 169, 122)"
          ],
          [
           1,
           "rgb(237, 217, 163)"
          ]
         ]
        },
        "legend": {
         "tracegroupgap": 0
        },
        "template": {
         "data": {
          "bar": [
           {
            "error_x": {
             "color": "#f2f5fa"
            },
            "error_y": {
             "color": "#f2f5fa"
            },
            "marker": {
             "line": {
              "color": "rgb(17,17,17)",
              "width": 0.5
             },
             "pattern": {
              "fillmode": "overlay",
              "size": 10,
              "solidity": 0.2
             }
            },
            "type": "bar"
           }
          ],
          "barpolar": [
           {
            "marker": {
             "line": {
              "color": "rgb(17,17,17)",
              "width": 0.5
             },
             "pattern": {
              "fillmode": "overlay",
              "size": 10,
              "solidity": 0.2
             }
            },
            "type": "barpolar"
           }
          ],
          "carpet": [
           {
            "aaxis": {
             "endlinecolor": "#A2B1C6",
             "gridcolor": "#506784",
             "linecolor": "#506784",
             "minorgridcolor": "#506784",
             "startlinecolor": "#A2B1C6"
            },
            "baxis": {
             "endlinecolor": "#A2B1C6",
             "gridcolor": "#506784",
             "linecolor": "#506784",
             "minorgridcolor": "#506784",
             "startlinecolor": "#A2B1C6"
            },
            "type": "carpet"
           }
          ],
          "choropleth": [
           {
            "colorbar": {
             "outlinewidth": 0,
             "ticks": ""
            },
            "type": "choropleth"
           }
          ],
          "contour": [
           {
            "colorbar": {
             "outlinewidth": 0,
             "ticks": ""
            },
            "colorscale": [
             [
              0,
              "#0d0887"
             ],
             [
              0.1111111111111111,
              "#46039f"
             ],
             [
              0.2222222222222222,
              "#7201a8"
             ],
             [
              0.3333333333333333,
              "#9c179e"
             ],
             [
              0.4444444444444444,
              "#bd3786"
             ],
             [
              0.5555555555555556,
              "#d8576b"
             ],
             [
              0.6666666666666666,
              "#ed7953"
             ],
             [
              0.7777777777777778,
              "#fb9f3a"
             ],
             [
              0.8888888888888888,
              "#fdca26"
             ],
             [
              1,
              "#f0f921"
             ]
            ],
            "type": "contour"
           }
          ],
          "contourcarpet": [
           {
            "colorbar": {
             "outlinewidth": 0,
             "ticks": ""
            },
            "type": "contourcarpet"
           }
          ],
          "heatmap": [
           {
            "colorbar": {
             "outlinewidth": 0,
             "ticks": ""
            },
            "colorscale": [
             [
              0,
              "#0d0887"
             ],
             [
              0.1111111111111111,
              "#46039f"
             ],
             [
              0.2222222222222222,
              "#7201a8"
             ],
             [
              0.3333333333333333,
              "#9c179e"
             ],
             [
              0.4444444444444444,
              "#bd3786"
             ],
             [
              0.5555555555555556,
              "#d8576b"
             ],
             [
              0.6666666666666666,
              "#ed7953"
             ],
             [
              0.7777777777777778,
              "#fb9f3a"
             ],
             [
              0.8888888888888888,
              "#fdca26"
             ],
             [
              1,
              "#f0f921"
             ]
            ],
            "type": "heatmap"
           }
          ],
          "heatmapgl": [
           {
            "colorbar": {
             "outlinewidth": 0,
             "ticks": ""
            },
            "colorscale": [
             [
              0,
              "#0d0887"
             ],
             [
              0.1111111111111111,
              "#46039f"
             ],
             [
              0.2222222222222222,
              "#7201a8"
             ],
             [
              0.3333333333333333,
              "#9c179e"
             ],
             [
              0.4444444444444444,
              "#bd3786"
             ],
             [
              0.5555555555555556,
              "#d8576b"
             ],
             [
              0.6666666666666666,
              "#ed7953"
             ],
             [
              0.7777777777777778,
              "#fb9f3a"
             ],
             [
              0.8888888888888888,
              "#fdca26"
             ],
             [
              1,
              "#f0f921"
             ]
            ],
            "type": "heatmapgl"
           }
          ],
          "histogram": [
           {
            "marker": {
             "pattern": {
              "fillmode": "overlay",
              "size": 10,
              "solidity": 0.2
             }
            },
            "type": "histogram"
           }
          ],
          "histogram2d": [
           {
            "colorbar": {
             "outlinewidth": 0,
             "ticks": ""
            },
            "colorscale": [
             [
              0,
              "#0d0887"
             ],
             [
              0.1111111111111111,
              "#46039f"
             ],
             [
              0.2222222222222222,
              "#7201a8"
             ],
             [
              0.3333333333333333,
              "#9c179e"
             ],
             [
              0.4444444444444444,
              "#bd3786"
             ],
             [
              0.5555555555555556,
              "#d8576b"
             ],
             [
              0.6666666666666666,
              "#ed7953"
             ],
             [
              0.7777777777777778,
              "#fb9f3a"
             ],
             [
              0.8888888888888888,
              "#fdca26"
             ],
             [
              1,
              "#f0f921"
             ]
            ],
            "type": "histogram2d"
           }
          ],
          "histogram2dcontour": [
           {
            "colorbar": {
             "outlinewidth": 0,
             "ticks": ""
            },
            "colorscale": [
             [
              0,
              "#0d0887"
             ],
             [
              0.1111111111111111,
              "#46039f"
             ],
             [
              0.2222222222222222,
              "#7201a8"
             ],
             [
              0.3333333333333333,
              "#9c179e"
             ],
             [
              0.4444444444444444,
              "#bd3786"
             ],
             [
              0.5555555555555556,
              "#d8576b"
             ],
             [
              0.6666666666666666,
              "#ed7953"
             ],
             [
              0.7777777777777778,
              "#fb9f3a"
             ],
             [
              0.8888888888888888,
              "#fdca26"
             ],
             [
              1,
              "#f0f921"
             ]
            ],
            "type": "histogram2dcontour"
           }
          ],
          "mesh3d": [
           {
            "colorbar": {
             "outlinewidth": 0,
             "ticks": ""
            },
            "type": "mesh3d"
           }
          ],
          "parcoords": [
           {
            "line": {
             "colorbar": {
              "outlinewidth": 0,
              "ticks": ""
             }
            },
            "type": "parcoords"
           }
          ],
          "pie": [
           {
            "automargin": true,
            "type": "pie"
           }
          ],
          "scatter": [
           {
            "marker": {
             "line": {
              "color": "#283442"
             }
            },
            "type": "scatter"
           }
          ],
          "scatter3d": [
           {
            "line": {
             "colorbar": {
              "outlinewidth": 0,
              "ticks": ""
             }
            },
            "marker": {
             "colorbar": {
              "outlinewidth": 0,
              "ticks": ""
             }
            },
            "type": "scatter3d"
           }
          ],
          "scattercarpet": [
           {
            "marker": {
             "colorbar": {
              "outlinewidth": 0,
              "ticks": ""
             }
            },
            "type": "scattercarpet"
           }
          ],
          "scattergeo": [
           {
            "marker": {
             "colorbar": {
              "outlinewidth": 0,
              "ticks": ""
             }
            },
            "type": "scattergeo"
           }
          ],
          "scattergl": [
           {
            "marker": {
             "line": {
              "color": "#283442"
             }
            },
            "type": "scattergl"
           }
          ],
          "scattermapbox": [
           {
            "marker": {
             "colorbar": {
              "outlinewidth": 0,
              "ticks": ""
             }
            },
            "type": "scattermapbox"
           }
          ],
          "scatterpolar": [
           {
            "marker": {
             "colorbar": {
              "outlinewidth": 0,
              "ticks": ""
             }
            },
            "type": "scatterpolar"
           }
          ],
          "scatterpolargl": [
           {
            "marker": {
             "colorbar": {
              "outlinewidth": 0,
              "ticks": ""
             }
            },
            "type": "scatterpolargl"
           }
          ],
          "scatterternary": [
           {
            "marker": {
             "colorbar": {
              "outlinewidth": 0,
              "ticks": ""
             }
            },
            "type": "scatterternary"
           }
          ],
          "surface": [
           {
            "colorbar": {
             "outlinewidth": 0,
             "ticks": ""
            },
            "colorscale": [
             [
              0,
              "#0d0887"
             ],
             [
              0.1111111111111111,
              "#46039f"
             ],
             [
              0.2222222222222222,
              "#7201a8"
             ],
             [
              0.3333333333333333,
              "#9c179e"
             ],
             [
              0.4444444444444444,
              "#bd3786"
             ],
             [
              0.5555555555555556,
              "#d8576b"
             ],
             [
              0.6666666666666666,
              "#ed7953"
             ],
             [
              0.7777777777777778,
              "#fb9f3a"
             ],
             [
              0.8888888888888888,
              "#fdca26"
             ],
             [
              1,
              "#f0f921"
             ]
            ],
            "type": "surface"
           }
          ],
          "table": [
           {
            "cells": {
             "fill": {
              "color": "#506784"
             },
             "line": {
              "color": "rgb(17,17,17)"
             }
            },
            "header": {
             "fill": {
              "color": "#2a3f5f"
             },
             "line": {
              "color": "rgb(17,17,17)"
             }
            },
            "type": "table"
           }
          ]
         },
         "layout": {
          "annotationdefaults": {
           "arrowcolor": "#f2f5fa",
           "arrowhead": 0,
           "arrowwidth": 1
          },
          "autotypenumbers": "strict",
          "coloraxis": {
           "colorbar": {
            "outlinewidth": 0,
            "ticks": ""
           }
          },
          "colorscale": {
           "diverging": [
            [
             0,
             "#8e0152"
            ],
            [
             0.1,
             "#c51b7d"
            ],
            [
             0.2,
             "#de77ae"
            ],
            [
             0.3,
             "#f1b6da"
            ],
            [
             0.4,
             "#fde0ef"
            ],
            [
             0.5,
             "#f7f7f7"
            ],
            [
             0.6,
             "#e6f5d0"
            ],
            [
             0.7,
             "#b8e186"
            ],
            [
             0.8,
             "#7fbc41"
            ],
            [
             0.9,
             "#4d9221"
            ],
            [
             1,
             "#276419"
            ]
           ],
           "sequential": [
            [
             0,
             "#0d0887"
            ],
            [
             0.1111111111111111,
             "#46039f"
            ],
            [
             0.2222222222222222,
             "#7201a8"
            ],
            [
             0.3333333333333333,
             "#9c179e"
            ],
            [
             0.4444444444444444,
             "#bd3786"
            ],
            [
             0.5555555555555556,
             "#d8576b"
            ],
            [
             0.6666666666666666,
             "#ed7953"
            ],
            [
             0.7777777777777778,
             "#fb9f3a"
            ],
            [
             0.8888888888888888,
             "#fdca26"
            ],
            [
             1,
             "#f0f921"
            ]
           ],
           "sequentialminus": [
            [
             0,
             "#0d0887"
            ],
            [
             0.1111111111111111,
             "#46039f"
            ],
            [
             0.2222222222222222,
             "#7201a8"
            ],
            [
             0.3333333333333333,
             "#9c179e"
            ],
            [
             0.4444444444444444,
             "#bd3786"
            ],
            [
             0.5555555555555556,
             "#d8576b"
            ],
            [
             0.6666666666666666,
             "#ed7953"
            ],
            [
             0.7777777777777778,
             "#fb9f3a"
            ],
            [
             0.8888888888888888,
             "#fdca26"
            ],
            [
             1,
             "#f0f921"
            ]
           ]
          },
          "colorway": [
           "#636efa",
           "#EF553B",
           "#00cc96",
           "#ab63fa",
           "#FFA15A",
           "#19d3f3",
           "#FF6692",
           "#B6E880",
           "#FF97FF",
           "#FECB52"
          ],
          "font": {
           "color": "#f2f5fa"
          },
          "geo": {
           "bgcolor": "rgb(17,17,17)",
           "lakecolor": "rgb(17,17,17)",
           "landcolor": "rgb(17,17,17)",
           "showlakes": true,
           "showland": true,
           "subunitcolor": "#506784"
          },
          "hoverlabel": {
           "align": "left"
          },
          "hovermode": "closest",
          "mapbox": {
           "style": "dark"
          },
          "paper_bgcolor": "rgb(17,17,17)",
          "plot_bgcolor": "rgb(17,17,17)",
          "polar": {
           "angularaxis": {
            "gridcolor": "#506784",
            "linecolor": "#506784",
            "ticks": ""
           },
           "bgcolor": "rgb(17,17,17)",
           "radialaxis": {
            "gridcolor": "#506784",
            "linecolor": "#506784",
            "ticks": ""
           }
          },
          "scene": {
           "xaxis": {
            "backgroundcolor": "rgb(17,17,17)",
            "gridcolor": "#506784",
            "gridwidth": 2,
            "linecolor": "#506784",
            "showbackground": true,
            "ticks": "",
            "zerolinecolor": "#C8D4E3"
           },
           "yaxis": {
            "backgroundcolor": "rgb(17,17,17)",
            "gridcolor": "#506784",
            "gridwidth": 2,
            "linecolor": "#506784",
            "showbackground": true,
            "ticks": "",
            "zerolinecolor": "#C8D4E3"
           },
           "zaxis": {
            "backgroundcolor": "rgb(17,17,17)",
            "gridcolor": "#506784",
            "gridwidth": 2,
            "linecolor": "#506784",
            "showbackground": true,
            "ticks": "",
            "zerolinecolor": "#C8D4E3"
           }
          },
          "shapedefaults": {
           "line": {
            "color": "#f2f5fa"
           }
          },
          "sliderdefaults": {
           "bgcolor": "#C8D4E3",
           "bordercolor": "rgb(17,17,17)",
           "borderwidth": 1,
           "tickwidth": 0
          },
          "ternary": {
           "aaxis": {
            "gridcolor": "#506784",
            "linecolor": "#506784",
            "ticks": ""
           },
           "baxis": {
            "gridcolor": "#506784",
            "linecolor": "#506784",
            "ticks": ""
           },
           "bgcolor": "rgb(17,17,17)",
           "caxis": {
            "gridcolor": "#506784",
            "linecolor": "#506784",
            "ticks": ""
           }
          },
          "title": {
           "x": 0.05
          },
          "updatemenudefaults": {
           "bgcolor": "#506784",
           "borderwidth": 0
          },
          "xaxis": {
           "automargin": true,
           "gridcolor": "#283442",
           "linecolor": "#506784",
           "ticks": "",
           "title": {
            "standoff": 15
           },
           "zerolinecolor": "#283442",
           "zerolinewidth": 2
          },
          "yaxis": {
           "automargin": true,
           "gridcolor": "#283442",
           "linecolor": "#506784",
           "ticks": "",
           "title": {
            "standoff": 15
           },
           "zerolinecolor": "#283442",
           "zerolinewidth": 2
          }
         }
        },
        "title": {
         "text": "Momentum 23 Pizza Preferences by Ticket Type"
        },
        "xaxis": {
         "anchor": "y",
         "domain": [
          0,
          1
         ],
         "title": {
          "text": "Favorite Pizza"
         }
        },
        "yaxis": {
         "anchor": "x",
         "domain": [
          0,
          1
         ],
         "title": {
          "text": "Ticket"
         }
        }
       }
      }
     },
     "metadata": {},
     "output_type": "display_data"
    }
   ],
   "source": [
    "px.density_heatmap(df23[df23['Favorite Pizza'].isin(dfPizzas.index)], x='Favorite Pizza', y='Ticket', title='Momentum 23 Pizza Preferences by Ticket Type')"
   ]
  },
  {
   "cell_type": "code",
   "execution_count": null,
   "metadata": {},
   "outputs": [],
   "source": []
  },
  {
   "cell_type": "code",
   "execution_count": 562,
   "metadata": {},
   "outputs": [
    {
     "data": {
      "application/vnd.plotly.v1+json": {
       "config": {
        "plotlyServerURL": "https://plot.ly"
       },
       "data": [
        {
         "coloraxis": "coloraxis",
         "hovertemplate": "Favorite Pizza=%{x}<br>Dietary Restrictions=%{y}<br>count=%{z}<extra></extra>",
         "name": "",
         "type": "histogram2d",
         "x": [
          "LaRosa's",
          "Goodfellas",
          "LaRosa's",
          "Adriatico's",
          "LaRosa's",
          "Dewey's",
          "Dewey's",
          "Camporosso",
          "Goodfellas",
          "Goodfellas",
          "Taglio",
          "Bourbon House",
          "Dewey's",
          "Adriatico's",
          "Goodfellas",
          "Goodfellas",
          "Goodfellas",
          "Goodfellas",
          "Dewey's",
          "Dewey's",
          "Dewey's",
          "Bourbon House",
          "Bourbon House",
          "Adriatico's",
          "Goodfellas",
          "Bourbon House",
          "Dewey's",
          "LaRosa's",
          "LaRosa's",
          "LaRosa's",
          "Adriatico's",
          "Goodfellas",
          "Camporosso",
          "Goodfellas",
          "Dewey's",
          "Dewey's",
          "Goodfellas",
          "LaRosa's",
          "Adriatico's",
          "Goodfellas",
          "Taglio",
          "Adriatico's",
          "Dewey's",
          "Adriatico's",
          "Goodfellas",
          "Dewey's",
          "Taglio",
          "Dewey's",
          "Dewey's",
          "Adriatico's",
          "LaRosa's",
          "Adriatico's",
          "Dewey's",
          "Adriatico's",
          "Dewey's",
          "Adriatico's",
          "Dewey's",
          "Adriatico's",
          "Dewey's",
          "Goodfellas",
          "Goodfellas",
          "Dewey's",
          "Adriatico's",
          "Goodfellas",
          "LaRosa's",
          "Dewey's",
          "Dewey's",
          "Camporosso",
          "Dewey's",
          "Adriatico's",
          "Bourbon House",
          "LaRosa's",
          "Adriatico's",
          "Dewey's",
          "Camporosso",
          "LaRosa's",
          "Goodfellas",
          "LaRosa's",
          "Dewey's",
          "Goodfellas",
          "LaRosa's",
          "LaRosa's",
          "LaRosa's",
          "LaRosa's",
          "LaRosa's",
          "Bourbon House",
          "Dewey's",
          "LaRosa's",
          "Dewey's",
          "Goodfellas",
          "LaRosa's",
          "Dewey's",
          "Dewey's",
          "Dewey's",
          "Adriatico's",
          "Adriatico's",
          "Dewey's",
          "Dewey's",
          "Dewey's",
          "Goodfellas",
          "Camporosso",
          "Dewey's",
          "LaRosa's",
          "LaRosa's",
          "Dewey's",
          "Camporosso",
          "Bourbon House",
          "Camporosso",
          "Dewey's",
          "Adriatico's",
          "LaRosa's",
          "LaRosa's",
          "Goodfellas",
          "Goodfellas",
          "LaRosa's",
          "LaRosa's",
          "LaRosa's",
          "Dewey's",
          "LaRosa's",
          "Adriatico's",
          "Goodfellas",
          "Dewey's",
          "Goodfellas",
          "Dewey's",
          "Adriatico's",
          "Dewey's",
          "LaRosa's",
          "Dewey's",
          "Adriatico's",
          "Adriatico's",
          "Dewey's",
          "Adriatico's",
          "Dewey's",
          "Adriatico's",
          "Dewey's",
          "Dewey's",
          "Dewey's",
          "Dewey's",
          "Adriatico's",
          "Dewey's",
          "Dewey's",
          "Goodfellas",
          "LaRosa's",
          "Dewey's",
          "Dewey's",
          "Dewey's",
          "LaRosa's",
          "Adriatico's",
          "Dewey's",
          "Adriatico's",
          "Goodfellas",
          "Adriatico's",
          "LaRosa's",
          "Dewey's",
          "Dewey's",
          "LaRosa's",
          "Adriatico's",
          "Adriatico's",
          "Goodfellas",
          "Dewey's",
          "LaRosa's",
          "Goodfellas",
          "LaRosa's",
          "Dewey's",
          "LaRosa's",
          "Goodfellas",
          "Dewey's",
          "Dewey's",
          "Goodfellas",
          "Dewey's",
          "Dewey's",
          "Adriatico's",
          "Goodfellas",
          "Dewey's",
          "Dewey's",
          "LaRosa's",
          "LaRosa's",
          "Dewey's",
          "LaRosa's",
          "Dewey's",
          "Dewey's",
          "Dewey's",
          "Dewey's",
          "Dewey's",
          "Goodfellas",
          "Dewey's",
          "Dewey's",
          "Adriatico's",
          "Adriatico's",
          "Dewey's",
          "Adriatico's",
          "LaRosa's",
          "Dewey's",
          "Dewey's",
          "Goodfellas",
          "LaRosa's",
          "LaRosa's",
          "Dewey's",
          "LaRosa's",
          "Dewey's",
          "Dewey's",
          "Dewey's",
          "Goodfellas",
          "Bourbon House",
          "Dewey's",
          "LaRosa's",
          "Goodfellas",
          "Goodfellas",
          "LaRosa's",
          "Goodfellas",
          "Dewey's",
          "Bourbon House",
          "Dewey's",
          "LaRosa's",
          "Goodfellas",
          "Adriatico's",
          "Bourbon House",
          "Dewey's",
          "Dewey's",
          "Dewey's",
          "Dewey's",
          "Dewey's",
          "Goodfellas",
          "LaRosa's",
          "Dewey's",
          "Goodfellas",
          "LaRosa's",
          "Adriatico's",
          "Dewey's",
          "LaRosa's",
          "LaRosa's",
          "LaRosa's",
          "Adriatico's",
          "Adriatico's",
          "Adriatico's",
          "Dewey's",
          "Camporosso",
          "Goodfellas",
          "Dewey's",
          "Dewey's",
          "Adriatico's",
          "Dewey's",
          "Dewey's",
          "LaRosa's",
          "Bourbon House",
          "Camporosso",
          "LaRosa's",
          "Camporosso",
          "Dewey's",
          "Dewey's",
          "Adriatico's",
          "Dewey's",
          "Adriatico's",
          "Dewey's",
          "Goodfellas",
          "LaRosa's",
          "Dewey's",
          "Dewey's",
          "LaRosa's",
          "LaRosa's",
          "LaRosa's",
          "LaRosa's",
          "Dewey's",
          "Taglio",
          "Dewey's",
          "Camporosso",
          "Dewey's",
          "Dewey's",
          "Dewey's",
          "Dewey's",
          "LaRosa's",
          "Dewey's",
          "Goodfellas",
          "Goodfellas",
          "Dewey's",
          "Dewey's",
          "Goodfellas",
          "Dewey's"
         ],
         "xaxis": "x",
         "xbingroup": "x",
         "y": [
          null,
          null,
          null,
          null,
          null,
          "Vegetarian",
          null,
          null,
          null,
          null,
          null,
          null,
          null,
          null,
          null,
          null,
          null,
          null,
          null,
          null,
          null,
          null,
          null,
          null,
          null,
          null,
          null,
          null,
          null,
          null,
          null,
          null,
          null,
          null,
          null,
          null,
          null,
          null,
          null,
          null,
          null,
          null,
          null,
          null,
          "Vegetarian",
          null,
          null,
          null,
          null,
          null,
          "Vegetarian",
          null,
          null,
          null,
          "Vegetarian",
          null,
          null,
          null,
          null,
          null,
          null,
          null,
          null,
          null,
          null,
          null,
          null,
          null,
          null,
          null,
          null,
          null,
          null,
          null,
          null,
          null,
          null,
          null,
          "Vegetarian",
          null,
          null,
          null,
          null,
          null,
          null,
          "Vegetarian",
          "Vegetarian",
          null,
          null,
          null,
          null,
          null,
          null,
          null,
          null,
          null,
          null,
          null,
          "Vegetarian",
          null,
          null,
          null,
          null,
          null,
          null,
          null,
          null,
          null,
          null,
          "Vegan, Vegetarian",
          null,
          null,
          null,
          null,
          "Vegetarian",
          null,
          "Gluten Free",
          null,
          null,
          null,
          null,
          null,
          null,
          null,
          null,
          null,
          null,
          null,
          null,
          "Vegetarian",
          null,
          null,
          null,
          null,
          null,
          null,
          null,
          "Vegetarian",
          null,
          null,
          null,
          null,
          null,
          "Vegetarian",
          null,
          null,
          null,
          null,
          null,
          null,
          null,
          null,
          null,
          "Gluten Free",
          null,
          null,
          null,
          null,
          null,
          null,
          "Vegetarian",
          null,
          null,
          null,
          null,
          null,
          "Gluten Free",
          null,
          null,
          null,
          null,
          null,
          null,
          null,
          "Vegetarian",
          null,
          null,
          null,
          null,
          null,
          null,
          null,
          null,
          null,
          "Vegetarian",
          "Vegetarian",
          "Vegetarian",
          null,
          null,
          "Gluten Free",
          null,
          null,
          null,
          null,
          null,
          null,
          null,
          null,
          null,
          null,
          "Gluten Free",
          null,
          null,
          "Vegan",
          null,
          null,
          null,
          null,
          null,
          null,
          "Vegetarian",
          null,
          null,
          null,
          null,
          "Vegetarian",
          null,
          null,
          null,
          null,
          null,
          null,
          null,
          null,
          null,
          null,
          null,
          null,
          "Vegetarian",
          null,
          null,
          null,
          "Vegetarian",
          null,
          null,
          "Vegetarian",
          null,
          null,
          null,
          null,
          null,
          null,
          "Vegetarian",
          null,
          null,
          null,
          null,
          null,
          null,
          null,
          "Vegetarian",
          null,
          null,
          null,
          null,
          null,
          null,
          null,
          null,
          null,
          "Vegan",
          null,
          null,
          null,
          null,
          null,
          null,
          null,
          null,
          null,
          null,
          "Gluten Free",
          null,
          null,
          null,
          null,
          null,
          null
         ],
         "yaxis": "y",
         "ybingroup": "y"
        }
       ],
       "layout": {
        "coloraxis": {
         "colorbar": {
          "title": {
           "text": "count"
          }
         },
         "colorscale": [
          [
           0,
           "rgb(75, 41, 145)"
          ],
          [
           0.16666666666666666,
           "rgb(135, 44, 162)"
          ],
          [
           0.3333333333333333,
           "rgb(192, 54, 157)"
          ],
          [
           0.5,
           "rgb(234, 79, 136)"
          ],
          [
           0.6666666666666666,
           "rgb(250, 120, 118)"
          ],
          [
           0.8333333333333334,
           "rgb(246, 169, 122)"
          ],
          [
           1,
           "rgb(237, 217, 163)"
          ]
         ]
        },
        "legend": {
         "tracegroupgap": 0
        },
        "template": {
         "data": {
          "bar": [
           {
            "error_x": {
             "color": "#f2f5fa"
            },
            "error_y": {
             "color": "#f2f5fa"
            },
            "marker": {
             "line": {
              "color": "rgb(17,17,17)",
              "width": 0.5
             },
             "pattern": {
              "fillmode": "overlay",
              "size": 10,
              "solidity": 0.2
             }
            },
            "type": "bar"
           }
          ],
          "barpolar": [
           {
            "marker": {
             "line": {
              "color": "rgb(17,17,17)",
              "width": 0.5
             },
             "pattern": {
              "fillmode": "overlay",
              "size": 10,
              "solidity": 0.2
             }
            },
            "type": "barpolar"
           }
          ],
          "carpet": [
           {
            "aaxis": {
             "endlinecolor": "#A2B1C6",
             "gridcolor": "#506784",
             "linecolor": "#506784",
             "minorgridcolor": "#506784",
             "startlinecolor": "#A2B1C6"
            },
            "baxis": {
             "endlinecolor": "#A2B1C6",
             "gridcolor": "#506784",
             "linecolor": "#506784",
             "minorgridcolor": "#506784",
             "startlinecolor": "#A2B1C6"
            },
            "type": "carpet"
           }
          ],
          "choropleth": [
           {
            "colorbar": {
             "outlinewidth": 0,
             "ticks": ""
            },
            "type": "choropleth"
           }
          ],
          "contour": [
           {
            "colorbar": {
             "outlinewidth": 0,
             "ticks": ""
            },
            "colorscale": [
             [
              0,
              "#0d0887"
             ],
             [
              0.1111111111111111,
              "#46039f"
             ],
             [
              0.2222222222222222,
              "#7201a8"
             ],
             [
              0.3333333333333333,
              "#9c179e"
             ],
             [
              0.4444444444444444,
              "#bd3786"
             ],
             [
              0.5555555555555556,
              "#d8576b"
             ],
             [
              0.6666666666666666,
              "#ed7953"
             ],
             [
              0.7777777777777778,
              "#fb9f3a"
             ],
             [
              0.8888888888888888,
              "#fdca26"
             ],
             [
              1,
              "#f0f921"
             ]
            ],
            "type": "contour"
           }
          ],
          "contourcarpet": [
           {
            "colorbar": {
             "outlinewidth": 0,
             "ticks": ""
            },
            "type": "contourcarpet"
           }
          ],
          "heatmap": [
           {
            "colorbar": {
             "outlinewidth": 0,
             "ticks": ""
            },
            "colorscale": [
             [
              0,
              "#0d0887"
             ],
             [
              0.1111111111111111,
              "#46039f"
             ],
             [
              0.2222222222222222,
              "#7201a8"
             ],
             [
              0.3333333333333333,
              "#9c179e"
             ],
             [
              0.4444444444444444,
              "#bd3786"
             ],
             [
              0.5555555555555556,
              "#d8576b"
             ],
             [
              0.6666666666666666,
              "#ed7953"
             ],
             [
              0.7777777777777778,
              "#fb9f3a"
             ],
             [
              0.8888888888888888,
              "#fdca26"
             ],
             [
              1,
              "#f0f921"
             ]
            ],
            "type": "heatmap"
           }
          ],
          "heatmapgl": [
           {
            "colorbar": {
             "outlinewidth": 0,
             "ticks": ""
            },
            "colorscale": [
             [
              0,
              "#0d0887"
             ],
             [
              0.1111111111111111,
              "#46039f"
             ],
             [
              0.2222222222222222,
              "#7201a8"
             ],
             [
              0.3333333333333333,
              "#9c179e"
             ],
             [
              0.4444444444444444,
              "#bd3786"
             ],
             [
              0.5555555555555556,
              "#d8576b"
             ],
             [
              0.6666666666666666,
              "#ed7953"
             ],
             [
              0.7777777777777778,
              "#fb9f3a"
             ],
             [
              0.8888888888888888,
              "#fdca26"
             ],
             [
              1,
              "#f0f921"
             ]
            ],
            "type": "heatmapgl"
           }
          ],
          "histogram": [
           {
            "marker": {
             "pattern": {
              "fillmode": "overlay",
              "size": 10,
              "solidity": 0.2
             }
            },
            "type": "histogram"
           }
          ],
          "histogram2d": [
           {
            "colorbar": {
             "outlinewidth": 0,
             "ticks": ""
            },
            "colorscale": [
             [
              0,
              "#0d0887"
             ],
             [
              0.1111111111111111,
              "#46039f"
             ],
             [
              0.2222222222222222,
              "#7201a8"
             ],
             [
              0.3333333333333333,
              "#9c179e"
             ],
             [
              0.4444444444444444,
              "#bd3786"
             ],
             [
              0.5555555555555556,
              "#d8576b"
             ],
             [
              0.6666666666666666,
              "#ed7953"
             ],
             [
              0.7777777777777778,
              "#fb9f3a"
             ],
             [
              0.8888888888888888,
              "#fdca26"
             ],
             [
              1,
              "#f0f921"
             ]
            ],
            "type": "histogram2d"
           }
          ],
          "histogram2dcontour": [
           {
            "colorbar": {
             "outlinewidth": 0,
             "ticks": ""
            },
            "colorscale": [
             [
              0,
              "#0d0887"
             ],
             [
              0.1111111111111111,
              "#46039f"
             ],
             [
              0.2222222222222222,
              "#7201a8"
             ],
             [
              0.3333333333333333,
              "#9c179e"
             ],
             [
              0.4444444444444444,
              "#bd3786"
             ],
             [
              0.5555555555555556,
              "#d8576b"
             ],
             [
              0.6666666666666666,
              "#ed7953"
             ],
             [
              0.7777777777777778,
              "#fb9f3a"
             ],
             [
              0.8888888888888888,
              "#fdca26"
             ],
             [
              1,
              "#f0f921"
             ]
            ],
            "type": "histogram2dcontour"
           }
          ],
          "mesh3d": [
           {
            "colorbar": {
             "outlinewidth": 0,
             "ticks": ""
            },
            "type": "mesh3d"
           }
          ],
          "parcoords": [
           {
            "line": {
             "colorbar": {
              "outlinewidth": 0,
              "ticks": ""
             }
            },
            "type": "parcoords"
           }
          ],
          "pie": [
           {
            "automargin": true,
            "type": "pie"
           }
          ],
          "scatter": [
           {
            "marker": {
             "line": {
              "color": "#283442"
             }
            },
            "type": "scatter"
           }
          ],
          "scatter3d": [
           {
            "line": {
             "colorbar": {
              "outlinewidth": 0,
              "ticks": ""
             }
            },
            "marker": {
             "colorbar": {
              "outlinewidth": 0,
              "ticks": ""
             }
            },
            "type": "scatter3d"
           }
          ],
          "scattercarpet": [
           {
            "marker": {
             "colorbar": {
              "outlinewidth": 0,
              "ticks": ""
             }
            },
            "type": "scattercarpet"
           }
          ],
          "scattergeo": [
           {
            "marker": {
             "colorbar": {
              "outlinewidth": 0,
              "ticks": ""
             }
            },
            "type": "scattergeo"
           }
          ],
          "scattergl": [
           {
            "marker": {
             "line": {
              "color": "#283442"
             }
            },
            "type": "scattergl"
           }
          ],
          "scattermapbox": [
           {
            "marker": {
             "colorbar": {
              "outlinewidth": 0,
              "ticks": ""
             }
            },
            "type": "scattermapbox"
           }
          ],
          "scatterpolar": [
           {
            "marker": {
             "colorbar": {
              "outlinewidth": 0,
              "ticks": ""
             }
            },
            "type": "scatterpolar"
           }
          ],
          "scatterpolargl": [
           {
            "marker": {
             "colorbar": {
              "outlinewidth": 0,
              "ticks": ""
             }
            },
            "type": "scatterpolargl"
           }
          ],
          "scatterternary": [
           {
            "marker": {
             "colorbar": {
              "outlinewidth": 0,
              "ticks": ""
             }
            },
            "type": "scatterternary"
           }
          ],
          "surface": [
           {
            "colorbar": {
             "outlinewidth": 0,
             "ticks": ""
            },
            "colorscale": [
             [
              0,
              "#0d0887"
             ],
             [
              0.1111111111111111,
              "#46039f"
             ],
             [
              0.2222222222222222,
              "#7201a8"
             ],
             [
              0.3333333333333333,
              "#9c179e"
             ],
             [
              0.4444444444444444,
              "#bd3786"
             ],
             [
              0.5555555555555556,
              "#d8576b"
             ],
             [
              0.6666666666666666,
              "#ed7953"
             ],
             [
              0.7777777777777778,
              "#fb9f3a"
             ],
             [
              0.8888888888888888,
              "#fdca26"
             ],
             [
              1,
              "#f0f921"
             ]
            ],
            "type": "surface"
           }
          ],
          "table": [
           {
            "cells": {
             "fill": {
              "color": "#506784"
             },
             "line": {
              "color": "rgb(17,17,17)"
             }
            },
            "header": {
             "fill": {
              "color": "#2a3f5f"
             },
             "line": {
              "color": "rgb(17,17,17)"
             }
            },
            "type": "table"
           }
          ]
         },
         "layout": {
          "annotationdefaults": {
           "arrowcolor": "#f2f5fa",
           "arrowhead": 0,
           "arrowwidth": 1
          },
          "autotypenumbers": "strict",
          "coloraxis": {
           "colorbar": {
            "outlinewidth": 0,
            "ticks": ""
           }
          },
          "colorscale": {
           "diverging": [
            [
             0,
             "#8e0152"
            ],
            [
             0.1,
             "#c51b7d"
            ],
            [
             0.2,
             "#de77ae"
            ],
            [
             0.3,
             "#f1b6da"
            ],
            [
             0.4,
             "#fde0ef"
            ],
            [
             0.5,
             "#f7f7f7"
            ],
            [
             0.6,
             "#e6f5d0"
            ],
            [
             0.7,
             "#b8e186"
            ],
            [
             0.8,
             "#7fbc41"
            ],
            [
             0.9,
             "#4d9221"
            ],
            [
             1,
             "#276419"
            ]
           ],
           "sequential": [
            [
             0,
             "#0d0887"
            ],
            [
             0.1111111111111111,
             "#46039f"
            ],
            [
             0.2222222222222222,
             "#7201a8"
            ],
            [
             0.3333333333333333,
             "#9c179e"
            ],
            [
             0.4444444444444444,
             "#bd3786"
            ],
            [
             0.5555555555555556,
             "#d8576b"
            ],
            [
             0.6666666666666666,
             "#ed7953"
            ],
            [
             0.7777777777777778,
             "#fb9f3a"
            ],
            [
             0.8888888888888888,
             "#fdca26"
            ],
            [
             1,
             "#f0f921"
            ]
           ],
           "sequentialminus": [
            [
             0,
             "#0d0887"
            ],
            [
             0.1111111111111111,
             "#46039f"
            ],
            [
             0.2222222222222222,
             "#7201a8"
            ],
            [
             0.3333333333333333,
             "#9c179e"
            ],
            [
             0.4444444444444444,
             "#bd3786"
            ],
            [
             0.5555555555555556,
             "#d8576b"
            ],
            [
             0.6666666666666666,
             "#ed7953"
            ],
            [
             0.7777777777777778,
             "#fb9f3a"
            ],
            [
             0.8888888888888888,
             "#fdca26"
            ],
            [
             1,
             "#f0f921"
            ]
           ]
          },
          "colorway": [
           "#636efa",
           "#EF553B",
           "#00cc96",
           "#ab63fa",
           "#FFA15A",
           "#19d3f3",
           "#FF6692",
           "#B6E880",
           "#FF97FF",
           "#FECB52"
          ],
          "font": {
           "color": "#f2f5fa"
          },
          "geo": {
           "bgcolor": "rgb(17,17,17)",
           "lakecolor": "rgb(17,17,17)",
           "landcolor": "rgb(17,17,17)",
           "showlakes": true,
           "showland": true,
           "subunitcolor": "#506784"
          },
          "hoverlabel": {
           "align": "left"
          },
          "hovermode": "closest",
          "mapbox": {
           "style": "dark"
          },
          "paper_bgcolor": "rgb(17,17,17)",
          "plot_bgcolor": "rgb(17,17,17)",
          "polar": {
           "angularaxis": {
            "gridcolor": "#506784",
            "linecolor": "#506784",
            "ticks": ""
           },
           "bgcolor": "rgb(17,17,17)",
           "radialaxis": {
            "gridcolor": "#506784",
            "linecolor": "#506784",
            "ticks": ""
           }
          },
          "scene": {
           "xaxis": {
            "backgroundcolor": "rgb(17,17,17)",
            "gridcolor": "#506784",
            "gridwidth": 2,
            "linecolor": "#506784",
            "showbackground": true,
            "ticks": "",
            "zerolinecolor": "#C8D4E3"
           },
           "yaxis": {
            "backgroundcolor": "rgb(17,17,17)",
            "gridcolor": "#506784",
            "gridwidth": 2,
            "linecolor": "#506784",
            "showbackground": true,
            "ticks": "",
            "zerolinecolor": "#C8D4E3"
           },
           "zaxis": {
            "backgroundcolor": "rgb(17,17,17)",
            "gridcolor": "#506784",
            "gridwidth": 2,
            "linecolor": "#506784",
            "showbackground": true,
            "ticks": "",
            "zerolinecolor": "#C8D4E3"
           }
          },
          "shapedefaults": {
           "line": {
            "color": "#f2f5fa"
           }
          },
          "sliderdefaults": {
           "bgcolor": "#C8D4E3",
           "bordercolor": "rgb(17,17,17)",
           "borderwidth": 1,
           "tickwidth": 0
          },
          "ternary": {
           "aaxis": {
            "gridcolor": "#506784",
            "linecolor": "#506784",
            "ticks": ""
           },
           "baxis": {
            "gridcolor": "#506784",
            "linecolor": "#506784",
            "ticks": ""
           },
           "bgcolor": "rgb(17,17,17)",
           "caxis": {
            "gridcolor": "#506784",
            "linecolor": "#506784",
            "ticks": ""
           }
          },
          "title": {
           "x": 0.05
          },
          "updatemenudefaults": {
           "bgcolor": "#506784",
           "borderwidth": 0
          },
          "xaxis": {
           "automargin": true,
           "gridcolor": "#283442",
           "linecolor": "#506784",
           "ticks": "",
           "title": {
            "standoff": 15
           },
           "zerolinecolor": "#283442",
           "zerolinewidth": 2
          },
          "yaxis": {
           "automargin": true,
           "gridcolor": "#283442",
           "linecolor": "#506784",
           "ticks": "",
           "title": {
            "standoff": 15
           },
           "zerolinecolor": "#283442",
           "zerolinewidth": 2
          }
         }
        },
        "title": {
         "text": "Momentum 23 Pizza Preferences by Dietary Restrictions"
        },
        "xaxis": {
         "anchor": "y",
         "domain": [
          0,
          1
         ],
         "title": {
          "text": "Favorite Pizza"
         }
        },
        "yaxis": {
         "anchor": "x",
         "domain": [
          0,
          1
         ],
         "title": {
          "text": "Dietary Restrictions"
         }
        }
       }
      }
     },
     "metadata": {},
     "output_type": "display_data"
    }
   ],
   "source": [
    "px.density_heatmap(df23[df23['Favorite Pizza'].isin(dfPizzas.index)], x='Favorite Pizza', y='Dietary Restrictions', title='Momentum 23 Pizza Preferences by Dietary Restrictions')"
   ]
  },
  {
   "cell_type": "code",
   "execution_count": 563,
   "metadata": {},
   "outputs": [],
   "source": [
    "df23['Dietary Restrictions'].fillna('None', inplace=True)"
   ]
  },
  {
   "cell_type": "code",
   "execution_count": 564,
   "metadata": {},
   "outputs": [
    {
     "data": {
      "application/vnd.plotly.v1+json": {
       "config": {
        "plotlyServerURL": "https://plot.ly"
       },
       "data": [
        {
         "coloraxis": "coloraxis",
         "hovertemplate": "Favorite Pizza=%{x}<br>Dietary Restrictions=%{y}<br>count=%{z}<extra></extra>",
         "name": "",
         "type": "histogram2d",
         "x": [
          "LaRosa's",
          "Goodfellas",
          "LaRosa's",
          "Adriatico's",
          "LaRosa's",
          "Dewey's",
          "Dewey's",
          "Camporosso",
          "Goodfellas",
          "Goodfellas",
          "Taglio",
          "Bourbon House",
          "Dewey's",
          "Adriatico's",
          "Goodfellas",
          "Goodfellas",
          "Goodfellas",
          "Goodfellas",
          "Dewey's",
          "Dewey's",
          "Dewey's",
          "Bourbon House",
          "Bourbon House",
          "Adriatico's",
          "Goodfellas",
          "Bourbon House",
          "Dewey's",
          "LaRosa's",
          "LaRosa's",
          "LaRosa's",
          "Adriatico's",
          "Goodfellas",
          "Camporosso",
          "Goodfellas",
          "Dewey's",
          "Dewey's",
          "Goodfellas",
          "LaRosa's",
          "Adriatico's",
          "Goodfellas",
          "Taglio",
          "Adriatico's",
          "Dewey's",
          "Adriatico's",
          "Goodfellas",
          "Dewey's",
          "Taglio",
          "Dewey's",
          "Dewey's",
          "Adriatico's",
          "LaRosa's",
          "Adriatico's",
          "Dewey's",
          "Adriatico's",
          "Dewey's",
          "Adriatico's",
          "Dewey's",
          "Adriatico's",
          "Dewey's",
          "Goodfellas",
          "Goodfellas",
          "Dewey's",
          "Adriatico's",
          "Goodfellas",
          "LaRosa's",
          "Dewey's",
          "Dewey's",
          "Camporosso",
          "Dewey's",
          "Adriatico's",
          "Bourbon House",
          "LaRosa's",
          "Adriatico's",
          "Dewey's",
          "Camporosso",
          "LaRosa's",
          "Goodfellas",
          "LaRosa's",
          "Dewey's",
          "Goodfellas",
          "LaRosa's",
          "LaRosa's",
          "LaRosa's",
          "LaRosa's",
          "LaRosa's",
          "Bourbon House",
          "Dewey's",
          "LaRosa's",
          "Dewey's",
          "Goodfellas",
          "LaRosa's",
          "Dewey's",
          "Dewey's",
          "Dewey's",
          "Adriatico's",
          "Adriatico's",
          "Dewey's",
          "Dewey's",
          "Dewey's",
          "Goodfellas",
          "Camporosso",
          "Dewey's",
          "LaRosa's",
          "LaRosa's",
          "Dewey's",
          "Camporosso",
          "Bourbon House",
          "Camporosso",
          "Dewey's",
          "Adriatico's",
          "LaRosa's",
          "LaRosa's",
          "Goodfellas",
          "Goodfellas",
          "LaRosa's",
          "LaRosa's",
          "LaRosa's",
          "Dewey's",
          "LaRosa's",
          "Adriatico's",
          "Goodfellas",
          "Dewey's",
          "Goodfellas",
          "Dewey's",
          "Adriatico's",
          "Dewey's",
          "LaRosa's",
          "Dewey's",
          "Adriatico's",
          "Adriatico's",
          "Dewey's",
          "Adriatico's",
          "Dewey's",
          "Adriatico's",
          "Dewey's",
          "Dewey's",
          "Dewey's",
          "Dewey's",
          "Adriatico's",
          "Dewey's",
          "Dewey's",
          "Goodfellas",
          "LaRosa's",
          "Dewey's",
          "Dewey's",
          "Dewey's",
          "LaRosa's",
          "Adriatico's",
          "Dewey's",
          "Adriatico's",
          "Goodfellas",
          "Adriatico's",
          "LaRosa's",
          "Dewey's",
          "Dewey's",
          "LaRosa's",
          "Adriatico's",
          "Adriatico's",
          "Goodfellas",
          "Dewey's",
          "LaRosa's",
          "Goodfellas",
          "LaRosa's",
          "Dewey's",
          "LaRosa's",
          "Goodfellas",
          "Dewey's",
          "Dewey's",
          "Goodfellas",
          "Dewey's",
          "Dewey's",
          "Adriatico's",
          "Goodfellas",
          "Dewey's",
          "Dewey's",
          "LaRosa's",
          "LaRosa's",
          "Dewey's",
          "LaRosa's",
          "Dewey's",
          "Dewey's",
          "Dewey's",
          "Dewey's",
          "Dewey's",
          "Goodfellas",
          "Dewey's",
          "Dewey's",
          "Adriatico's",
          "Adriatico's",
          "Dewey's",
          "Adriatico's",
          "LaRosa's",
          "Dewey's",
          "Dewey's",
          "Goodfellas",
          "LaRosa's",
          "LaRosa's",
          "Dewey's",
          "LaRosa's",
          "Dewey's",
          "Dewey's",
          "Dewey's",
          "Goodfellas",
          "Bourbon House",
          "Dewey's",
          "LaRosa's",
          "Goodfellas",
          "Goodfellas",
          "LaRosa's",
          "Goodfellas",
          "Dewey's",
          "Bourbon House",
          "Dewey's",
          "LaRosa's",
          "Goodfellas",
          "Adriatico's",
          "Bourbon House",
          "Dewey's",
          "Dewey's",
          "Dewey's",
          "Dewey's",
          "Dewey's",
          "Goodfellas",
          "LaRosa's",
          "Dewey's",
          "Goodfellas",
          "LaRosa's",
          "Adriatico's",
          "Dewey's",
          "LaRosa's",
          "LaRosa's",
          "LaRosa's",
          "Adriatico's",
          "Adriatico's",
          "Adriatico's",
          "Dewey's",
          "Camporosso",
          "Goodfellas",
          "Dewey's",
          "Dewey's",
          "Adriatico's",
          "Dewey's",
          "Dewey's",
          "LaRosa's",
          "Bourbon House",
          "Camporosso",
          "LaRosa's",
          "Camporosso",
          "Dewey's",
          "Dewey's",
          "Adriatico's",
          "Dewey's",
          "Adriatico's",
          "Dewey's",
          "Goodfellas",
          "LaRosa's",
          "Dewey's",
          "Dewey's",
          "LaRosa's",
          "LaRosa's",
          "LaRosa's",
          "LaRosa's",
          "Dewey's",
          "Taglio",
          "Dewey's",
          "Camporosso",
          "Dewey's",
          "Dewey's",
          "Dewey's",
          "Dewey's",
          "LaRosa's",
          "Dewey's",
          "Goodfellas",
          "Goodfellas",
          "Dewey's",
          "Dewey's",
          "Goodfellas",
          "Dewey's"
         ],
         "xaxis": "x",
         "xbingroup": "x",
         "y": [
          "None",
          "None",
          "None",
          "None",
          "None",
          "Vegetarian",
          "None",
          "None",
          "None",
          "None",
          "None",
          "None",
          "None",
          "None",
          "None",
          "None",
          "None",
          "None",
          "None",
          "None",
          "None",
          "None",
          "None",
          "None",
          "None",
          "None",
          "None",
          "None",
          "None",
          "None",
          "None",
          "None",
          "None",
          "None",
          "None",
          "None",
          "None",
          "None",
          "None",
          "None",
          "None",
          "None",
          "None",
          "None",
          "Vegetarian",
          "None",
          "None",
          "None",
          "None",
          "None",
          "Vegetarian",
          "None",
          "None",
          "None",
          "Vegetarian",
          "None",
          "None",
          "None",
          "None",
          "None",
          "None",
          "None",
          "None",
          "None",
          "None",
          "None",
          "None",
          "None",
          "None",
          "None",
          "None",
          "None",
          "None",
          "None",
          "None",
          "None",
          "None",
          "None",
          "Vegetarian",
          "None",
          "None",
          "None",
          "None",
          "None",
          "None",
          "Vegetarian",
          "Vegetarian",
          "None",
          "None",
          "None",
          "None",
          "None",
          "None",
          "None",
          "None",
          "None",
          "None",
          "None",
          "Vegetarian",
          "None",
          "None",
          "None",
          "None",
          "None",
          "None",
          "None",
          "None",
          "None",
          "None",
          "Vegan, Vegetarian",
          "None",
          "None",
          "None",
          "None",
          "Vegetarian",
          "None",
          "Gluten Free",
          "None",
          "None",
          "None",
          "None",
          "None",
          "None",
          "None",
          "None",
          "None",
          "None",
          "None",
          "None",
          "Vegetarian",
          "None",
          "None",
          "None",
          "None",
          "None",
          "None",
          "None",
          "Vegetarian",
          "None",
          "None",
          "None",
          "None",
          "None",
          "Vegetarian",
          "None",
          "None",
          "None",
          "None",
          "None",
          "None",
          "None",
          "None",
          "None",
          "Gluten Free",
          "None",
          "None",
          "None",
          "None",
          "None",
          "None",
          "Vegetarian",
          "None",
          "None",
          "None",
          "None",
          "None",
          "Gluten Free",
          "None",
          "None",
          "None",
          "None",
          "None",
          "None",
          "None",
          "Vegetarian",
          "None",
          "None",
          "None",
          "None",
          "None",
          "None",
          "None",
          "None",
          "None",
          "Vegetarian",
          "Vegetarian",
          "Vegetarian",
          "None",
          "None",
          "Gluten Free",
          "None",
          "None",
          "None",
          "None",
          "None",
          "None",
          "None",
          "None",
          "None",
          "None",
          "Gluten Free",
          "None",
          "None",
          "Vegan",
          "None",
          "None",
          "None",
          "None",
          "None",
          "None",
          "Vegetarian",
          "None",
          "None",
          "None",
          "None",
          "Vegetarian",
          "None",
          "None",
          "None",
          "None",
          "None",
          "None",
          "None",
          "None",
          "None",
          "None",
          "None",
          "None",
          "Vegetarian",
          "None",
          "None",
          "None",
          "Vegetarian",
          "None",
          "None",
          "Vegetarian",
          "None",
          "None",
          "None",
          "None",
          "None",
          "None",
          "Vegetarian",
          "None",
          "None",
          "None",
          "None",
          "None",
          "None",
          "None",
          "Vegetarian",
          "None",
          "None",
          "None",
          "None",
          "None",
          "None",
          "None",
          "None",
          "None",
          "Vegan",
          "None",
          "None",
          "None",
          "None",
          "None",
          "None",
          "None",
          "None",
          "None",
          "None",
          "Gluten Free",
          "None",
          "None",
          "None",
          "None",
          "None",
          "None"
         ],
         "yaxis": "y",
         "ybingroup": "y"
        }
       ],
       "layout": {
        "coloraxis": {
         "colorbar": {
          "title": {
           "text": "count"
          }
         },
         "colorscale": [
          [
           0,
           "rgb(75, 41, 145)"
          ],
          [
           0.16666666666666666,
           "rgb(135, 44, 162)"
          ],
          [
           0.3333333333333333,
           "rgb(192, 54, 157)"
          ],
          [
           0.5,
           "rgb(234, 79, 136)"
          ],
          [
           0.6666666666666666,
           "rgb(250, 120, 118)"
          ],
          [
           0.8333333333333334,
           "rgb(246, 169, 122)"
          ],
          [
           1,
           "rgb(237, 217, 163)"
          ]
         ]
        },
        "legend": {
         "tracegroupgap": 0
        },
        "template": {
         "data": {
          "bar": [
           {
            "error_x": {
             "color": "#f2f5fa"
            },
            "error_y": {
             "color": "#f2f5fa"
            },
            "marker": {
             "line": {
              "color": "rgb(17,17,17)",
              "width": 0.5
             },
             "pattern": {
              "fillmode": "overlay",
              "size": 10,
              "solidity": 0.2
             }
            },
            "type": "bar"
           }
          ],
          "barpolar": [
           {
            "marker": {
             "line": {
              "color": "rgb(17,17,17)",
              "width": 0.5
             },
             "pattern": {
              "fillmode": "overlay",
              "size": 10,
              "solidity": 0.2
             }
            },
            "type": "barpolar"
           }
          ],
          "carpet": [
           {
            "aaxis": {
             "endlinecolor": "#A2B1C6",
             "gridcolor": "#506784",
             "linecolor": "#506784",
             "minorgridcolor": "#506784",
             "startlinecolor": "#A2B1C6"
            },
            "baxis": {
             "endlinecolor": "#A2B1C6",
             "gridcolor": "#506784",
             "linecolor": "#506784",
             "minorgridcolor": "#506784",
             "startlinecolor": "#A2B1C6"
            },
            "type": "carpet"
           }
          ],
          "choropleth": [
           {
            "colorbar": {
             "outlinewidth": 0,
             "ticks": ""
            },
            "type": "choropleth"
           }
          ],
          "contour": [
           {
            "colorbar": {
             "outlinewidth": 0,
             "ticks": ""
            },
            "colorscale": [
             [
              0,
              "#0d0887"
             ],
             [
              0.1111111111111111,
              "#46039f"
             ],
             [
              0.2222222222222222,
              "#7201a8"
             ],
             [
              0.3333333333333333,
              "#9c179e"
             ],
             [
              0.4444444444444444,
              "#bd3786"
             ],
             [
              0.5555555555555556,
              "#d8576b"
             ],
             [
              0.6666666666666666,
              "#ed7953"
             ],
             [
              0.7777777777777778,
              "#fb9f3a"
             ],
             [
              0.8888888888888888,
              "#fdca26"
             ],
             [
              1,
              "#f0f921"
             ]
            ],
            "type": "contour"
           }
          ],
          "contourcarpet": [
           {
            "colorbar": {
             "outlinewidth": 0,
             "ticks": ""
            },
            "type": "contourcarpet"
           }
          ],
          "heatmap": [
           {
            "colorbar": {
             "outlinewidth": 0,
             "ticks": ""
            },
            "colorscale": [
             [
              0,
              "#0d0887"
             ],
             [
              0.1111111111111111,
              "#46039f"
             ],
             [
              0.2222222222222222,
              "#7201a8"
             ],
             [
              0.3333333333333333,
              "#9c179e"
             ],
             [
              0.4444444444444444,
              "#bd3786"
             ],
             [
              0.5555555555555556,
              "#d8576b"
             ],
             [
              0.6666666666666666,
              "#ed7953"
             ],
             [
              0.7777777777777778,
              "#fb9f3a"
             ],
             [
              0.8888888888888888,
              "#fdca26"
             ],
             [
              1,
              "#f0f921"
             ]
            ],
            "type": "heatmap"
           }
          ],
          "heatmapgl": [
           {
            "colorbar": {
             "outlinewidth": 0,
             "ticks": ""
            },
            "colorscale": [
             [
              0,
              "#0d0887"
             ],
             [
              0.1111111111111111,
              "#46039f"
             ],
             [
              0.2222222222222222,
              "#7201a8"
             ],
             [
              0.3333333333333333,
              "#9c179e"
             ],
             [
              0.4444444444444444,
              "#bd3786"
             ],
             [
              0.5555555555555556,
              "#d8576b"
             ],
             [
              0.6666666666666666,
              "#ed7953"
             ],
             [
              0.7777777777777778,
              "#fb9f3a"
             ],
             [
              0.8888888888888888,
              "#fdca26"
             ],
             [
              1,
              "#f0f921"
             ]
            ],
            "type": "heatmapgl"
           }
          ],
          "histogram": [
           {
            "marker": {
             "pattern": {
              "fillmode": "overlay",
              "size": 10,
              "solidity": 0.2
             }
            },
            "type": "histogram"
           }
          ],
          "histogram2d": [
           {
            "colorbar": {
             "outlinewidth": 0,
             "ticks": ""
            },
            "colorscale": [
             [
              0,
              "#0d0887"
             ],
             [
              0.1111111111111111,
              "#46039f"
             ],
             [
              0.2222222222222222,
              "#7201a8"
             ],
             [
              0.3333333333333333,
              "#9c179e"
             ],
             [
              0.4444444444444444,
              "#bd3786"
             ],
             [
              0.5555555555555556,
              "#d8576b"
             ],
             [
              0.6666666666666666,
              "#ed7953"
             ],
             [
              0.7777777777777778,
              "#fb9f3a"
             ],
             [
              0.8888888888888888,
              "#fdca26"
             ],
             [
              1,
              "#f0f921"
             ]
            ],
            "type": "histogram2d"
           }
          ],
          "histogram2dcontour": [
           {
            "colorbar": {
             "outlinewidth": 0,
             "ticks": ""
            },
            "colorscale": [
             [
              0,
              "#0d0887"
             ],
             [
              0.1111111111111111,
              "#46039f"
             ],
             [
              0.2222222222222222,
              "#7201a8"
             ],
             [
              0.3333333333333333,
              "#9c179e"
             ],
             [
              0.4444444444444444,
              "#bd3786"
             ],
             [
              0.5555555555555556,
              "#d8576b"
             ],
             [
              0.6666666666666666,
              "#ed7953"
             ],
             [
              0.7777777777777778,
              "#fb9f3a"
             ],
             [
              0.8888888888888888,
              "#fdca26"
             ],
             [
              1,
              "#f0f921"
             ]
            ],
            "type": "histogram2dcontour"
           }
          ],
          "mesh3d": [
           {
            "colorbar": {
             "outlinewidth": 0,
             "ticks": ""
            },
            "type": "mesh3d"
           }
          ],
          "parcoords": [
           {
            "line": {
             "colorbar": {
              "outlinewidth": 0,
              "ticks": ""
             }
            },
            "type": "parcoords"
           }
          ],
          "pie": [
           {
            "automargin": true,
            "type": "pie"
           }
          ],
          "scatter": [
           {
            "marker": {
             "line": {
              "color": "#283442"
             }
            },
            "type": "scatter"
           }
          ],
          "scatter3d": [
           {
            "line": {
             "colorbar": {
              "outlinewidth": 0,
              "ticks": ""
             }
            },
            "marker": {
             "colorbar": {
              "outlinewidth": 0,
              "ticks": ""
             }
            },
            "type": "scatter3d"
           }
          ],
          "scattercarpet": [
           {
            "marker": {
             "colorbar": {
              "outlinewidth": 0,
              "ticks": ""
             }
            },
            "type": "scattercarpet"
           }
          ],
          "scattergeo": [
           {
            "marker": {
             "colorbar": {
              "outlinewidth": 0,
              "ticks": ""
             }
            },
            "type": "scattergeo"
           }
          ],
          "scattergl": [
           {
            "marker": {
             "line": {
              "color": "#283442"
             }
            },
            "type": "scattergl"
           }
          ],
          "scattermapbox": [
           {
            "marker": {
             "colorbar": {
              "outlinewidth": 0,
              "ticks": ""
             }
            },
            "type": "scattermapbox"
           }
          ],
          "scatterpolar": [
           {
            "marker": {
             "colorbar": {
              "outlinewidth": 0,
              "ticks": ""
             }
            },
            "type": "scatterpolar"
           }
          ],
          "scatterpolargl": [
           {
            "marker": {
             "colorbar": {
              "outlinewidth": 0,
              "ticks": ""
             }
            },
            "type": "scatterpolargl"
           }
          ],
          "scatterternary": [
           {
            "marker": {
             "colorbar": {
              "outlinewidth": 0,
              "ticks": ""
             }
            },
            "type": "scatterternary"
           }
          ],
          "surface": [
           {
            "colorbar": {
             "outlinewidth": 0,
             "ticks": ""
            },
            "colorscale": [
             [
              0,
              "#0d0887"
             ],
             [
              0.1111111111111111,
              "#46039f"
             ],
             [
              0.2222222222222222,
              "#7201a8"
             ],
             [
              0.3333333333333333,
              "#9c179e"
             ],
             [
              0.4444444444444444,
              "#bd3786"
             ],
             [
              0.5555555555555556,
              "#d8576b"
             ],
             [
              0.6666666666666666,
              "#ed7953"
             ],
             [
              0.7777777777777778,
              "#fb9f3a"
             ],
             [
              0.8888888888888888,
              "#fdca26"
             ],
             [
              1,
              "#f0f921"
             ]
            ],
            "type": "surface"
           }
          ],
          "table": [
           {
            "cells": {
             "fill": {
              "color": "#506784"
             },
             "line": {
              "color": "rgb(17,17,17)"
             }
            },
            "header": {
             "fill": {
              "color": "#2a3f5f"
             },
             "line": {
              "color": "rgb(17,17,17)"
             }
            },
            "type": "table"
           }
          ]
         },
         "layout": {
          "annotationdefaults": {
           "arrowcolor": "#f2f5fa",
           "arrowhead": 0,
           "arrowwidth": 1
          },
          "autotypenumbers": "strict",
          "coloraxis": {
           "colorbar": {
            "outlinewidth": 0,
            "ticks": ""
           }
          },
          "colorscale": {
           "diverging": [
            [
             0,
             "#8e0152"
            ],
            [
             0.1,
             "#c51b7d"
            ],
            [
             0.2,
             "#de77ae"
            ],
            [
             0.3,
             "#f1b6da"
            ],
            [
             0.4,
             "#fde0ef"
            ],
            [
             0.5,
             "#f7f7f7"
            ],
            [
             0.6,
             "#e6f5d0"
            ],
            [
             0.7,
             "#b8e186"
            ],
            [
             0.8,
             "#7fbc41"
            ],
            [
             0.9,
             "#4d9221"
            ],
            [
             1,
             "#276419"
            ]
           ],
           "sequential": [
            [
             0,
             "#0d0887"
            ],
            [
             0.1111111111111111,
             "#46039f"
            ],
            [
             0.2222222222222222,
             "#7201a8"
            ],
            [
             0.3333333333333333,
             "#9c179e"
            ],
            [
             0.4444444444444444,
             "#bd3786"
            ],
            [
             0.5555555555555556,
             "#d8576b"
            ],
            [
             0.6666666666666666,
             "#ed7953"
            ],
            [
             0.7777777777777778,
             "#fb9f3a"
            ],
            [
             0.8888888888888888,
             "#fdca26"
            ],
            [
             1,
             "#f0f921"
            ]
           ],
           "sequentialminus": [
            [
             0,
             "#0d0887"
            ],
            [
             0.1111111111111111,
             "#46039f"
            ],
            [
             0.2222222222222222,
             "#7201a8"
            ],
            [
             0.3333333333333333,
             "#9c179e"
            ],
            [
             0.4444444444444444,
             "#bd3786"
            ],
            [
             0.5555555555555556,
             "#d8576b"
            ],
            [
             0.6666666666666666,
             "#ed7953"
            ],
            [
             0.7777777777777778,
             "#fb9f3a"
            ],
            [
             0.8888888888888888,
             "#fdca26"
            ],
            [
             1,
             "#f0f921"
            ]
           ]
          },
          "colorway": [
           "#636efa",
           "#EF553B",
           "#00cc96",
           "#ab63fa",
           "#FFA15A",
           "#19d3f3",
           "#FF6692",
           "#B6E880",
           "#FF97FF",
           "#FECB52"
          ],
          "font": {
           "color": "#f2f5fa"
          },
          "geo": {
           "bgcolor": "rgb(17,17,17)",
           "lakecolor": "rgb(17,17,17)",
           "landcolor": "rgb(17,17,17)",
           "showlakes": true,
           "showland": true,
           "subunitcolor": "#506784"
          },
          "hoverlabel": {
           "align": "left"
          },
          "hovermode": "closest",
          "mapbox": {
           "style": "dark"
          },
          "paper_bgcolor": "rgb(17,17,17)",
          "plot_bgcolor": "rgb(17,17,17)",
          "polar": {
           "angularaxis": {
            "gridcolor": "#506784",
            "linecolor": "#506784",
            "ticks": ""
           },
           "bgcolor": "rgb(17,17,17)",
           "radialaxis": {
            "gridcolor": "#506784",
            "linecolor": "#506784",
            "ticks": ""
           }
          },
          "scene": {
           "xaxis": {
            "backgroundcolor": "rgb(17,17,17)",
            "gridcolor": "#506784",
            "gridwidth": 2,
            "linecolor": "#506784",
            "showbackground": true,
            "ticks": "",
            "zerolinecolor": "#C8D4E3"
           },
           "yaxis": {
            "backgroundcolor": "rgb(17,17,17)",
            "gridcolor": "#506784",
            "gridwidth": 2,
            "linecolor": "#506784",
            "showbackground": true,
            "ticks": "",
            "zerolinecolor": "#C8D4E3"
           },
           "zaxis": {
            "backgroundcolor": "rgb(17,17,17)",
            "gridcolor": "#506784",
            "gridwidth": 2,
            "linecolor": "#506784",
            "showbackground": true,
            "ticks": "",
            "zerolinecolor": "#C8D4E3"
           }
          },
          "shapedefaults": {
           "line": {
            "color": "#f2f5fa"
           }
          },
          "sliderdefaults": {
           "bgcolor": "#C8D4E3",
           "bordercolor": "rgb(17,17,17)",
           "borderwidth": 1,
           "tickwidth": 0
          },
          "ternary": {
           "aaxis": {
            "gridcolor": "#506784",
            "linecolor": "#506784",
            "ticks": ""
           },
           "baxis": {
            "gridcolor": "#506784",
            "linecolor": "#506784",
            "ticks": ""
           },
           "bgcolor": "rgb(17,17,17)",
           "caxis": {
            "gridcolor": "#506784",
            "linecolor": "#506784",
            "ticks": ""
           }
          },
          "title": {
           "x": 0.05
          },
          "updatemenudefaults": {
           "bgcolor": "#506784",
           "borderwidth": 0
          },
          "xaxis": {
           "automargin": true,
           "gridcolor": "#283442",
           "linecolor": "#506784",
           "ticks": "",
           "title": {
            "standoff": 15
           },
           "zerolinecolor": "#283442",
           "zerolinewidth": 2
          },
          "yaxis": {
           "automargin": true,
           "gridcolor": "#283442",
           "linecolor": "#506784",
           "ticks": "",
           "title": {
            "standoff": 15
           },
           "zerolinecolor": "#283442",
           "zerolinewidth": 2
          }
         }
        },
        "title": {
         "text": "Momentum 23 Pizza Preferences by Dietary Restrictions"
        },
        "xaxis": {
         "anchor": "y",
         "domain": [
          0,
          1
         ],
         "title": {
          "text": "Favorite Pizza"
         }
        },
        "yaxis": {
         "anchor": "x",
         "domain": [
          0,
          1
         ],
         "title": {
          "text": "Dietary Restrictions"
         }
        }
       }
      }
     },
     "metadata": {},
     "output_type": "display_data"
    }
   ],
   "source": [
    "px.density_heatmap(df23[df23['Favorite Pizza'].isin(dfPizzas.index)], x='Favorite Pizza', y='Dietary Restrictions', title='Momentum 23 Pizza Preferences by Dietary Restrictions')"
   ]
  },
  {
   "cell_type": "code",
   "execution_count": 565,
   "metadata": {},
   "outputs": [
    {
     "name": "stderr",
     "output_type": "stream",
     "text": [
      "/home/matteland/anaconda3/lib/python3.11/site-packages/_plotly_utils/basevalidators.py:106: FutureWarning:\n",
      "\n",
      "The behavior of DatetimeProperties.to_pydatetime is deprecated, in a future version this will return a Series containing python datetime objects instead of an ndarray. To retain the old behavior, call `np.array` on the result\n",
      "\n"
     ]
    },
    {
     "data": {
      "application/vnd.plotly.v1+json": {
       "config": {
        "plotlyServerURL": "https://plot.ly"
       },
       "data": [
        {
         "hovertemplate": "Favorite Pizza=%{y}<br>Order Date=%{x}<extra></extra>",
         "legendgroup": "LaRosa's",
         "marker": {
          "color": "rgb(95, 70, 144)",
          "symbol": "circle"
         },
         "mode": "markers",
         "name": "LaRosa's",
         "orientation": "v",
         "showlegend": true,
         "type": "scatter",
         "x": [
          "2023-06-28T20:49:38+00:00",
          "2023-07-02T13:05:42+00:00",
          "2023-07-02T13:07:45+00:00",
          "2023-07-19T16:38:36+00:00",
          "2023-07-19T16:38:37+00:00",
          "2023-07-19T16:38:38+00:00",
          "2023-07-31T13:26:42+00:00",
          "2023-08-09T18:02:24+00:00",
          "2023-08-09T18:02:24+00:00",
          "2023-08-09T18:02:24+00:00",
          "2023-08-09T18:02:24+00:00",
          "2023-08-09T18:02:24+00:00",
          "2023-08-09T19:11:04+00:00",
          "2023-08-09T19:11:04+00:00",
          "2023-08-09T19:11:04+00:00",
          "2023-08-09T19:11:04+00:00",
          "2023-08-09T19:11:04+00:00",
          "2023-08-11T11:34:00+00:00",
          "2023-08-13T11:46:08+00:00",
          "2023-08-14T16:09:47+00:00",
          "2023-08-14T16:09:47+00:00",
          "2023-08-14T20:59:21+00:00",
          "2023-08-14T20:59:21+00:00",
          "2023-08-11T20:17:48+00:00",
          "2023-08-11T20:17:48+00:00",
          "2023-08-11T20:17:48+00:00",
          "2023-08-11T20:17:48+00:00",
          "2023-08-15T15:36:49+00:00",
          "2023-08-15T21:08:58+00:00",
          "2023-08-15T21:42:25+00:00",
          "2023-08-19T17:50:02+00:00",
          "2023-08-19T18:08:08+00:00",
          "2023-08-21T21:20:52+00:00",
          "2023-08-21T21:20:52+00:00",
          "2023-08-21T21:20:52+00:00",
          "2023-08-23T14:48:35+00:00",
          "2023-08-23T14:48:53+00:00",
          "2023-08-23T14:50:44+00:00",
          "2023-09-01T15:28:55+00:00",
          "2023-09-05T14:31:20+00:00",
          "2023-09-07T13:09:20+00:00",
          "2023-09-12T12:31:43+00:00",
          "2023-09-15T15:40:28+00:00",
          "2023-09-17T02:23:28+00:00",
          "2023-09-20T21:26:37+00:00",
          "2023-09-22T18:57:13+00:00",
          "2023-09-22T20:43:35+00:00",
          "2023-09-22T21:10:26+00:00",
          "2023-09-22T21:09:46+00:00",
          "2023-09-23T01:13:51+00:00",
          "2023-09-28T20:19:57+00:00",
          "2023-10-03T13:22:04+00:00",
          "2023-10-09T19:00:31+00:00",
          "2023-10-12T16:24:13+00:00",
          "2023-10-12T16:24:13+00:00",
          "2023-10-12T17:11:47+00:00",
          "2023-10-12T17:11:47+00:00",
          "2023-10-18T13:40:16+00:00"
         ],
         "xaxis": "x",
         "y": [
          "LaRosa's",
          "LaRosa's",
          "LaRosa's",
          "LaRosa's",
          "LaRosa's",
          "LaRosa's",
          "LaRosa's",
          "LaRosa's",
          "LaRosa's",
          "LaRosa's",
          "LaRosa's",
          "LaRosa's",
          "LaRosa's",
          "LaRosa's",
          "LaRosa's",
          "LaRosa's",
          "LaRosa's",
          "LaRosa's",
          "LaRosa's",
          "LaRosa's",
          "LaRosa's",
          "LaRosa's",
          "LaRosa's",
          "LaRosa's",
          "LaRosa's",
          "LaRosa's",
          "LaRosa's",
          "LaRosa's",
          "LaRosa's",
          "LaRosa's",
          "LaRosa's",
          "LaRosa's",
          "LaRosa's",
          "LaRosa's",
          "LaRosa's",
          "LaRosa's",
          "LaRosa's",
          "LaRosa's",
          "LaRosa's",
          "LaRosa's",
          "LaRosa's",
          "LaRosa's",
          "LaRosa's",
          "LaRosa's",
          "LaRosa's",
          "LaRosa's",
          "LaRosa's",
          "LaRosa's",
          "LaRosa's",
          "LaRosa's",
          "LaRosa's",
          "LaRosa's",
          "LaRosa's",
          "LaRosa's",
          "LaRosa's",
          "LaRosa's",
          "LaRosa's",
          "LaRosa's"
         ],
         "yaxis": "y"
        },
        {
         "hovertemplate": "Favorite Pizza=%{y}<br>Order Date=%{x}<extra></extra>",
         "legendgroup": "Goodfellas",
         "marker": {
          "color": "rgb(29, 105, 150)",
          "symbol": "circle"
         },
         "mode": "markers",
         "name": "Goodfellas",
         "orientation": "v",
         "showlegend": true,
         "type": "scatter",
         "x": [
          "2023-07-02T13:03:48+00:00",
          "2023-07-02T13:12:16+00:00",
          "2023-07-02T13:13:26+00:00",
          "2023-07-10T16:37:15+00:00",
          "2023-07-10T16:37:15+00:00",
          "2023-07-10T16:37:15+00:00",
          "2023-07-11T15:12:51+00:00",
          "2023-07-19T16:38:32+00:00",
          "2023-07-19T16:38:39+00:00",
          "2023-07-19T16:38:41+00:00",
          "2023-07-24T23:21:36+00:00",
          "2023-08-01T00:22:40+00:00",
          "2023-08-09T18:02:24+00:00",
          "2023-08-09T18:02:24+00:00",
          "2023-08-09T18:02:24+00:00",
          "2023-08-09T18:02:24+00:00",
          "2023-08-09T18:02:24+00:00",
          "2023-08-09T18:02:24+00:00",
          "2023-08-12T21:39:05+00:00",
          "2023-08-14T16:09:47+00:00",
          "2023-08-11T20:17:48+00:00",
          "2023-08-11T20:17:48+00:00",
          "2023-08-15T01:18:28+00:00",
          "2023-08-15T11:56:49+00:00",
          "2023-08-15T21:08:58+00:00",
          "2023-08-16T02:42:39+00:00",
          "2023-08-19T18:08:10+00:00",
          "2023-08-21T21:20:52+00:00",
          "2023-08-21T21:20:52+00:00",
          "2023-08-23T13:45:47+00:00",
          "2023-08-23T14:47:48+00:00",
          "2023-08-23T14:52:43+00:00",
          "2023-09-01T19:27:53+00:00",
          "2023-09-14T12:43:41+00:00",
          "2023-09-15T19:03:09+00:00",
          "2023-09-15T19:03:09+00:00",
          "2023-09-18T13:00:29+00:00",
          "2023-09-20T22:09:20+00:00",
          "2023-09-22T18:57:13+00:00",
          "2023-09-22T18:57:13+00:00",
          "2023-09-26T01:24:37+00:00",
          "2023-10-09T14:41:33+00:00",
          "2023-10-18T15:48:47+00:00",
          "2023-10-18T16:05:07+00:00",
          "2023-10-18T20:32:20+00:00"
         ],
         "xaxis": "x",
         "y": [
          "Goodfellas",
          "Goodfellas",
          "Goodfellas",
          "Goodfellas",
          "Goodfellas",
          "Goodfellas",
          "Goodfellas",
          "Goodfellas",
          "Goodfellas",
          "Goodfellas",
          "Goodfellas",
          "Goodfellas",
          "Goodfellas",
          "Goodfellas",
          "Goodfellas",
          "Goodfellas",
          "Goodfellas",
          "Goodfellas",
          "Goodfellas",
          "Goodfellas",
          "Goodfellas",
          "Goodfellas",
          "Goodfellas",
          "Goodfellas",
          "Goodfellas",
          "Goodfellas",
          "Goodfellas",
          "Goodfellas",
          "Goodfellas",
          "Goodfellas",
          "Goodfellas",
          "Goodfellas",
          "Goodfellas",
          "Goodfellas",
          "Goodfellas",
          "Goodfellas",
          "Goodfellas",
          "Goodfellas",
          "Goodfellas",
          "Goodfellas",
          "Goodfellas",
          "Goodfellas",
          "Goodfellas",
          "Goodfellas",
          "Goodfellas"
         ],
         "yaxis": "y"
        },
        {
         "hovertemplate": "Favorite Pizza=%{y}<br>Order Date=%{x}<extra></extra>",
         "legendgroup": "Adriatico's",
         "marker": {
          "color": "rgb(56, 166, 165)",
          "symbol": "circle"
         },
         "mode": "markers",
         "name": "Adriatico's",
         "orientation": "v",
         "showlegend": true,
         "type": "scatter",
         "x": [
          "2023-07-02T13:07:13+00:00",
          "2023-07-05T11:41:29+00:00",
          "2023-07-19T16:38:30+00:00",
          "2023-07-19T16:38:39+00:00",
          "2023-07-31T13:26:42+00:00",
          "2023-08-09T13:11:20+00:00",
          "2023-08-09T15:22:01+00:00",
          "2023-08-09T18:02:24+00:00",
          "2023-08-09T18:02:24+00:00",
          "2023-08-09T18:02:24+00:00",
          "2023-08-09T18:02:24+00:00",
          "2023-08-09T18:02:24+00:00",
          "2023-08-09T18:02:24+00:00",
          "2023-08-09T18:02:24+00:00",
          "2023-08-09T18:02:24+00:00",
          "2023-08-14T15:44:19+00:00",
          "2023-08-14T15:44:19+00:00",
          "2023-08-14T20:00:42+00:00",
          "2023-08-14T23:17:04+00:00",
          "2023-08-15T13:31:20+00:00",
          "2023-08-15T15:36:49+00:00",
          "2023-08-15T16:31:19+00:00",
          "2023-08-15T17:15:19+00:00",
          "2023-08-15T19:08:06+00:00",
          "2023-08-15T21:08:58+00:00",
          "2023-08-15T21:48:43+00:00",
          "2023-08-16T00:28:17+00:00",
          "2023-08-16T03:12:48+00:00",
          "2023-08-19T18:08:08+00:00",
          "2023-08-19T18:08:09+00:00",
          "2023-08-23T14:47:48+00:00",
          "2023-08-23T19:22:18+00:00",
          "2023-08-31T15:10:31+00:00",
          "2023-09-01T15:28:55+00:00",
          "2023-09-21T23:15:51+00:00",
          "2023-09-22T20:47:43+00:00",
          "2023-09-25T14:15:18+00:00",
          "2023-09-25T15:19:04+00:00",
          "2023-09-26T01:24:35+00:00",
          "2023-09-26T01:24:38+00:00",
          "2023-10-06T01:11:03+00:00",
          "2023-10-06T13:02:29+00:00"
         ],
         "xaxis": "x",
         "y": [
          "Adriatico's",
          "Adriatico's",
          "Adriatico's",
          "Adriatico's",
          "Adriatico's",
          "Adriatico's",
          "Adriatico's",
          "Adriatico's",
          "Adriatico's",
          "Adriatico's",
          "Adriatico's",
          "Adriatico's",
          "Adriatico's",
          "Adriatico's",
          "Adriatico's",
          "Adriatico's",
          "Adriatico's",
          "Adriatico's",
          "Adriatico's",
          "Adriatico's",
          "Adriatico's",
          "Adriatico's",
          "Adriatico's",
          "Adriatico's",
          "Adriatico's",
          "Adriatico's",
          "Adriatico's",
          "Adriatico's",
          "Adriatico's",
          "Adriatico's",
          "Adriatico's",
          "Adriatico's",
          "Adriatico's",
          "Adriatico's",
          "Adriatico's",
          "Adriatico's",
          "Adriatico's",
          "Adriatico's",
          "Adriatico's",
          "Adriatico's",
          "Adriatico's",
          "Adriatico's"
         ],
         "yaxis": "y"
        },
        {
         "hovertemplate": "Favorite Pizza=%{y}<br>Order Date=%{x}<extra></extra>",
         "legendgroup": "Dewey's",
         "marker": {
          "color": "rgb(15, 133, 84)",
          "symbol": "circle"
         },
         "mode": "markers",
         "name": "Dewey's",
         "orientation": "v",
         "showlegend": true,
         "type": "scatter",
         "x": [
          "2023-07-02T13:08:42+00:00",
          "2023-07-02T13:11:19+00:00",
          "2023-07-02T17:21:41+00:00",
          "2023-07-11T17:05:52+00:00",
          "2023-07-17T18:03:49+00:00",
          "2023-07-19T16:38:28+00:00",
          "2023-07-19T16:38:36+00:00",
          "2023-07-19T16:38:42+00:00",
          "2023-07-19T17:07:11+00:00",
          "2023-08-09T15:04:42+00:00",
          "2023-08-09T18:02:24+00:00",
          "2023-08-09T18:02:24+00:00",
          "2023-08-09T18:02:24+00:00",
          "2023-08-09T18:02:24+00:00",
          "2023-08-09T18:02:24+00:00",
          "2023-08-09T18:02:24+00:00",
          "2023-08-09T18:02:24+00:00",
          "2023-08-09T18:02:24+00:00",
          "2023-08-09T18:02:24+00:00",
          "2023-08-09T18:02:24+00:00",
          "2023-08-09T18:02:24+00:00",
          "2023-08-09T18:02:24+00:00",
          "2023-08-09T18:02:24+00:00",
          "2023-08-11T11:34:00+00:00",
          "2023-08-11T19:20:28+00:00",
          "2023-08-14T13:06:36+00:00",
          "2023-08-14T14:27:22+00:00",
          "2023-08-14T14:57:08+00:00",
          "2023-08-14T16:09:47+00:00",
          "2023-08-14T16:09:47+00:00",
          "2023-08-14T16:09:47+00:00",
          "2023-08-14T16:09:47+00:00",
          "2023-08-14T16:09:47+00:00",
          "2023-08-14T17:43:59+00:00",
          "2023-08-11T20:17:48+00:00",
          "2023-08-15T02:26:07+00:00",
          "2023-08-15T13:23:42+00:00",
          "2023-08-15T14:22:59+00:00",
          "2023-08-15T15:36:49+00:00",
          "2023-08-15T16:40:19+00:00",
          "2023-08-15T18:47:33+00:00",
          "2023-08-15T19:18:37+00:00",
          "2023-08-15T20:26:38+00:00",
          "2023-08-15T21:08:58+00:00",
          "2023-08-15T21:08:58+00:00",
          "2023-08-15T21:08:58+00:00",
          "2023-08-15T21:08:58+00:00",
          "2023-08-15T21:08:58+00:00",
          "2023-08-15T21:08:58+00:00",
          "2023-08-15T21:08:58+00:00",
          "2023-08-15T21:48:43+00:00",
          "2023-08-19T17:51:07+00:00",
          "2023-08-19T18:08:07+00:00",
          "2023-08-19T18:08:10+00:00",
          "2023-08-21T21:20:52+00:00",
          "2023-08-21T21:20:52+00:00",
          "2023-08-22T14:15:51+00:00",
          "2023-08-23T14:47:22+00:00",
          "2023-08-23T14:47:22+00:00",
          "2023-08-23T14:47:48+00:00",
          "2023-08-23T14:48:35+00:00",
          "2023-08-23T14:50:44+00:00",
          "2023-08-23T14:50:56+00:00",
          "2023-08-23T14:51:15+00:00",
          "2023-08-23T14:51:53+00:00",
          "2023-08-23T14:51:53+00:00",
          "2023-08-23T14:52:33+00:00",
          "2023-08-23T14:52:43+00:00",
          "2023-08-23T18:09:45+00:00",
          "2023-09-01T15:28:55+00:00",
          "2023-09-01T15:28:55+00:00",
          "2023-09-01T15:45:26+00:00",
          "2023-09-08T15:40:00+00:00",
          "2023-09-12T19:15:05+00:00",
          "2023-09-13T14:08:59+00:00",
          "2023-09-13T18:18:42+00:00",
          "2023-09-15T12:06:40+00:00",
          "2023-09-18T20:08:07+00:00",
          "2023-09-20T13:02:19+00:00",
          "2023-09-22T18:57:13+00:00",
          "2023-09-22T18:57:13+00:00",
          "2023-09-22T18:57:13+00:00",
          "2023-09-22T18:57:13+00:00",
          "2023-09-22T18:57:13+00:00",
          "2023-09-22T18:57:13+00:00",
          "2023-09-22T21:10:10+00:00",
          "2023-09-26T01:24:35+00:00",
          "2023-09-26T01:24:37+00:00",
          "2023-09-26T01:24:38+00:00",
          "2023-09-28T13:27:25+00:00",
          "2023-09-28T18:06:22+00:00",
          "2023-10-04T17:46:29+00:00",
          "2023-10-04T19:55:06+00:00",
          "2023-10-06T02:39:45+00:00",
          "2023-10-06T21:47:00+00:00",
          "2023-10-12T15:31:07+00:00",
          "2023-10-12T15:31:07+00:00",
          "2023-10-12T19:03:57+00:00",
          "2023-10-16T22:53:26+00:00",
          "2023-10-17T15:17:09+00:00",
          "2023-10-17T16:55:52+00:00",
          "2023-10-17T18:20:32+00:00",
          "2023-10-18T02:26:58+00:00",
          "2023-10-18T14:13:55+00:00",
          "2023-10-18T17:10:20+00:00",
          "2023-10-18T17:50:24+00:00",
          "2023-10-19T12:13:46+00:00"
         ],
         "xaxis": "x",
         "y": [
          "Dewey's",
          "Dewey's",
          "Dewey's",
          "Dewey's",
          "Dewey's",
          "Dewey's",
          "Dewey's",
          "Dewey's",
          "Dewey's",
          "Dewey's",
          "Dewey's",
          "Dewey's",
          "Dewey's",
          "Dewey's",
          "Dewey's",
          "Dewey's",
          "Dewey's",
          "Dewey's",
          "Dewey's",
          "Dewey's",
          "Dewey's",
          "Dewey's",
          "Dewey's",
          "Dewey's",
          "Dewey's",
          "Dewey's",
          "Dewey's",
          "Dewey's",
          "Dewey's",
          "Dewey's",
          "Dewey's",
          "Dewey's",
          "Dewey's",
          "Dewey's",
          "Dewey's",
          "Dewey's",
          "Dewey's",
          "Dewey's",
          "Dewey's",
          "Dewey's",
          "Dewey's",
          "Dewey's",
          "Dewey's",
          "Dewey's",
          "Dewey's",
          "Dewey's",
          "Dewey's",
          "Dewey's",
          "Dewey's",
          "Dewey's",
          "Dewey's",
          "Dewey's",
          "Dewey's",
          "Dewey's",
          "Dewey's",
          "Dewey's",
          "Dewey's",
          "Dewey's",
          "Dewey's",
          "Dewey's",
          "Dewey's",
          "Dewey's",
          "Dewey's",
          "Dewey's",
          "Dewey's",
          "Dewey's",
          "Dewey's",
          "Dewey's",
          "Dewey's",
          "Dewey's",
          "Dewey's",
          "Dewey's",
          "Dewey's",
          "Dewey's",
          "Dewey's",
          "Dewey's",
          "Dewey's",
          "Dewey's",
          "Dewey's",
          "Dewey's",
          "Dewey's",
          "Dewey's",
          "Dewey's",
          "Dewey's",
          "Dewey's",
          "Dewey's",
          "Dewey's",
          "Dewey's",
          "Dewey's",
          "Dewey's",
          "Dewey's",
          "Dewey's",
          "Dewey's",
          "Dewey's",
          "Dewey's",
          "Dewey's",
          "Dewey's",
          "Dewey's",
          "Dewey's",
          "Dewey's",
          "Dewey's",
          "Dewey's",
          "Dewey's",
          "Dewey's",
          "Dewey's",
          "Dewey's",
          "Dewey's"
         ],
         "yaxis": "y"
        },
        {
         "hovertemplate": "Favorite Pizza=%{y}<br>Order Date=%{x}<extra></extra>",
         "legendgroup": "Camporosso",
         "marker": {
          "color": "rgb(115, 175, 72)",
          "symbol": "circle"
         },
         "mode": "markers",
         "name": "Camporosso",
         "orientation": "v",
         "showlegend": true,
         "type": "scatter",
         "x": [
          "2023-07-02T13:11:49+00:00",
          "2023-07-19T16:38:40+00:00",
          "2023-08-09T18:02:24+00:00",
          "2023-08-09T18:02:24+00:00",
          "2023-08-14T16:09:47+00:00",
          "2023-08-14T16:18:28+00:00",
          "2023-08-14T16:18:28+00:00",
          "2023-09-26T01:24:36+00:00",
          "2023-10-03T13:22:04+00:00",
          "2023-10-04T15:40:44+00:00",
          "2023-10-17T00:11:34+00:00"
         ],
         "xaxis": "x",
         "y": [
          "Camporosso",
          "Camporosso",
          "Camporosso",
          "Camporosso",
          "Camporosso",
          "Camporosso",
          "Camporosso",
          "Camporosso",
          "Camporosso",
          "Camporosso",
          "Camporosso"
         ],
         "yaxis": "y"
        },
        {
         "hovertemplate": "Favorite Pizza=%{y}<br>Order Date=%{x}<extra></extra>",
         "legendgroup": "Taglio",
         "marker": {
          "color": "rgb(237, 173, 8)",
          "symbol": "circle"
         },
         "mode": "markers",
         "name": "Taglio",
         "orientation": "v",
         "showlegend": true,
         "type": "scatter",
         "x": [
          "2023-07-02T13:14:49+00:00",
          "2023-08-03T20:16:13+00:00",
          "2023-08-09T18:02:24+00:00",
          "2023-10-13T16:04:44+00:00"
         ],
         "xaxis": "x",
         "y": [
          "Taglio",
          "Taglio",
          "Taglio",
          "Taglio"
         ],
         "yaxis": "y"
        },
        {
         "hovertemplate": "Favorite Pizza=%{y}<br>Order Date=%{x}<extra></extra>",
         "legendgroup": "Bourbon House",
         "marker": {
          "color": "rgb(225, 124, 5)",
          "symbol": "circle"
         },
         "mode": "markers",
         "name": "Bourbon House",
         "orientation": "v",
         "showlegend": true,
         "type": "scatter",
         "x": [
          "2023-07-02T13:15:08+00:00",
          "2023-07-19T16:38:29+00:00",
          "2023-07-19T16:38:29+00:00",
          "2023-07-19T16:38:35+00:00",
          "2023-08-09T18:02:24+00:00",
          "2023-08-11T00:15:46+00:00",
          "2023-08-14T16:18:28+00:00",
          "2023-09-14T18:44:40+00:00",
          "2023-09-19T01:33:05+00:00",
          "2023-09-22T12:59:25+00:00",
          "2023-09-29T17:41:39+00:00"
         ],
         "xaxis": "x",
         "y": [
          "Bourbon House",
          "Bourbon House",
          "Bourbon House",
          "Bourbon House",
          "Bourbon House",
          "Bourbon House",
          "Bourbon House",
          "Bourbon House",
          "Bourbon House",
          "Bourbon House",
          "Bourbon House"
         ],
         "yaxis": "y"
        }
       ],
       "layout": {
        "legend": {
         "title": {
          "text": "Favorite Pizza"
         },
         "tracegroupgap": 0
        },
        "template": {
         "data": {
          "bar": [
           {
            "error_x": {
             "color": "#f2f5fa"
            },
            "error_y": {
             "color": "#f2f5fa"
            },
            "marker": {
             "line": {
              "color": "rgb(17,17,17)",
              "width": 0.5
             },
             "pattern": {
              "fillmode": "overlay",
              "size": 10,
              "solidity": 0.2
             }
            },
            "type": "bar"
           }
          ],
          "barpolar": [
           {
            "marker": {
             "line": {
              "color": "rgb(17,17,17)",
              "width": 0.5
             },
             "pattern": {
              "fillmode": "overlay",
              "size": 10,
              "solidity": 0.2
             }
            },
            "type": "barpolar"
           }
          ],
          "carpet": [
           {
            "aaxis": {
             "endlinecolor": "#A2B1C6",
             "gridcolor": "#506784",
             "linecolor": "#506784",
             "minorgridcolor": "#506784",
             "startlinecolor": "#A2B1C6"
            },
            "baxis": {
             "endlinecolor": "#A2B1C6",
             "gridcolor": "#506784",
             "linecolor": "#506784",
             "minorgridcolor": "#506784",
             "startlinecolor": "#A2B1C6"
            },
            "type": "carpet"
           }
          ],
          "choropleth": [
           {
            "colorbar": {
             "outlinewidth": 0,
             "ticks": ""
            },
            "type": "choropleth"
           }
          ],
          "contour": [
           {
            "colorbar": {
             "outlinewidth": 0,
             "ticks": ""
            },
            "colorscale": [
             [
              0,
              "#0d0887"
             ],
             [
              0.1111111111111111,
              "#46039f"
             ],
             [
              0.2222222222222222,
              "#7201a8"
             ],
             [
              0.3333333333333333,
              "#9c179e"
             ],
             [
              0.4444444444444444,
              "#bd3786"
             ],
             [
              0.5555555555555556,
              "#d8576b"
             ],
             [
              0.6666666666666666,
              "#ed7953"
             ],
             [
              0.7777777777777778,
              "#fb9f3a"
             ],
             [
              0.8888888888888888,
              "#fdca26"
             ],
             [
              1,
              "#f0f921"
             ]
            ],
            "type": "contour"
           }
          ],
          "contourcarpet": [
           {
            "colorbar": {
             "outlinewidth": 0,
             "ticks": ""
            },
            "type": "contourcarpet"
           }
          ],
          "heatmap": [
           {
            "colorbar": {
             "outlinewidth": 0,
             "ticks": ""
            },
            "colorscale": [
             [
              0,
              "#0d0887"
             ],
             [
              0.1111111111111111,
              "#46039f"
             ],
             [
              0.2222222222222222,
              "#7201a8"
             ],
             [
              0.3333333333333333,
              "#9c179e"
             ],
             [
              0.4444444444444444,
              "#bd3786"
             ],
             [
              0.5555555555555556,
              "#d8576b"
             ],
             [
              0.6666666666666666,
              "#ed7953"
             ],
             [
              0.7777777777777778,
              "#fb9f3a"
             ],
             [
              0.8888888888888888,
              "#fdca26"
             ],
             [
              1,
              "#f0f921"
             ]
            ],
            "type": "heatmap"
           }
          ],
          "heatmapgl": [
           {
            "colorbar": {
             "outlinewidth": 0,
             "ticks": ""
            },
            "colorscale": [
             [
              0,
              "#0d0887"
             ],
             [
              0.1111111111111111,
              "#46039f"
             ],
             [
              0.2222222222222222,
              "#7201a8"
             ],
             [
              0.3333333333333333,
              "#9c179e"
             ],
             [
              0.4444444444444444,
              "#bd3786"
             ],
             [
              0.5555555555555556,
              "#d8576b"
             ],
             [
              0.6666666666666666,
              "#ed7953"
             ],
             [
              0.7777777777777778,
              "#fb9f3a"
             ],
             [
              0.8888888888888888,
              "#fdca26"
             ],
             [
              1,
              "#f0f921"
             ]
            ],
            "type": "heatmapgl"
           }
          ],
          "histogram": [
           {
            "marker": {
             "pattern": {
              "fillmode": "overlay",
              "size": 10,
              "solidity": 0.2
             }
            },
            "type": "histogram"
           }
          ],
          "histogram2d": [
           {
            "colorbar": {
             "outlinewidth": 0,
             "ticks": ""
            },
            "colorscale": [
             [
              0,
              "#0d0887"
             ],
             [
              0.1111111111111111,
              "#46039f"
             ],
             [
              0.2222222222222222,
              "#7201a8"
             ],
             [
              0.3333333333333333,
              "#9c179e"
             ],
             [
              0.4444444444444444,
              "#bd3786"
             ],
             [
              0.5555555555555556,
              "#d8576b"
             ],
             [
              0.6666666666666666,
              "#ed7953"
             ],
             [
              0.7777777777777778,
              "#fb9f3a"
             ],
             [
              0.8888888888888888,
              "#fdca26"
             ],
             [
              1,
              "#f0f921"
             ]
            ],
            "type": "histogram2d"
           }
          ],
          "histogram2dcontour": [
           {
            "colorbar": {
             "outlinewidth": 0,
             "ticks": ""
            },
            "colorscale": [
             [
              0,
              "#0d0887"
             ],
             [
              0.1111111111111111,
              "#46039f"
             ],
             [
              0.2222222222222222,
              "#7201a8"
             ],
             [
              0.3333333333333333,
              "#9c179e"
             ],
             [
              0.4444444444444444,
              "#bd3786"
             ],
             [
              0.5555555555555556,
              "#d8576b"
             ],
             [
              0.6666666666666666,
              "#ed7953"
             ],
             [
              0.7777777777777778,
              "#fb9f3a"
             ],
             [
              0.8888888888888888,
              "#fdca26"
             ],
             [
              1,
              "#f0f921"
             ]
            ],
            "type": "histogram2dcontour"
           }
          ],
          "mesh3d": [
           {
            "colorbar": {
             "outlinewidth": 0,
             "ticks": ""
            },
            "type": "mesh3d"
           }
          ],
          "parcoords": [
           {
            "line": {
             "colorbar": {
              "outlinewidth": 0,
              "ticks": ""
             }
            },
            "type": "parcoords"
           }
          ],
          "pie": [
           {
            "automargin": true,
            "type": "pie"
           }
          ],
          "scatter": [
           {
            "marker": {
             "line": {
              "color": "#283442"
             }
            },
            "type": "scatter"
           }
          ],
          "scatter3d": [
           {
            "line": {
             "colorbar": {
              "outlinewidth": 0,
              "ticks": ""
             }
            },
            "marker": {
             "colorbar": {
              "outlinewidth": 0,
              "ticks": ""
             }
            },
            "type": "scatter3d"
           }
          ],
          "scattercarpet": [
           {
            "marker": {
             "colorbar": {
              "outlinewidth": 0,
              "ticks": ""
             }
            },
            "type": "scattercarpet"
           }
          ],
          "scattergeo": [
           {
            "marker": {
             "colorbar": {
              "outlinewidth": 0,
              "ticks": ""
             }
            },
            "type": "scattergeo"
           }
          ],
          "scattergl": [
           {
            "marker": {
             "line": {
              "color": "#283442"
             }
            },
            "type": "scattergl"
           }
          ],
          "scattermapbox": [
           {
            "marker": {
             "colorbar": {
              "outlinewidth": 0,
              "ticks": ""
             }
            },
            "type": "scattermapbox"
           }
          ],
          "scatterpolar": [
           {
            "marker": {
             "colorbar": {
              "outlinewidth": 0,
              "ticks": ""
             }
            },
            "type": "scatterpolar"
           }
          ],
          "scatterpolargl": [
           {
            "marker": {
             "colorbar": {
              "outlinewidth": 0,
              "ticks": ""
             }
            },
            "type": "scatterpolargl"
           }
          ],
          "scatterternary": [
           {
            "marker": {
             "colorbar": {
              "outlinewidth": 0,
              "ticks": ""
             }
            },
            "type": "scatterternary"
           }
          ],
          "surface": [
           {
            "colorbar": {
             "outlinewidth": 0,
             "ticks": ""
            },
            "colorscale": [
             [
              0,
              "#0d0887"
             ],
             [
              0.1111111111111111,
              "#46039f"
             ],
             [
              0.2222222222222222,
              "#7201a8"
             ],
             [
              0.3333333333333333,
              "#9c179e"
             ],
             [
              0.4444444444444444,
              "#bd3786"
             ],
             [
              0.5555555555555556,
              "#d8576b"
             ],
             [
              0.6666666666666666,
              "#ed7953"
             ],
             [
              0.7777777777777778,
              "#fb9f3a"
             ],
             [
              0.8888888888888888,
              "#fdca26"
             ],
             [
              1,
              "#f0f921"
             ]
            ],
            "type": "surface"
           }
          ],
          "table": [
           {
            "cells": {
             "fill": {
              "color": "#506784"
             },
             "line": {
              "color": "rgb(17,17,17)"
             }
            },
            "header": {
             "fill": {
              "color": "#2a3f5f"
             },
             "line": {
              "color": "rgb(17,17,17)"
             }
            },
            "type": "table"
           }
          ]
         },
         "layout": {
          "annotationdefaults": {
           "arrowcolor": "#f2f5fa",
           "arrowhead": 0,
           "arrowwidth": 1
          },
          "autotypenumbers": "strict",
          "coloraxis": {
           "colorbar": {
            "outlinewidth": 0,
            "ticks": ""
           }
          },
          "colorscale": {
           "diverging": [
            [
             0,
             "#8e0152"
            ],
            [
             0.1,
             "#c51b7d"
            ],
            [
             0.2,
             "#de77ae"
            ],
            [
             0.3,
             "#f1b6da"
            ],
            [
             0.4,
             "#fde0ef"
            ],
            [
             0.5,
             "#f7f7f7"
            ],
            [
             0.6,
             "#e6f5d0"
            ],
            [
             0.7,
             "#b8e186"
            ],
            [
             0.8,
             "#7fbc41"
            ],
            [
             0.9,
             "#4d9221"
            ],
            [
             1,
             "#276419"
            ]
           ],
           "sequential": [
            [
             0,
             "#0d0887"
            ],
            [
             0.1111111111111111,
             "#46039f"
            ],
            [
             0.2222222222222222,
             "#7201a8"
            ],
            [
             0.3333333333333333,
             "#9c179e"
            ],
            [
             0.4444444444444444,
             "#bd3786"
            ],
            [
             0.5555555555555556,
             "#d8576b"
            ],
            [
             0.6666666666666666,
             "#ed7953"
            ],
            [
             0.7777777777777778,
             "#fb9f3a"
            ],
            [
             0.8888888888888888,
             "#fdca26"
            ],
            [
             1,
             "#f0f921"
            ]
           ],
           "sequentialminus": [
            [
             0,
             "#0d0887"
            ],
            [
             0.1111111111111111,
             "#46039f"
            ],
            [
             0.2222222222222222,
             "#7201a8"
            ],
            [
             0.3333333333333333,
             "#9c179e"
            ],
            [
             0.4444444444444444,
             "#bd3786"
            ],
            [
             0.5555555555555556,
             "#d8576b"
            ],
            [
             0.6666666666666666,
             "#ed7953"
            ],
            [
             0.7777777777777778,
             "#fb9f3a"
            ],
            [
             0.8888888888888888,
             "#fdca26"
            ],
            [
             1,
             "#f0f921"
            ]
           ]
          },
          "colorway": [
           "#636efa",
           "#EF553B",
           "#00cc96",
           "#ab63fa",
           "#FFA15A",
           "#19d3f3",
           "#FF6692",
           "#B6E880",
           "#FF97FF",
           "#FECB52"
          ],
          "font": {
           "color": "#f2f5fa"
          },
          "geo": {
           "bgcolor": "rgb(17,17,17)",
           "lakecolor": "rgb(17,17,17)",
           "landcolor": "rgb(17,17,17)",
           "showlakes": true,
           "showland": true,
           "subunitcolor": "#506784"
          },
          "hoverlabel": {
           "align": "left"
          },
          "hovermode": "closest",
          "mapbox": {
           "style": "dark"
          },
          "paper_bgcolor": "rgb(17,17,17)",
          "plot_bgcolor": "rgb(17,17,17)",
          "polar": {
           "angularaxis": {
            "gridcolor": "#506784",
            "linecolor": "#506784",
            "ticks": ""
           },
           "bgcolor": "rgb(17,17,17)",
           "radialaxis": {
            "gridcolor": "#506784",
            "linecolor": "#506784",
            "ticks": ""
           }
          },
          "scene": {
           "xaxis": {
            "backgroundcolor": "rgb(17,17,17)",
            "gridcolor": "#506784",
            "gridwidth": 2,
            "linecolor": "#506784",
            "showbackground": true,
            "ticks": "",
            "zerolinecolor": "#C8D4E3"
           },
           "yaxis": {
            "backgroundcolor": "rgb(17,17,17)",
            "gridcolor": "#506784",
            "gridwidth": 2,
            "linecolor": "#506784",
            "showbackground": true,
            "ticks": "",
            "zerolinecolor": "#C8D4E3"
           },
           "zaxis": {
            "backgroundcolor": "rgb(17,17,17)",
            "gridcolor": "#506784",
            "gridwidth": 2,
            "linecolor": "#506784",
            "showbackground": true,
            "ticks": "",
            "zerolinecolor": "#C8D4E3"
           }
          },
          "shapedefaults": {
           "line": {
            "color": "#f2f5fa"
           }
          },
          "sliderdefaults": {
           "bgcolor": "#C8D4E3",
           "bordercolor": "rgb(17,17,17)",
           "borderwidth": 1,
           "tickwidth": 0
          },
          "ternary": {
           "aaxis": {
            "gridcolor": "#506784",
            "linecolor": "#506784",
            "ticks": ""
           },
           "baxis": {
            "gridcolor": "#506784",
            "linecolor": "#506784",
            "ticks": ""
           },
           "bgcolor": "rgb(17,17,17)",
           "caxis": {
            "gridcolor": "#506784",
            "linecolor": "#506784",
            "ticks": ""
           }
          },
          "title": {
           "x": 0.05
          },
          "updatemenudefaults": {
           "bgcolor": "#506784",
           "borderwidth": 0
          },
          "xaxis": {
           "automargin": true,
           "gridcolor": "#283442",
           "linecolor": "#506784",
           "ticks": "",
           "title": {
            "standoff": 15
           },
           "zerolinecolor": "#283442",
           "zerolinewidth": 2
          },
          "yaxis": {
           "automargin": true,
           "gridcolor": "#283442",
           "linecolor": "#506784",
           "ticks": "",
           "title": {
            "standoff": 15
           },
           "zerolinecolor": "#283442",
           "zerolinewidth": 2
          }
         }
        },
        "title": {
         "text": "Momentum 23 Pizza Preferences by Order Date (because why not?)"
        },
        "xaxis": {
         "anchor": "y",
         "domain": [
          0,
          1
         ],
         "title": {
          "text": "Order Date"
         }
        },
        "yaxis": {
         "anchor": "x",
         "categoryarray": [
          "Bourbon House",
          "Taglio",
          "Camporosso",
          "Dewey's",
          "Adriatico's",
          "Goodfellas",
          "LaRosa's"
         ],
         "categoryorder": "array",
         "domain": [
          0,
          1
         ],
         "title": {
          "text": "Favorite Pizza"
         }
        }
       }
      }
     },
     "metadata": {},
     "output_type": "display_data"
    }
   ],
   "source": [
    "px.scatter(df23[df23['Favorite Pizza'].isin(dfPizzas.index)], y='Favorite Pizza', x='Order Date', color='Favorite Pizza', title='Momentum 23 Pizza Preferences by Order Date (because why not?)')"
   ]
  },
  {
   "cell_type": "markdown",
   "metadata": {},
   "source": [
    "## Job Titles"
   ]
  },
  {
   "cell_type": "code",
   "execution_count": 566,
   "metadata": {},
   "outputs": [
    {
     "data": {
      "text/plain": [
       "Job title\n",
       "Software Engineer                   52\n",
       "Senior Software Engineer            24\n",
       "Software Developer                  21\n",
       "Principal Software Engineer         14\n",
       "Advanced Software Engineer          14\n",
       "                                    ..\n",
       "Talent Acquisition Consultant        1\n",
       "Consulting Data Engineer             1\n",
       "Vice President                       1\n",
       "Director - CX Cloud Platform         1\n",
       "Collaborative Software Developer     1\n",
       "Name: count, Length: 231, dtype: int64"
      ]
     },
     "execution_count": 566,
     "metadata": {},
     "output_type": "execute_result"
    }
   ],
   "source": [
    "df23['Job title'].value_counts()"
   ]
  },
  {
   "cell_type": "code",
   "execution_count": 567,
   "metadata": {},
   "outputs": [
    {
     "data": {
      "text/plain": [
       "Job title\n",
       "Software Engineer                        52\n",
       "Senior Software Engineer                 24\n",
       "Software Developer                       21\n",
       "Principal Software Engineer              14\n",
       "Advanced Software Engineer               14\n",
       "Student                                  11\n",
       "Engineering Manager                       9\n",
       "Lead Software Engineer                    8\n",
       "Cognitive Computing Platform Engineer     7\n",
       "Developer                                 5\n",
       "Data Engineer                             5\n",
       "Principal Consultant                      4\n",
       "Senior Developer                          4\n",
       "Product Manager                           4\n",
       "Developer Advocate                        4\n",
       "Business Development Manager              3\n",
       "Senior UX Consultant                      3\n",
       "Sr Software Engineer                      3\n",
       "IT Professional Applications              3\n",
       "Engineer                                  3\n",
       "Instructor                                3\n",
       "Software Engineering Manager              3\n",
       "Lead Data Engineer                        3\n",
       "CEO                                       3\n",
       "Consultant                                3\n",
       "Name: count, dtype: int64"
      ]
     },
     "execution_count": 567,
     "metadata": {},
     "output_type": "execute_result"
    }
   ],
   "source": [
    "df23['Job title'].value_counts().head(25)"
   ]
  },
  {
   "cell_type": "code",
   "execution_count": 568,
   "metadata": {},
   "outputs": [
    {
     "data": {
      "text/plain": [
       "Job title\n",
       "Student                                   11\n",
       "Engineering Manager                        9\n",
       "Cognitive Computing Platform Engineer      7\n",
       "Data Engineer                              5\n",
       "Product Manager                            4\n",
       "Business Development Manager               3\n",
       "Lead Data Engineer                         3\n",
       "Engineer                                   3\n",
       "Instructor                                 3\n",
       "CEO                                        3\n",
       "IT Professional Applications               3\n",
       "Automation Engineer                        2\n",
       "Principal Platform Engineer                2\n",
       "Owner                                      2\n",
       "Technical Recruiter                        2\n",
       "Senior Programmer Analyst                  2\n",
       "student                                    2\n",
       "Security Engineer                          2\n",
       "Cognitive Computing Platform Architect     2\n",
       "Information Security Engineer              2\n",
       "Engineering Management                     2\n",
       "Architect                                  2\n",
       "Global Recruiting Manager                  2\n",
       "Programmer Analyst                         2\n",
       "ITLP                                       2\n",
       "Name: count, dtype: int64"
      ]
     },
     "execution_count": 568,
     "metadata": {},
     "output_type": "execute_result"
    }
   ],
   "source": [
    "# Add a software engineer column for if the job title contains 'software engineer' or 'developer'\n",
    "df23['Job.Software Engineer'] = df23['Job title'].str.contains('software engineer|developer|Software Development Engineer|consultant', case=False)\n",
    "\n",
    "# Now let's look at our jobs who AREN'T software engineers\n",
    "df23[df23['Job.Software Engineer'] == False]['Job title'].value_counts().head(25)"
   ]
  },
  {
   "cell_type": "code",
   "execution_count": 569,
   "metadata": {},
   "outputs": [],
   "source": [
    "df23['Job.Student'] = df23['Job title'] == 'Student'\n",
    "df23['Job.Engineering Manager'] = df23['Job title'].str.contains('Engineering Manager|Lead|Engineering Management|Instructor', case=False)\n",
    "df23['Job.Product Manager'] = df23['Job title'].str.contains('Product Manager|Product Owner|Product Management', case=False)\n",
    "df23['Job.Data'] = df23['Job title'].str.contains('Automation|Data|Cognitive|Database', case=False)\n",
    "df23['Job.Analyst'] = df23['Job title'].str.contains('Analyst|Business Intelligence|BI|Architect', case=False)\n",
    "df23['Job.Designer'] = df23['Job title'].str.contains('Designer|UX|UI|User Experience', case=False)\n",
    "df23['Job.Executive'] = df23['Job title'].str.contains('CEO|CTO|VP', case=False)"
   ]
  },
  {
   "cell_type": "code",
   "execution_count": 571,
   "metadata": {},
   "outputs": [
    {
     "data": {
      "text/plain": [
       "Job\n",
       "Software Engineer      324\n",
       "Student                 56\n",
       "Executive               33\n",
       "Engineering Manager     30\n",
       "Data                    26\n",
       "Analyst                 18\n",
       "Designer                10\n",
       "Product Manager          5\n",
       "Name: count, dtype: int64"
      ]
     },
     "execution_count": 571,
     "metadata": {},
     "output_type": "execute_result"
    }
   ],
   "source": [
    "# Set a Job column based on the first of the Job.* columns that is true\n",
    "df23['Job'] = df23[['Job.Software Engineer', 'Job.Student', 'Job.Engineering Manager', 'Job.Product Manager', 'Job.Data', 'Job.Analyst', 'Job.Designer', 'Job.Executive']].idxmax(axis=1).str.replace('Job.', '')\n",
    "df23['Job'].fillna('Other', inplace=True)\n",
    "df23['Job'].value_counts()"
   ]
  },
  {
   "cell_type": "code",
   "execution_count": 573,
   "metadata": {},
   "outputs": [
    {
     "data": {
      "application/vnd.plotly.v1+json": {
       "config": {
        "plotlyServerURL": "https://plot.ly"
       },
       "data": [
        {
         "alignmentgroup": "True",
         "bingroup": "x",
         "hovertemplate": "Job=%{x}<br>count=%{y}<extra></extra>",
         "legendgroup": "Software Engineer",
         "marker": {
          "color": "rgb(95, 70, 144)",
          "pattern": {
           "shape": ""
          }
         },
         "name": "Software Engineer",
         "offsetgroup": "Software Engineer",
         "orientation": "v",
         "showlegend": true,
         "type": "histogram",
         "x": [
          "Software Engineer",
          "Software Engineer",
          "Software Engineer",
          "Software Engineer",
          "Software Engineer",
          "Software Engineer",
          "Software Engineer",
          "Software Engineer",
          "Software Engineer",
          "Software Engineer",
          "Software Engineer",
          "Software Engineer",
          "Software Engineer",
          "Software Engineer",
          "Software Engineer",
          "Software Engineer",
          "Software Engineer",
          "Software Engineer",
          "Software Engineer",
          "Software Engineer",
          "Software Engineer",
          "Software Engineer",
          "Software Engineer",
          "Software Engineer",
          "Software Engineer",
          "Software Engineer",
          "Software Engineer",
          "Software Engineer",
          "Software Engineer",
          "Software Engineer",
          "Software Engineer",
          "Software Engineer",
          "Software Engineer",
          "Software Engineer",
          "Software Engineer",
          "Software Engineer",
          "Software Engineer",
          "Software Engineer",
          "Software Engineer",
          "Software Engineer",
          "Software Engineer",
          "Software Engineer",
          "Software Engineer",
          "Software Engineer",
          "Software Engineer",
          "Software Engineer",
          "Software Engineer",
          "Software Engineer",
          "Software Engineer",
          "Software Engineer",
          "Software Engineer",
          "Software Engineer",
          "Software Engineer",
          "Software Engineer",
          "Software Engineer",
          "Software Engineer",
          "Software Engineer",
          "Software Engineer",
          "Software Engineer",
          "Software Engineer",
          "Software Engineer",
          "Software Engineer",
          "Software Engineer",
          "Software Engineer",
          "Software Engineer",
          "Software Engineer",
          "Software Engineer",
          "Software Engineer",
          "Software Engineer",
          "Software Engineer",
          "Software Engineer",
          "Software Engineer",
          "Software Engineer",
          "Software Engineer",
          "Software Engineer",
          "Software Engineer",
          "Software Engineer",
          "Software Engineer",
          "Software Engineer",
          "Software Engineer",
          "Software Engineer",
          "Software Engineer",
          "Software Engineer",
          "Software Engineer",
          "Software Engineer",
          "Software Engineer",
          "Software Engineer",
          "Software Engineer",
          "Software Engineer",
          "Software Engineer",
          "Software Engineer",
          "Software Engineer",
          "Software Engineer",
          "Software Engineer",
          "Software Engineer",
          "Software Engineer",
          "Software Engineer",
          "Software Engineer",
          "Software Engineer",
          "Software Engineer",
          "Software Engineer",
          "Software Engineer",
          "Software Engineer",
          "Software Engineer",
          "Software Engineer",
          "Software Engineer",
          "Software Engineer",
          "Software Engineer",
          "Software Engineer",
          "Software Engineer",
          "Software Engineer",
          "Software Engineer",
          "Software Engineer",
          "Software Engineer",
          "Software Engineer",
          "Software Engineer",
          "Software Engineer",
          "Software Engineer",
          "Software Engineer",
          "Software Engineer",
          "Software Engineer",
          "Software Engineer",
          "Software Engineer",
          "Software Engineer",
          "Software Engineer",
          "Software Engineer",
          "Software Engineer",
          "Software Engineer",
          "Software Engineer",
          "Software Engineer",
          "Software Engineer",
          "Software Engineer",
          "Software Engineer",
          "Software Engineer",
          "Software Engineer",
          "Software Engineer",
          "Software Engineer",
          "Software Engineer",
          "Software Engineer",
          "Software Engineer",
          "Software Engineer",
          "Software Engineer",
          "Software Engineer",
          "Software Engineer",
          "Software Engineer",
          "Software Engineer",
          "Software Engineer",
          "Software Engineer",
          "Software Engineer",
          "Software Engineer",
          "Software Engineer",
          "Software Engineer",
          "Software Engineer",
          "Software Engineer",
          "Software Engineer",
          "Software Engineer",
          "Software Engineer",
          "Software Engineer",
          "Software Engineer",
          "Software Engineer",
          "Software Engineer",
          "Software Engineer",
          "Software Engineer",
          "Software Engineer",
          "Software Engineer",
          "Software Engineer",
          "Software Engineer",
          "Software Engineer",
          "Software Engineer",
          "Software Engineer",
          "Software Engineer",
          "Software Engineer",
          "Software Engineer",
          "Software Engineer",
          "Software Engineer",
          "Software Engineer",
          "Software Engineer",
          "Software Engineer",
          "Software Engineer",
          "Software Engineer",
          "Software Engineer",
          "Software Engineer",
          "Software Engineer",
          "Software Engineer",
          "Software Engineer",
          "Software Engineer",
          "Software Engineer",
          "Software Engineer",
          "Software Engineer",
          "Software Engineer",
          "Software Engineer",
          "Software Engineer",
          "Software Engineer",
          "Software Engineer",
          "Software Engineer",
          "Software Engineer",
          "Software Engineer",
          "Software Engineer",
          "Software Engineer",
          "Software Engineer",
          "Software Engineer",
          "Software Engineer",
          "Software Engineer",
          "Software Engineer",
          "Software Engineer",
          "Software Engineer",
          "Software Engineer",
          "Software Engineer",
          "Software Engineer",
          "Software Engineer",
          "Software Engineer",
          "Software Engineer",
          "Software Engineer",
          "Software Engineer",
          "Software Engineer",
          "Software Engineer",
          "Software Engineer",
          "Software Engineer",
          "Software Engineer",
          "Software Engineer",
          "Software Engineer",
          "Software Engineer",
          "Software Engineer",
          "Software Engineer",
          "Software Engineer",
          "Software Engineer",
          "Software Engineer",
          "Software Engineer",
          "Software Engineer",
          "Software Engineer",
          "Software Engineer",
          "Software Engineer",
          "Software Engineer",
          "Software Engineer",
          "Software Engineer",
          "Software Engineer",
          "Software Engineer",
          "Software Engineer",
          "Software Engineer",
          "Software Engineer",
          "Software Engineer",
          "Software Engineer",
          "Software Engineer",
          "Software Engineer",
          "Software Engineer",
          "Software Engineer",
          "Software Engineer",
          "Software Engineer",
          "Software Engineer",
          "Software Engineer",
          "Software Engineer",
          "Software Engineer",
          "Software Engineer",
          "Software Engineer",
          "Software Engineer",
          "Software Engineer",
          "Software Engineer",
          "Software Engineer",
          "Software Engineer",
          "Software Engineer",
          "Software Engineer",
          "Software Engineer",
          "Software Engineer",
          "Software Engineer",
          "Software Engineer",
          "Software Engineer",
          "Software Engineer",
          "Software Engineer",
          "Software Engineer",
          "Software Engineer",
          "Software Engineer",
          "Software Engineer",
          "Software Engineer",
          "Software Engineer",
          "Software Engineer",
          "Software Engineer",
          "Software Engineer",
          "Software Engineer",
          "Software Engineer",
          "Software Engineer",
          "Software Engineer",
          "Software Engineer",
          "Software Engineer",
          "Software Engineer",
          "Software Engineer",
          "Software Engineer",
          "Software Engineer",
          "Software Engineer",
          "Software Engineer",
          "Software Engineer",
          "Software Engineer",
          "Software Engineer",
          "Software Engineer",
          "Software Engineer",
          "Software Engineer",
          "Software Engineer",
          "Software Engineer",
          "Software Engineer",
          "Software Engineer",
          "Software Engineer",
          "Software Engineer",
          "Software Engineer",
          "Software Engineer",
          "Software Engineer",
          "Software Engineer",
          "Software Engineer",
          "Software Engineer",
          "Software Engineer",
          "Software Engineer",
          "Software Engineer",
          "Software Engineer",
          "Software Engineer",
          "Software Engineer",
          "Software Engineer",
          "Software Engineer",
          "Software Engineer",
          "Software Engineer",
          "Software Engineer",
          "Software Engineer",
          "Software Engineer",
          "Software Engineer",
          "Software Engineer",
          "Software Engineer",
          "Software Engineer"
         ],
         "xaxis": "x",
         "yaxis": "y"
        },
        {
         "alignmentgroup": "True",
         "bingroup": "x",
         "hovertemplate": "Job=%{x}<br>count=%{y}<extra></extra>",
         "legendgroup": "Student",
         "marker": {
          "color": "rgb(29, 105, 150)",
          "pattern": {
           "shape": ""
          }
         },
         "name": "Student",
         "offsetgroup": "Student",
         "orientation": "v",
         "showlegend": true,
         "type": "histogram",
         "x": [
          "Student",
          "Student",
          "Student",
          "Student",
          "Student",
          "Student",
          "Student",
          "Student",
          "Student",
          "Student",
          "Student",
          "Student",
          "Student",
          "Student",
          "Student",
          "Student",
          "Student",
          "Student",
          "Student",
          "Student",
          "Student",
          "Student",
          "Student",
          "Student",
          "Student",
          "Student",
          "Student",
          "Student",
          "Student",
          "Student",
          "Student",
          "Student",
          "Student",
          "Student",
          "Student",
          "Student",
          "Student",
          "Student",
          "Student",
          "Student",
          "Student",
          "Student",
          "Student",
          "Student",
          "Student",
          "Student",
          "Student",
          "Student",
          "Student",
          "Student",
          "Student",
          "Student",
          "Student",
          "Student",
          "Student",
          "Student"
         ],
         "xaxis": "x",
         "yaxis": "y"
        },
        {
         "alignmentgroup": "True",
         "bingroup": "x",
         "hovertemplate": "Job=%{x}<br>count=%{y}<extra></extra>",
         "legendgroup": "Executive",
         "marker": {
          "color": "rgb(56, 166, 165)",
          "pattern": {
           "shape": ""
          }
         },
         "name": "Executive",
         "offsetgroup": "Executive",
         "orientation": "v",
         "showlegend": true,
         "type": "histogram",
         "x": [
          "Executive",
          "Executive",
          "Executive",
          "Executive",
          "Executive",
          "Executive",
          "Executive",
          "Executive",
          "Executive",
          "Executive",
          "Executive",
          "Executive",
          "Executive",
          "Executive",
          "Executive",
          "Executive",
          "Executive",
          "Executive",
          "Executive",
          "Executive",
          "Executive",
          "Executive",
          "Executive",
          "Executive",
          "Executive",
          "Executive",
          "Executive",
          "Executive",
          "Executive",
          "Executive",
          "Executive",
          "Executive",
          "Executive"
         ],
         "xaxis": "x",
         "yaxis": "y"
        },
        {
         "alignmentgroup": "True",
         "bingroup": "x",
         "hovertemplate": "Job=%{x}<br>count=%{y}<extra></extra>",
         "legendgroup": "Data",
         "marker": {
          "color": "rgb(15, 133, 84)",
          "pattern": {
           "shape": ""
          }
         },
         "name": "Data",
         "offsetgroup": "Data",
         "orientation": "v",
         "showlegend": true,
         "type": "histogram",
         "x": [
          "Data",
          "Data",
          "Data",
          "Data",
          "Data",
          "Data",
          "Data",
          "Data",
          "Data",
          "Data",
          "Data",
          "Data",
          "Data",
          "Data",
          "Data",
          "Data",
          "Data",
          "Data",
          "Data",
          "Data",
          "Data",
          "Data",
          "Data",
          "Data",
          "Data",
          "Data"
         ],
         "xaxis": "x",
         "yaxis": "y"
        },
        {
         "alignmentgroup": "True",
         "bingroup": "x",
         "hovertemplate": "Job=%{x}<br>count=%{y}<extra></extra>",
         "legendgroup": "Engineering Manager",
         "marker": {
          "color": "rgb(115, 175, 72)",
          "pattern": {
           "shape": ""
          }
         },
         "name": "Engineering Manager",
         "offsetgroup": "Engineering Manager",
         "orientation": "v",
         "showlegend": true,
         "type": "histogram",
         "x": [
          "Engineering Manager",
          "Engineering Manager",
          "Engineering Manager",
          "Engineering Manager",
          "Engineering Manager",
          "Engineering Manager",
          "Engineering Manager",
          "Engineering Manager",
          "Engineering Manager",
          "Engineering Manager",
          "Engineering Manager",
          "Engineering Manager",
          "Engineering Manager",
          "Engineering Manager",
          "Engineering Manager",
          "Engineering Manager",
          "Engineering Manager",
          "Engineering Manager",
          "Engineering Manager",
          "Engineering Manager",
          "Engineering Manager",
          "Engineering Manager",
          "Engineering Manager",
          "Engineering Manager",
          "Engineering Manager",
          "Engineering Manager",
          "Engineering Manager",
          "Engineering Manager",
          "Engineering Manager",
          "Engineering Manager"
         ],
         "xaxis": "x",
         "yaxis": "y"
        },
        {
         "alignmentgroup": "True",
         "bingroup": "x",
         "hovertemplate": "Job=%{x}<br>count=%{y}<extra></extra>",
         "legendgroup": "Analyst",
         "marker": {
          "color": "rgb(237, 173, 8)",
          "pattern": {
           "shape": ""
          }
         },
         "name": "Analyst",
         "offsetgroup": "Analyst",
         "orientation": "v",
         "showlegend": true,
         "type": "histogram",
         "x": [
          "Analyst",
          "Analyst",
          "Analyst",
          "Analyst",
          "Analyst",
          "Analyst",
          "Analyst",
          "Analyst",
          "Analyst",
          "Analyst",
          "Analyst",
          "Analyst",
          "Analyst",
          "Analyst",
          "Analyst",
          "Analyst",
          "Analyst",
          "Analyst"
         ],
         "xaxis": "x",
         "yaxis": "y"
        },
        {
         "alignmentgroup": "True",
         "bingroup": "x",
         "hovertemplate": "Job=%{x}<br>count=%{y}<extra></extra>",
         "legendgroup": "Designer",
         "marker": {
          "color": "rgb(225, 124, 5)",
          "pattern": {
           "shape": ""
          }
         },
         "name": "Designer",
         "offsetgroup": "Designer",
         "orientation": "v",
         "showlegend": true,
         "type": "histogram",
         "x": [
          "Designer",
          "Designer",
          "Designer",
          "Designer",
          "Designer",
          "Designer",
          "Designer",
          "Designer",
          "Designer",
          "Designer"
         ],
         "xaxis": "x",
         "yaxis": "y"
        },
        {
         "alignmentgroup": "True",
         "bingroup": "x",
         "hovertemplate": "Job=%{x}<br>count=%{y}<extra></extra>",
         "legendgroup": "Product Manager",
         "marker": {
          "color": "rgb(204, 80, 62)",
          "pattern": {
           "shape": ""
          }
         },
         "name": "Product Manager",
         "offsetgroup": "Product Manager",
         "orientation": "v",
         "showlegend": true,
         "type": "histogram",
         "x": [
          "Product Manager",
          "Product Manager",
          "Product Manager",
          "Product Manager",
          "Product Manager"
         ],
         "xaxis": "x",
         "yaxis": "y"
        }
       ],
       "layout": {
        "barmode": "relative",
        "legend": {
         "title": {
          "text": "Job"
         },
         "tracegroupgap": 0
        },
        "template": {
         "data": {
          "bar": [
           {
            "error_x": {
             "color": "#f2f5fa"
            },
            "error_y": {
             "color": "#f2f5fa"
            },
            "marker": {
             "line": {
              "color": "rgb(17,17,17)",
              "width": 0.5
             },
             "pattern": {
              "fillmode": "overlay",
              "size": 10,
              "solidity": 0.2
             }
            },
            "type": "bar"
           }
          ],
          "barpolar": [
           {
            "marker": {
             "line": {
              "color": "rgb(17,17,17)",
              "width": 0.5
             },
             "pattern": {
              "fillmode": "overlay",
              "size": 10,
              "solidity": 0.2
             }
            },
            "type": "barpolar"
           }
          ],
          "carpet": [
           {
            "aaxis": {
             "endlinecolor": "#A2B1C6",
             "gridcolor": "#506784",
             "linecolor": "#506784",
             "minorgridcolor": "#506784",
             "startlinecolor": "#A2B1C6"
            },
            "baxis": {
             "endlinecolor": "#A2B1C6",
             "gridcolor": "#506784",
             "linecolor": "#506784",
             "minorgridcolor": "#506784",
             "startlinecolor": "#A2B1C6"
            },
            "type": "carpet"
           }
          ],
          "choropleth": [
           {
            "colorbar": {
             "outlinewidth": 0,
             "ticks": ""
            },
            "type": "choropleth"
           }
          ],
          "contour": [
           {
            "colorbar": {
             "outlinewidth": 0,
             "ticks": ""
            },
            "colorscale": [
             [
              0,
              "#0d0887"
             ],
             [
              0.1111111111111111,
              "#46039f"
             ],
             [
              0.2222222222222222,
              "#7201a8"
             ],
             [
              0.3333333333333333,
              "#9c179e"
             ],
             [
              0.4444444444444444,
              "#bd3786"
             ],
             [
              0.5555555555555556,
              "#d8576b"
             ],
             [
              0.6666666666666666,
              "#ed7953"
             ],
             [
              0.7777777777777778,
              "#fb9f3a"
             ],
             [
              0.8888888888888888,
              "#fdca26"
             ],
             [
              1,
              "#f0f921"
             ]
            ],
            "type": "contour"
           }
          ],
          "contourcarpet": [
           {
            "colorbar": {
             "outlinewidth": 0,
             "ticks": ""
            },
            "type": "contourcarpet"
           }
          ],
          "heatmap": [
           {
            "colorbar": {
             "outlinewidth": 0,
             "ticks": ""
            },
            "colorscale": [
             [
              0,
              "#0d0887"
             ],
             [
              0.1111111111111111,
              "#46039f"
             ],
             [
              0.2222222222222222,
              "#7201a8"
             ],
             [
              0.3333333333333333,
              "#9c179e"
             ],
             [
              0.4444444444444444,
              "#bd3786"
             ],
             [
              0.5555555555555556,
              "#d8576b"
             ],
             [
              0.6666666666666666,
              "#ed7953"
             ],
             [
              0.7777777777777778,
              "#fb9f3a"
             ],
             [
              0.8888888888888888,
              "#fdca26"
             ],
             [
              1,
              "#f0f921"
             ]
            ],
            "type": "heatmap"
           }
          ],
          "heatmapgl": [
           {
            "colorbar": {
             "outlinewidth": 0,
             "ticks": ""
            },
            "colorscale": [
             [
              0,
              "#0d0887"
             ],
             [
              0.1111111111111111,
              "#46039f"
             ],
             [
              0.2222222222222222,
              "#7201a8"
             ],
             [
              0.3333333333333333,
              "#9c179e"
             ],
             [
              0.4444444444444444,
              "#bd3786"
             ],
             [
              0.5555555555555556,
              "#d8576b"
             ],
             [
              0.6666666666666666,
              "#ed7953"
             ],
             [
              0.7777777777777778,
              "#fb9f3a"
             ],
             [
              0.8888888888888888,
              "#fdca26"
             ],
             [
              1,
              "#f0f921"
             ]
            ],
            "type": "heatmapgl"
           }
          ],
          "histogram": [
           {
            "marker": {
             "pattern": {
              "fillmode": "overlay",
              "size": 10,
              "solidity": 0.2
             }
            },
            "type": "histogram"
           }
          ],
          "histogram2d": [
           {
            "colorbar": {
             "outlinewidth": 0,
             "ticks": ""
            },
            "colorscale": [
             [
              0,
              "#0d0887"
             ],
             [
              0.1111111111111111,
              "#46039f"
             ],
             [
              0.2222222222222222,
              "#7201a8"
             ],
             [
              0.3333333333333333,
              "#9c179e"
             ],
             [
              0.4444444444444444,
              "#bd3786"
             ],
             [
              0.5555555555555556,
              "#d8576b"
             ],
             [
              0.6666666666666666,
              "#ed7953"
             ],
             [
              0.7777777777777778,
              "#fb9f3a"
             ],
             [
              0.8888888888888888,
              "#fdca26"
             ],
             [
              1,
              "#f0f921"
             ]
            ],
            "type": "histogram2d"
           }
          ],
          "histogram2dcontour": [
           {
            "colorbar": {
             "outlinewidth": 0,
             "ticks": ""
            },
            "colorscale": [
             [
              0,
              "#0d0887"
             ],
             [
              0.1111111111111111,
              "#46039f"
             ],
             [
              0.2222222222222222,
              "#7201a8"
             ],
             [
              0.3333333333333333,
              "#9c179e"
             ],
             [
              0.4444444444444444,
              "#bd3786"
             ],
             [
              0.5555555555555556,
              "#d8576b"
             ],
             [
              0.6666666666666666,
              "#ed7953"
             ],
             [
              0.7777777777777778,
              "#fb9f3a"
             ],
             [
              0.8888888888888888,
              "#fdca26"
             ],
             [
              1,
              "#f0f921"
             ]
            ],
            "type": "histogram2dcontour"
           }
          ],
          "mesh3d": [
           {
            "colorbar": {
             "outlinewidth": 0,
             "ticks": ""
            },
            "type": "mesh3d"
           }
          ],
          "parcoords": [
           {
            "line": {
             "colorbar": {
              "outlinewidth": 0,
              "ticks": ""
             }
            },
            "type": "parcoords"
           }
          ],
          "pie": [
           {
            "automargin": true,
            "type": "pie"
           }
          ],
          "scatter": [
           {
            "marker": {
             "line": {
              "color": "#283442"
             }
            },
            "type": "scatter"
           }
          ],
          "scatter3d": [
           {
            "line": {
             "colorbar": {
              "outlinewidth": 0,
              "ticks": ""
             }
            },
            "marker": {
             "colorbar": {
              "outlinewidth": 0,
              "ticks": ""
             }
            },
            "type": "scatter3d"
           }
          ],
          "scattercarpet": [
           {
            "marker": {
             "colorbar": {
              "outlinewidth": 0,
              "ticks": ""
             }
            },
            "type": "scattercarpet"
           }
          ],
          "scattergeo": [
           {
            "marker": {
             "colorbar": {
              "outlinewidth": 0,
              "ticks": ""
             }
            },
            "type": "scattergeo"
           }
          ],
          "scattergl": [
           {
            "marker": {
             "line": {
              "color": "#283442"
             }
            },
            "type": "scattergl"
           }
          ],
          "scattermapbox": [
           {
            "marker": {
             "colorbar": {
              "outlinewidth": 0,
              "ticks": ""
             }
            },
            "type": "scattermapbox"
           }
          ],
          "scatterpolar": [
           {
            "marker": {
             "colorbar": {
              "outlinewidth": 0,
              "ticks": ""
             }
            },
            "type": "scatterpolar"
           }
          ],
          "scatterpolargl": [
           {
            "marker": {
             "colorbar": {
              "outlinewidth": 0,
              "ticks": ""
             }
            },
            "type": "scatterpolargl"
           }
          ],
          "scatterternary": [
           {
            "marker": {
             "colorbar": {
              "outlinewidth": 0,
              "ticks": ""
             }
            },
            "type": "scatterternary"
           }
          ],
          "surface": [
           {
            "colorbar": {
             "outlinewidth": 0,
             "ticks": ""
            },
            "colorscale": [
             [
              0,
              "#0d0887"
             ],
             [
              0.1111111111111111,
              "#46039f"
             ],
             [
              0.2222222222222222,
              "#7201a8"
             ],
             [
              0.3333333333333333,
              "#9c179e"
             ],
             [
              0.4444444444444444,
              "#bd3786"
             ],
             [
              0.5555555555555556,
              "#d8576b"
             ],
             [
              0.6666666666666666,
              "#ed7953"
             ],
             [
              0.7777777777777778,
              "#fb9f3a"
             ],
             [
              0.8888888888888888,
              "#fdca26"
             ],
             [
              1,
              "#f0f921"
             ]
            ],
            "type": "surface"
           }
          ],
          "table": [
           {
            "cells": {
             "fill": {
              "color": "#506784"
             },
             "line": {
              "color": "rgb(17,17,17)"
             }
            },
            "header": {
             "fill": {
              "color": "#2a3f5f"
             },
             "line": {
              "color": "rgb(17,17,17)"
             }
            },
            "type": "table"
           }
          ]
         },
         "layout": {
          "annotationdefaults": {
           "arrowcolor": "#f2f5fa",
           "arrowhead": 0,
           "arrowwidth": 1
          },
          "autotypenumbers": "strict",
          "coloraxis": {
           "colorbar": {
            "outlinewidth": 0,
            "ticks": ""
           }
          },
          "colorscale": {
           "diverging": [
            [
             0,
             "#8e0152"
            ],
            [
             0.1,
             "#c51b7d"
            ],
            [
             0.2,
             "#de77ae"
            ],
            [
             0.3,
             "#f1b6da"
            ],
            [
             0.4,
             "#fde0ef"
            ],
            [
             0.5,
             "#f7f7f7"
            ],
            [
             0.6,
             "#e6f5d0"
            ],
            [
             0.7,
             "#b8e186"
            ],
            [
             0.8,
             "#7fbc41"
            ],
            [
             0.9,
             "#4d9221"
            ],
            [
             1,
             "#276419"
            ]
           ],
           "sequential": [
            [
             0,
             "#0d0887"
            ],
            [
             0.1111111111111111,
             "#46039f"
            ],
            [
             0.2222222222222222,
             "#7201a8"
            ],
            [
             0.3333333333333333,
             "#9c179e"
            ],
            [
             0.4444444444444444,
             "#bd3786"
            ],
            [
             0.5555555555555556,
             "#d8576b"
            ],
            [
             0.6666666666666666,
             "#ed7953"
            ],
            [
             0.7777777777777778,
             "#fb9f3a"
            ],
            [
             0.8888888888888888,
             "#fdca26"
            ],
            [
             1,
             "#f0f921"
            ]
           ],
           "sequentialminus": [
            [
             0,
             "#0d0887"
            ],
            [
             0.1111111111111111,
             "#46039f"
            ],
            [
             0.2222222222222222,
             "#7201a8"
            ],
            [
             0.3333333333333333,
             "#9c179e"
            ],
            [
             0.4444444444444444,
             "#bd3786"
            ],
            [
             0.5555555555555556,
             "#d8576b"
            ],
            [
             0.6666666666666666,
             "#ed7953"
            ],
            [
             0.7777777777777778,
             "#fb9f3a"
            ],
            [
             0.8888888888888888,
             "#fdca26"
            ],
            [
             1,
             "#f0f921"
            ]
           ]
          },
          "colorway": [
           "#636efa",
           "#EF553B",
           "#00cc96",
           "#ab63fa",
           "#FFA15A",
           "#19d3f3",
           "#FF6692",
           "#B6E880",
           "#FF97FF",
           "#FECB52"
          ],
          "font": {
           "color": "#f2f5fa"
          },
          "geo": {
           "bgcolor": "rgb(17,17,17)",
           "lakecolor": "rgb(17,17,17)",
           "landcolor": "rgb(17,17,17)",
           "showlakes": true,
           "showland": true,
           "subunitcolor": "#506784"
          },
          "hoverlabel": {
           "align": "left"
          },
          "hovermode": "closest",
          "mapbox": {
           "style": "dark"
          },
          "paper_bgcolor": "rgb(17,17,17)",
          "plot_bgcolor": "rgb(17,17,17)",
          "polar": {
           "angularaxis": {
            "gridcolor": "#506784",
            "linecolor": "#506784",
            "ticks": ""
           },
           "bgcolor": "rgb(17,17,17)",
           "radialaxis": {
            "gridcolor": "#506784",
            "linecolor": "#506784",
            "ticks": ""
           }
          },
          "scene": {
           "xaxis": {
            "backgroundcolor": "rgb(17,17,17)",
            "gridcolor": "#506784",
            "gridwidth": 2,
            "linecolor": "#506784",
            "showbackground": true,
            "ticks": "",
            "zerolinecolor": "#C8D4E3"
           },
           "yaxis": {
            "backgroundcolor": "rgb(17,17,17)",
            "gridcolor": "#506784",
            "gridwidth": 2,
            "linecolor": "#506784",
            "showbackground": true,
            "ticks": "",
            "zerolinecolor": "#C8D4E3"
           },
           "zaxis": {
            "backgroundcolor": "rgb(17,17,17)",
            "gridcolor": "#506784",
            "gridwidth": 2,
            "linecolor": "#506784",
            "showbackground": true,
            "ticks": "",
            "zerolinecolor": "#C8D4E3"
           }
          },
          "shapedefaults": {
           "line": {
            "color": "#f2f5fa"
           }
          },
          "sliderdefaults": {
           "bgcolor": "#C8D4E3",
           "bordercolor": "rgb(17,17,17)",
           "borderwidth": 1,
           "tickwidth": 0
          },
          "ternary": {
           "aaxis": {
            "gridcolor": "#506784",
            "linecolor": "#506784",
            "ticks": ""
           },
           "baxis": {
            "gridcolor": "#506784",
            "linecolor": "#506784",
            "ticks": ""
           },
           "bgcolor": "rgb(17,17,17)",
           "caxis": {
            "gridcolor": "#506784",
            "linecolor": "#506784",
            "ticks": ""
           }
          },
          "title": {
           "x": 0.05
          },
          "updatemenudefaults": {
           "bgcolor": "#506784",
           "borderwidth": 0
          },
          "xaxis": {
           "automargin": true,
           "gridcolor": "#283442",
           "linecolor": "#506784",
           "ticks": "",
           "title": {
            "standoff": 15
           },
           "zerolinecolor": "#283442",
           "zerolinewidth": 2
          },
          "yaxis": {
           "automargin": true,
           "gridcolor": "#283442",
           "linecolor": "#506784",
           "ticks": "",
           "title": {
            "standoff": 15
           },
           "zerolinecolor": "#283442",
           "zerolinewidth": 2
          }
         }
        },
        "title": {
         "text": "Momentum 23 Attendees by Job Area"
        },
        "xaxis": {
         "anchor": "y",
         "categoryarray": [
          "Software Engineer",
          "Student",
          "Executive",
          "Data",
          "Engineering Manager",
          "Analyst",
          "Designer",
          "Product Manager"
         ],
         "categoryorder": "total descending",
         "domain": [
          0,
          1
         ],
         "title": {
          "text": "Job"
         }
        },
        "yaxis": {
         "anchor": "x",
         "domain": [
          0,
          1
         ],
         "title": {
          "text": "count"
         }
        }
       }
      }
     },
     "metadata": {},
     "output_type": "display_data"
    }
   ],
   "source": [
    "px.histogram(df23, x='Job', title='Momentum 23 Attendees by Job Area', color='Job').update_xaxes(categoryorder='total descending')"
   ]
  }
 ],
 "metadata": {
  "kernelspec": {
   "display_name": "Python 3",
   "language": "python",
   "name": "python3"
  },
  "language_info": {
   "codemirror_mode": {
    "name": "ipython",
    "version": 3
   },
   "file_extension": ".py",
   "mimetype": "text/x-python",
   "name": "python",
   "nbconvert_exporter": "python",
   "pygments_lexer": "ipython3",
   "version": "3.11.7"
  }
 },
 "nbformat": 4,
 "nbformat_minor": 2
}
